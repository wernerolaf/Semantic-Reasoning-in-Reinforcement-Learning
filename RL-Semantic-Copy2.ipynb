{
 "cells": [
  {
   "cell_type": "code",
   "execution_count": 1,
   "metadata": {},
   "outputs": [],
   "source": [
    "#RL\n",
    "from tensorforce import Runner\n",
    "from tensorforce import Environment\n",
    "from tensorforce import Agent\n",
    "#keras\n",
    "import tensorflow as tf\n",
    "#basic\n",
    "import numpy as np\n",
    "import pandas as pd\n",
    "#sklearn\n",
    "from sklearn.manifold import TSNE\n",
    "from sklearn.decomposition import IncrementalPCA\n",
    "from sklearn.cluster import KMeans\n",
    "from sklearn.cluster import Birch\n",
    "from sklearn import metrics\n",
    "from sklearn.metrics import mean_absolute_error\n",
    "from sklearn.metrics import balanced_accuracy_score\n",
    "#image processing\n",
    "from skimage.future import graph\n",
    "from skimage import data\n",
    "from skimage.filters import threshold_otsu\n",
    "from skimage.segmentation import clear_border\n",
    "from skimage.measure import label, regionprops\n",
    "from skimage.segmentation import felzenszwalb\n",
    "from skimage.morphology import closing, square\n",
    "from skimage.color import label2rgb, rgb2gray, gray2rgb\n",
    "from skimage.transform import resize\n",
    "from skimage.transform import rescale\n",
    "#visialization\n",
    "from PIL import Image\n",
    "import cv2\n",
    "import matplotlib.pyplot as plt\n",
    "import matplotlib.patches as mpatches\n",
    "import seaborn as sns\n",
    "sns.set_palette(\"Set2\")\n",
    "#skmultiflow\n",
    "from skmultiflow.trees import HoeffdingTreeClassifier\n",
    "from skmultiflow.trees import HoeffdingAdaptiveTreeClassifier\n",
    "from skmultiflow.rules import VeryFastDecisionRulesClassifier\n",
    "from skmultiflow.trees import ExtremelyFastDecisionTreeClassifier\n",
    "#scikit \n",
    "from scipy.spatial import distance_matrix\n",
    "from scipy.spatial import distance\n",
    "#graph\n",
    "import networkx as nx\n",
    "#ontology\n",
    "import owlready2 as owl\n",
    "#language model\n",
    "from gensim.models.doc2vec import Doc2Vec, TaggedDocument\n",
    "#dunn index\n",
    "import dunn\n",
    "from sklearn.metrics.pairwise import euclidean_distances\n",
    "#other\n",
    "from itertools import count\n",
    "from joblib import dump, load\n",
    "\n",
    "import warnings\n",
    "warnings.filterwarnings(\"ignore\", category=UserWarning)"
   ]
  },
  {
   "cell_type": "code",
   "execution_count": 2,
   "metadata": {},
   "outputs": [
    {
     "name": "stdout",
     "output_type": "stream",
     "text": [
      "2.6.0\n"
     ]
    }
   ],
   "source": [
    "print(tf.__version__)"
   ]
  },
  {
   "cell_type": "code",
   "execution_count": 3,
   "metadata": {},
   "outputs": [],
   "source": [
    "%load_ext tensorboard"
   ]
  },
  {
   "cell_type": "code",
   "execution_count": 4,
   "metadata": {},
   "outputs": [
    {
     "data": {
      "text/plain": [
       "[PhysicalDevice(name='/physical_device:CPU:0', device_type='CPU')]"
      ]
     },
     "execution_count": 4,
     "metadata": {},
     "output_type": "execute_result"
    }
   ],
   "source": [
    "tf.config.list_physical_devices()"
   ]
  },
  {
   "cell_type": "code",
   "execution_count": 5,
   "metadata": {},
   "outputs": [],
   "source": [
    "#%tensorboard --logdir summaries/"
   ]
  },
  {
   "cell_type": "code",
   "execution_count": 6,
   "metadata": {},
   "outputs": [],
   "source": [
    "States=np.load(\"Pong_Example_Run.npy\")"
   ]
  },
  {
   "cell_type": "markdown",
   "metadata": {},
   "source": [
    "# help functions"
   ]
  },
  {
   "cell_type": "code",
   "execution_count": 7,
   "metadata": {},
   "outputs": [],
   "source": [
    "img=States[100]"
   ]
  },
  {
   "cell_type": "code",
   "execution_count": 10,
   "metadata": {},
   "outputs": [],
   "source": [
    "def show_image(img):\n",
    "    fig, ax = plt.subplots(figsize=(10, 6))\n",
    "    ax.imshow(img)"
   ]
  },
  {
   "cell_type": "code",
   "execution_count": 11,
   "metadata": {},
   "outputs": [],
   "source": [
    "def to_shape(a, shape, grayscale=True):\n",
    "    y_, x_ = shape\n",
    "    y, x = a.shape[0:2]\n",
    "    y_pad = (y_-y)\n",
    "    x_pad = (x_-x)\n",
    "    if grayscale:\n",
    "        return np.pad(a,((y_pad//2, y_pad//2 + y_pad%2), \n",
    "                         (x_pad//2, x_pad//2 + x_pad%2)\n",
    "                        ),\n",
    "                      mode = 'constant')\n",
    "    else:\n",
    "        return np.pad(a,((y_pad//2, y_pad//2 + y_pad%2), \n",
    "                         (x_pad//2, x_pad//2 + x_pad%2),\n",
    "                        (0,0)\n",
    "                        ),\n",
    "                      mode = 'constant')"
   ]
  },
  {
   "cell_type": "code",
   "execution_count": 12,
   "metadata": {},
   "outputs": [],
   "source": [
    "def make_video(States,name=\"test\",width=160,height=210,channel=3,fps=30):\n",
    "    fourcc = cv2.VideoWriter_fourcc(*'XVID') \n",
    "    video = cv2.VideoWriter(name+'.avi', fourcc, float(fps), (width,height))\n",
    "\n",
    "    for i in range(States.shape[0]):\n",
    "        video.write(States[i])\n",
    "\n",
    "    video.release()"
   ]
  },
  {
   "cell_type": "code",
   "execution_count": 13,
   "metadata": {},
   "outputs": [],
   "source": [
    "def visualize_objects(label_image,image):\n",
    "    # to make the background transparent, pass the value of `bg_label`,\n",
    "    # and leave `bg_color` as `None` and `kind` as `overlay`\n",
    "    image_label_overlay = label2rgb(label_image, image=image, bg_label=0)\n",
    "\n",
    "    fig, ax = plt.subplots(figsize=(10, 6))\n",
    "    ax.imshow(image_label_overlay)\n",
    "\n",
    "    for region in regionprops(label_image):\n",
    "        # take regions with large enough areas\n",
    "        if region.area >= 1:\n",
    "            # draw rectangle around segmented coins\n",
    "            minr, minc, maxr, maxc = region.bbox\n",
    "            rect = mpatches.Rectangle((minc-0.5, minr-0.5), maxc - minc, maxr - minr,\n",
    "                                      fill=False, edgecolor='red', linewidth=3)\n",
    "            ax.add_patch(rect)\n",
    "\n",
    "    ax.set_axis_off()\n",
    "    plt.tight_layout()\n",
    "    plt.show()"
   ]
  },
  {
   "cell_type": "code",
   "execution_count": 14,
   "metadata": {},
   "outputs": [],
   "source": [
    "def find_objects2(image):\n",
    "    img = rgb2gray(image)\n",
    "\n",
    "    # apply threshold\n",
    "    thresh = threshold_otsu(img)\n",
    "    reg = closing(img > thresh, square(2))\n",
    "\n",
    "    # label image regions\n",
    "    label_image = label(reg)\n",
    "    \n",
    "    return label_image"
   ]
  },
  {
   "cell_type": "code",
   "execution_count": 15,
   "metadata": {},
   "outputs": [],
   "source": [
    "def find_objects3(image):\n",
    "    img = rgb2gray(image)\n",
    "\n",
    "    # apply threshold\n",
    "    thresh = threshold_otsu(img)\n",
    "    #0.327\n",
    "    # label image regions\n",
    "    label_image = label(img > thresh)\n",
    "    \n",
    "    return label_image"
   ]
  },
  {
   "cell_type": "code",
   "execution_count": 16,
   "metadata": {},
   "outputs": [],
   "source": [
    "def find_objects(image):\n",
    "    img = rgb2gray(image)\n",
    "\n",
    "    # label image regions\n",
    "    label_image = label(img > 0.327)\n",
    "    \n",
    "    return label_image"
   ]
  },
  {
   "cell_type": "code",
   "execution_count": 17,
   "metadata": {},
   "outputs": [],
   "source": [
    "def find_cut_objects2(image,m_h,m_w,grayscale=True):\n",
    "    label_image=find_objects(image)\n",
    "    regions=regionprops(label_image)\n",
    "\n",
    "    i=len(regions)-1\n",
    "    for reg in regions:\n",
    "        i=i+1\n",
    "        minr, minc, maxr, maxc = reg.bbox\n",
    "        if int(np.ceil((maxc-minc)/m_w))!=1:\n",
    "            split_w=np.linspace(0,(maxc-minc),1+int(np.ceil((maxc-minc)/m_w))).astype(\"int\")\n",
    "            for y in range(int(np.ceil((maxc-minc)/m_w))):\n",
    "                i=i+1\n",
    "                label_image[reg.slice][:,split_w[y]:split_w[y+1]][reg.image[:,split_w[y]:split_w[y+1]]]=i\n",
    "    \n",
    "    regions=regionprops(label_image)\n",
    "    i=len(regions)-1\n",
    "    for reg in regions:\n",
    "        i=i+1\n",
    "        minr, minc, maxr, maxc = reg.bbox\n",
    "        if int(np.ceil((maxr-minr)/m_h))!=1:\n",
    "            split_h=np.linspace(0,(maxr-minr),1+int(np.ceil((maxr-minr)/m_h))).astype(\"int\")\n",
    "            for x in range(int(np.ceil((maxr-minr)/m_h))):\n",
    "                i=i+1\n",
    "                label_image[reg.slice][split_h[x]:split_h[x+1],:][reg.image[split_h[x]:split_h[x+1],:]]=i\n",
    "\n",
    "\n",
    "    regions=regionprops(label_image)\n",
    "    \n",
    "    if grayscale:\n",
    "        image=rgb2gray(image)\n",
    "    \n",
    "    objects=np.array([np.zeros((m_h,m_w)) for reg in regions])\n",
    "    for i in range(len(regions)):\n",
    "        x=regions[i].image.shape[0]\n",
    "        y=regions[i].image.shape[1]\n",
    "        objects[i,(m_h-x)//2:(m_h-x)//2+x,(m_w-y)//2:(m_w-y)//2+y]=image[regions[i].slice]\n",
    "    \n",
    "    \n",
    "    return label_image, objects, regions"
   ]
  },
  {
   "cell_type": "code",
   "execution_count": 18,
   "metadata": {},
   "outputs": [],
   "source": [
    "def find_cut_objects(image,m_h,m_w,grayscale=True):\n",
    "    label_image=find_objects(image)\n",
    "    regions=regionprops(label_image)\n",
    "    i=len(regions)-1\n",
    "    for reg in regions:\n",
    "        i=i+1\n",
    "        minr, minc, maxr, maxc = reg.bbox\n",
    "        if int(np.ceil((maxr-minr)/m_h))!=1 or int(np.ceil((maxc-minc)/m_w))!=1:\n",
    "            split_h=np.linspace(0,(maxr-minr),1+int(np.ceil((maxr-minr)/m_h))).astype(\"int\")\n",
    "            split_w=np.linspace(0,(maxc-minc),1+int(np.ceil((maxc-minc)/m_w))).astype(\"int\")\n",
    "            for x in range(int(np.ceil((maxr-minr)/m_h))):\n",
    "                for y in range(int(np.ceil((maxc-minc)/m_w))):\n",
    "                    i=i+1\n",
    "                    label_image[reg.slice][split_h[x]:split_h[x+1],split_w[y]:split_w[y+1]][reg.image[split_h[x]:split_h[x+1],split_w[y]:split_w[y+1]]]=i\n",
    "\n",
    "\n",
    "    regions=regionprops(label_image)\n",
    "    if grayscale:\n",
    "        image=rgb2gray(image)\n",
    "    \n",
    "    objects=np.array([np.zeros((m_h,m_w)) for reg in regions])\n",
    "    for i in range(len(regions)):\n",
    "        x=regions[i].image.shape[0]\n",
    "        y=regions[i].image.shape[1]\n",
    "        objects[i,(m_h-x)//2:(m_h-x)//2+x,(m_w-y)//2:(m_w-y)//2+y]=image[regions[i].slice]\n",
    "    \n",
    "    \n",
    "    return label_image, objects, regions"
   ]
  },
  {
   "cell_type": "code",
   "execution_count": 19,
   "metadata": {},
   "outputs": [],
   "source": [
    "def find_cut_objects3(image,m_h,m_w,grayscale=True):\n",
    "    label_image=find_objects(image)\n",
    "    regions=regionprops(label_image)\n",
    "    i=len(regions)-1\n",
    "    for reg in regions:\n",
    "        i=i+1\n",
    "        minr, minc, maxr, maxc = reg.bbox\n",
    "        if int(np.ceil((maxr-minr)/m_h))!=1:\n",
    "            split_h=np.linspace(0,(maxr-minr),1+int(np.ceil((maxr-minr)/m_h))).astype(\"int\")\n",
    "            for x in range(int(np.ceil((maxr-minr)/m_h))):\n",
    "                i=i+1\n",
    "                label_image[reg.slice][split_h[x]:split_h[x+1],:][reg.image[split_h[x]:split_h[x+1],:]]=i\n",
    "\n",
    "\n",
    "    regions=regionprops(label_image)\n",
    "    i=len(regions)-1\n",
    "    for reg in regions:\n",
    "        i=i+1\n",
    "        minr, minc, maxr, maxc = reg.bbox\n",
    "        if int(np.ceil((maxc-minc)/m_w))!=1:\n",
    "            split_w=np.linspace(0,(maxc-minc),1+int(np.ceil((maxc-minc)/m_w))).astype(\"int\")\n",
    "            for y in range(int(np.ceil((maxc-minc)/m_w))):\n",
    "                i=i+1\n",
    "                label_image[reg.slice][:,split_w[y]:split_w[y+1]][reg.image[:,split_w[y]:split_w[y+1]]]=i\n",
    "\n",
    "\n",
    "    regions=regionprops(label_image)\n",
    "    \n",
    "    if grayscale:\n",
    "        image=rgb2gray(image)\n",
    "    \n",
    "    objects=np.array([np.zeros((m_h,m_w)) for reg in regions])\n",
    "    for i in range(len(regions)):\n",
    "        x=regions[i].image.shape[0]\n",
    "        y=regions[i].image.shape[1]\n",
    "        objects[i,(m_h-x)//2:(m_h-x)//2+x,(m_w-y)//2:(m_w-y)//2+y]=image[regions[i].slice]\n",
    "    \n",
    "    \n",
    "    return label_image, objects, regions"
   ]
  },
  {
   "cell_type": "code",
   "execution_count": 20,
   "metadata": {},
   "outputs": [],
   "source": [
    "def regions_to_graph(regions,labels,prox=60):\n",
    "    #weighted?\n",
    "    centroids=np.array([reg.centroid for reg in regions])\n",
    "    if prox==0:\n",
    "        dist=np.zeros((len(centroids),len(centroids)))\n",
    "    else:\n",
    "        dist=distance_matrix(centroids,centroids)\n",
    "        dist=(dist<prox)*dist\n",
    "    G = nx.from_numpy_matrix(dist)\n",
    "    lab={x:str(labels[x]) for x in range(len(centroids))}\n",
    "    nx.set_node_attributes(G, lab, \"feature\")\n",
    "    pos_x={x:int(centroids[x][0]) for x in range(len(centroids))}\n",
    "    nx.set_node_attributes(G, pos_x, \"position_x\")\n",
    "    pos_y={x:int(centroids[x][1]) for x in range(len(centroids))}\n",
    "    nx.set_node_attributes(G, pos_y, \"position_y\")\n",
    "    return G"
   ]
  },
  {
   "cell_type": "code",
   "execution_count": 21,
   "metadata": {},
   "outputs": [],
   "source": [
    "def regions_to_doc(regions,labels):\n",
    "    #weighted?\n",
    "    document=[]\n",
    "    i=0\n",
    "    for reg in regions:\n",
    "        pos_x=int(reg.centroid[0])\n",
    "        pos_y=int(reg.centroid[1])\n",
    "        feature=str(labels[i])\n",
    "        i+=1\n",
    "        document=document+[feature,\"pos_x\"+str(pos_x),\"pos_y\"+str(pos_y),\n",
    "                    \"apr_pos_x\"+str(pos_x//5),\"apr_pos_y\"+str(pos_y//5),\n",
    "                    feature+\"pos_x\"+str(pos_x),\n",
    "                     feature+\"pos_y\"+str(pos_y),\n",
    "                    feature+\"apr_pos_x\"+str(pos_x//5),\n",
    "                     feature+\"apr_pos_y\"+str(pos_y)\n",
    "                    ]\n",
    "        \n",
    "    return document"
   ]
  },
  {
   "cell_type": "code",
   "execution_count": 22,
   "metadata": {},
   "outputs": [],
   "source": [
    "def visualize_graph(g,max_col=15):\n",
    "    nodes = g.nodes()\n",
    "    colors = [int(g.nodes[n]['feature'])/max_col for n in nodes]\n",
    "    pos = nx.spring_layout(g)\n",
    "    for n in nodes:\n",
    "        pos[n][1]=-1*g.nodes[n]['position_x']\n",
    "        pos[n][0]=g.nodes[n]['position_y']\n",
    "\n",
    "    ec = nx.draw_networkx_edges(g, pos, alpha=0.2)\n",
    "    nc = nx.draw_networkx_nodes(g, pos, nodelist=nodes, node_color=colors, node_size=150, cmap=plt.cm.jet,vmin=0,vmax=1)\n",
    "    #plt.colorbar(nc)\n",
    "    plt.axis('off')\n",
    "    plt.show()"
   ]
  },
  {
   "cell_type": "code",
   "execution_count": 23,
   "metadata": {},
   "outputs": [],
   "source": [
    "def graph_to_doc2(Graphs,iterations=2,start_tag=0):\n",
    "    documents=[]\n",
    "    for i in range(len(Graphs)):\n",
    "        hashes=nx.weisfeiler_lehman_subgraph_hashes(Graphs[i], iterations=iterations, node_attr=\"feature\")\n",
    "        Doc=[]\n",
    "        for node in Graphs[i].nodes:\n",
    "            Doc=Doc+[Graphs[i].nodes[node][\"feature\"],\"pos_x\"+str(Graphs[i].nodes[node][\"position_x\"]),\"pos_y\"+str(Graphs[i].nodes[node][\"position_y\"])]+hashes[node]\n",
    "        \n",
    "        documents=documents+[Doc.copy()]\n",
    "    \n",
    "    return documents"
   ]
  },
  {
   "cell_type": "code",
   "execution_count": 24,
   "metadata": {},
   "outputs": [],
   "source": [
    "def graph_to_doc2(Graphs,iterations=2,start_tag=0):\n",
    "    documents=[]\n",
    "    for i in range(len(Graphs)):\n",
    "        hashes=nx.weisfeiler_lehman_subgraph_hashes(Graphs[i], iterations=iterations, node_attr=\"feature\")\n",
    "        Doc=[]\n",
    "        for node in Graphs[i].nodes:\n",
    "            Doc=Doc+[Graphs[i].nodes[node][\"feature\"],\"pos_x\"+str(Graphs[i].nodes[node][\"position_x\"]),\"pos_y\"+str(Graphs[i].nodes[node][\"position_y\"]),\n",
    "                    \"apr_pos_x\"+str(Graphs[i].nodes[node][\"position_x\"]//5),\"apr_pos_y\"+str(Graphs[i].nodes[node][\"position_y\"]//5)]+hashes[node]\n",
    "        \n",
    "        documents=documents+[Doc.copy()]\n",
    "    \n",
    "    return documents"
   ]
  },
  {
   "cell_type": "code",
   "execution_count": 1,
   "metadata": {},
   "outputs": [],
   "source": [
    "def graph_to_doc(Graphs,iterations=2,start_tag=0):\n",
    "    documents=[]\n",
    "    hashes=None\n",
    "    for i in range(len(Graphs)):\n",
    "        if iterations>0:\n",
    "            hashes=nx.weisfeiler_lehman_subgraph_hashes(Graphs[i], iterations=iterations, node_attr=\"feature\")\n",
    "            \n",
    "        Doc=[]\n",
    "        for node in Graphs[i].nodes:\n",
    "            Doc=Doc+[Graphs[i].nodes[node][\"feature\"],\"pos_x\"+str(Graphs[i].nodes[node][\"position_x\"]),\"pos_y\"+str(Graphs[i].nodes[node][\"position_y\"]),\n",
    "                    \"apr_pos_x\"+str(Graphs[i].nodes[node][\"position_x\"]//5),\"apr_pos_y\"+str(Graphs[i].nodes[node][\"position_y\"]//5),\n",
    "                    Graphs[i].nodes[node][\"feature\"]+\"pos_x\"+str(Graphs[i].nodes[node][\"position_x\"]),\n",
    "                     Graphs[i].nodes[node][\"feature\"]+\"pos_y\"+str(Graphs[i].nodes[node][\"position_y\"]),\n",
    "                    Graphs[i].nodes[node][\"feature\"]+\"apr_pos_x\"+str(Graphs[i].nodes[node][\"position_x\"]//5),\n",
    "                     Graphs[i].nodes[node][\"feature\"]+\"apr_pos_y\"+str(Graphs[i].nodes[node][\"position_y\"]//5),\n",
    "                     Graphs[i].nodes[node][\"feature\"]+\"apr_pos_x\"+str(Graphs[i].nodes[node][\"position_x\"]//5)+\"apr_pos_y\"+str(Graphs[i].nodes[node][\"position_y\"]//5),\n",
    "                     Graphs[i].nodes[node][\"feature\"]+\"pos_x\"+str(Graphs[i].nodes[node][\"position_x\"])+Graphs[i].nodes[node][\"feature\"]+\"pos_y\"+str(Graphs[i].nodes[node][\"position_y\"]),\n",
    "                     \"apr_pos_x\"+str(Graphs[i].nodes[node][\"position_x\"]//5)+\"apr_pos_y\"+str(Graphs[i].nodes[node][\"position_y\"]//5),\n",
    "                     \"pos_x\"+str(Graphs[i].nodes[node][\"position_x\"])+Graphs[i].nodes[node][\"feature\"]+\"pos_y\"+str(Graphs[i].nodes[node][\"position_y\"])                   \n",
    "                    ]\n",
    "            if iterations>0:\n",
    "                Doc=Doc+hashes[node]\n",
    "        \n",
    "        documents=documents+[Doc.copy()]\n",
    "    \n",
    "    return documents"
   ]
  },
  {
   "cell_type": "code",
   "execution_count": 26,
   "metadata": {},
   "outputs": [],
   "source": [
    "def doc_to_embedding(documents,model,seed=42):\n",
    "    model.random.seed(seed)\n",
    "    return np.array([model.infer_vector(doc) for doc in documents])"
   ]
  },
  {
   "cell_type": "code",
   "execution_count": 27,
   "metadata": {},
   "outputs": [],
   "source": [
    "def graph_diff2(G1,G2,obj_class_diff=100,obj_n_diff=100):\n",
    "    n1=set([(G1.nodes[x][\"feature\"],G1.nodes[x][\"position_x\"],G1.nodes[x][\"position_y\"]) for x in G1.nodes])\n",
    "    n2=set([(G2.nodes[x][\"feature\"],G2.nodes[x][\"position_x\"],G2.nodes[x][\"position_y\"]) for x in G2.nodes])\n",
    "    l1=list(n1.difference(n2))\n",
    "    l2=list(n2.difference(n1))\n",
    "    \n",
    "    if len(l1)==0 or len(l2)==0:\n",
    "        return abs(len(l1)-len(l2))*obj_n_diff\n",
    "    \n",
    "    if len(l1)>len(l2):\n",
    "        l1,l2 = l2,l1\n",
    "    \n",
    "    dist=np.zeros((len(l1),len(l2)))\n",
    "    for x in range(len(l1)):\n",
    "        for y in range(len(l2)):\n",
    "            dist[x,y]=node_dist(l1[x],l2[y],obj_class_diff=obj_class_diff)\n",
    "        \n",
    "    return graph_metric(dist,obj_n_diff=obj_n_diff)"
   ]
  },
  {
   "cell_type": "code",
   "execution_count": 28,
   "metadata": {},
   "outputs": [],
   "source": [
    "def node_dist2(n1,n2,obj_class_diff=100):\n",
    "    return (n1[0]!=n2[0])*obj_class_diff+abs(n1[1]-n2[1])+abs(n1[2]-n2[2])"
   ]
  },
  {
   "cell_type": "code",
   "execution_count": 29,
   "metadata": {},
   "outputs": [],
   "source": [
    "def node_dist(n1,n2,obj_class_diff=100):\n",
    "    return (n1[0]!=n2[0])*obj_class_diff+np.sqrt((n1[1]-n2[1])**2+(n1[2]-n2[2])**2)"
   ]
  },
  {
   "cell_type": "code",
   "execution_count": 30,
   "metadata": {},
   "outputs": [],
   "source": [
    "def graph_metric(dist,obj_n_diff=100):\n",
    "    return np.sum(np.min(dist,axis=1))+abs(dist.shape[0]-dist.shape[1])*obj_n_diff"
   ]
  },
  {
   "cell_type": "code",
   "execution_count": 31,
   "metadata": {},
   "outputs": [],
   "source": [
    "def graph_diff(G1,G2,obj_class_diff=100,obj_n_diff=100):\n",
    "    l1=[(G1.nodes[x][\"feature\"],G1.nodes[x][\"position_x\"],G1.nodes[x][\"position_y\"]) for x in G1.nodes]\n",
    "    l2=[(G2.nodes[x][\"feature\"],G2.nodes[x][\"position_x\"],G2.nodes[x][\"position_y\"]) for x in G2.nodes]\n",
    "    \n",
    "    if len(l1)==0 or len(l2)==0:\n",
    "        return abs(len(l1)-len(l2))*obj_n_diff\n",
    "    \n",
    "    if len(l1)>len(l2):\n",
    "        l1,l2 = l2,l1\n",
    "    \n",
    "    dist=np.zeros((len(l1),len(l2)))\n",
    "    for x in range(len(l1)):\n",
    "        for y in range(len(l2)):\n",
    "            dist[x,y]=node_dist(l1[x],l2[y],obj_class_diff=obj_class_diff)\n",
    "        \n",
    "    return graph_metric(dist,obj_n_diff=obj_n_diff)"
   ]
  },
  {
   "cell_type": "code",
   "execution_count": 54,
   "metadata": {},
   "outputs": [],
   "source": [
    "def regions_to_embedding(regions,labels,grid,label_size=16,x=105,y=80):\n",
    "    centroids=np.array([reg.centroid for reg in regions])\n",
    "    dist=distance_matrix(centroids,grid)\n",
    "    rad=distance.euclidean([0,0],[x,y])\n",
    "    dist=(1-dist/rad)**2\n",
    "    emb=np.zeros((label_size,grid.shape[0]))\n",
    "    for lab in np.unique(labels):\n",
    "        emb[lab,:]=dist[labels==lab,:].sum(axis=0)\n",
    "        \n",
    "    return emb"
   ]
  },
  {
   "cell_type": "code",
   "execution_count": 55,
   "metadata": {},
   "outputs": [],
   "source": [
    "def make_grid(shape,x=2,y=2):\n",
    "    grid=np.zeros((x*y,2))\n",
    "    split_h=np.linspace(0,shape[0],y).astype(\"int\")\n",
    "    split_w=np.linspace(0,shape[1],x).astype(\"int\")\n",
    "    z=0\n",
    "    for i in split_h:\n",
    "        for j in split_w:\n",
    "            grid[z,:]=[i,j]\n",
    "            z+=1\n",
    "    return grid"
   ]
  },
  {
   "cell_type": "markdown",
   "metadata": {},
   "source": [
    "# Enviroment"
   ]
  },
  {
   "cell_type": "code",
   "execution_count": 56,
   "metadata": {},
   "outputs": [],
   "source": [
    "# OpenAI-Gym environment specification\n",
    "environment = Environment.create(\n",
    "       environment='gym', level='SpaceInvaders-v4',max_episode_timesteps=10000)"
   ]
  },
  {
   "cell_type": "code",
   "execution_count": 57,
   "metadata": {},
   "outputs": [],
   "source": [
    "# OpenAI-Gym environment specification\n",
    "environment = Environment.create(\n",
    "       environment='gym', level='Pong-v4',max_episode_timesteps=10000)"
   ]
  },
  {
   "cell_type": "code",
   "execution_count": 58,
   "metadata": {},
   "outputs": [],
   "source": [
    "class CustomEnvironment(Environment):\n",
    "\n",
    "    def __init__(self, base_env):\n",
    "        self.base_env=base_env\n",
    "        self.num_clusters_obj=16\n",
    "        self.image_seg=Birch(n_clusters=None,threshold=0.5,branching_factor=50)\n",
    "        self.pca_n_components=10\n",
    "        self.pca_obj=IncrementalPCA(n_components=self.pca_n_components)\n",
    "        self.max_obj_width=160//20\n",
    "        self.max_obj_height=210//20\n",
    "        self.prox=0\n",
    "        self.state_param={}\n",
    "        self.state_param[\"type\"]=\"float\"\n",
    "        self.state_param[\"shape\"]=128\n",
    "        self.state_param[\"min_value\"]=-1\n",
    "        self.state_param[\"max_value\"]=1\n",
    "        self.example_objects={}\n",
    "        self.example_objects_pca={}\n",
    "        self.total_timestep=0\n",
    "        self.hash_iterations=0\n",
    "        self.stability_threshold=0.01\n",
    "        self.stability_threshold_birch=0.95\n",
    "        #graph list\n",
    "        self.pca_stab_err=[]\n",
    "        self.birch_stab_acc=[]\n",
    "        \n",
    "        self.state_list=[]\n",
    "        self.object_list=[]\n",
    "        self.pca_list=[]\n",
    "        self.birch_list=[]\n",
    "        self.graph_list=[]\n",
    "        self.document_list=[]\n",
    "        \n",
    "        self.lookback=100\n",
    "        #state list\n",
    "        self.keep_state_list=False\n",
    "        self.keep_object_list=True\n",
    "        self.keep_pca_list=True\n",
    "        self.keep_birch_list=False\n",
    "        self.keep_graph_list=False\n",
    "        \n",
    "        \n",
    "        #semantic model\n",
    "        self.starting_doc_len=30000\n",
    "        self.start_tag=0\n",
    "        self.dimensions=self.state_param[\"shape\"]\n",
    "        self.min_count=2\n",
    "        self.seed=42\n",
    "        self.workers = 4\n",
    "        self.epochs = 50\n",
    "        self.learning_rate = 0.025\n",
    "        self.window=8\n",
    "        self.hs=1\n",
    "        self.dm=0\n",
    "        self.negative=0\n",
    "        self.max_vocab_size=30000\n",
    "        self.semantic_model=Doc2Vec(\n",
    "            vector_size=self.dimensions,\n",
    "            window=self.window,\n",
    "            min_count=self.min_count,\n",
    "            dm=self.dm,\n",
    "            hs=self.hs,\n",
    "            negative=self.negative,\n",
    "            workers=self.workers,\n",
    "            epochs=self.epochs,\n",
    "            alpha=self.learning_rate,\n",
    "            max_vocab_size=self.max_vocab_size,\n",
    "            seed=self.seed\n",
    "        )\n",
    "        \n",
    "        super().__init__()\n",
    "\n",
    "    def states(self):\n",
    "        return self.state_param\n",
    "\n",
    "    def actions(self):\n",
    "        return {'type': 'int', 'shape': (), 'num_values': 2}\n",
    "        #return self.base_env.actions()\n",
    "\n",
    "    \n",
    "    def check_stability_pca(self):\n",
    "        obj=self.object_list.pop()\n",
    "        new=self.pca_obj.transform(obj)\n",
    "        old=self.pca_list.pop()\n",
    "        err=mean_absolute_error(new,old)\n",
    "        self.pca_stab_err.append(err)\n",
    "        if err<self.stability_threshold:\n",
    "            return True\n",
    "        else:\n",
    "            return False\n",
    "        \n",
    "    def check_stability_birch(self):\n",
    "        obj=self.object_list.pop()\n",
    "        new=self.image_seg.predict(self.pca_obj.transform(obj))\n",
    "        old=self.birch_list.pop()\n",
    "        acc=balanced_accuracy_score(new,old)\n",
    "        self.birch_stab_acc.append(acc)\n",
    "        if acc>self.stability_threshold_birch:\n",
    "            return True\n",
    "        else:\n",
    "            return False\n",
    "    \n",
    "    def train_semantic(self):\n",
    "        Graphs=self.graph_list\n",
    "        Doc_all=graph_to_doc(Graphs,iterations=self.hash_iterations,start_tag=0)\n",
    "        \n",
    "        documents = [\n",
    "                TaggedDocument(words=doc, tags=[i])\n",
    "                for i, doc in enumerate(Doc_all)\n",
    "            ]\n",
    "    \n",
    "        self.document_list=documents\n",
    "        self.semantic_model.build_vocab(documents)\n",
    "        self.semantic_model.train(documents,total_examples=len(documents),epochs=self.semantic_model.epochs)\n",
    "    \n",
    "    def preprocess_state(self, state, use_pca=True, train_pca=False, use_birch=True, train_birch=False, use_semantic=True):\n",
    "        \n",
    "        #crop for pong [16:98,8:72]\n",
    "        #state = rescale(state, 0.5, anti_aliasing=False, channel_axis=-1, order=0)#[16:98,8:72]\n",
    "        state = state[::2,::2][16:98,8:72]\n",
    "        #cut objects\n",
    "        label_image, objects, regions=find_cut_objects(state,self.max_obj_height,self.max_obj_width)\n",
    "        X=objects.reshape(objects.shape[0],-1)\n",
    "        \n",
    "        if self.keep_object_list:\n",
    "            self.object_list.insert(0,X.copy())\n",
    "        \n",
    "        #PCA\n",
    "        if train_pca:\n",
    "            self.pca_obj.partial_fit(np.vstack((X,X)))\n",
    "        \n",
    "        if use_pca:\n",
    "            X=self.pca_obj.transform(X)\n",
    "        else:\n",
    "            X=np.zeros((X.shape[0],self.pca_n_components))\n",
    "        \n",
    "        if self.keep_pca_list:\n",
    "            self.pca_list.insert(0,X.copy())\n",
    "        \n",
    "        #BIRCH clustering\n",
    "        if train_birch:\n",
    "            self.image_seg.partial_fit(X)\n",
    "            if self.image_seg.n_clusters is None and len(self.image_seg.subcluster_labels_)>self.num_clusters_obj-1:\n",
    "                self.image_seg.set_params(n_clusters=self.num_clusters_obj-1)\n",
    "                self.image_seg.partial_fit()\n",
    "        \n",
    "        if use_birch:\n",
    "            labels=self.image_seg.predict(X)\n",
    "        else:\n",
    "            labels=np.zeros(X.shape[0])\n",
    "        \n",
    "        \n",
    "        if self.keep_birch_list:\n",
    "            self.birch_list.insert(0,labels.copy())\n",
    "        \n",
    "        for i in range(len(labels)):\n",
    "#             if train:\n",
    "#                 pass\n",
    "                #self.example_objects[labels[i]]=state[regions[i].slice]\n",
    "                #self.example_objects_pca[labels[i]]=self.pca_obj.inverse_transform(X[i]).reshape(self.max_obj_height,self.max_obj_width,3)\n",
    "            \n",
    "            label_image[regions[i].slice][regions[i].image]=labels[i]+1\n",
    "        \n",
    "        \n",
    "        if self.keep_graph_list and not use_semantic:\n",
    "            graph=regions_to_graph(regions,labels,prox=self.prox)\n",
    "            self.graph_list.append(graph.copy())\n",
    "        \n",
    "        if use_semantic:\n",
    "            #make graph\n",
    "            graph=regions_to_graph(regions,labels,prox=self.prox)\n",
    "            \n",
    "            doc=graph_to_doc([graph],iterations=self.hash_iterations,start_tag=0)\n",
    "            \n",
    "            #make embedding\n",
    "            embedding=doc_to_embedding(doc,self.semantic_model,seed=42)\n",
    "\n",
    "            #clip emmbeding\n",
    "            embedding=np.clip(embedding,self.state_param[\"min_value\"], self.state_param[\"max_value\"])[0]\n",
    "        \n",
    "        else:\n",
    "            graph=nx.DiGraph()\n",
    "            \n",
    "            embedding=np.zeros(self.dimensions)\n",
    "        \n",
    "        return label_image.astype(\"int8\"),regions,labels,graph,embedding\n",
    "        \n",
    "        \n",
    "        \n",
    "    # Optional: should only be defined if environment has a natural fixed\n",
    "    # maximum episode length; restrict training timesteps via\n",
    "    #     Environment.create(..., max_episode_timesteps=???)\n",
    "    def max_episode_timesteps(self):\n",
    "        return super().max_episode_timesteps()\n",
    "\n",
    "    # Optional additional steps to close environment\n",
    "    def close(self):\n",
    "        super().close()\n",
    "\n",
    "    def reset(self):\n",
    "        state = self.base_env.reset()\n",
    "        _,_,_,graph,state = self.preprocess_state(state, use_pca=False, train_pca=False, use_birch=False, train_birch=False, use_semantic=False)\n",
    "        return state\n",
    "\n",
    "    def execute(self, actions):\n",
    "        \n",
    "        #actions mapped\n",
    "        actions={0:2,1:3}[actions]\n",
    "        \n",
    "        next_state, terminal, reward = self.base_env.execute(actions)\n",
    "        \n",
    "        if self.keep_state_list:\n",
    "            self.state_list.append(next_state)\n",
    "            \n",
    "        \n",
    "        if self.keep_pca_list:\n",
    "            _,_,_,_,next_state=self.preprocess_state(next_state,use_pca=True, train_pca=True, use_birch=False, train_birch=False, use_semantic=False)\n",
    "        elif self.keep_birch_list:\n",
    "            _,_,_,_,next_state=self.preprocess_state(next_state,use_pca=True, train_pca=False, use_birch=True, train_birch=True, use_semantic=False)\n",
    "        elif self.keep_graph_list:\n",
    "            _,_,_,graph,next_state=self.preprocess_state(next_state,use_pca=True, train_pca=False, use_birch=True, train_birch=False, use_semantic=False)\n",
    "        else:\n",
    "            _,_,_,_,next_state=self.preprocess_state(next_state,use_pca=True, train_pca=False, use_birch=True, train_birch=False, use_semantic=True)\n",
    "        \n",
    "        if len(self.pca_list)>=self.lookback and self.keep_pca_list==True:\n",
    "            is_stable=self.check_stability_pca()\n",
    "            if is_stable:\n",
    "                print(\"PCA stable after \"+str(self.lookback+len(self.pca_stab_err))+\" steps with err=\"+str(self.pca_stab_err[-1]))\n",
    "                self.keep_pca_list=False\n",
    "                self.keep_birch_list=True\n",
    "                self.object_list=[]\n",
    "                 \n",
    "        if len(self.birch_list)>=self.lookback and self.keep_birch_list==True:\n",
    "            is_stable=self.check_stability_birch()\n",
    "            if is_stable:\n",
    "                print(\"Birch stable after \"+str(self.lookback+len(self.birch_stab_acc))+\" steps with acc=\"+str(self.birch_stab_acc[-1]))\n",
    "                self.keep_birch_list=False\n",
    "                self.keep_object_list=False\n",
    "                self.keep_graph_list=True\n",
    "                \n",
    "        if self.keep_graph_list and len(self.graph_list)>=self.starting_doc_len and self.keep_pca_list==False and self.keep_birch_list==False:\n",
    "            print(\"Accumulated: \"+str(len(self.graph_list))+\" graphs\")\n",
    "            self.keep_graph_list=False\n",
    "            self.train_semantic()\n",
    "       \n",
    "        return next_state, terminal, reward"
   ]
  },
  {
   "cell_type": "code",
   "execution_count": 84,
   "metadata": {},
   "outputs": [],
   "source": [
    "class CustomEnvironment(Environment):\n",
    "\n",
    "    def __init__(self, base_env):\n",
    "        self.base_env=base_env\n",
    "        self.num_clusters_obj=4\n",
    "        self.image_seg=Birch(n_clusters=None,threshold=0.5,branching_factor=50)\n",
    "        self.pca_n_components=2\n",
    "        self.pca_obj=IncrementalPCA(n_components=self.pca_n_components)\n",
    "        self.max_obj_width=160//20\n",
    "        self.max_obj_height=210//20\n",
    "        \n",
    "        self.x_grid=2\n",
    "        self.y_grid=2\n",
    "        self.grid=make_grid((105,80),self.x_grid,self.y_grid)\n",
    "        self.dimensions=self.num_clusters_obj*self.x_grid*self.y_grid\n",
    "        \n",
    "        self.state_param={}\n",
    "        self.state_param[\"type\"]=\"float\"\n",
    "        self.state_param[\"shape\"]=self.dimensions\n",
    "        self.state_param[\"min_value\"]=0\n",
    "        self.state_param[\"max_value\"]=8\n",
    "        #self.example_objects={}\n",
    "        #self.example_objects_pca={}\n",
    "        self.total_timestep=0\n",
    "        self.stability_threshold=0.01\n",
    "        self.stability_threshold_birch=0.95\n",
    "        \n",
    "        self.pca_stab_err=[]\n",
    "        self.birch_stab_acc=[]\n",
    "        \n",
    "        self.state_list=[]\n",
    "        self.object_list=[]\n",
    "        self.pca_list=[]\n",
    "        self.birch_list=[]\n",
    "        \n",
    "        self.lookback=100\n",
    "        #state list\n",
    "        self.keep_state_list=False\n",
    "        self.keep_object_list=True\n",
    "        self.keep_pca_list=True\n",
    "        self.keep_birch_list=False\n",
    "        \n",
    "        super().__init__()\n",
    "\n",
    "    def states(self):\n",
    "        return self.state_param\n",
    "\n",
    "    def actions(self):\n",
    "        return {'type': 'int', 'shape': (), 'num_values': 2}\n",
    "        #return self.base_env.actions()\n",
    "\n",
    "    \n",
    "    def check_stability_pca(self):\n",
    "        obj=self.object_list.pop()\n",
    "        new=self.pca_obj.transform(obj)\n",
    "        old=self.pca_list.pop()\n",
    "        err=mean_absolute_error(new,old)\n",
    "        self.pca_stab_err.append(err)\n",
    "        if err<self.stability_threshold:\n",
    "            return True\n",
    "        else:\n",
    "            return False\n",
    "        \n",
    "    def check_stability_birch(self):\n",
    "        obj=self.object_list.pop()\n",
    "        new=self.image_seg.predict(self.pca_obj.transform(obj))\n",
    "        old=self.birch_list.pop()\n",
    "        acc=balanced_accuracy_score(new,old)\n",
    "        self.birch_stab_acc.append(acc)\n",
    "        if acc>self.stability_threshold_birch:\n",
    "            return True\n",
    "        else:\n",
    "            return False\n",
    "    \n",
    "    def preprocess_state(self, state, use_pca=True, train_pca=False, use_birch=True, train_birch=False, use_embedding=True):\n",
    "        \n",
    "        #crop for pong [16:98,8:72]\n",
    "        #state = rescale(state, 0.5, anti_aliasing=False, channel_axis=-1, order=0)#[16:98,8:72]\n",
    "        #state = state[::2,::2][16:98,8:72]\n",
    "        state = state[::2,::2][17:97,8:72]\n",
    "        #cut objects\n",
    "        label_image, objects, regions=find_cut_objects(state,self.max_obj_height,self.max_obj_width)\n",
    "        X=objects.reshape(objects.shape[0],-1)\n",
    "        \n",
    "        if self.keep_object_list:\n",
    "            self.object_list.insert(0,X.copy())\n",
    "        \n",
    "        #PCA\n",
    "        if train_pca:\n",
    "            self.pca_obj.partial_fit(np.vstack((X,X)))\n",
    "        \n",
    "        if use_pca:\n",
    "            X=self.pca_obj.transform(X)\n",
    "        else:\n",
    "            X=np.zeros((X.shape[0],self.pca_n_components))\n",
    "        \n",
    "        if self.keep_pca_list:\n",
    "            self.pca_list.insert(0,X.copy())\n",
    "        \n",
    "        #BIRCH clustering\n",
    "        if train_birch:\n",
    "            self.image_seg.partial_fit(X)\n",
    "            if self.image_seg.n_clusters is None and len(self.image_seg.subcluster_labels_)>self.num_clusters_obj-1:\n",
    "                self.image_seg.set_params(n_clusters=self.num_clusters_obj-1)\n",
    "                self.image_seg.partial_fit()\n",
    "        \n",
    "        if use_birch:\n",
    "            labels=self.image_seg.predict(X)\n",
    "        else:\n",
    "            labels=np.zeros(X.shape[0])\n",
    "        \n",
    "        \n",
    "        if self.keep_birch_list:\n",
    "            self.birch_list.insert(0,labels.copy())\n",
    "        \n",
    "        for i in range(len(labels)):\n",
    "#             if train:\n",
    "#                 pass\n",
    "                #self.example_objects[labels[i]]=state[regions[i].slice]\n",
    "                #self.example_objects_pca[labels[i]]=self.pca_obj.inverse_transform(X[i]).reshape(self.max_obj_height,self.max_obj_width,3)\n",
    "            \n",
    "            label_image[regions[i].slice][regions[i].image]=labels[i]+1\n",
    "                \n",
    "        if use_embedding:\n",
    "            embedding=regions_to_embedding(regions,labels,self.grid,label_size=self.num_clusters_obj).reshape(-1)\n",
    "            \n",
    "            #clip emmbeding\n",
    "            embedding=np.clip(embedding,self.state_param[\"min_value\"], self.state_param[\"max_value\"])\n",
    "        \n",
    "        else:\n",
    "            embedding=np.zeros(self.dimensions)\n",
    "        \n",
    "        return label_image.astype(\"int8\"),regions,labels,embedding\n",
    "        \n",
    "        \n",
    "        \n",
    "    # Optional: should only be defined if environment has a natural fixed\n",
    "    # maximum episode length; restrict training timesteps via\n",
    "    #     Environment.create(..., max_episode_timesteps=???)\n",
    "    def max_episode_timesteps(self):\n",
    "        return super().max_episode_timesteps()\n",
    "\n",
    "    # Optional additional steps to close environment\n",
    "    def close(self):\n",
    "        super().close()\n",
    "\n",
    "    def reset(self):\n",
    "        state = self.base_env.reset()\n",
    "        _,_,_,state = self.preprocess_state(state, use_pca=False, train_pca=False, use_birch=False, train_birch=False, use_embedding=False)\n",
    "        return state\n",
    "\n",
    "    def execute(self, actions):\n",
    "        \n",
    "        #actions mapped\n",
    "        actions={0:2,1:3}[actions]\n",
    "        \n",
    "        next_state, terminal, reward = self.base_env.execute(actions)\n",
    "        \n",
    "        if self.keep_state_list:\n",
    "            self.state_list.append(next_state)\n",
    "            \n",
    "        \n",
    "        if self.keep_pca_list:\n",
    "            _,_,_,next_state=self.preprocess_state(next_state,use_pca=True, train_pca=True, use_birch=False, train_birch=False, use_embedding=False)\n",
    "        elif self.keep_birch_list:\n",
    "            _,_,_,next_state=self.preprocess_state(next_state,use_pca=True, train_pca=False, use_birch=True, train_birch=True, use_embedding=False)\n",
    "        else:\n",
    "            _,_,_,next_state=self.preprocess_state(next_state,use_pca=True, train_pca=False, use_birch=True, train_birch=False, use_embedding=True)\n",
    "        \n",
    "        if len(self.pca_list)>=self.lookback and self.keep_pca_list==True:\n",
    "            is_stable=self.check_stability_pca()\n",
    "            if is_stable:\n",
    "                print(\"PCA stable after \"+str(self.lookback+len(self.pca_stab_err))+\" steps with err=\"+str(self.pca_stab_err[-1]))\n",
    "                self.keep_pca_list=False\n",
    "                self.keep_birch_list=True\n",
    "                self.object_list=[]\n",
    "                 \n",
    "        if len(self.birch_list)>=self.lookback and self.keep_birch_list==True:\n",
    "            is_stable=self.check_stability_birch()\n",
    "            if is_stable:\n",
    "                print(\"Birch stable after \"+str(self.lookback+len(self.birch_stab_acc))+\" steps with acc=\"+str(self.birch_stab_acc[-1]))\n",
    "                self.keep_birch_list=False\n",
    "                self.keep_object_list=False\n",
    "       \n",
    "        return next_state, terminal, reward"
   ]
  },
  {
   "cell_type": "code",
   "execution_count": 85,
   "metadata": {},
   "outputs": [],
   "source": [
    "custom=CustomEnvironment(environment)"
   ]
  },
  {
   "cell_type": "markdown",
   "metadata": {},
   "source": [
    "# Agent"
   ]
  },
  {
   "cell_type": "code",
   "execution_count": 86,
   "metadata": {},
   "outputs": [
    {
     "data": {
      "application/vnd.jupyter.widget-view+json": {
       "model_id": "982b7887fed74e58bd3ab836145efa9b",
       "version_major": 2,
       "version_minor": 0
      },
      "text/plain": [
       "Episodes:   0%|          | 0/3 [00:00, return=0.00, ts/ep=0, sec/ep=0.00, ms/ts=0.0, agent=0.0%]"
      ]
     },
     "metadata": {},
     "output_type": "display_data"
    },
    {
     "name": "stderr",
     "output_type": "stream",
     "text": [
      "/home/olaf/anaconda3/envs/master/lib/python3.9/site-packages/sklearn/decomposition/_incremental_pca.py:301: RuntimeWarning: invalid value encountered in true_divide\n",
      "  explained_variance_ratio = S ** 2 / np.sum(col_var * n_total_samples)\n",
      "/home/olaf/anaconda3/envs/master/lib/python3.9/site-packages/sklearn/decomposition/_incremental_pca.py:313: RuntimeWarning: Mean of empty slice.\n",
      "  explained_variance[self.n_components_:].mean()\n",
      "/home/olaf/anaconda3/envs/master/lib/python3.9/site-packages/numpy/core/_methods.py:189: RuntimeWarning: invalid value encountered in double_scalars\n",
      "  ret = ret.dtype.type(ret / rcount)\n",
      "/home/olaf/anaconda3/envs/master/lib/python3.9/site-packages/sklearn/decomposition/_incremental_pca.py:301: RuntimeWarning: invalid value encountered in true_divide\n",
      "  explained_variance_ratio = S ** 2 / np.sum(col_var * n_total_samples)\n",
      "/home/olaf/anaconda3/envs/master/lib/python3.9/site-packages/sklearn/decomposition/_incremental_pca.py:301: RuntimeWarning: invalid value encountered in true_divide\n",
      "  explained_variance_ratio = S ** 2 / np.sum(col_var * n_total_samples)\n",
      "/home/olaf/anaconda3/envs/master/lib/python3.9/site-packages/sklearn/decomposition/_incremental_pca.py:301: RuntimeWarning: invalid value encountered in true_divide\n",
      "  explained_variance_ratio = S ** 2 / np.sum(col_var * n_total_samples)\n",
      "/home/olaf/anaconda3/envs/master/lib/python3.9/site-packages/sklearn/decomposition/_incremental_pca.py:301: RuntimeWarning: invalid value encountered in true_divide\n",
      "  explained_variance_ratio = S ** 2 / np.sum(col_var * n_total_samples)\n",
      "/home/olaf/anaconda3/envs/master/lib/python3.9/site-packages/sklearn/decomposition/_incremental_pca.py:301: RuntimeWarning: invalid value encountered in true_divide\n",
      "  explained_variance_ratio = S ** 2 / np.sum(col_var * n_total_samples)\n",
      "/home/olaf/anaconda3/envs/master/lib/python3.9/site-packages/sklearn/decomposition/_incremental_pca.py:301: RuntimeWarning: invalid value encountered in true_divide\n",
      "  explained_variance_ratio = S ** 2 / np.sum(col_var * n_total_samples)\n",
      "/home/olaf/anaconda3/envs/master/lib/python3.9/site-packages/sklearn/decomposition/_incremental_pca.py:301: RuntimeWarning: invalid value encountered in true_divide\n",
      "  explained_variance_ratio = S ** 2 / np.sum(col_var * n_total_samples)\n",
      "/home/olaf/anaconda3/envs/master/lib/python3.9/site-packages/sklearn/decomposition/_incremental_pca.py:301: RuntimeWarning: invalid value encountered in true_divide\n",
      "  explained_variance_ratio = S ** 2 / np.sum(col_var * n_total_samples)\n",
      "/home/olaf/anaconda3/envs/master/lib/python3.9/site-packages/sklearn/decomposition/_incremental_pca.py:301: RuntimeWarning: invalid value encountered in true_divide\n",
      "  explained_variance_ratio = S ** 2 / np.sum(col_var * n_total_samples)\n",
      "/home/olaf/anaconda3/envs/master/lib/python3.9/site-packages/sklearn/decomposition/_incremental_pca.py:301: RuntimeWarning: invalid value encountered in true_divide\n",
      "  explained_variance_ratio = S ** 2 / np.sum(col_var * n_total_samples)\n",
      "/home/olaf/anaconda3/envs/master/lib/python3.9/site-packages/sklearn/decomposition/_incremental_pca.py:301: RuntimeWarning: invalid value encountered in true_divide\n",
      "  explained_variance_ratio = S ** 2 / np.sum(col_var * n_total_samples)\n",
      "/home/olaf/anaconda3/envs/master/lib/python3.9/site-packages/sklearn/decomposition/_incremental_pca.py:301: RuntimeWarning: invalid value encountered in true_divide\n",
      "  explained_variance_ratio = S ** 2 / np.sum(col_var * n_total_samples)\n",
      "/home/olaf/anaconda3/envs/master/lib/python3.9/site-packages/sklearn/decomposition/_incremental_pca.py:301: RuntimeWarning: invalid value encountered in true_divide\n",
      "  explained_variance_ratio = S ** 2 / np.sum(col_var * n_total_samples)\n",
      "/home/olaf/anaconda3/envs/master/lib/python3.9/site-packages/sklearn/decomposition/_incremental_pca.py:301: RuntimeWarning: invalid value encountered in true_divide\n",
      "  explained_variance_ratio = S ** 2 / np.sum(col_var * n_total_samples)\n",
      "/home/olaf/anaconda3/envs/master/lib/python3.9/site-packages/sklearn/decomposition/_incremental_pca.py:301: RuntimeWarning: invalid value encountered in true_divide\n",
      "  explained_variance_ratio = S ** 2 / np.sum(col_var * n_total_samples)\n",
      "/home/olaf/anaconda3/envs/master/lib/python3.9/site-packages/sklearn/decomposition/_incremental_pca.py:301: RuntimeWarning: invalid value encountered in true_divide\n",
      "  explained_variance_ratio = S ** 2 / np.sum(col_var * n_total_samples)\n",
      "/home/olaf/anaconda3/envs/master/lib/python3.9/site-packages/sklearn/decomposition/_incremental_pca.py:301: RuntimeWarning: invalid value encountered in true_divide\n",
      "  explained_variance_ratio = S ** 2 / np.sum(col_var * n_total_samples)\n",
      "/home/olaf/anaconda3/envs/master/lib/python3.9/site-packages/sklearn/decomposition/_incremental_pca.py:301: RuntimeWarning: invalid value encountered in true_divide\n",
      "  explained_variance_ratio = S ** 2 / np.sum(col_var * n_total_samples)\n"
     ]
    },
    {
     "name": "stdout",
     "output_type": "stream",
     "text": [
      "PCA stable after 442 steps with err=0.009774515420664109\n",
      "Birch stable after 101 steps with acc=1.0\n"
     ]
    }
   ],
   "source": [
    "# warm up\n",
    "agent = dict(\n",
    "    agent='random'\n",
    ")\n",
    "\n",
    "# Initialize the runner\n",
    "runner = Runner(agent=agent, environment=custom, max_episode_timesteps=10000)\n",
    "runner.run(num_episodes=3)\n",
    "runner.close()"
   ]
  },
  {
   "cell_type": "code",
   "execution_count": 70,
   "metadata": {},
   "outputs": [
    {
     "data": {
      "application/vnd.jupyter.widget-view+json": {
       "model_id": "5f3e9a8d08b34b2d9325780e26462bb3",
       "version_major": 2,
       "version_minor": 0
      },
      "text/plain": [
       "Episodes:   0%|          | 0/300 [00:00, return=0.00, ts/ep=0, sec/ep=0.00, ms/ts=0.0, agent=0.0%]"
      ]
     },
     "metadata": {},
     "output_type": "display_data"
    }
   ],
   "source": [
    "# DQN agent specification\n",
    "agent = dict(\n",
    "    agent='ppo',\n",
    "    # Automatically configured network\n",
    "    network=dict(type='auto', size=64, depth=2),\n",
    "    # Parameters\n",
    "    memory= 110000,\n",
    "    batch_size = 10, \n",
    "    # Reward estimation\n",
    "    discount=0.99, predict_terminal_values=False,\n",
    "    reward_processing=None,\n",
    "    # Regularization\n",
    "    l2_regularization=0.0, \n",
    "    entropy_regularization=0.0,\n",
    "    # Preprocessing\n",
    "    #state_preprocessing='linear_normalization',\n",
    "    # Exploration\n",
    "    exploration=0.05,\n",
    "    variable_noise=0.0,\n",
    "    # Default additional config values\n",
    "    config=None,\n",
    "    # Save agent every 10 updates and keep the 5 most recent checkpoints\n",
    "    saver=dict(directory='model', frequency=20, max_checkpoints=5),\n",
    "    # Log all available Tensorboard summaries\n",
    "    summarizer=dict(directory='summaries', summaries='all'),\n",
    "    # Do record agent-environment interaction trace\n",
    "    #recorder=dict(directory='record')\n",
    ")\n",
    "\n",
    "# Initialize the runner\n",
    "runner = Runner(agent=agent, environment=custom, max_episode_timesteps=10000)\n",
    "\n",
    "# Train for 200 episodes\n",
    "runner.run(num_episodes=300)\n",
    "runner.close()"
   ]
  },
  {
   "cell_type": "markdown",
   "metadata": {},
   "source": [
    "# Optimizing"
   ]
  },
  {
   "cell_type": "code",
   "execution_count": 66,
   "metadata": {},
   "outputs": [
    {
     "name": "stdout",
     "output_type": "stream",
     "text": [
      "1.7 ms ± 26.7 µs per loop (mean ± std. dev. of 7 runs, 1,000 loops each)\n"
     ]
    }
   ],
   "source": [
    "%timeit _,_,_,emb=custom.preprocess_state(States[100])"
   ]
  },
  {
   "cell_type": "markdown",
   "metadata": {},
   "source": [
    "# example run"
   ]
  },
  {
   "cell_type": "code",
   "execution_count": 71,
   "metadata": {
    "scrolled": true
   },
   "outputs": [],
   "source": [
    "agent = Agent.load(directory='model', format='checkpoint', environment=custom,recorder=dict(directory='record2'))"
   ]
  },
  {
   "cell_type": "code",
   "execution_count": 72,
   "metadata": {},
   "outputs": [],
   "source": [
    "custom.state_list=[]"
   ]
  },
  {
   "cell_type": "code",
   "execution_count": 73,
   "metadata": {},
   "outputs": [],
   "source": [
    "custom.keep_state_list=True"
   ]
  },
  {
   "cell_type": "code",
   "execution_count": 74,
   "metadata": {},
   "outputs": [
    {
     "data": {
      "application/vnd.jupyter.widget-view+json": {
       "model_id": "72782c0ae84642de9412a1ccde60b8bf",
       "version_major": 2,
       "version_minor": 0
      },
      "text/plain": [
       "Episodes:   0%|          | 0/1 [00:00, return=0.00, ts/ep=0, sec/ep=0.00, ms/ts=0.0, agent=0.0%]"
      ]
     },
     "metadata": {},
     "output_type": "display_data"
    }
   ],
   "source": [
    "runner = Runner(agent=agent, environment=custom, max_episode_timesteps=10000)\n",
    "\n",
    "# Train for 200 episodes\n",
    "runner.run(num_episodes=1)\n",
    "runner.close()\n",
    "custom.keep_state_list=False"
   ]
  },
  {
   "cell_type": "code",
   "execution_count": 75,
   "metadata": {},
   "outputs": [],
   "source": [
    "make_video(np.array(custom.state_list),name=\"PongPong\")"
   ]
  },
  {
   "cell_type": "code",
   "execution_count": 87,
   "metadata": {},
   "outputs": [],
   "source": [
    "centers=custom.pca_obj.inverse_transform(custom.image_seg.subcluster_centers_).reshape(custom.image_seg.subcluster_centers_.shape[0],10,8,1)"
   ]
  },
  {
   "cell_type": "code",
   "execution_count": 88,
   "metadata": {},
   "outputs": [],
   "source": [
    "centers=centers[np.argsort(custom.image_seg.subcluster_labels_)]"
   ]
  },
  {
   "cell_type": "code",
   "execution_count": 89,
   "metadata": {},
   "outputs": [],
   "source": [
    "labels_s=np.sort(custom.image_seg.subcluster_labels_)"
   ]
  },
  {
   "cell_type": "code",
   "execution_count": 90,
   "metadata": {},
   "outputs": [
    {
     "data": {
      "text/plain": [
       "array([0, 1, 2])"
      ]
     },
     "execution_count": 90,
     "metadata": {},
     "output_type": "execute_result"
    }
   ],
   "source": [
    "labels_s"
   ]
  },
  {
   "cell_type": "code",
   "execution_count": 91,
   "metadata": {},
   "outputs": [
    {
     "data": {
      "image/png": "[encoded data removed]",
      "text/plain": [
       "<Figure size 864x864 with 3 Axes>"
      ]
     },
     "metadata": {
      "needs_background": "light"
     },
     "output_type": "display_data"
    }
   ],
   "source": [
    "size=4\n",
    "i=1\n",
    "fig = plt.figure(figsize=(12,12))\n",
    "for i in range(centers.shape[0]):\n",
    "    fig.add_subplot(4, 6,i+1)\n",
    "    plt.imshow(centers[i])\n",
    "    plt.title(\"Cluster: \"+str(labels_s[i]))\n",
    "#     for k in range(4):\n",
    "#         plt.title(\"Cluster: \"+str(label))\n",
    "#         fig.add_subplot(size, size,i)\n",
    "#         plt.imshow(ob)\n",
    "#         i+=1\n",
    "plt.savefig('Pong_clusters.png')"
   ]
  },
  {
   "cell_type": "code",
   "execution_count": 592,
   "metadata": {},
   "outputs": [],
   "source": [
    "#%tensorboard --logdir summaries/summary-20220502-150216"
   ]
  },
  {
   "cell_type": "markdown",
   "metadata": {},
   "source": [
    "# stability of methods"
   ]
  },
  {
   "cell_type": "markdown",
   "metadata": {},
   "source": [
    "# Clustering"
   ]
  },
  {
   "cell_type": "markdown",
   "metadata": {},
   "source": [
    "# test PCA"
   ]
  },
  {
   "cell_type": "code",
   "execution_count": 92,
   "metadata": {},
   "outputs": [],
   "source": [
    "state_list=np.load(\"Pong_Example_Run.npy\")"
   ]
  },
  {
   "cell_type": "code",
   "execution_count": 594,
   "metadata": {},
   "outputs": [],
   "source": [
    "Graphs=[]\n",
    "Label_imgs=[]\n",
    "emb=[]\n",
    "for state in state_list:\n",
    "    label_img,regions,labels,graph,emmbedding=custom.preprocess_state(state)\n",
    "    Graphs.append(graph)\n",
    "    Label_imgs.append(label_img)\n",
    "    emb.append(emmbedding)"
   ]
  },
  {
   "cell_type": "code",
   "execution_count": 595,
   "metadata": {},
   "outputs": [
    {
     "data": {
      "text/plain": [
       "0.9966134823377953"
      ]
     },
     "execution_count": 595,
     "metadata": {},
     "output_type": "execute_result"
    }
   ],
   "source": [
    "custom.pca_obj.explained_variance_ratio_.sum()"
   ]
  },
  {
   "cell_type": "code",
   "execution_count": 596,
   "metadata": {},
   "outputs": [
    {
     "data": {
      "text/plain": [
       "0.8799287963981016"
      ]
     },
     "execution_count": 596,
     "metadata": {},
     "output_type": "execute_result"
    }
   ],
   "source": [
    "custom.pca_obj.explained_variance_ratio_[0:2].sum()"
   ]
  },
  {
   "cell_type": "markdown",
   "metadata": {},
   "source": [
    "# test Birch"
   ]
  },
  {
   "cell_type": "code",
   "execution_count": 597,
   "metadata": {},
   "outputs": [
    {
     "data": {
      "text/plain": [
       "1"
      ]
     },
     "execution_count": 597,
     "metadata": {},
     "output_type": "execute_result"
    }
   ],
   "source": [
    "len(custom.birch_stab_acc)"
   ]
  },
  {
   "cell_type": "code",
   "execution_count": 598,
   "metadata": {},
   "outputs": [
    {
     "data": {
      "image/png": "[encoded data removed]",
      "text/plain": [
       "<Figure size 720x1152 with 1 Axes>"
      ]
     },
     "metadata": {
      "needs_background": "light"
     },
     "output_type": "display_data"
    }
   ],
   "source": [
    "fig = plt.figure(figsize=(10,16))\n",
    "sns.lineplot(x=np.arange(len(custom.birch_stab_acc)),y=custom.birch_stab_acc)\n",
    "plt.xlabel(\"Batches\")\n",
    "plt.ylabel(\"Balanced accuracy\")\n",
    "plt.savefig('Pong_birch_stab.png')"
   ]
  },
  {
   "cell_type": "code",
   "execution_count": 599,
   "metadata": {},
   "outputs": [
    {
     "data": {
      "image/png": "[encoded data removed]",
      "text/plain": [
       "<Figure size 720x1152 with 1 Axes>"
      ]
     },
     "metadata": {
      "needs_background": "light"
     },
     "output_type": "display_data"
    }
   ],
   "source": [
    "fig = plt.figure(figsize=(10,16))\n",
    "sns.lineplot(x=np.arange(len(custom.pca_stab_err)),y=custom.pca_stab_err)\n",
    "plt.xlabel(\"Batches\")\n",
    "plt.ylabel(\"Mean absolute error\")\n",
    "plt.savefig('Pong_pca_stab.png')"
   ]
  },
  {
   "cell_type": "code",
   "execution_count": 600,
   "metadata": {},
   "outputs": [],
   "source": [
    "object_list=[]\n",
    "for state in state_list:\n",
    "    label_image, objects, regions=find_cut_objects(state[16:98,8:72],custom.max_obj_height,custom.max_obj_width)\n",
    "    X=objects.reshape(objects.shape[0],-1)\n",
    "    object_list.append(X.copy())"
   ]
  },
  {
   "cell_type": "code",
   "execution_count": 601,
   "metadata": {},
   "outputs": [
    {
     "data": {
      "text/plain": [
       "1188"
      ]
     },
     "execution_count": 601,
     "metadata": {},
     "output_type": "execute_result"
    }
   ],
   "source": [
    "len(object_list)"
   ]
  },
  {
   "cell_type": "code",
   "execution_count": 602,
   "metadata": {},
   "outputs": [],
   "source": [
    "obj=object_list"
   ]
  },
  {
   "cell_type": "code",
   "execution_count": 603,
   "metadata": {},
   "outputs": [],
   "source": [
    "obj=np.concatenate(obj)"
   ]
  },
  {
   "cell_type": "code",
   "execution_count": 604,
   "metadata": {},
   "outputs": [
    {
     "data": {
      "text/plain": [
       "(13045, 80)"
      ]
     },
     "execution_count": 604,
     "metadata": {},
     "output_type": "execute_result"
    }
   ],
   "source": [
    "obj.shape"
   ]
  },
  {
   "cell_type": "code",
   "execution_count": 605,
   "metadata": {},
   "outputs": [],
   "source": [
    "obj=custom.pca_obj.transform(obj)"
   ]
  },
  {
   "cell_type": "code",
   "execution_count": 606,
   "metadata": {},
   "outputs": [],
   "source": [
    "lab=custom.image_seg.predict(obj)"
   ]
  },
  {
   "cell_type": "code",
   "execution_count": 607,
   "metadata": {},
   "outputs": [
    {
     "data": {
      "text/plain": [
       "0.8907115687024169"
      ]
     },
     "execution_count": 607,
     "metadata": {},
     "output_type": "execute_result"
    }
   ],
   "source": [
    "metrics.silhouette_score(obj, lab, metric='euclidean')"
   ]
  },
  {
   "cell_type": "code",
   "execution_count": 608,
   "metadata": {},
   "outputs": [
    {
     "data": {
      "text/plain": [
       "0.5406128499768523"
      ]
     },
     "execution_count": 608,
     "metadata": {},
     "output_type": "execute_result"
    }
   ],
   "source": [
    "metrics.davies_bouldin_score(obj, lab)"
   ]
  },
  {
   "cell_type": "code",
   "execution_count": 609,
   "metadata": {},
   "outputs": [
    {
     "data": {
      "text/plain": [
       "0.173458857314439"
      ]
     },
     "execution_count": 609,
     "metadata": {},
     "output_type": "execute_result"
    }
   ],
   "source": [
    "d = euclidean_distances(obj[::10])\n",
    "\n",
    "dunn.dunn(lab[::10],d)"
   ]
  },
  {
   "cell_type": "code",
   "execution_count": 610,
   "metadata": {},
   "outputs": [
    {
     "data": {
      "text/plain": [
       "array([ 0,  2,  3,  4,  5,  6,  7,  8, 10, 12, 14])"
      ]
     },
     "execution_count": 610,
     "metadata": {},
     "output_type": "execute_result"
    }
   ],
   "source": [
    "np.unique(lab)"
   ]
  },
  {
   "cell_type": "code",
   "execution_count": null,
   "metadata": {},
   "outputs": [],
   "source": []
  },
  {
   "cell_type": "code",
   "execution_count": 611,
   "metadata": {},
   "outputs": [
    {
     "data": {
      "text/plain": [
       "<matplotlib.collections.PathCollection at 0x7f4516802130>"
      ]
     },
     "execution_count": 611,
     "metadata": {},
     "output_type": "execute_result"
    },
    {
     "data": {
      "image/png": "[encoded data removed]",
      "text/plain": [
       "<Figure size 432x288 with 1 Axes>"
      ]
     },
     "metadata": {
      "needs_background": "light"
     },
     "output_type": "display_data"
    }
   ],
   "source": [
    "plt.scatter(obj[:,0],obj[:,1])"
   ]
  },
  {
   "cell_type": "code",
   "execution_count": 612,
   "metadata": {},
   "outputs": [],
   "source": [
    "# X_embedded = TSNE(n_components=2, init='random').fit_transform(obj)\n",
    "\n",
    "# df = pd.DataFrame(np.concatenate((X_embedded[:,:2],lab.reshape(-1,1)),axis=-1), columns=[\"x\", \"y\",\"z\"])\n",
    "# df[\"z\"]=df[\"z\"].astype(\"int\").astype(\"str\")"
   ]
  },
  {
   "cell_type": "code",
   "execution_count": 613,
   "metadata": {},
   "outputs": [],
   "source": [
    "df = pd.DataFrame(np.concatenate((obj[:,:2],lab.reshape(-1,1)),axis=-1), columns=[\"x\", \"y\",\"z\"])\n",
    "df[\"z\"]=df[\"z\"].astype(\"int\").astype(\"str\")"
   ]
  },
  {
   "cell_type": "code",
   "execution_count": 614,
   "metadata": {},
   "outputs": [],
   "source": [
    "df[\"z\"]=df[\"z\"].astype(\"int\")"
   ]
  },
  {
   "cell_type": "code",
   "execution_count": 615,
   "metadata": {},
   "outputs": [],
   "source": [
    "df=df.sort_values([\"z\"])"
   ]
  },
  {
   "cell_type": "code",
   "execution_count": 616,
   "metadata": {},
   "outputs": [],
   "source": [
    "df[\"Class\"]=df[\"z\"].astype(\"str\")"
   ]
  },
  {
   "cell_type": "code",
   "execution_count": 617,
   "metadata": {},
   "outputs": [],
   "source": [
    "sns.set_palette(\"Paired\")"
   ]
  },
  {
   "cell_type": "code",
   "execution_count": 618,
   "metadata": {},
   "outputs": [
    {
     "data": {
      "image/png": "[encoded data removed]",
      "text/plain": [
       "<Figure size 720x1152 with 1 Axes>"
      ]
     },
     "metadata": {
      "needs_background": "light"
     },
     "output_type": "display_data"
    }
   ],
   "source": [
    "fig = plt.figure(figsize=(10,16))\n",
    "sns.histplot(data=df,x=\"Class\",hue=\"Class\").set_yscale(\"log\")\n",
    "plt.savefig('Pong_hist.png')"
   ]
  },
  {
   "cell_type": "code",
   "execution_count": 619,
   "metadata": {},
   "outputs": [],
   "source": [
    "df3=df"
   ]
  },
  {
   "cell_type": "code",
   "execution_count": 620,
   "metadata": {},
   "outputs": [],
   "source": [
    "df4=df3.groupby([\"x\",\"y\",\"Class\"]).count()"
   ]
  },
  {
   "cell_type": "code",
   "execution_count": 621,
   "metadata": {},
   "outputs": [],
   "source": [
    "df5=df4.groupby([\"Class\"]).apply(lambda x: 100 * x / float(x.sum())).reset_index()"
   ]
  },
  {
   "cell_type": "code",
   "execution_count": 622,
   "metadata": {},
   "outputs": [],
   "source": [
    "df5[\"size\"]=df5[\"z\"]"
   ]
  },
  {
   "cell_type": "code",
   "execution_count": 623,
   "metadata": {},
   "outputs": [],
   "source": [
    "df5[\"Class\"]=df5[\"Class\"].astype(\"int\")"
   ]
  },
  {
   "cell_type": "code",
   "execution_count": 624,
   "metadata": {},
   "outputs": [],
   "source": [
    "df5=df5.sort_values([\"Class\"])"
   ]
  },
  {
   "cell_type": "code",
   "execution_count": 625,
   "metadata": {},
   "outputs": [],
   "source": [
    "df5[\"Class\"]=df5[\"Class\"].astype(\"str\")"
   ]
  },
  {
   "cell_type": "code",
   "execution_count": 626,
   "metadata": {},
   "outputs": [],
   "source": [
    "df6=df5.loc[df5[\"size\"]>2]"
   ]
  },
  {
   "cell_type": "code",
   "execution_count": 627,
   "metadata": {},
   "outputs": [
    {
     "data": {
      "image/png": "[encoded data removed]",
      "text/plain": [
       "<Figure size 720x1152 with 1 Axes>"
      ]
     },
     "metadata": {
      "needs_background": "light"
     },
     "output_type": "display_data"
    }
   ],
   "source": [
    "fig = plt.figure(figsize=(10,16))\n",
    "sns.scatterplot(data=df6,x=\"x\",y=\"y\",hue=\"Class\",style=\"Class\",size=\"size\")\n",
    "plt.savefig('Pong_scatter_size.png')"
   ]
  },
  {
   "cell_type": "code",
   "execution_count": 628,
   "metadata": {},
   "outputs": [
    {
     "data": {
      "image/png": "[encoded data removed]",
      "text/plain": [
       "<Figure size 720x1152 with 1 Axes>"
      ]
     },
     "metadata": {
      "needs_background": "light"
     },
     "output_type": "display_data"
    }
   ],
   "source": [
    "fig = plt.figure(figsize=(10,16))\n",
    "sns.scatterplot(data=df,x=\"x\",y=\"y\",hue=\"Class\",style=\"Class\",s=100)\n",
    "plt.savefig('Pong_scatter.png')"
   ]
  },
  {
   "cell_type": "markdown",
   "metadata": {},
   "source": [
    "# test semantic model"
   ]
  },
  {
   "cell_type": "code",
   "execution_count": 629,
   "metadata": {},
   "outputs": [
    {
     "data": {
      "text/plain": [
       "20000"
      ]
     },
     "execution_count": 629,
     "metadata": {},
     "output_type": "execute_result"
    }
   ],
   "source": [
    "custom.semantic_model.corpus_count"
   ]
  },
  {
   "cell_type": "code",
   "execution_count": 630,
   "metadata": {},
   "outputs": [
    {
     "data": {
      "text/plain": [
       "20000"
      ]
     },
     "execution_count": 630,
     "metadata": {},
     "output_type": "execute_result"
    }
   ],
   "source": [
    "len(custom.graph_list)"
   ]
  },
  {
   "cell_type": "code",
   "execution_count": 631,
   "metadata": {},
   "outputs": [],
   "source": [
    "train_corpus=custom.document_list\n",
    "model=custom.semantic_model"
   ]
  },
  {
   "cell_type": "code",
   "execution_count": 632,
   "metadata": {},
   "outputs": [
    {
     "name": "stdout",
     "output_type": "stream",
     "text": [
      "CPU times: user 11min 25s, sys: 23min 59s, total: 35min 24s\n",
      "Wall time: 4min 55s\n"
     ]
    }
   ],
   "source": [
    "%%time\n",
    "ranks = []\n",
    "for doc_id in range(len(train_corpus)):\n",
    "    inferred_vector = model.infer_vector(train_corpus[doc_id].words)\n",
    "    sims = model.dv.most_similar([inferred_vector], topn=1)\n",
    "    ranks.append(sims[0][0])"
   ]
  },
  {
   "cell_type": "code",
   "execution_count": 633,
   "metadata": {},
   "outputs": [],
   "source": [
    "similiar=np.array([x==ranks[x] for x in range(len(ranks))])"
   ]
  },
  {
   "cell_type": "code",
   "execution_count": 634,
   "metadata": {},
   "outputs": [
    {
     "data": {
      "text/plain": [
       "0.8704"
      ]
     },
     "execution_count": 634,
     "metadata": {},
     "output_type": "execute_result"
    }
   ],
   "source": [
    "similiar.mean()"
   ]
  },
  {
   "cell_type": "code",
   "execution_count": 635,
   "metadata": {},
   "outputs": [],
   "source": [
    "wrong=np.argwhere(similiar==False)"
   ]
  },
  {
   "cell_type": "code",
   "execution_count": 636,
   "metadata": {},
   "outputs": [],
   "source": [
    "g_diff=np.array([graph_diff(custom.graph_list[ranks[w[0]]],custom.graph_list[w[0]]) for w in wrong])"
   ]
  },
  {
   "cell_type": "code",
   "execution_count": 637,
   "metadata": {},
   "outputs": [
    {
     "data": {
      "text/plain": [
       "201.0"
      ]
     },
     "execution_count": 637,
     "metadata": {},
     "output_type": "execute_result"
    }
   ],
   "source": [
    "np.max(g_diff)"
   ]
  },
  {
   "cell_type": "code",
   "execution_count": 638,
   "metadata": {},
   "outputs": [
    {
     "data": {
      "text/plain": [
       "0.873070987654321"
      ]
     },
     "execution_count": 638,
     "metadata": {},
     "output_type": "execute_result"
    }
   ],
   "source": [
    "(g_diff==0).mean()"
   ]
  },
  {
   "cell_type": "code",
   "execution_count": 639,
   "metadata": {},
   "outputs": [
    {
     "data": {
      "text/plain": [
       "0.98355"
      ]
     },
     "execution_count": 639,
     "metadata": {},
     "output_type": "execute_result"
    }
   ],
   "source": [
    "similiar.mean()+(1-similiar.mean())*(g_diff==0).mean()"
   ]
  },
  {
   "cell_type": "code",
   "execution_count": 640,
   "metadata": {},
   "outputs": [
    {
     "data": {
      "text/plain": [
       "0.987"
      ]
     },
     "execution_count": 640,
     "metadata": {},
     "output_type": "execute_result"
    }
   ],
   "source": [
    "similiar.mean()+(1-similiar.mean())*(g_diff<5).mean()"
   ]
  },
  {
   "cell_type": "code",
   "execution_count": 641,
   "metadata": {},
   "outputs": [],
   "source": [
    "worst=np.argmax(g_diff)"
   ]
  },
  {
   "cell_type": "code",
   "execution_count": 642,
   "metadata": {},
   "outputs": [
    {
     "data": {
      "text/plain": [
       "803"
      ]
     },
     "execution_count": 642,
     "metadata": {},
     "output_type": "execute_result"
    }
   ],
   "source": [
    "worst"
   ]
  },
  {
   "cell_type": "code",
   "execution_count": 643,
   "metadata": {},
   "outputs": [
    {
     "data": {
      "image/png": "[encoded data removed]",
      "text/plain": [
       "<Figure size 720x1152 with 1 Axes>"
      ]
     },
     "metadata": {
      "needs_background": "light"
     },
     "output_type": "display_data"
    }
   ],
   "source": [
    "fig = plt.figure(figsize=(10,16))\n",
    "sns.histplot(g_diff[g_diff<10000])\n",
    "plt.xlabel(\"Graph Distance\")\n",
    "plt.savefig('Pong_semantic_train_hist_tragedy.png')"
   ]
  },
  {
   "cell_type": "code",
   "execution_count": 644,
   "metadata": {},
   "outputs": [],
   "source": [
    "G1=custom.graph_list[ranks[wrong[worst][0]]]"
   ]
  },
  {
   "cell_type": "code",
   "execution_count": 645,
   "metadata": {},
   "outputs": [],
   "source": [
    "G2=custom.graph_list[wrong[worst][0]]"
   ]
  },
  {
   "cell_type": "code",
   "execution_count": 646,
   "metadata": {},
   "outputs": [
    {
     "data": {
      "image/png": "[encoded data removed]",
      "text/plain": [
       "<Figure size 432x288 with 1 Axes>"
      ]
     },
     "metadata": {},
     "output_type": "display_data"
    }
   ],
   "source": [
    "visualize_graph(G1)"
   ]
  },
  {
   "cell_type": "code",
   "execution_count": 647,
   "metadata": {},
   "outputs": [
    {
     "data": {
      "image/png": "[encoded data removed]",
      "text/plain": [
       "<Figure size 432x288 with 1 Axes>"
      ]
     },
     "metadata": {},
     "output_type": "display_data"
    }
   ],
   "source": [
    "visualize_graph(G2)"
   ]
  },
  {
   "cell_type": "code",
   "execution_count": 648,
   "metadata": {},
   "outputs": [
    {
     "data": {
      "text/plain": [
       "201.0"
      ]
     },
     "execution_count": 648,
     "metadata": {},
     "output_type": "execute_result"
    }
   ],
   "source": [
    "graph_diff(G1,G2)"
   ]
  },
  {
   "cell_type": "code",
   "execution_count": 649,
   "metadata": {},
   "outputs": [],
   "source": [
    "#test on movie"
   ]
  },
  {
   "cell_type": "code",
   "execution_count": 650,
   "metadata": {},
   "outputs": [
    {
     "data": {
      "text/plain": [
       "['2',\n",
       " 'pos_x5',\n",
       " 'pos_y12',\n",
       " 'apr_pos_x1',\n",
       " 'apr_pos_y2',\n",
       " '2pos_x5',\n",
       " '2pos_y12',\n",
       " '2apr_pos_x1',\n",
       " '2apr_pos_y2',\n",
       " '0',\n",
       " 'pos_x5',\n",
       " 'pos_y20',\n",
       " 'apr_pos_x1',\n",
       " 'apr_pos_y4',\n",
       " '0pos_x5',\n",
       " '0pos_y20',\n",
       " '0apr_pos_x1',\n",
       " '0apr_pos_y4',\n",
       " '1',\n",
       " 'pos_x5',\n",
       " 'pos_y60',\n",
       " 'apr_pos_x1',\n",
       " 'apr_pos_y12',\n",
       " '1pos_x5',\n",
       " '1pos_y60',\n",
       " '1apr_pos_x1',\n",
       " '1apr_pos_y12',\n",
       " '2',\n",
       " 'pos_x72',\n",
       " 'pos_y70',\n",
       " 'apr_pos_x14',\n",
       " 'apr_pos_y14',\n",
       " '2pos_x72',\n",
       " '2pos_y70',\n",
       " '2apr_pos_x14',\n",
       " '2apr_pos_y14',\n",
       " '4',\n",
       " 'pos_x14',\n",
       " 'pos_y3',\n",
       " 'apr_pos_x2',\n",
       " 'apr_pos_y0',\n",
       " '4pos_x14',\n",
       " '4pos_y3',\n",
       " '4apr_pos_x2',\n",
       " '4apr_pos_y0',\n",
       " '4',\n",
       " 'pos_x14',\n",
       " 'pos_y11',\n",
       " 'apr_pos_x2',\n",
       " 'apr_pos_y2',\n",
       " '4pos_x14',\n",
       " '4pos_y11',\n",
       " '4apr_pos_x2',\n",
       " '4apr_pos_y2',\n",
       " '4',\n",
       " 'pos_x14',\n",
       " 'pos_y19',\n",
       " 'apr_pos_x2',\n",
       " 'apr_pos_y3',\n",
       " '4pos_x14',\n",
       " '4pos_y19',\n",
       " '4apr_pos_x2',\n",
       " '4apr_pos_y3',\n",
       " '4',\n",
       " 'pos_x14',\n",
       " 'pos_y27',\n",
       " 'apr_pos_x2',\n",
       " 'apr_pos_y5',\n",
       " '4pos_x14',\n",
       " '4pos_y27',\n",
       " '4apr_pos_x2',\n",
       " '4apr_pos_y5',\n",
       " '4',\n",
       " 'pos_x14',\n",
       " 'pos_y35',\n",
       " 'apr_pos_x2',\n",
       " 'apr_pos_y7',\n",
       " '4pos_x14',\n",
       " '4pos_y35',\n",
       " '4apr_pos_x2',\n",
       " '4apr_pos_y7',\n",
       " '4',\n",
       " 'pos_x14',\n",
       " 'pos_y43',\n",
       " 'apr_pos_x2',\n",
       " 'apr_pos_y8',\n",
       " '4pos_x14',\n",
       " '4pos_y43',\n",
       " '4apr_pos_x2',\n",
       " '4apr_pos_y8',\n",
       " '4',\n",
       " 'pos_x14',\n",
       " 'pos_y51',\n",
       " 'apr_pos_x2',\n",
       " 'apr_pos_y10',\n",
       " '4pos_x14',\n",
       " '4pos_y51',\n",
       " '4apr_pos_x2',\n",
       " '4apr_pos_y10',\n",
       " '4',\n",
       " 'pos_x14',\n",
       " 'pos_y59',\n",
       " 'apr_pos_x2',\n",
       " 'apr_pos_y11',\n",
       " '4pos_x14',\n",
       " '4pos_y59',\n",
       " '4apr_pos_x2',\n",
       " '4apr_pos_y11',\n",
       " '4',\n",
       " 'pos_x14',\n",
       " 'pos_y67',\n",
       " 'apr_pos_x2',\n",
       " 'apr_pos_y13',\n",
       " '4pos_x14',\n",
       " '4pos_y67',\n",
       " '4apr_pos_x2',\n",
       " '4apr_pos_y13',\n",
       " '4',\n",
       " 'pos_x14',\n",
       " 'pos_y75',\n",
       " 'apr_pos_x2',\n",
       " 'apr_pos_y15',\n",
       " '4pos_x14',\n",
       " '4pos_y75',\n",
       " '4apr_pos_x2',\n",
       " '4apr_pos_y15',\n",
       " '2',\n",
       " 'pos_x93',\n",
       " 'pos_y8',\n",
       " 'apr_pos_x18',\n",
       " 'apr_pos_y1',\n",
       " '2pos_x93',\n",
       " '2pos_y8',\n",
       " '2apr_pos_x18',\n",
       " '2apr_pos_y1',\n",
       " '6',\n",
       " 'pos_x100',\n",
       " 'pos_y3',\n",
       " 'apr_pos_x20',\n",
       " 'apr_pos_y0',\n",
       " '6pos_x100',\n",
       " '6pos_y3',\n",
       " '6apr_pos_x20',\n",
       " '6apr_pos_y0',\n",
       " '6',\n",
       " 'pos_x100',\n",
       " 'pos_y11',\n",
       " 'apr_pos_x20',\n",
       " 'apr_pos_y2',\n",
       " '6pos_x100',\n",
       " '6pos_y11',\n",
       " '6apr_pos_x20',\n",
       " '6apr_pos_y2',\n",
       " '6',\n",
       " 'pos_x100',\n",
       " 'pos_y19',\n",
       " 'apr_pos_x20',\n",
       " 'apr_pos_y3',\n",
       " '6pos_x100',\n",
       " '6pos_y19',\n",
       " '6apr_pos_x20',\n",
       " '6apr_pos_y3',\n",
       " '6',\n",
       " 'pos_x100',\n",
       " 'pos_y27',\n",
       " 'apr_pos_x20',\n",
       " 'apr_pos_y5',\n",
       " '6pos_x100',\n",
       " '6pos_y27',\n",
       " '6apr_pos_x20',\n",
       " '6apr_pos_y5',\n",
       " '6',\n",
       " 'pos_x100',\n",
       " 'pos_y35',\n",
       " 'apr_pos_x20',\n",
       " 'apr_pos_y7',\n",
       " '6pos_x100',\n",
       " '6pos_y35',\n",
       " '6apr_pos_x20',\n",
       " '6apr_pos_y7',\n",
       " '6',\n",
       " 'pos_x100',\n",
       " 'pos_y43',\n",
       " 'apr_pos_x20',\n",
       " 'apr_pos_y8',\n",
       " '6pos_x100',\n",
       " '6pos_y43',\n",
       " '6apr_pos_x20',\n",
       " '6apr_pos_y8',\n",
       " '6',\n",
       " 'pos_x100',\n",
       " 'pos_y51',\n",
       " 'apr_pos_x20',\n",
       " 'apr_pos_y10',\n",
       " '6pos_x100',\n",
       " '6pos_y51',\n",
       " '6apr_pos_x20',\n",
       " '6apr_pos_y10',\n",
       " '6',\n",
       " 'pos_x100',\n",
       " 'pos_y59',\n",
       " 'apr_pos_x20',\n",
       " 'apr_pos_y11',\n",
       " '6pos_x100',\n",
       " '6pos_y59',\n",
       " '6apr_pos_x20',\n",
       " '6apr_pos_y11',\n",
       " '6',\n",
       " 'pos_x100',\n",
       " 'pos_y67',\n",
       " 'apr_pos_x20',\n",
       " 'apr_pos_y13',\n",
       " '6pos_x100',\n",
       " '6pos_y67',\n",
       " '6apr_pos_x20',\n",
       " '6apr_pos_y13',\n",
       " '6',\n",
       " 'pos_x100',\n",
       " 'pos_y75',\n",
       " 'apr_pos_x20',\n",
       " 'apr_pos_y15',\n",
       " '6pos_x100',\n",
       " '6pos_y75',\n",
       " '6apr_pos_x20',\n",
       " '6apr_pos_y15']"
      ]
     },
     "execution_count": 650,
     "metadata": {},
     "output_type": "execute_result"
    }
   ],
   "source": [
    "custom.document_list[100].words"
   ]
  },
  {
   "cell_type": "code",
   "execution_count": 651,
   "metadata": {},
   "outputs": [],
   "source": [
    "ranks2=[]"
   ]
  },
  {
   "cell_type": "code",
   "execution_count": 652,
   "metadata": {},
   "outputs": [],
   "source": [
    "for x in emb:\n",
    "    sims = model.dv.most_similar([x], topn=1)\n",
    "    ranks2.append(sims[0][0])"
   ]
  },
  {
   "cell_type": "code",
   "execution_count": 653,
   "metadata": {},
   "outputs": [],
   "source": [
    "valid_diff=np.array([graph_diff(Graphs[i],custom.graph_list[ranks2[i]]) for i in range(len(ranks2))])"
   ]
  },
  {
   "cell_type": "code",
   "execution_count": null,
   "metadata": {},
   "outputs": [],
   "source": []
  },
  {
   "cell_type": "code",
   "execution_count": 654,
   "metadata": {},
   "outputs": [
    {
     "data": {
      "text/plain": [
       "0.3846801346801347"
      ]
     },
     "execution_count": 654,
     "metadata": {},
     "output_type": "execute_result"
    }
   ],
   "source": [
    "np.mean(valid_diff<10)"
   ]
  },
  {
   "cell_type": "code",
   "execution_count": 655,
   "metadata": {},
   "outputs": [
    {
     "data": {
      "image/png": "[encoded data removed]",
      "text/plain": [
       "<Figure size 720x1152 with 1 Axes>"
      ]
     },
     "metadata": {
      "needs_background": "light"
     },
     "output_type": "display_data"
    }
   ],
   "source": [
    "fig = plt.figure(figsize=(10,16))\n",
    "sns.histplot(valid_diff,cumulative=True,stat=\"percent\")\n",
    "plt.xlabel(\"Graph Distance\")\n",
    "plt.savefig('Pong_semantic_val_cum_hist.png')"
   ]
  },
  {
   "cell_type": "code",
   "execution_count": 656,
   "metadata": {},
   "outputs": [
    {
     "data": {
      "image/png": "[encoded data removed]",
      "text/plain": [
       "<Figure size 720x1152 with 1 Axes>"
      ]
     },
     "metadata": {
      "needs_background": "light"
     },
     "output_type": "display_data"
    }
   ],
   "source": [
    "fig = plt.figure(figsize=(10,16))\n",
    "sns.histplot(valid_diff)\n",
    "plt.xlabel(\"Graph Distance\")\n",
    "plt.savefig('Pong_semantic_val_hist.png')"
   ]
  },
  {
   "cell_type": "code",
   "execution_count": 657,
   "metadata": {},
   "outputs": [],
   "source": [
    "worst=np.argmax(valid_diff)"
   ]
  },
  {
   "cell_type": "code",
   "execution_count": 658,
   "metadata": {},
   "outputs": [
    {
     "ename": "NameError",
     "evalue": "name 'obj2' is not defined",
     "output_type": "error",
     "traceback": [
      "\u001b[0;31m---------------------------------------------------------------------------\u001b[0m",
      "\u001b[0;31mNameError\u001b[0m                                 Traceback (most recent call last)",
      "Input \u001b[0;32mIn [658]\u001b[0m, in \u001b[0;36m<cell line: 1>\u001b[0;34m()\u001b[0m\n\u001b[0;32m----> 1\u001b[0m show_image(\u001b[43mobj2\u001b[49m[worst])\n",
      "\u001b[0;31mNameError\u001b[0m: name 'obj2' is not defined"
     ]
    }
   ],
   "source": [
    "show_image(obj2[worst])"
   ]
  },
  {
   "cell_type": "code",
   "execution_count": null,
   "metadata": {},
   "outputs": [],
   "source": [
    "temp=np.array(Label_imgs)"
   ]
  },
  {
   "cell_type": "code",
   "execution_count": null,
   "metadata": {},
   "outputs": [],
   "source": [
    "np.argmax(temp[:,100,0])"
   ]
  },
  {
   "cell_type": "code",
   "execution_count": 531,
   "metadata": {},
   "outputs": [
    {
     "data": {
      "image/png": "[encoded data removed]",
      "text/plain": [
       "<Figure size 720x432 with 1 Axes>"
      ]
     },
     "metadata": {
      "needs_background": "light"
     },
     "output_type": "display_data"
    }
   ],
   "source": [
    "show_image(Label_imgs[133])"
   ]
  },
  {
   "cell_type": "code",
   "execution_count": 532,
   "metadata": {},
   "outputs": [
    {
     "ename": "NameError",
     "evalue": "name 'obj2' is not defined",
     "output_type": "error",
     "traceback": [
      "\u001b[0;31m---------------------------------------------------------------------------\u001b[0m",
      "\u001b[0;31mNameError\u001b[0m                                 Traceback (most recent call last)",
      "Input \u001b[0;32mIn [532]\u001b[0m, in \u001b[0;36m<cell line: 1>\u001b[0;34m()\u001b[0m\n\u001b[0;32m----> 1\u001b[0m visualize_objects(find_cut_objects(\u001b[43mobj2\u001b[49m[\u001b[38;5;241m133\u001b[39m],\u001b[38;5;241m20\u001b[39m,\u001b[38;5;241m16\u001b[39m)[\u001b[38;5;241m0\u001b[39m],obj2[\u001b[38;5;241m133\u001b[39m])\n",
      "\u001b[0;31mNameError\u001b[0m: name 'obj2' is not defined"
     ]
    }
   ],
   "source": [
    "visualize_objects(find_cut_objects(obj2[133],20,16)[0],obj2[133])"
   ]
  },
  {
   "cell_type": "code",
   "execution_count": 533,
   "metadata": {},
   "outputs": [
    {
     "data": {
      "text/plain": [
       "(82, 64)"
      ]
     },
     "execution_count": 533,
     "metadata": {},
     "output_type": "execute_result"
    }
   ],
   "source": [
    "Label_imgs[0].shape"
   ]
  },
  {
   "cell_type": "code",
   "execution_count": 534,
   "metadata": {},
   "outputs": [
    {
     "data": {
      "image/png": "[encoded data removed]",
      "text/plain": [
       "<Figure size 432x288 with 1 Axes>"
      ]
     },
     "metadata": {},
     "output_type": "display_data"
    }
   ],
   "source": [
    "visualize_graph(Graphs[120])"
   ]
  },
  {
   "cell_type": "code",
   "execution_count": 535,
   "metadata": {},
   "outputs": [
    {
     "data": {
      "image/png": "[encoded data removed]",
      "text/plain": [
       "<Figure size 432x288 with 1 Axes>"
      ]
     },
     "metadata": {},
     "output_type": "display_data"
    }
   ],
   "source": [
    "visualize_graph(custom.graph_list[ranks2[worst]])"
   ]
  },
  {
   "cell_type": "code",
   "execution_count": 536,
   "metadata": {},
   "outputs": [],
   "source": [
    "best=np.argmin(valid_diff)"
   ]
  },
  {
   "cell_type": "code",
   "execution_count": 537,
   "metadata": {},
   "outputs": [
    {
     "data": {
      "image/png": "[encoded data removed]",
      "text/plain": [
       "<Figure size 432x288 with 1 Axes>"
      ]
     },
     "metadata": {},
     "output_type": "display_data"
    }
   ],
   "source": [
    "#fig = plt.figure(figsize=(10,16))\n",
    "visualize_graph(Graphs[120])"
   ]
  },
  {
   "cell_type": "code",
   "execution_count": 538,
   "metadata": {},
   "outputs": [
    {
     "data": {
      "image/png": "[encoded data removed]",
      "text/plain": [
       "<Figure size 432x288 with 1 Axes>"
      ]
     },
     "metadata": {},
     "output_type": "display_data"
    }
   ],
   "source": [
    "visualize_graph(custom.graph_list[ranks2[best]])"
   ]
  },
  {
   "cell_type": "markdown",
   "metadata": {},
   "source": [
    "# Get best"
   ]
  },
  {
   "cell_type": "code",
   "execution_count": 539,
   "metadata": {},
   "outputs": [],
   "source": [
    "def node_dist(n1,n2,obj_class_diff=100):\n",
    "    return (n1[0]!=n2[0])*obj_class_diff+np.sqrt((n1[1]-n2[1])**2+(n1[2]-n2[2])**2)\n",
    "\n",
    "def graph_metric(dist,obj_n_diff=100):\n",
    "    return np.sum(np.min(dist,axis=1))+abs(dist.shape[0]-dist.shape[1])*obj_n_diff\n",
    "\n",
    "def graph_diff2(G1,G2,obj_class_diff=100,obj_n_diff=100):\n",
    "    l1=[(G1.nodes[x][\"feature\"],G1.nodes[x][\"position_x\"],G1.nodes[x][\"position_y\"]) for x in G1.nodes]\n",
    "    l2=[(G2.nodes[x][\"feature\"],G2.nodes[x][\"position_x\"],G2.nodes[x][\"position_y\"]) for x in G2.nodes]\n",
    "    \n",
    "    if len(l1)==0 or len(l2)==0:\n",
    "        return abs(len(l1)-len(l2))*obj_n_diff\n",
    "    \n",
    "    if len(l1)>len(l2):\n",
    "        l1,l2 = l2,l1\n",
    "    \n",
    "    dist=np.zeros((len(l1),len(l2)))\n",
    "    for x in range(len(l1)):\n",
    "        for y in range(len(l2)):\n",
    "            dist[x,y]=node_dist(l1[x],l2[y],obj_class_diff=obj_class_diff)\n",
    "            if dist[x,y]==0:\n",
    "                break\n",
    "        \n",
    "    return graph_metric(dist,obj_n_diff=obj_n_diff)"
   ]
  },
  {
   "cell_type": "code",
   "execution_count": 540,
   "metadata": {},
   "outputs": [],
   "source": [
    "def graph_diff2(l1,l2,obj_class_diff=100,obj_n_diff=100):\n",
    "\n",
    "    if len(l1)==0 or len(l2)==0:\n",
    "        return abs(len(l1)-len(l2))*obj_n_diff\n",
    "    \n",
    "    if len(l1)>len(l2):\n",
    "        l1,l2 = l2,l1\n",
    "    \n",
    "    dist=np.zeros((len(l1),len(l2)))\n",
    "    for x in range(len(l1)):\n",
    "        for y in range(len(l2)):\n",
    "            dist[x,y]=node_dist(l1[x],l2[y],obj_class_diff=obj_class_diff)\n",
    "            if dist[x,y]==0:\n",
    "                break\n",
    "        \n",
    "    return np.sum(np.min(dist,axis=1))+abs(dist.shape[0]-dist.shape[1])*obj_n_diff"
   ]
  },
  {
   "cell_type": "code",
   "execution_count": 541,
   "metadata": {},
   "outputs": [],
   "source": [
    "def graph_diff_list(G1_list,G2_list,obj_class_diff=100,obj_n_diff=100):\n",
    "    L1=[[(G1.nodes[x][\"feature\"],G1.nodes[x][\"position_x\"],G1.nodes[x][\"position_y\"]) for x in G1.nodes] for G1 in G1_list]\n",
    "    L2=[[(G2.nodes[x][\"feature\"],G2.nodes[x][\"position_x\"],G2.nodes[x][\"position_y\"]) for x in G2.nodes] for G2 in G2_list]\n",
    "    \n",
    "\n",
    "    dist=np.zeros((len(L1),len(L2)))\n",
    "    for x in range(len(L1)):\n",
    "        for y in range(len(L2)):\n",
    "            dist[x,y]=graph_diff3(L1[x],L2[y])\n",
    "            if dist[x,y]==0:\n",
    "                break\n",
    "        \n",
    "    return dist"
   ]
  },
  {
   "cell_type": "code",
   "execution_count": 542,
   "metadata": {},
   "outputs": [],
   "source": [
    "def graph_diff3(l1,l2,obj_class_diff=100,obj_n_diff=100):\n",
    "\n",
    "    if len(l1)==0 or len(l2)==0:\n",
    "        return abs(len(l1)-len(l2))*obj_n_diff\n",
    "    \n",
    "    if len(l1)>len(l2):\n",
    "        l1,l2 = l2,l1\n",
    "    \n",
    "    l1=np.array([[l[1],l[2]] for l in l1])\n",
    "    l2=np.array([[l[1],l[2]] for l in l2])\n",
    "    \n",
    "    lab1=np.array([[int(l[0])] for l in l1])\n",
    "    lab2=np.array([[int(l[0])] for l in l2])\n",
    "    \n",
    "    dist=euclidean_distances(l1,l2)+obj_class_diff*(euclidean_distances(lab1,lab2)>0)\n",
    "    \n",
    "        \n",
    "    return np.sum(np.min(dist,axis=1))+abs(dist.shape[0]-dist.shape[1])*obj_n_diff"
   ]
  },
  {
   "cell_type": "code",
   "execution_count": 659,
   "metadata": {},
   "outputs": [
    {
     "name": "stdout",
     "output_type": "stream",
     "text": [
      "CPU times: user 2.85 ms, sys: 0 ns, total: 2.85 ms\n",
      "Wall time: 2.76 ms\n"
     ]
    },
    {
     "data": {
      "text/plain": [
       "400.0"
      ]
     },
     "execution_count": 659,
     "metadata": {},
     "output_type": "execute_result"
    }
   ],
   "source": [
    "%time graph_diff(Graphs[10],custom.graph_list[12])"
   ]
  },
  {
   "cell_type": "code",
   "execution_count": 544,
   "metadata": {},
   "outputs": [
    {
     "name": "stdout",
     "output_type": "stream",
     "text": [
      "CPU times: user 46.8 s, sys: 740 ms, total: 47.5 s\n",
      "Wall time: 46.2 s\n"
     ]
    }
   ],
   "source": [
    "%time G_test=graph_diff_list(Graphs[0:100],custom.graph_list[0:1000])"
   ]
  },
  {
   "cell_type": "code",
   "execution_count": 593,
   "metadata": {},
   "outputs": [
    {
     "name": "stdout",
     "output_type": "stream",
     "text": [
      "CPU times: user 1h 17min 4s, sys: 0 ns, total: 1h 17min 4s\n",
      "Wall time: 1h 17min 4s\n"
     ]
    }
   ],
   "source": [
    "%time G_test=graph_diff_list(Graphs,custom.graph_list)"
   ]
  },
  {
   "cell_type": "code",
   "execution_count": 545,
   "metadata": {},
   "outputs": [],
   "source": [
    "G_test2=np.min(G_test,axis=1)"
   ]
  },
  {
   "cell_type": "code",
   "execution_count": 546,
   "metadata": {},
   "outputs": [
    {
     "data": {
      "text/plain": [
       "0.86"
      ]
     },
     "execution_count": 546,
     "metadata": {},
     "output_type": "execute_result"
    }
   ],
   "source": [
    "np.mean(G_test2<200)"
   ]
  },
  {
   "cell_type": "code",
   "execution_count": 547,
   "metadata": {},
   "outputs": [
    {
     "data": {
      "text/plain": [
       "Text(0.5, 0, 'Graph Distance')"
      ]
     },
     "execution_count": 547,
     "metadata": {},
     "output_type": "execute_result"
    },
    {
     "data": {
      "image/png": "[encoded data removed]",
      "text/plain": [
       "<Figure size 720x1152 with 1 Axes>"
      ]
     },
     "metadata": {
      "needs_background": "light"
     },
     "output_type": "display_data"
    }
   ],
   "source": [
    "fig = plt.figure(figsize=(10,16))\n",
    "sns.histplot(G_test2)\n",
    "plt.xlabel(\"Graph Distance\")"
   ]
  },
  {
   "cell_type": "code",
   "execution_count": 548,
   "metadata": {},
   "outputs": [],
   "source": [
    "df_2=pd.DataFrame({\"Distance\":np.concatenate([valid_diff,G_test2]),\"Embedding\":np.concatenate([np.ones(len(valid_diff)),np.zeros(len(G_test2))])})"
   ]
  },
  {
   "cell_type": "code",
   "execution_count": 549,
   "metadata": {},
   "outputs": [
    {
     "data": {
      "text/plain": [
       "1.1539816772374911"
      ]
     },
     "execution_count": 549,
     "metadata": {},
     "output_type": "execute_result"
    }
   ],
   "source": [
    "np.mean(valid_diff<200)/np.mean(G_test2<200)"
   ]
  },
  {
   "cell_type": "code",
   "execution_count": 559,
   "metadata": {},
   "outputs": [
    {
     "data": {
      "text/plain": [
       "array([  0.        ,   1.        ,   2.        ,   2.23606798,\n",
       "         2.41421356,   3.        ,   3.23606798,   4.        ,\n",
       "         4.41421356,   5.        ,   5.09901951,   5.16227766,\n",
       "         6.        ,   6.16227766,   6.70820393,   7.        ,\n",
       "         7.24264069,   8.        ,   8.23606798,   8.94427191,\n",
       "         9.        ,   9.60555128,  10.        ,  11.        ,\n",
       "        12.        ,  12.64911064,  13.        ,  14.        ,\n",
       "        15.        ,  16.        ,  17.        ,  18.        ,\n",
       "        18.11077028,  19.        ,  19.03329638,  20.        ,\n",
       "        20.39607805,  21.        ,  22.        ,  23.        ,\n",
       "        25.        ,  25.55386468,  26.        ,  27.        ,\n",
       "        28.        ,  29.        ,  33.        ,  34.        ,\n",
       "        35.        ,  36.        ,  39.05124838,  40.        ,\n",
       "        41.        ,  41.24621125,  44.        ,  47.        ,\n",
       "        48.        ,  49.16227766,  50.        ,  52.23983155,\n",
       "        53.19482701,  53.28427125,  54.        ,  55.        ,\n",
       "        58.        ,  61.        ,  62.        ,  65.        ,\n",
       "        67.        ,  68.        ,  73.        ,  74.        ,\n",
       "        75.        ,  76.        ,  78.        ,  80.        ,\n",
       "        82.        ,  83.        ,  84.        ,  86.        ,\n",
       "        87.        ,  88.        ,  89.        ,  92.        ,\n",
       "        94.        ,  96.        ,  98.        , 100.        ,\n",
       "       101.        , 102.        , 103.        , 104.        ,\n",
       "       105.        , 108.        , 110.        , 110.23606798,\n",
       "       111.        , 114.        , 116.54400375, 119.        ,\n",
       "       120.        , 122.        , 129.        , 130.        ,\n",
       "       131.06225775, 131.18033989, 133.        , 135.40312424,\n",
       "       136.        , 138.        , 143.07106781, 144.        ,\n",
       "       145.        , 145.60555128, 146.09502311, 146.38516481,\n",
       "       151.        , 158.        , 160.        , 160.18033989,\n",
       "       164.        , 188.        , 201.        , 202.23606798,\n",
       "       202.82842712])"
      ]
     },
     "execution_count": 559,
     "metadata": {},
     "output_type": "execute_result"
    }
   ],
   "source": [
    "np.unique(valid_diff)"
   ]
  },
  {
   "cell_type": "code",
   "execution_count": 550,
   "metadata": {},
   "outputs": [
    {
     "data": {
      "text/plain": [
       "array([  0.,   0.,   0., ..., 101., 101., 105.])"
      ]
     },
     "execution_count": 550,
     "metadata": {},
     "output_type": "execute_result"
    }
   ],
   "source": [
    "np.concatenate([valid_diff,G_test2])"
   ]
  },
  {
   "cell_type": "code",
   "execution_count": 551,
   "metadata": {},
   "outputs": [
    {
     "data": {
      "text/plain": [
       "array([1., 1., 1., ..., 0., 0., 0.])"
      ]
     },
     "execution_count": 551,
     "metadata": {},
     "output_type": "execute_result"
    }
   ],
   "source": [
    "np.concatenate([np.ones(len(valid_diff)),np.zeros(len(G_test2))])"
   ]
  },
  {
   "cell_type": "code",
   "execution_count": 552,
   "metadata": {},
   "outputs": [
    {
     "data": {
      "image/png": "[encoded data removed]",
      "text/plain": [
       "<Figure size 720x1152 with 1 Axes>"
      ]
     },
     "metadata": {
      "needs_background": "light"
     },
     "output_type": "display_data"
    }
   ],
   "source": [
    "fig = plt.figure(figsize=(10,16))\n",
    "sns.histplot(data=df_2,x=\"Distance\",cumulative=True,stat=\"percent\",hue=\"Embedding\",common_norm=False)\n",
    "plt.xlabel(\"Graph Distance\")\n",
    "plt.savefig('Pong_semantic_val_cum_hist.png')"
   ]
  },
  {
   "cell_type": "markdown",
   "metadata": {},
   "source": [
    "# Tests"
   ]
  },
  {
   "cell_type": "code",
   "execution_count": 660,
   "metadata": {},
   "outputs": [],
   "source": [
    "def cosine_similarity(x, y):\n",
    "    \n",
    "    # Ensure length of x and y are the same\n",
    "    if len(x) != len(y) :\n",
    "        return None\n",
    "    \n",
    "    # Compute the dot product between x and y\n",
    "    dot_product = np.dot(x, y)\n",
    "    \n",
    "    # Compute the L2 norms (magnitudes) of x and y\n",
    "    magnitude_x = np.sqrt(np.sum(x**2)) \n",
    "    magnitude_y = np.sqrt(np.sum(y**2))\n",
    "    \n",
    "    # Compute the cosine similarity\n",
    "    cosine_similarity = dot_product / (magnitude_x * magnitude_y)\n",
    "    \n",
    "    return cosine_similarity"
   ]
  },
  {
   "cell_type": "code",
   "execution_count": 661,
   "metadata": {},
   "outputs": [],
   "source": [
    "X=np.array(emb)"
   ]
  },
  {
   "cell_type": "code",
   "execution_count": 662,
   "metadata": {},
   "outputs": [],
   "source": [
    "changes=(np.abs(X[1:]-X[0:-1])).mean(axis=-1)"
   ]
  },
  {
   "cell_type": "code",
   "execution_count": 663,
   "metadata": {},
   "outputs": [],
   "source": [
    "changes=np.array([cosine_similarity(X[i+1],X[i]) for i in range(len(Graphs)-1)])"
   ]
  },
  {
   "cell_type": "code",
   "execution_count": 664,
   "metadata": {},
   "outputs": [],
   "source": [
    "G_diff=np.array([graph_diff(Graphs[i],Graphs[i+1]) for i in range(len(Graphs)-1)])"
   ]
  },
  {
   "cell_type": "code",
   "execution_count": 665,
   "metadata": {},
   "outputs": [],
   "source": [
    "m, b = np.polyfit(changes, G_diff, 1)"
   ]
  },
  {
   "cell_type": "code",
   "execution_count": 666,
   "metadata": {},
   "outputs": [
    {
     "data": {
      "text/plain": [
       "0.01043546"
      ]
     },
     "execution_count": 666,
     "metadata": {},
     "output_type": "execute_result"
    }
   ],
   "source": [
    "np.min(changes)"
   ]
  },
  {
   "cell_type": "code",
   "execution_count": 667,
   "metadata": {},
   "outputs": [
    {
     "data": {
      "image/png": "[encoded data removed]",
      "text/plain": [
       "<Figure size 720x1152 with 1 Axes>"
      ]
     },
     "metadata": {
      "needs_background": "light"
     },
     "output_type": "display_data"
    }
   ],
   "source": [
    "fig = plt.figure(figsize=(10,16))\n",
    "sns.scatterplot(x=changes,y=G_diff)\n",
    "plt.plot([np.min(changes),np.max(changes)], [np.min(changes)*m + b,np.max(changes)*m + b],c=\"red\")\n",
    "plt.xlabel(\"Cosine similarity\")\n",
    "plt.ylabel(\"Graph distance\")\n",
    "plt.savefig('Pong_val_correlation.png')"
   ]
  },
  {
   "cell_type": "code",
   "execution_count": 668,
   "metadata": {},
   "outputs": [
    {
     "data": {
      "text/plain": [
       "<matplotlib.collections.PathCollection at 0x7f454ad70d30>"
      ]
     },
     "execution_count": 668,
     "metadata": {},
     "output_type": "execute_result"
    },
    {
     "data": {
      "image/png": "[encoded data removed]",
      "text/plain": [
       "<Figure size 432x288 with 1 Axes>"
      ]
     },
     "metadata": {
      "needs_background": "light"
     },
     "output_type": "display_data"
    }
   ],
   "source": [
    "plt.scatter(changes[G_diff<500],G_diff[G_diff<500])"
   ]
  },
  {
   "cell_type": "code",
   "execution_count": 669,
   "metadata": {},
   "outputs": [
    {
     "data": {
      "text/plain": [
       "array([[ 1.       , -0.4451673],\n",
       "       [-0.4451673,  1.       ]])"
      ]
     },
     "execution_count": 669,
     "metadata": {},
     "output_type": "execute_result"
    }
   ],
   "source": [
    "np.corrcoef(changes,G_diff)"
   ]
  },
  {
   "cell_type": "code",
   "execution_count": 670,
   "metadata": {},
   "outputs": [
    {
     "data": {
      "text/plain": [
       "array([[ 1.        , -0.38027009],\n",
       "       [-0.38027009,  1.        ]])"
      ]
     },
     "execution_count": 670,
     "metadata": {},
     "output_type": "execute_result"
    }
   ],
   "source": [
    "np.corrcoef(changes[G_diff<1000],G_diff[G_diff<1000])"
   ]
  },
  {
   "cell_type": "code",
   "execution_count": 671,
   "metadata": {},
   "outputs": [
    {
     "name": "stdout",
     "output_type": "stream",
     "text": [
      "CPU times: user 38.4 s, sys: 0 ns, total: 38.4 s\n",
      "Wall time: 38.3 s\n"
     ]
    }
   ],
   "source": [
    "%time xd=[graph_diff(Graphs[100],G) for G in custom.graph_list]"
   ]
  },
  {
   "cell_type": "markdown",
   "metadata": {},
   "source": [
    "# other method"
   ]
  },
  {
   "cell_type": "markdown",
   "metadata": {},
   "source": [
    "# Emmbedding"
   ]
  },
  {
   "cell_type": "code",
   "execution_count": 672,
   "metadata": {},
   "outputs": [
    {
     "data": {
      "text/plain": [
       "748"
      ]
     },
     "execution_count": 672,
     "metadata": {},
     "output_type": "execute_result"
    }
   ],
   "source": [
    "len(custom.semantic_model.wv)"
   ]
  },
  {
   "cell_type": "code",
   "execution_count": 673,
   "metadata": {},
   "outputs": [
    {
     "ename": "RuntimeError",
     "evalue": "We have currently only implemented predict_output_word for the negative sampling scheme, so you need to have run word2vec with negative > 0 for this to work.",
     "output_type": "error",
     "traceback": [
      "\u001b[0;31m---------------------------------------------------------------------------\u001b[0m",
      "\u001b[0;31mRuntimeError\u001b[0m                              Traceback (most recent call last)",
      "Input \u001b[0;32mIn [673]\u001b[0m, in \u001b[0;36m<cell line: 1>\u001b[0;34m()\u001b[0m\n\u001b[0;32m----> 1\u001b[0m \u001b[43mcustom\u001b[49m\u001b[38;5;241;43m.\u001b[39;49m\u001b[43msemantic_model\u001b[49m\u001b[38;5;241;43m.\u001b[39;49m\u001b[43mpredict_output_word\u001b[49m\u001b[43m(\u001b[49m\u001b[43mcustom\u001b[49m\u001b[38;5;241;43m.\u001b[39;49m\u001b[43mdocument_list\u001b[49m\u001b[43m[\u001b[49m\u001b[38;5;241;43m0\u001b[39;49m\u001b[43m]\u001b[49m\u001b[43m)\u001b[49m\n",
      "File \u001b[0;32m~/anaconda3/envs/master/lib/python3.9/site-packages/gensim/models/word2vec.py:1822\u001b[0m, in \u001b[0;36mWord2Vec.predict_output_word\u001b[0;34m(self, context_words_list, topn)\u001b[0m\n\u001b[1;32m   1800\u001b[0m \u001b[38;5;124;03m\"\"\"Get the probability distribution of the center word given context words.\u001b[39;00m\n\u001b[1;32m   1801\u001b[0m \n\u001b[1;32m   1802\u001b[0m \u001b[38;5;124;03mNote this performs a CBOW-style propagation, even in SG models,\u001b[39;00m\n\u001b[0;32m   (...)\u001b[0m\n\u001b[1;32m   1819\u001b[0m \n\u001b[1;32m   1820\u001b[0m \u001b[38;5;124;03m\"\"\"\u001b[39;00m\n\u001b[1;32m   1821\u001b[0m \u001b[38;5;28;01mif\u001b[39;00m \u001b[38;5;129;01mnot\u001b[39;00m \u001b[38;5;28mself\u001b[39m\u001b[38;5;241m.\u001b[39mnegative:\n\u001b[0;32m-> 1822\u001b[0m     \u001b[38;5;28;01mraise\u001b[39;00m \u001b[38;5;167;01mRuntimeError\u001b[39;00m(\n\u001b[1;32m   1823\u001b[0m         \u001b[38;5;124m\"\u001b[39m\u001b[38;5;124mWe have currently only implemented predict_output_word for the negative sampling scheme, \u001b[39m\u001b[38;5;124m\"\u001b[39m\n\u001b[1;32m   1824\u001b[0m         \u001b[38;5;124m\"\u001b[39m\u001b[38;5;124mso you need to have run word2vec with negative > 0 for this to work.\u001b[39m\u001b[38;5;124m\"\u001b[39m\n\u001b[1;32m   1825\u001b[0m     )\n\u001b[1;32m   1827\u001b[0m \u001b[38;5;28;01mif\u001b[39;00m \u001b[38;5;129;01mnot\u001b[39;00m \u001b[38;5;28mhasattr\u001b[39m(\u001b[38;5;28mself\u001b[39m\u001b[38;5;241m.\u001b[39mwv, \u001b[38;5;124m'\u001b[39m\u001b[38;5;124mvectors\u001b[39m\u001b[38;5;124m'\u001b[39m) \u001b[38;5;129;01mor\u001b[39;00m \u001b[38;5;129;01mnot\u001b[39;00m \u001b[38;5;28mhasattr\u001b[39m(\u001b[38;5;28mself\u001b[39m, \u001b[38;5;124m'\u001b[39m\u001b[38;5;124msyn1neg\u001b[39m\u001b[38;5;124m'\u001b[39m):\n\u001b[1;32m   1828\u001b[0m     \u001b[38;5;28;01mraise\u001b[39;00m \u001b[38;5;167;01mRuntimeError\u001b[39;00m(\u001b[38;5;124m\"\u001b[39m\u001b[38;5;124mParameters required for predicting the output words not found.\u001b[39m\u001b[38;5;124m\"\u001b[39m)\n",
      "\u001b[0;31mRuntimeError\u001b[0m: We have currently only implemented predict_output_word for the negative sampling scheme, so you need to have run word2vec with negative > 0 for this to work."
     ]
    }
   ],
   "source": [
    "custom.semantic_model.predict_output_word(custom.document_list[0])"
   ]
  },
  {
   "cell_type": "code",
   "execution_count": 674,
   "metadata": {},
   "outputs": [
    {
     "ename": "NameError",
     "evalue": "name 'G' is not defined",
     "output_type": "error",
     "traceback": [
      "\u001b[0;31m---------------------------------------------------------------------------\u001b[0m",
      "\u001b[0;31mNameError\u001b[0m                                 Traceback (most recent call last)",
      "Input \u001b[0;32mIn [674]\u001b[0m, in \u001b[0;36m<cell line: 1>\u001b[0;34m()\u001b[0m\n\u001b[0;32m----> 1\u001b[0m length, path \u001b[38;5;241m=\u001b[39m nx\u001b[38;5;241m.\u001b[39msingle_source_dijkstra(\u001b[43mG\u001b[49m, \u001b[38;5;241m0\u001b[39m,weight\u001b[38;5;241m=\u001b[39m\u001b[38;5;124m\"\u001b[39m\u001b[38;5;124mweight\u001b[39m\u001b[38;5;124m\"\u001b[39m)\n\u001b[1;32m      3\u001b[0m path \u001b[38;5;241m=\u001b[39m \u001b[38;5;28mdict\u001b[39m(nx\u001b[38;5;241m.\u001b[39mall_pairs_dijkstra_path(G,weight\u001b[38;5;241m=\u001b[39m\u001b[38;5;124m\"\u001b[39m\u001b[38;5;124mweight\u001b[39m\u001b[38;5;124m\"\u001b[39m,cutoff\u001b[38;5;241m=\u001b[39m\u001b[38;5;241m70\u001b[39m))\n\u001b[1;32m      5\u001b[0m nodes_near\u001b[38;5;241m=\u001b[39m[x \u001b[38;5;28;01mfor\u001b[39;00m x \u001b[38;5;129;01min\u001b[39;00m path[\u001b[38;5;241m0\u001b[39m]][\u001b[38;5;241m1\u001b[39m:\u001b[38;5;241m5\u001b[39m]\n",
      "\u001b[0;31mNameError\u001b[0m: name 'G' is not defined"
     ]
    }
   ],
   "source": [
    "length, path = nx.single_source_dijkstra(G, 0,weight=\"weight\")\n",
    "\n",
    "path = dict(nx.all_pairs_dijkstra_path(G,weight=\"weight\",cutoff=70))\n",
    "\n",
    "nodes_near=[x for x in path[0]][1:5]\n",
    "\n",
    "a=[G.nodes[x][\"position_x\"] for x in nodes_near]\n",
    "\n",
    "b=[G.nodes[x][\"position_y\"] for x in nodes_near]\n",
    "\n",
    "ind = np.lexsort((b,a))\n",
    "\n",
    "np.array(a)[ind]\n",
    "\n",
    "np.array(b)[ind]"
   ]
  },
  {
   "cell_type": "code",
   "execution_count": 675,
   "metadata": {},
   "outputs": [
    {
     "data": {
      "text/plain": [
       "1188"
      ]
     },
     "execution_count": 675,
     "metadata": {},
     "output_type": "execute_result"
    }
   ],
   "source": [
    "len(emb)"
   ]
  },
  {
   "cell_type": "code",
   "execution_count": 658,
   "metadata": {},
   "outputs": [],
   "source": [
    "X=np.array(emb)"
   ]
  },
  {
   "cell_type": "code",
   "execution_count": 676,
   "metadata": {},
   "outputs": [],
   "source": [
    "brc = Birch(n_clusters=32,threshold=0.5).fit(X)"
   ]
  },
  {
   "cell_type": "code",
   "execution_count": 677,
   "metadata": {},
   "outputs": [],
   "source": [
    "lab=brc.labels_"
   ]
  },
  {
   "cell_type": "code",
   "execution_count": 678,
   "metadata": {},
   "outputs": [
    {
     "data": {
      "text/plain": [
       "0.06430994"
      ]
     },
     "execution_count": 678,
     "metadata": {},
     "output_type": "execute_result"
    }
   ],
   "source": [
    "metrics.silhouette_score(X, lab, metric='euclidean')"
   ]
  },
  {
   "cell_type": "code",
   "execution_count": 679,
   "metadata": {},
   "outputs": [
    {
     "data": {
      "text/plain": [
       "2.691350381595628"
      ]
     },
     "execution_count": 679,
     "metadata": {},
     "output_type": "execute_result"
    }
   ],
   "source": [
    "metrics.davies_bouldin_score(X, lab)"
   ]
  },
  {
   "cell_type": "code",
   "execution_count": 680,
   "metadata": {},
   "outputs": [
    {
     "data": {
      "text/plain": [
       "0.31511125555223846"
      ]
     },
     "execution_count": 680,
     "metadata": {},
     "output_type": "execute_result"
    }
   ],
   "source": [
    "d = euclidean_distances(X)\n",
    "\n",
    "dunn.dunn(lab,d)"
   ]
  },
  {
   "cell_type": "code",
   "execution_count": 681,
   "metadata": {},
   "outputs": [
    {
     "data": {
      "text/plain": [
       "<AxesSubplot:xlabel='x', ylabel='y'>"
      ]
     },
     "execution_count": 681,
     "metadata": {},
     "output_type": "execute_result"
    },
    {
     "data": {
      "image/png": "[encoded data removed]",
      "text/plain": [
       "<Figure size 432x288 with 1 Axes>"
      ]
     },
     "metadata": {
      "needs_background": "light"
     },
     "output_type": "display_data"
    }
   ],
   "source": [
    "X_embedded = TSNE(n_components=2, init='random').fit_transform(X)\n",
    "\n",
    "df = pd.DataFrame(np.concatenate((X_embedded[:,:2],lab.reshape(-1,1)),axis=-1), columns=[\"x\", \"y\",\"z\"])\n",
    "df[\"z\"]=df[\"z\"].astype(\"int\").astype(\"str\")\n",
    "sns.scatterplot(data=df,x=\"x\",y=\"y\",hue=\"z\", legend=None)"
   ]
  },
  {
   "cell_type": "code",
   "execution_count": 682,
   "metadata": {},
   "outputs": [
    {
     "data": {
      "text/plain": [
       "array([ 0,  1,  2,  3,  4,  5,  6,  7,  8,  9, 10, 11, 12, 13, 14, 15, 16,\n",
       "       17, 18, 19, 20, 21, 22, 23, 24, 25, 26, 27, 28, 29, 30, 31])"
      ]
     },
     "execution_count": 682,
     "metadata": {},
     "output_type": "execute_result"
    }
   ],
   "source": [
    "np.unique(lab)"
   ]
  },
  {
   "cell_type": "code",
   "execution_count": 683,
   "metadata": {},
   "outputs": [
    {
     "ename": "NameError",
     "evalue": "name 'trace' is not defined",
     "output_type": "error",
     "traceback": [
      "\u001b[0;31m---------------------------------------------------------------------------\u001b[0m",
      "\u001b[0;31mNameError\u001b[0m                                 Traceback (most recent call last)",
      "Input \u001b[0;32mIn [683]\u001b[0m, in \u001b[0;36m<cell line: 1>\u001b[0;34m()\u001b[0m\n\u001b[0;32m----> 1\u001b[0m Rewards\u001b[38;5;241m=\u001b[39m\u001b[43mtrace\u001b[49m[\u001b[38;5;124m\"\u001b[39m\u001b[38;5;124mreward\u001b[39m\u001b[38;5;124m\"\u001b[39m]\n\u001b[1;32m      3\u001b[0m changes\u001b[38;5;241m=\u001b[39mnp\u001b[38;5;241m.\u001b[39mwhere(lab[\u001b[38;5;241m1\u001b[39m:]\u001b[38;5;241m!=\u001b[39mlab[:\u001b[38;5;241m-\u001b[39m\u001b[38;5;241m1\u001b[39m])[\u001b[38;5;241m0\u001b[39m]\n\u001b[1;32m      5\u001b[0m changes\u001b[38;5;241m=\u001b[39mnp\u001b[38;5;241m.\u001b[39mconcatenate(([\u001b[38;5;241m0\u001b[39m],changes,[\u001b[38;5;28mlen\u001b[39m(Rewards)\u001b[38;5;241m-\u001b[39m\u001b[38;5;241m1\u001b[39m]))\n",
      "\u001b[0;31mNameError\u001b[0m: name 'trace' is not defined"
     ]
    }
   ],
   "source": [
    "Rewards=trace[\"reward\"]\n",
    "\n",
    "changes=np.where(lab[1:]!=lab[:-1])[0]\n",
    "\n",
    "changes=np.concatenate(([0],changes,[len(Rewards)-1]))"
   ]
  },
  {
   "cell_type": "code",
   "execution_count": 89,
   "metadata": {},
   "outputs": [
    {
     "data": {
      "text/plain": [
       "(120,)"
      ]
     },
     "execution_count": 89,
     "metadata": {},
     "output_type": "execute_result"
    }
   ],
   "source": [
    "changes.shape"
   ]
  },
  {
   "cell_type": "code",
   "execution_count": 107,
   "metadata": {},
   "outputs": [],
   "source": [
    "G=nx.DiGraph()"
   ]
  },
  {
   "cell_type": "code",
   "execution_count": 130,
   "metadata": {},
   "outputs": [
    {
     "data": {
      "text/plain": [
       "2.8071489334106445"
      ]
     },
     "execution_count": 130,
     "metadata": {},
     "output_type": "execute_result"
    }
   ],
   "source": [
    "df[\"x\"][df.shape[0]-1]"
   ]
  },
  {
   "cell_type": "code",
   "execution_count": 131,
   "metadata": {},
   "outputs": [],
   "source": [
    "for c in range(1,len(changes)-1):\n",
    "    G.add_nodes_from([(lab[changes[c]], {'position_x':df[\"x\"][changes[c]], 'position_y':df[\"y\"][changes[c]]})])\n",
    "    G.add_nodes_from([(lab[changes[c+1]], {'position_x':df[\"x\"][changes[c+1]], 'position_y':df[\"y\"][changes[c+1]]})])\n",
    "    G.add_edge(lab[changes[c]],lab[changes[c+1]], weight=-np.mean(Rewards[changes[c-1]:changes[c]])+100)\n",
    "\n",
    "G.add_nodes_from([(-1, {'position_x':df[\"x\"][df.shape[0]-1], 'position_y':df[\"y\"][df.shape[0]-1]})])\n",
    "G.add_edge(lab[changes[c+1]],-1, weight=-np.mean(Rewards[changes[c]:changes[c+1]])+100)"
   ]
  },
  {
   "cell_type": "code",
   "execution_count": 132,
   "metadata": {},
   "outputs": [
    {
     "data": {
      "image/png": "[encoded data removed]",
      "text/plain": [
       "<Figure size 432x288 with 1 Axes>"
      ]
     },
     "metadata": {},
     "output_type": "display_data"
    }
   ],
   "source": [
    "nx.draw(G,with_labels=True)"
   ]
  },
  {
   "cell_type": "code",
   "execution_count": 798,
   "metadata": {},
   "outputs": [
    {
     "data": {
      "text/plain": [
       "[0, 1, 2, 3, 5, 19, 25, 27, -1]"
      ]
     },
     "execution_count": 798,
     "metadata": {},
     "output_type": "execute_result"
    }
   ],
   "source": [
    "nx.shortest_path(G, source=0, target=-1, weight=\"weight\", method='dijkstra')"
   ]
  },
  {
   "cell_type": "code",
   "execution_count": 115,
   "metadata": {},
   "outputs": [
    {
     "data": {
      "text/plain": [
       "-6.631448745727539"
      ]
     },
     "execution_count": 115,
     "metadata": {},
     "output_type": "execute_result"
    }
   ],
   "source": [
    "G.nodes[0]['position_x']"
   ]
  },
  {
   "cell_type": "code",
   "execution_count": 142,
   "metadata": {},
   "outputs": [
    {
     "data": {
      "image/png": "[encoded data removed]",
      "text/plain": [
       "<Figure size 1080x1080 with 1 Axes>"
      ]
     },
     "metadata": {},
     "output_type": "display_data"
    }
   ],
   "source": [
    "pos = nx.spring_layout(G)\n",
    "for n in G.nodes():\n",
    "    pos[n][0]=G.nodes[n]['position_x']\n",
    "    pos[n][1]=G.nodes[n]['position_y']\n",
    "\n",
    "plt.figure(figsize=(15,15))\n",
    "sns.scatterplot(data=df,x=\"x\",y=\"y\",hue=\"z\")\n",
    "ec = nx.draw(G, pos, alpha=0.5,with_labels=True)\n",
    "plt.show()"
   ]
  },
  {
   "cell_type": "code",
   "execution_count": null,
   "metadata": {},
   "outputs": [],
   "source": []
  },
  {
   "cell_type": "code",
   "execution_count": 38,
   "metadata": {},
   "outputs": [],
   "source": [
    "make_video(States[changes],\"test2\",fps=7)"
   ]
  },
  {
   "cell_type": "markdown",
   "metadata": {},
   "source": [
    "# Trees"
   ]
  },
  {
   "cell_type": "code",
   "execution_count": 843,
   "metadata": {},
   "outputs": [],
   "source": [
    "G=Graphs[100]"
   ]
  },
  {
   "cell_type": "code",
   "execution_count": null,
   "metadata": {},
   "outputs": [],
   "source": []
  },
  {
   "cell_type": "code",
   "execution_count": 844,
   "metadata": {},
   "outputs": [
    {
     "data": {
      "text/plain": [
       "array([ 3, 11, 19, 27])"
      ]
     },
     "execution_count": 844,
     "metadata": {},
     "output_type": "execute_result"
    }
   ],
   "source": [
    "length, path = nx.single_source_dijkstra(G, 0,weight=\"weight\")\n",
    "\n",
    "path = dict(nx.all_pairs_dijkstra_path(G,weight=\"weight\",cutoff=70))\n",
    "\n",
    "nodes_near=[x for x in path[0]][1:5]\n",
    "\n",
    "a=[G.nodes[x][\"position_x\"] for x in nodes_near]\n",
    "\n",
    "b=[G.nodes[x][\"position_y\"] for x in nodes_near]\n",
    "\n",
    "ind = np.lexsort((b,a))\n",
    "\n",
    "np.array(a)[ind]\n",
    "\n",
    "np.array(b)[ind]"
   ]
  },
  {
   "cell_type": "code",
   "execution_count": 845,
   "metadata": {},
   "outputs": [
    {
     "data": {
      "text/plain": [
       "[5, 4, 6, 3]"
      ]
     },
     "execution_count": 845,
     "metadata": {},
     "output_type": "execute_result"
    }
   ],
   "source": [
    "nodes_near"
   ]
  },
  {
   "cell_type": "code",
   "execution_count": 122,
   "metadata": {},
   "outputs": [
    {
     "data": {
      "image/png": "[encoded data removed]",
      "text/plain": [
       "<Figure size 720x432 with 1 Axes>"
      ]
     },
     "metadata": {
      "needs_background": "light"
     },
     "output_type": "display_data"
    }
   ],
   "source": [
    "show_image(custom.state_list[116])"
   ]
  },
  {
   "cell_type": "code",
   "execution_count": null,
   "metadata": {},
   "outputs": [],
   "source": []
  },
  {
   "cell_type": "code",
   "execution_count": 428,
   "metadata": {},
   "outputs": [],
   "source": [
    "X=obj_mask"
   ]
  },
  {
   "cell_type": "code",
   "execution_count": 429,
   "metadata": {},
   "outputs": [],
   "source": [
    "p_h=3\n",
    "p_w=3\n",
    "split_h=np.arange(p_h,105-p_h,2).astype(\"int\")\n",
    "split_w=np.arange(p_w,80-p_w,2).astype(\"int\")"
   ]
  },
  {
   "cell_type": "code",
   "execution_count": 430,
   "metadata": {},
   "outputs": [],
   "source": [
    "X2=np.zeros((episode_len,len(split_h)*len(split_w),2*p_h+1,2*p_w+1)).astype(\"int\")"
   ]
  },
  {
   "cell_type": "code",
   "execution_count": 431,
   "metadata": {},
   "outputs": [],
   "source": [
    "position=np.zeros((episode_len,len(split_h)*len(split_w),2))"
   ]
  },
  {
   "cell_type": "code",
   "execution_count": 432,
   "metadata": {},
   "outputs": [],
   "source": [
    "action=np.zeros((episode_len,len(split_h)*len(split_w),1))"
   ]
  },
  {
   "cell_type": "code",
   "execution_count": 433,
   "metadata": {},
   "outputs": [],
   "source": [
    "reward=np.zeros((episode_len,len(split_h)*len(split_w),1))"
   ]
  },
  {
   "cell_type": "code",
   "execution_count": 434,
   "metadata": {},
   "outputs": [],
   "source": [
    "# for i in range(100):\n",
    "#     j=0\n",
    "#     for x in range(p_h-1):\n",
    "#         for y in range(p_w-1):\n",
    "#             X2[i,j,:,:]=X[i:i+1,split_h[x]:split_h[x+2],split_w[y]:split_w[y+2]]\n",
    "#             j+=1"
   ]
  },
  {
   "cell_type": "code",
   "execution_count": 435,
   "metadata": {},
   "outputs": [],
   "source": [
    "for i in range(episode_len):\n",
    "    j=0\n",
    "    for x in split_h:\n",
    "        for y in split_w:\n",
    "            X2[i,j,:,:]=X[i:i+1,x-p_h:x+p_h+1,y-p_w:y+p_w+1]\n",
    "            position[i,j,0]=x\n",
    "            position[i,j,1]=y\n",
    "            action[i,j,0]=Actions[i]\n",
    "            reward[i,j,0]=Rewards[i]\n",
    "            j+=1"
   ]
  },
  {
   "cell_type": "code",
   "execution_count": 436,
   "metadata": {},
   "outputs": [
    {
     "data": {
      "text/plain": [
       "<matplotlib.image.AxesImage at 0x7fc3087d6520>"
      ]
     },
     "execution_count": 436,
     "metadata": {},
     "output_type": "execute_result"
    },
    {
     "data": {
      "image/png": "[encoded data removed]",
      "text/plain": [
       "<Figure size 720x432 with 1 Axes>"
      ]
     },
     "metadata": {
      "needs_background": "light"
     },
     "output_type": "display_data"
    }
   ],
   "source": [
    "fig, ax = plt.subplots(figsize=(10, 6))\n",
    "ax.imshow(X2[6,68])"
   ]
  },
  {
   "cell_type": "code",
   "execution_count": 437,
   "metadata": {},
   "outputs": [],
   "source": [
    "X2_prev=X2[0:-2]\n",
    "\n",
    "X2_now=X2[1:-1]\n",
    "\n",
    "X2_next=X2[2:]"
   ]
  },
  {
   "cell_type": "code",
   "execution_count": 438,
   "metadata": {},
   "outputs": [],
   "source": [
    "X2_prev=X2_prev.reshape(-1,2*p_h+1,2*p_w+1).reshape(len(split_h)*len(split_w)*(episode_len-2),-1)"
   ]
  },
  {
   "cell_type": "code",
   "execution_count": 439,
   "metadata": {},
   "outputs": [],
   "source": [
    "X2_now=X2_prev.reshape(-1,2*p_h+1,2*p_w+1).reshape(len(split_h)*len(split_w)*(episode_len-2),-1)"
   ]
  },
  {
   "cell_type": "code",
   "execution_count": 440,
   "metadata": {},
   "outputs": [],
   "source": [
    "X2_next=X2_next.reshape(-1,2*p_h+1,2*p_w+1)[:,p_h:p_h+1,p_w:p_w+1].reshape(len(split_h)*len(split_w)*(episode_len-2),)"
   ]
  },
  {
   "cell_type": "code",
   "execution_count": 441,
   "metadata": {},
   "outputs": [],
   "source": [
    "position_prev=position[0:-2]\n",
    "\n",
    "position_now=position[1:-1]\n",
    "\n",
    "position_prev=position_prev.reshape(-1,2)\n",
    "\n",
    "position_now=position_now.reshape(-1,2)"
   ]
  },
  {
   "cell_type": "code",
   "execution_count": 442,
   "metadata": {},
   "outputs": [],
   "source": [
    "action_prev=action[0:-2]\n",
    "\n",
    "action_now=action[1:-1]\n",
    "\n",
    "action_prev=action_prev.reshape(-1,1)\n",
    "\n",
    "action_now=action_now.reshape(-1,1)"
   ]
  },
  {
   "cell_type": "code",
   "execution_count": 443,
   "metadata": {},
   "outputs": [],
   "source": [
    "reward_prev=reward[0:-2]\n",
    "\n",
    "reward_now=reward[1:-1]\n",
    "\n",
    "reward_prev=reward_prev.reshape(-1,1)\n",
    "\n",
    "reward_now=reward_now.reshape(-1,1)"
   ]
  },
  {
   "cell_type": "code",
   "execution_count": 444,
   "metadata": {},
   "outputs": [],
   "source": [
    "#prev_state positionx positiony action time reward?"
   ]
  },
  {
   "cell_type": "code",
   "execution_count": 445,
   "metadata": {},
   "outputs": [],
   "source": [
    "nominal_attributes=np.arange(2*X2_prev.shape[1]+2).astype(\"int\")"
   ]
  },
  {
   "cell_type": "code",
   "execution_count": 446,
   "metadata": {},
   "outputs": [
    {
     "data": {
      "text/plain": [
       "array([ 0,  1,  2,  3,  4,  5,  6,  7,  8,  9, 10, 11, 12, 13, 14, 15, 16,\n",
       "       17, 18, 19, 20, 21, 22, 23, 24, 25, 26, 27, 28, 29, 30, 31, 32, 33,\n",
       "       34, 35, 36, 37, 38, 39, 40, 41, 42, 43, 44, 45, 46, 47, 48, 49, 50,\n",
       "       51, 52, 53, 54, 55, 56, 57, 58, 59, 60, 61, 62, 63, 64, 65, 66, 67,\n",
       "       68, 69, 70, 71, 72, 73, 74, 75, 76, 77, 78, 79, 80, 81, 82, 83, 84,\n",
       "       85, 86, 87, 88, 89, 90, 91, 92, 93, 94, 95, 96, 97, 98, 99])"
      ]
     },
     "execution_count": 446,
     "metadata": {},
     "output_type": "execute_result"
    }
   ],
   "source": [
    "nominal_attributes"
   ]
  },
  {
   "cell_type": "code",
   "execution_count": 447,
   "metadata": {},
   "outputs": [],
   "source": [
    "state=np.hstack((action_prev,action_now,X2_prev,X2_now,position_now,reward_prev,reward_now))"
   ]
  },
  {
   "cell_type": "code",
   "execution_count": 448,
   "metadata": {},
   "outputs": [
    {
     "data": {
      "text/plain": [
       "(1467050, 104)"
      ]
     },
     "execution_count": 448,
     "metadata": {},
     "output_type": "execute_result"
    }
   ],
   "source": [
    "state.shape"
   ]
  },
  {
   "cell_type": "code",
   "execution_count": 394,
   "metadata": {},
   "outputs": [],
   "source": [
    "lc_ht = VeryFastDecisionRulesClassifier(nominal_attributes=nominal_attributes)"
   ]
  },
  {
   "cell_type": "code",
   "execution_count": 395,
   "metadata": {},
   "outputs": [
    {
     "name": "stdout",
     "output_type": "stream",
     "text": [
      "CPU times: user 9min 43s, sys: 691 ms, total: 9min 44s\n",
      "Wall time: 9min 49s\n"
     ]
    },
    {
     "data": {
      "text/plain": [
       "VeryFastDecisionRulesClassifier(drift_detector=None, expand_confidence=1e-07,\n",
       "                                expand_criterion='info_gain', grace_period=200,\n",
       "                                max_rules=1000, min_weight=100,\n",
       "                                nb_prediction=True, nb_threshold=0,\n",
       "                                nominal_attributes=array([ 0,  1,  2,  3,  4,  5,  6,  7,  8,  9, 10, 11, 12, 13, 14, 15, 16,\n",
       "       17, 18, 19, 20, 21, 22, 23, 24, 25, 26, 27, 28, 29, 30, 31, 32, 33,\n",
       "       34, 35, 36, 37, 38, 39, 40, 41, 42, 43, 44, 45, 46, 47, 48, 49, 50,\n",
       "       51, 52, 53, 54, 55, 56, 57, 58, 59, 60, 61, 62, 63, 64, 65, 66, 67,\n",
       "       68, 69, 70, 71, 72, 73, 74, 75, 76, 77, 78, 79, 80, 81, 82, 83, 84,\n",
       "       85, 86, 87, 88, 89, 90, 91, 92, 93, 94, 95, 96, 97, 98, 99]),\n",
       "                                ordered_rules=True, remove_poor_atts=False,\n",
       "                                rule_prediction='first_hit',\n",
       "                                tie_threshold=0.05)"
      ]
     },
     "execution_count": 395,
     "metadata": {},
     "output_type": "execute_result"
    }
   ],
   "source": [
    "%time lc_ht.partial_fit(state,X2_next)"
   ]
  },
  {
   "cell_type": "code",
   "execution_count": 381,
   "metadata": {},
   "outputs": [],
   "source": [
    "# lc_ht = HoeffdingTreeClassifier(nominal_attributes=nominal_attributes)"
   ]
  },
  {
   "cell_type": "code",
   "execution_count": 382,
   "metadata": {},
   "outputs": [
    {
     "name": "stdout",
     "output_type": "stream",
     "text": [
      "CPU times: user 4.58 s, sys: 0 ns, total: 4.58 s\n",
      "Wall time: 4.58 s\n"
     ]
    },
    {
     "data": {
      "text/plain": [
       "HoeffdingTreeClassifier(binary_split=False, grace_period=200,\n",
       "                        leaf_prediction='nba', max_byte_size=33554432,\n",
       "                        memory_estimate_period=1000000, nb_threshold=0,\n",
       "                        no_preprune=False,\n",
       "                        nominal_attributes=array([ 0,  1,  2,  3,  4,  5,  6,  7,  8,  9, 10, 11, 12, 13, 14, 15, 16,\n",
       "       17, 18, 19, 20, 21, 22, 23, 24, 25, 26, 27, 28, 29, 30, 31, 32, 33,\n",
       "       34, 35, 36, 37, 38, 39, 40, 41, 42, 43, 44, 45, 46, 47, 48, 49, 50,\n",
       "       51, 52, 53, 54, 55, 56, 57, 58, 59, 60, 61, 62, 63, 64, 65, 66, 67,\n",
       "       68, 69, 70, 71, 72, 73, 74, 75, 76, 77, 78, 79, 80, 81, 82, 83, 84,\n",
       "       85, 86, 87, 88, 89, 90, 91, 92, 93, 94, 95, 96, 97, 98, 99]),\n",
       "                        remove_poor_atts=False, split_confidence=1e-07,\n",
       "                        split_criterion='info_gain', stop_mem_management=False,\n",
       "                        tie_threshold=0.05)"
      ]
     },
     "execution_count": 382,
     "metadata": {},
     "output_type": "execute_result"
    }
   ],
   "source": [
    "# %time lc_ht.partial_fit(state[::1000],X2_next[::1000])"
   ]
  },
  {
   "cell_type": "code",
   "execution_count": null,
   "metadata": {},
   "outputs": [],
   "source": []
  },
  {
   "cell_type": "code",
   "execution_count": 390,
   "metadata": {},
   "outputs": [],
   "source": [
    "model = tf.keras.Sequential([\n",
    "    tf.keras.layers.Dense(128, activation='relu'),\n",
    "    tf.keras.layers.Dense(128, activation='relu'),\n",
    "    tf.keras.layers.Dense(32)\n",
    "])"
   ]
  },
  {
   "cell_type": "code",
   "execution_count": 391,
   "metadata": {},
   "outputs": [],
   "source": [
    "model.compile(optimizer='adam',\n",
    "              loss=tf.keras.losses.SparseCategoricalCrossentropy(from_logits=True),\n",
    "              metrics=['accuracy'])"
   ]
  },
  {
   "cell_type": "code",
   "execution_count": 393,
   "metadata": {},
   "outputs": [
    {
     "name": "stdout",
     "output_type": "stream",
     "text": [
      "Epoch 1/10\n",
      "46/46 [==============================] - 0s 1ms/step - loss: 0.2860 - accuracy: 0.9292\n",
      "Epoch 2/10\n",
      "46/46 [==============================] - 0s 1ms/step - loss: 0.1828 - accuracy: 0.9469\n",
      "Epoch 3/10\n",
      "46/46 [==============================] - 0s 1ms/step - loss: 0.1399 - accuracy: 0.9564\n",
      "Epoch 4/10\n",
      "46/46 [==============================] - 0s 1ms/step - loss: 0.1130 - accuracy: 0.9680\n",
      "Epoch 5/10\n",
      "46/46 [==============================] - 0s 1ms/step - loss: 0.1088 - accuracy: 0.9619\n",
      "Epoch 6/10\n",
      "46/46 [==============================] - 0s 1ms/step - loss: 0.0869 - accuracy: 0.9707\n",
      "Epoch 7/10\n",
      "46/46 [==============================] - 0s 1ms/step - loss: 0.1051 - accuracy: 0.9707\n",
      "Epoch 8/10\n",
      "46/46 [==============================] - 0s 1ms/step - loss: 0.0740 - accuracy: 0.9796\n",
      "Epoch 9/10\n",
      "46/46 [==============================] - 0s 1ms/step - loss: 0.0861 - accuracy: 0.9775\n",
      "Epoch 10/10\n",
      "46/46 [==============================] - 0s 1ms/step - loss: 0.0713 - accuracy: 0.9809\n",
      "CPU times: user 1.09 s, sys: 152 ms, total: 1.24 s\n",
      "Wall time: 623 ms\n"
     ]
    },
    {
     "data": {
      "text/plain": [
       "<keras.callbacks.History at 0x7fc308529070>"
      ]
     },
     "execution_count": 393,
     "metadata": {},
     "output_type": "execute_result"
    }
   ],
   "source": [
    "%time model.fit(state[::1000],X2_next[::1000], epochs=10)"
   ]
  },
  {
   "cell_type": "code",
   "execution_count": 397,
   "metadata": {},
   "outputs": [
    {
     "name": "stdout",
     "output_type": "stream",
     "text": [
      "CPU times: user 1.94 s, sys: 4.07 ms, total: 1.94 s\n",
      "Wall time: 1.94 s\n"
     ]
    },
    {
     "name": "stderr",
     "output_type": "stream",
     "text": [
      "/home/olaf/anaconda3/envs/master/lib/python3.9/site-packages/skmultiflow/rules/very_fast_decision_rules.py:837: VisibleDeprecationWarning: Creating an ndarray from ragged nested sequences (which is a list-or-tuple of lists-or-tuples-or ndarrays with different lengths or shapes) is deprecated. If you meant to do this, you must specify 'dtype=object' when creating the ndarray.\n",
      "  return np.array(predictions)\n"
     ]
    }
   ],
   "source": [
    "%time Y=lc_ht.predict(state[::1000])"
   ]
  },
  {
   "cell_type": "code",
   "execution_count": null,
   "metadata": {},
   "outputs": [],
   "source": [
    "Y"
   ]
  },
  {
   "cell_type": "code",
   "execution_count": null,
   "metadata": {},
   "outputs": [],
   "source": [
    "Y2=X2_next"
   ]
  },
  {
   "cell_type": "code",
   "execution_count": null,
   "metadata": {},
   "outputs": [],
   "source": [
    "np.mean(Y2==Y)"
   ]
  },
  {
   "cell_type": "code",
   "execution_count": null,
   "metadata": {},
   "outputs": [],
   "source": [
    "for x in np.unique(Y2):\n",
    "    print(str(x)+\":\"+str(np.mean(Y2[Y2==x]==Y[Y2==x]))+\" N:\"+str(np.sum(Y2==x)))"
   ]
  },
  {
   "cell_type": "code",
   "execution_count": 398,
   "metadata": {},
   "outputs": [
    {
     "name": "stdout",
     "output_type": "stream",
     "text": [
      "Rule 0 :Att (75) = 0.000 and Att (99) = 0.000 and Att (100) <= 84.820 and Att (73) = 17.000| class :0  {0: 9866.0, 10: 2.0, 17: 171.0, 25: 2.0, 31: 1.0}\n",
      "Rule 1 :Att (75) = 0.000 and Att (67) = 0.000 and Att (69) = 0.000 and Att (101) <= 9.550 and Att (100) <= 11.550 and Att (1) != 5.000| class :0  {0: 3035.0, 8: 8.0}\n",
      "Rule 2 :Att (100) <= 39.910 and Att (75) = 0.000 and Att (74) = 2.000| class :0  {0: 5585.0, 2: 172.0, 5: 1.0}\n",
      "Rule 3 :Att (75) = 0.000 and Att (76) = 0.000 and Att (66) = 0.000 and Att (101) <= 16.820 and Att (100) <= 11.360 and Att (0) != 0.000| class :0  {0: 2413.0, 8: 2.0}\n",
      "Rule 4 :Att (75) = 0.000 and Att (66) = 0.000 and Att (68) != 0.000| class :0  {0: 18615.0, 2: 23.0, 5: 399.0, 8: 6.0, 9: 273.0, 10: 24.0, 14: 1.0, 16: 1.0, 17: 185.0, 18: 1.0, 20: 1.0, 23: 4.0, 25: 261.0, 29: 54.0}\n",
      "Rule 5 :Att (100) <= 7.910 and Att (75) = 0.000 and Att (67) = 0.000 and Att (101) <= 15.000| class :0  {0: 1359.4968314802538, 8: 2.0}\n",
      "Rule 6 :Att (75) = 0.000 and Att (82) = 0.000 and Att (74) = 5.000| class :0  {0: 6163.0, 5: 60.0, 25: 3.0}\n",
      "Rule 7 :Att (75) = 0.000 and Att (66) = 0.000 and Att (81) != 0.000| class :0  {0: 16139.0, 2: 20.0, 5: 21.0, 8: 2.0, 9: 68.0, 10: 12.0, 15: 15.0, 16: 21.0, 17: 18.0, 19: 1.0, 23: 1.0, 25: 13.0}\n",
      "Rule 8 :Att (75) = 0.000 and Att (70) = 0.000 and Att (101) <= 38.090 and Att (100) <= 11.360 and Att (1) = 0.000| class :0  {0: 2358.0, 8: 24.0}\n",
      "Rule 9 :Att (100) <= 63.550 and Att (75) = 0.000 and Att (101) <= 4.270| class :0  {0: 6315.36025855345}\n",
      "Rule 10 :Att (75) = 0.000 and Att (86) = 18.000| class :0  {0: 10538.0, 10: 2.0, 15: 35.0, 16: 2.0, 18: 1.0, 19: 2.0, 28: 2.0}\n",
      "Rule 11 :Att (100) <= 66.090 and Att (75) = 0.000 and Att (86) = 9.000| class :0  {0: 1771.0, 29: 1.0}\n",
      "Rule 12 :Att (75) = 0.000 and Att (99) = 5.000 and Att (76) = 0.000| class :0  {0: 9849.0, 5: 12.0, 25: 10.0, 29: 3.0}\n",
      "Rule 13 :Att (75) = 0.000 and Att (101) <= 35.730 and Att (100) <= 87.000 and Att (0) = 3.000| class :0  {0: 16310.0, 2: 12.0, 5: 4.0, 9: 1.0, 10: 13.0, 17: 6.0, 23: 2.0, 25: 5.0, 29: 20.0}\n",
      "Rule 14 :Att (100) <= 66.090 and Att (75) = 0.000 and Att (101) <= 11.360 and Att (69) = 0.000 and Att (97) = 25.000| class :0  {0: 88.0, 10: 2.0}\n",
      "Rule 15 :Att (75) = 0.000 and Att (82) != 0.000| class :0  {0: 2746.0, 2: 36.0, 5: 28.0, 9: 2.0, 10: 35.0, 15: 9.0, 16: 7.0, 17: 12.0, 25: 10.0}\n",
      "Rule 16 :Att (100) <= 66.090 and Att (75) = 0.000 and Att (101) <= 18.640| class :0  {0: 10533.954014937823, 2: 13.0, 5: 10.0, 10: 4.0, 17: 12.0, 25: 9.0}\n",
      "Rule 17 :Att (75) = 0.000 and Att (99) = 0.000 and Att (101) <= 22.640| class :0  {0: 16067.594284814375, 2: 10.0, 8: 3.0, 10: 4.0, 17: 10.0, 25: 2.0, 29: 40.0}\n",
      "Rule 18 :Att (75) = 0.000 and Att (95) = 0.000 and Att (0) = 5.000| class :0  {0: 6892.0, 2: 10.0, 5: 8.0, 9: 4.0, 10: 4.0, 16: 1.0, 17: 8.0, 19: 3.0, 25: 9.0}\n",
      "Rule 19 :Att (100) <= 38.640 and Att (75) = 0.000 and Att (101) <= 27.730| class :0  {0: 1118.6733780384327}\n",
      "Rule 20 :Att (75) = 0.000 and Att (99) = 0.000| class :0  {0: 10538.0}\n",
      "Default Rule :| class :19  {0: 1352.0, 2: 832.0, 5: 2185.0, 8: 2517.0, 9: 903.0, 10: 276.0, 15: 57.0, 16: 380.0, 17: 960.0, 18: 2169.0, 19: 5326.0, 20: 1190.0, 23: 10.0, 25: 1154.0, 29: 14.0}\n"
     ]
    }
   ],
   "source": [
    "print(lc_ht.get_model_description())"
   ]
  },
  {
   "cell_type": "code",
   "execution_count": 399,
   "metadata": {},
   "outputs": [
    {
     "ename": "AttributeError",
     "evalue": "'VeryFastDecisionRulesClassifier' object has no attribute 'get_rules_description'",
     "output_type": "error",
     "traceback": [
      "\u001b[0;31m---------------------------------------------------------------------------\u001b[0m",
      "\u001b[0;31mAttributeError\u001b[0m                            Traceback (most recent call last)",
      "Input \u001b[0;32mIn [399]\u001b[0m, in \u001b[0;36m<cell line: 1>\u001b[0;34m()\u001b[0m\n\u001b[0;32m----> 1\u001b[0m \u001b[38;5;28mprint\u001b[39m(\u001b[43mlc_ht\u001b[49m\u001b[38;5;241;43m.\u001b[39;49m\u001b[43mget_rules_description\u001b[49m())\n",
      "\u001b[0;31mAttributeError\u001b[0m: 'VeryFastDecisionRulesClassifier' object has no attribute 'get_rules_description'"
     ]
    }
   ],
   "source": [
    "print(lc_ht.get_rules_description())"
   ]
  },
  {
   "cell_type": "code",
   "execution_count": 400,
   "metadata": {},
   "outputs": [
    {
     "data": {
      "text/plain": [
       "21"
      ]
     },
     "execution_count": 400,
     "metadata": {},
     "output_type": "execute_result"
    }
   ],
   "source": [
    "len(lc_ht.get_model_rules())"
   ]
  },
  {
   "cell_type": "code",
   "execution_count": 401,
   "metadata": {},
   "outputs": [
    {
     "name": "stdout",
     "output_type": "stream",
     "text": [
      "Rule 0 :Att (75) = 0.000 and Att (99) = 0.000 and Att (100) <= 84.820 and Att (73) = 17.000 | class: 0| class :0  {0: 9866.0, 10: 2.0, 17: 171.0, 25: 2.0, 31: 1.0}\n",
      "Rule 1 :Att (75) = 0.000 and Att (67) = 0.000 and Att (69) = 0.000 and Att (101) <= 9.550 and Att (100) <= 11.550 and Att (1) != 5.000 | class: 0| class :0  {0: 3035.0, 8: 8.0}\n",
      "Rule 2 :Att (100) <= 39.910 and Att (75) = 0.000 and Att (74) = 2.000 | class: 0| class :0  {0: 5585.0, 2: 172.0, 5: 1.0}\n",
      "Rule 3 :Att (75) = 0.000 and Att (76) = 0.000 and Att (66) = 0.000 and Att (101) <= 16.820 and Att (100) <= 11.360 and Att (0) != 0.000 | class: 0| class :0  {0: 2413.0, 8: 2.0}\n",
      "Rule 4 :Att (75) = 0.000 and Att (66) = 0.000 and Att (68) != 0.000 | class: 0| class :0  {0: 18615.0, 2: 23.0, 5: 399.0, 8: 6.0, 9: 273.0, 10: 24.0, 14: 1.0, 16: 1.0, 17: 185.0, 18: 1.0, 20: 1.0, 23: 4.0, 25: 261.0, 29: 54.0}\n",
      "Rule 5 :Att (100) <= 7.910 and Att (75) = 0.000 and Att (67) = 0.000 and Att (101) <= 15.000 | class: 0| class :0  {0: 1359.4968314802538, 8: 2.0}\n",
      "Rule 6 :Att (75) = 0.000 and Att (82) = 0.000 and Att (74) = 5.000 | class: 0| class :0  {0: 6163.0, 5: 60.0, 25: 3.0}\n",
      "Rule 7 :Att (75) = 0.000 and Att (66) = 0.000 and Att (81) != 0.000 | class: 0| class :0  {0: 16139.0, 2: 20.0, 5: 21.0, 8: 2.0, 9: 68.0, 10: 12.0, 15: 15.0, 16: 21.0, 17: 18.0, 19: 1.0, 23: 1.0, 25: 13.0}\n",
      "Rule 8 :Att (75) = 0.000 and Att (70) = 0.000 and Att (101) <= 38.090 and Att (100) <= 11.360 and Att (1) = 0.000 | class: 0| class :0  {0: 2358.0, 8: 24.0}\n",
      "Rule 9 :Att (100) <= 63.550 and Att (75) = 0.000 and Att (101) <= 4.270 | class: 0| class :0  {0: 6315.36025855345}\n",
      "Rule 10 :Att (75) = 0.000 and Att (86) = 18.000 | class: 0| class :0  {0: 10538.0, 10: 2.0, 15: 35.0, 16: 2.0, 18: 1.0, 19: 2.0, 28: 2.0}\n",
      "Rule 11 :Att (100) <= 66.090 and Att (75) = 0.000 and Att (86) = 9.000 | class: 0| class :0  {0: 1771.0, 29: 1.0}\n",
      "Rule 12 :Att (75) = 0.000 and Att (99) = 5.000 and Att (76) = 0.000 | class: 0| class :0  {0: 9849.0, 5: 12.0, 25: 10.0, 29: 3.0}\n",
      "Rule 13 :Att (75) = 0.000 and Att (101) <= 35.730 and Att (100) <= 87.000 and Att (0) = 3.000 | class: 0| class :0  {0: 16310.0, 2: 12.0, 5: 4.0, 9: 1.0, 10: 13.0, 17: 6.0, 23: 2.0, 25: 5.0, 29: 20.0}\n",
      "Rule 14 :Att (100) <= 66.090 and Att (75) = 0.000 and Att (101) <= 11.360 and Att (69) = 0.000 and Att (97) = 25.000 | class: 0| class :0  {0: 88.0, 10: 2.0}\n",
      "Rule 15 :Att (75) = 0.000 and Att (82) != 0.000 | class: 0| class :0  {0: 2746.0, 2: 36.0, 5: 28.0, 9: 2.0, 10: 35.0, 15: 9.0, 16: 7.0, 17: 12.0, 25: 10.0}\n",
      "Rule 16 :Att (100) <= 66.090 and Att (75) = 0.000 and Att (101) <= 18.640 | class: 0| class :0  {0: 10533.954014937823, 2: 13.0, 5: 10.0, 10: 4.0, 17: 12.0, 25: 9.0}\n",
      "Rule 17 :Att (75) = 0.000 and Att (99) = 0.000 and Att (101) <= 22.640 | class: 0| class :0  {0: 16067.594284814375, 2: 10.0, 8: 3.0, 10: 4.0, 17: 10.0, 25: 2.0, 29: 40.0}\n",
      "Rule 18 :Att (75) = 0.000 and Att (95) = 0.000 and Att (0) = 5.000 | class: 0| class :0  {0: 6892.0, 2: 10.0, 5: 8.0, 9: 4.0, 10: 4.0, 16: 1.0, 17: 8.0, 19: 3.0, 25: 9.0}\n",
      "Rule 19 :Att (100) <= 38.640 and Att (75) = 0.000 and Att (101) <= 27.730 | class: 0| class :0  {0: 1118.6733780384327}\n",
      "Rule 20 :Att (75) = 0.000 and Att (99) = 0.000 | class: 0| class :0  {0: 10538.0}\n",
      "Default Rule :| class :19  {0: 1352.0, 2: 832.0, 5: 2185.0, 8: 2517.0, 9: 903.0, 10: 276.0, 15: 57.0, 16: 380.0, 17: 960.0, 18: 2169.0, 19: 5326.0, 20: 1190.0, 23: 10.0, 25: 1154.0, 29: 14.0}\n"
     ]
    }
   ],
   "source": [
    "print(lc_ht.get_model_description())"
   ]
  },
  {
   "cell_type": "code",
   "execution_count": 402,
   "metadata": {},
   "outputs": [],
   "source": [
    "r=lc_ht.get_model_rules()[2]"
   ]
  },
  {
   "cell_type": "code",
   "execution_count": 403,
   "metadata": {},
   "outputs": [
    {
     "data": {
      "text/plain": [
       "[Predicate(att_idx=100, operator='<=', value=39.90909090909091),\n",
       " Predicate(att_idx=75, operator='=', value=0.0),\n",
       " Predicate(att_idx=74, operator='=', value=2.0)]"
      ]
     },
     "execution_count": 403,
     "metadata": {},
     "output_type": "execute_result"
    }
   ],
   "source": [
    "r.predicate_set"
   ]
  },
  {
   "cell_type": "code",
   "execution_count": 467,
   "metadata": {},
   "outputs": [],
   "source": [
    "p_h=3\n",
    "p_w=3\n",
    "split_h=np.arange(p_h,105-p_h,1).astype(\"int\")\n",
    "split_w=np.arange(p_w,80-p_w,1).astype(\"int\")"
   ]
  },
  {
   "cell_type": "code",
   "execution_count": 468,
   "metadata": {},
   "outputs": [
    {
     "data": {
      "text/plain": [
       "array([ 3,  4,  5,  6,  7,  8,  9, 10, 11, 12, 13, 14, 15, 16, 17, 18, 19,\n",
       "       20, 21, 22, 23, 24, 25, 26, 27, 28, 29, 30, 31, 32, 33, 34, 35, 36,\n",
       "       37, 38, 39, 40, 41, 42, 43, 44, 45, 46, 47, 48, 49, 50, 51, 52, 53,\n",
       "       54, 55, 56, 57, 58, 59, 60, 61, 62, 63, 64, 65, 66, 67, 68, 69, 70,\n",
       "       71, 72, 73, 74, 75, 76])"
      ]
     },
     "execution_count": 468,
     "metadata": {},
     "output_type": "execute_result"
    }
   ],
   "source": [
    "split_w"
   ]
  },
  {
   "cell_type": "code",
   "execution_count": 469,
   "metadata": {},
   "outputs": [],
   "source": [
    "k=500"
   ]
  },
  {
   "cell_type": "code",
   "execution_count": 470,
   "metadata": {},
   "outputs": [
    {
     "data": {
      "text/plain": [
       "array([[ 0,  0,  0, ...,  0,  0,  0],\n",
       "       [ 0,  0,  0, ...,  0,  0,  0],\n",
       "       [ 0,  0,  0, ...,  0,  0,  0],\n",
       "       ...,\n",
       "       [19, 19, 19, ..., 19, 19, 19],\n",
       "       [19, 19, 19, ..., 19, 19, 19],\n",
       "       [19, 19, 19, ..., 19, 19, 19]], dtype=int8)"
      ]
     },
     "execution_count": 470,
     "metadata": {},
     "output_type": "execute_result"
    }
   ],
   "source": [
    "obj_mask[0]"
   ]
  },
  {
   "cell_type": "code",
   "execution_count": 471,
   "metadata": {},
   "outputs": [],
   "source": [
    "X2_prev=obj_mask[k:k+1][0]\n",
    "\n",
    "X2_now=obj_mask[k+1:k+2][0]\n",
    "\n",
    "X2_next=obj_mask[k+2:k+3][0]\n",
    "\n",
    "action_prev=Actions[k:k+1][0]\n",
    "\n",
    "action_now=Actions[k+1:k+2][0]\n",
    "\n",
    "reward_prev=Rewards[k:k+1][0]\n",
    "\n",
    "reward_now=Rewards[k+1:k+2][0]"
   ]
  },
  {
   "cell_type": "code",
   "execution_count": 472,
   "metadata": {},
   "outputs": [
    {
     "data": {
      "text/plain": [
       "(105, 80)"
      ]
     },
     "execution_count": 472,
     "metadata": {},
     "output_type": "execute_result"
    }
   ],
   "source": [
    "X2_prev.shape"
   ]
  },
  {
   "cell_type": "code",
   "execution_count": 473,
   "metadata": {},
   "outputs": [],
   "source": [
    "Y=X2_now.copy()"
   ]
  },
  {
   "cell_type": "code",
   "execution_count": 474,
   "metadata": {},
   "outputs": [
    {
     "data": {
      "text/plain": [
       "<matplotlib.image.AxesImage at 0x7fc308700ca0>"
      ]
     },
     "execution_count": 474,
     "metadata": {},
     "output_type": "execute_result"
    },
    {
     "data": {
      "image/png": "[encoded data removed]",
      "text/plain": [
       "<Figure size 720x432 with 1 Axes>"
      ]
     },
     "metadata": {
      "needs_background": "light"
     },
     "output_type": "display_data"
    }
   ],
   "source": [
    "fig, ax = plt.subplots(figsize=(10, 6))\n",
    "ax.imshow(X2_now)"
   ]
  },
  {
   "cell_type": "code",
   "execution_count": 475,
   "metadata": {},
   "outputs": [
    {
     "data": {
      "text/plain": [
       "(90,)"
      ]
     },
     "execution_count": 475,
     "metadata": {},
     "output_type": "execute_result"
    }
   ],
   "source": [
    "state.shape"
   ]
  },
  {
   "cell_type": "code",
   "execution_count": 476,
   "metadata": {},
   "outputs": [
    {
     "data": {
      "text/plain": [
       "3"
      ]
     },
     "execution_count": 476,
     "metadata": {},
     "output_type": "execute_result"
    }
   ],
   "source": [
    "x"
   ]
  },
  {
   "cell_type": "code",
   "execution_count": 477,
   "metadata": {},
   "outputs": [
    {
     "data": {
      "text/plain": [
       "77"
      ]
     },
     "execution_count": 477,
     "metadata": {},
     "output_type": "execute_result"
    }
   ],
   "source": [
    "y"
   ]
  },
  {
   "cell_type": "code",
   "execution_count": 478,
   "metadata": {},
   "outputs": [],
   "source": [
    "for x in split_h:\n",
    "    for y in split_w:\n",
    "        state=np.hstack((action_prev,action_now,X2_prev[x-p_h:x+p_h+1,y-p_w:y+p_w+1].reshape(-1),X2_now[x-p_h:x+p_h+1,y-p_w:y+p_w+1].reshape(-1),np.array([x,y]),reward_prev,reward_now))\n",
    "        Y[x-p_h:x+p_h+1,y-p_w:y+p_w+1]=lc_ht.predict(state.reshape(1,-1))"
   ]
  },
  {
   "cell_type": "code",
   "execution_count": 479,
   "metadata": {},
   "outputs": [
    {
     "data": {
      "text/plain": [
       "0.45925925925925926"
      ]
     },
     "execution_count": 479,
     "metadata": {},
     "output_type": "execute_result"
    }
   ],
   "source": [
    "np.mean(Y[X2_next!=0]==X2_next[X2_next!=0])"
   ]
  },
  {
   "cell_type": "code",
   "execution_count": 480,
   "metadata": {},
   "outputs": [
    {
     "data": {
      "text/plain": [
       "<matplotlib.image.AxesImage at 0x7fc3084f0970>"
      ]
     },
     "execution_count": 480,
     "metadata": {},
     "output_type": "execute_result"
    },
    {
     "data": {
      "image/png": "[encoded data removed]",
      "text/plain": [
       "<Figure size 720x432 with 1 Axes>"
      ]
     },
     "metadata": {
      "needs_background": "light"
     },
     "output_type": "display_data"
    }
   ],
   "source": [
    "fig, ax = plt.subplots(figsize=(10, 6))\n",
    "ax.imshow(Y)"
   ]
  },
  {
   "cell_type": "code",
   "execution_count": 481,
   "metadata": {},
   "outputs": [
    {
     "data": {
      "text/plain": [
       "<matplotlib.image.AxesImage at 0x7fc30844f9a0>"
      ]
     },
     "execution_count": 481,
     "metadata": {},
     "output_type": "execute_result"
    },
    {
     "data": {
      "image/png": "[encoded data removed]",
      "text/plain": [
       "<Figure size 1152x432 with 5 Axes>"
      ]
     },
     "metadata": {
      "needs_background": "light"
     },
     "output_type": "display_data"
    }
   ],
   "source": [
    "fig, ax = plt.subplots(figsize=(16, 6))\n",
    "fig.add_subplot(1,4,1)\n",
    "plt.imshow(X2_prev)\n",
    "fig.add_subplot(1,4,2)\n",
    "plt.imshow(X2_now)\n",
    "fig.add_subplot(1,4,3)\n",
    "plt.imshow(X2_next)\n",
    "fig.add_subplot(1,4,4)\n",
    "plt.imshow(Y)"
   ]
  },
  {
   "cell_type": "code",
   "execution_count": null,
   "metadata": {},
   "outputs": [],
   "source": []
  },
  {
   "cell_type": "markdown",
   "metadata": {},
   "source": [
    "# Ontology"
   ]
  },
  {
   "cell_type": "code",
   "execution_count": 396,
   "metadata": {},
   "outputs": [],
   "source": [
    "onto = owl.get_ontology(\"http://test.org/onto.owl\")"
   ]
  },
  {
   "cell_type": "code",
   "execution_count": 84,
   "metadata": {},
   "outputs": [
    {
     "data": {
      "text/plain": [
       "get_ontology(\"http://test.org/onto.owl#\")"
      ]
     },
     "execution_count": 84,
     "metadata": {},
     "output_type": "execute_result"
    }
   ],
   "source": [
    "onto"
   ]
  },
  {
   "cell_type": "code",
   "execution_count": 436,
   "metadata": {},
   "outputs": [],
   "source": [
    "class State(owl.Thing):\n",
    "    namespace = onto"
   ]
  },
  {
   "cell_type": "code",
   "execution_count": 437,
   "metadata": {},
   "outputs": [],
   "source": [
    "class Action(owl.Thing):\n",
    "    namespace = onto"
   ]
  },
  {
   "cell_type": "code",
   "execution_count": 438,
   "metadata": {},
   "outputs": [],
   "source": [
    "class from_state_action(owl.ObjectProperty):\n",
    "    namespace = onto\n",
    "    domain = [State]\n",
    "    range  = [Action]"
   ]
  },
  {
   "cell_type": "code",
   "execution_count": 439,
   "metadata": {},
   "outputs": [],
   "source": [
    "class to_state_action(owl.ObjectProperty):\n",
    "    namespace = onto\n",
    "    domain = [Action]\n",
    "    range  = [State]"
   ]
  },
  {
   "cell_type": "code",
   "execution_count": 445,
   "metadata": {},
   "outputs": [],
   "source": [
    "with onto:\n",
    "    class object_representant(owl.DataProperty):\n",
    "        domain = [Object]\n",
    "        range = [str]"
   ]
  },
  {
   "cell_type": "code",
   "execution_count": 449,
   "metadata": {},
   "outputs": [],
   "source": [
    "with onto:\n",
    "    class object_position_x(owl.DataProperty):\n",
    "        domain = [Object]\n",
    "        range = [int]"
   ]
  },
  {
   "cell_type": "code",
   "execution_count": 450,
   "metadata": {},
   "outputs": [],
   "source": [
    "with onto:\n",
    "    class object_position_y(owl.DataProperty):\n",
    "        domain = [Object]\n",
    "        range = [int]"
   ]
  },
  {
   "cell_type": "code",
   "execution_count": 446,
   "metadata": {},
   "outputs": [],
   "source": [
    "class Object(owl.Thing):\n",
    "    namespace = onto"
   ]
  },
  {
   "cell_type": "code",
   "execution_count": 460,
   "metadata": {},
   "outputs": [
    {
     "data": {
      "text/plain": [
       "(10, 4, 19, 16)"
      ]
     },
     "execution_count": 460,
     "metadata": {},
     "output_type": "execute_result"
    }
   ],
   "source": [
    "regions[0].bbox"
   ]
  },
  {
   "cell_type": "code",
   "execution_count": 464,
   "metadata": {},
   "outputs": [
    {
     "data": {
      "text/plain": [
       "array([3, 3, 3, 3, 3, 3, 3, 3, 2, 2, 2, 2, 2, 2, 1, 1, 1, 1, 1, 1, 2, 2,\n",
       "       2, 2, 2, 2, 1, 1, 1, 1, 1, 1, 1, 1, 1, 1, 1, 1, 4, 4, 4, 4, 4, 4,\n",
       "       0, 0, 0], dtype=int32)"
      ]
     },
     "execution_count": 464,
     "metadata": {},
     "output_type": "execute_result"
    }
   ],
   "source": [
    "kmeans.labels_"
   ]
  },
  {
   "cell_type": "code",
   "execution_count": 466,
   "metadata": {},
   "outputs": [],
   "source": [
    "my_object = Object(\"my_object\", namespace = onto, object_representant = [\"rep\"],object_position_x=[0],object_position_y=[0])"
   ]
  },
  {
   "cell_type": "code",
   "execution_count": 467,
   "metadata": {},
   "outputs": [
    {
     "data": {
      "text/plain": [
       "{einsteins_riddle.object_representant,\n",
       " einsteins_riddle.object_position_x,\n",
       " einsteins_riddle.object_position_y}"
      ]
     },
     "execution_count": 467,
     "metadata": {},
     "output_type": "execute_result"
    }
   ],
   "source": [
    "onto.my_object.get_properties()"
   ]
  },
  {
   "cell_type": "markdown",
   "metadata": {},
   "source": [
    "# Reasoning"
   ]
  },
  {
   "cell_type": "code",
   "execution_count": 418,
   "metadata": {},
   "outputs": [],
   "source": [
    "onto = owl.get_ontology(\"file://einsteins_riddle.rdf\").load()"
   ]
  },
  {
   "cell_type": "markdown",
   "metadata": {},
   "source": [
    "# Grounding"
   ]
  },
  {
   "cell_type": "code",
   "execution_count": 419,
   "metadata": {},
   "outputs": [
    {
     "data": {
      "text/plain": [
       "'einsteins_riddle'"
      ]
     },
     "execution_count": 419,
     "metadata": {},
     "output_type": "execute_result"
    }
   ],
   "source": [
    "onto.name"
   ]
  },
  {
   "cell_type": "code",
   "execution_count": 420,
   "metadata": {},
   "outputs": [
    {
     "data": {
      "text/plain": [
       "[owl.Nothing,\n",
       " einsteins_riddle.owl.Beverage,\n",
       " einsteins_riddle.owl.Man,\n",
       " einsteins_riddle.owl.Color,\n",
       " einsteins_riddle.owl.House,\n",
       " einsteins_riddle.owl.Pet,\n",
       " einsteins_riddle.owl.Cigarette]"
      ]
     },
     "execution_count": 420,
     "metadata": {},
     "output_type": "execute_result"
    }
   ],
   "source": [
    "list(onto.classes())"
   ]
  },
  {
   "cell_type": "code",
   "execution_count": 421,
   "metadata": {},
   "outputs": [
    {
     "data": {
      "text/plain": [
       "[einsteins_riddle.owl.orange_juice,\n",
       " einsteins_riddle.owl.tea,\n",
       " einsteins_riddle.owl.water,\n",
       " einsteins_riddle.owl.coffee,\n",
       " einsteins_riddle.owl.milk,\n",
       " einsteins_riddle.owl.Kools,\n",
       " einsteins_riddle.owl.Lucky_Strike,\n",
       " einsteins_riddle.owl.Parliaments,\n",
       " einsteins_riddle.owl.Chesterfields,\n",
       " einsteins_riddle.owl.Old_Gold,\n",
       " einsteins_riddle.owl.green,\n",
       " einsteins_riddle.owl.red,\n",
       " einsteins_riddle.owl.blue,\n",
       " einsteins_riddle.owl.yellow,\n",
       " einsteins_riddle.owl.ivory,\n",
       " einsteins_riddle.owl.house-2,\n",
       " einsteins_riddle.owl.house-3,\n",
       " einsteins_riddle.owl.house-1,\n",
       " einsteins_riddle.owl.house-4,\n",
       " einsteins_riddle.owl.house-5,\n",
       " einsteins_riddle.owl.Ukrainian,\n",
       " einsteins_riddle.owl.Spaniard,\n",
       " einsteins_riddle.owl.Norwegian,\n",
       " einsteins_riddle.owl.Englishman,\n",
       " einsteins_riddle.owl.Japanese,\n",
       " einsteins_riddle.owl.zebra,\n",
       " einsteins_riddle.owl.horse,\n",
       " einsteins_riddle.owl.snails,\n",
       " einsteins_riddle.owl.dog,\n",
       " einsteins_riddle.owl.fox]"
      ]
     },
     "execution_count": 421,
     "metadata": {},
     "output_type": "execute_result"
    }
   ],
   "source": [
    "list(onto.individuals())"
   ]
  },
  {
   "cell_type": "code",
   "execution_count": 422,
   "metadata": {},
   "outputs": [
    {
     "data": {
      "text/plain": [
       "[einsteins_riddle.owl.drinks,\n",
       " einsteins_riddle.owl.has_color,\n",
       " einsteins_riddle.owl.lives_in,\n",
       " einsteins_riddle.owl.owns,\n",
       " einsteins_riddle.owl.right_to,\n",
       " einsteins_riddle.owl.smokes,\n",
       " 1.1.description,\n",
       " 1.1.date,\n",
       " 1.1.creator]"
      ]
     },
     "execution_count": 422,
     "metadata": {},
     "output_type": "execute_result"
    }
   ],
   "source": [
    "list(onto.properties())"
   ]
  },
  {
   "cell_type": "code",
   "execution_count": 423,
   "metadata": {},
   "outputs": [
    {
     "data": {
      "text/plain": [
       "[einsteins_riddle.owl.drinks,\n",
       " einsteins_riddle.owl.has_color,\n",
       " einsteins_riddle.owl.lives_in,\n",
       " einsteins_riddle.owl.owns,\n",
       " einsteins_riddle.owl.right_to,\n",
       " einsteins_riddle.owl.smokes]"
      ]
     },
     "execution_count": 423,
     "metadata": {},
     "output_type": "execute_result"
    }
   ],
   "source": [
    "list(onto.object_properties())"
   ]
  },
  {
   "cell_type": "code",
   "execution_count": 424,
   "metadata": {},
   "outputs": [
    {
     "data": {
      "text/plain": [
       "[AllDisjoint([einsteins_riddle.owl.Chesterfields, einsteins_riddle.owl.Englishman, einsteins_riddle.owl.Japanese, einsteins_riddle.owl.Kools, einsteins_riddle.owl.Lucky_Strike, einsteins_riddle.owl.Norwegian, einsteins_riddle.owl.Old_Gold, einsteins_riddle.owl.Parliaments, einsteins_riddle.owl.Spaniard, einsteins_riddle.owl.Ukrainian, einsteins_riddle.owl.blue, einsteins_riddle.owl.coffee, einsteins_riddle.owl.dog, einsteins_riddle.owl.fox, einsteins_riddle.owl.green, einsteins_riddle.owl.horse, einsteins_riddle.owl.house-1, einsteins_riddle.owl.house-2, einsteins_riddle.owl.house-3, einsteins_riddle.owl.house-4, einsteins_riddle.owl.house-5, einsteins_riddle.owl.ivory, einsteins_riddle.owl.milk, einsteins_riddle.owl.orange_juice, einsteins_riddle.owl.red, einsteins_riddle.owl.snails, einsteins_riddle.owl.tea, einsteins_riddle.owl.water, einsteins_riddle.owl.yellow, einsteins_riddle.owl.zebra], ontology = get_ontology(\"http://persons.iis.nsk.su/files/persons/pages/einsteins_riddle.owl#\"))]"
      ]
     },
     "execution_count": 424,
     "metadata": {},
     "output_type": "execute_result"
    }
   ],
   "source": [
    "list(onto.disjoints())"
   ]
  },
  {
   "cell_type": "code",
   "execution_count": 426,
   "metadata": {},
   "outputs": [
    {
     "name": "stderr",
     "output_type": "stream",
     "text": [
      "* Owlready2 * Running HermiT...\n",
      "    java -Xmx2000M -cp /home/olaf/anaconda3/envs/master/lib/python3.9/site-packages/owlready2/hermit:/home/olaf/anaconda3/envs/master/lib/python3.9/site-packages/owlready2/hermit/HermiT.jar org.semanticweb.HermiT.cli.CommandLine -c -O -D -I file:////tmp/tmpwhqkkfrx -Y\n"
     ]
    },
    {
     "name": "stdout",
     "output_type": "stream",
     "text": [
      "* Owlready * Adding relation einsteins_riddle.owl.Norwegian smokes einsteins_riddle.owl.Kools\n",
      "* Owlready * Adding relation einsteins_riddle.owl.Ukrainian smokes einsteins_riddle.owl.Chesterfields\n",
      "* Owlready * Adding relation einsteins_riddle.owl.Spaniard smokes einsteins_riddle.owl.Lucky_Strike\n",
      "* Owlready * Adding relation einsteins_riddle.owl.Englishman smokes einsteins_riddle.owl.Old_Gold\n",
      "* Owlready * Adding relation einsteins_riddle.owl.Norwegian owns einsteins_riddle.owl.fox\n",
      "* Owlready * Adding relation einsteins_riddle.owl.Ukrainian owns einsteins_riddle.owl.horse\n",
      "* Owlready * Adding relation einsteins_riddle.owl.Englishman owns einsteins_riddle.owl.snails\n",
      "* Owlready * Adding relation einsteins_riddle.owl.Japanese owns einsteins_riddle.owl.zebra\n",
      "* Owlready * Adding relation einsteins_riddle.owl.Norwegian drinks einsteins_riddle.owl.water\n",
      "* Owlready * Adding relation einsteins_riddle.owl.Spaniard drinks einsteins_riddle.owl.orange_juice\n",
      "* Owlready * Adding relation einsteins_riddle.owl.Englishman drinks einsteins_riddle.owl.milk\n",
      "* Owlready * Adding relation einsteins_riddle.owl.Japanese drinks einsteins_riddle.owl.coffee\n",
      "* Owlready * Adding relation einsteins_riddle.owl.house-1 has_color einsteins_riddle.owl.yellow\n",
      "* Owlready * Adding relation einsteins_riddle.owl.house-2 has_color einsteins_riddle.owl.blue\n",
      "* Owlready * Adding relation einsteins_riddle.owl.house-5 has_color einsteins_riddle.owl.green\n",
      "* Owlready * Adding relation einsteins_riddle.owl.house-3 has_color einsteins_riddle.owl.red\n",
      "* Owlready * Adding relation einsteins_riddle.owl.house-4 has_color einsteins_riddle.owl.ivory\n",
      "* Owlready * Adding relation einsteins_riddle.owl.Ukrainian lives_in einsteins_riddle.owl.house-2\n",
      "* Owlready * Adding relation einsteins_riddle.owl.Spaniard lives_in einsteins_riddle.owl.house-4\n",
      "* Owlready * Adding relation einsteins_riddle.owl.Englishman lives_in einsteins_riddle.owl.house-3\n",
      "* Owlready * Adding relation einsteins_riddle.owl.Japanese lives_in einsteins_riddle.owl.house-5\n"
     ]
    },
    {
     "name": "stderr",
     "output_type": "stream",
     "text": [
      "* Owlready2 * HermiT took 1.7078933715820312 seconds\n",
      "* Owlready * (NB: only changes on entities loaded in Python are shown, other changes are done but not listed)\n"
     ]
    }
   ],
   "source": [
    "with onto:\n",
    "    owl.sync_reasoner(infer_property_values = True)"
   ]
  },
  {
   "cell_type": "code",
   "execution_count": 427,
   "metadata": {},
   "outputs": [],
   "source": [
    "query = owl.default_world.prepare_sparql(\"\"\"SELECT ?house ?man Where{ ?house a einsteins_riddle:House. ?man a einsteins_riddle:Man. ?man einsteins_riddle:lives_in ?house. \n",
    "}\"\"\")"
   ]
  },
  {
   "cell_type": "code",
   "execution_count": 428,
   "metadata": {},
   "outputs": [
    {
     "data": {
      "text/plain": [
       "[[einsteins_riddle.owl.house-2, einsteins_riddle.owl.Ukrainian],\n",
       " [einsteins_riddle.owl.house-4, einsteins_riddle.owl.Spaniard],\n",
       " [einsteins_riddle.owl.house-1, einsteins_riddle.owl.Norwegian],\n",
       " [einsteins_riddle.owl.house-1, einsteins_riddle.owl.Norwegian],\n",
       " [einsteins_riddle.owl.house-3, einsteins_riddle.owl.Englishman],\n",
       " [einsteins_riddle.owl.house-5, einsteins_riddle.owl.Japanese]]"
      ]
     },
     "execution_count": 428,
     "metadata": {},
     "output_type": "execute_result"
    }
   ],
   "source": [
    "list(query.execute())"
   ]
  }
 ],
 "metadata": {
  "kernelspec": {
   "display_name": "Python 3 (ipykernel)",
   "language": "python",
   "name": "python3"
  },
  "language_info": {
   "codemirror_mode": {
    "name": "ipython",
    "version": 3
   },
   "file_extension": ".py",
   "mimetype": "text/x-python",
   "name": "python",
   "nbconvert_exporter": "python",
   "pygments_lexer": "ipython3",
   "version": "3.9.7"
  }
 },
 "nbformat": 4,
 "nbformat_minor": 4
}
