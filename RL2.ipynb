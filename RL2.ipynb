{
 "cells": [
  {
   "cell_type": "code",
   "execution_count": 1,
   "metadata": {},
   "outputs": [],
   "source": [
    "#RL\n",
    "from tensorforce import Runner\n",
    "from tensorforce import Environment\n",
    "from tensorforce import Agent\n",
    "#basic\n",
    "import numpy as np\n",
    "import pandas as pd\n",
    "#sklearn\n",
    "from sklearn.decomposition import PCA\n",
    "from sklearn.cluster import KMeans\n",
    "#image processing\n",
    "from skimage.future import graph\n",
    "from skimage import data\n",
    "from skimage.filters import threshold_otsu\n",
    "from skimage.segmentation import clear_border\n",
    "from skimage.measure import label, regionprops\n",
    "from skimage.segmentation import felzenszwalb\n",
    "from skimage.morphology import closing, square\n",
    "from skimage.color import label2rgb, rgb2gray\n",
    "from skimage.transform import resize\n",
    "from skimage.transform import rescale\n",
    "#visialization\n",
    "from PIL import Image\n",
    "import cv2\n",
    "import matplotlib.pyplot as plt\n",
    "import matplotlib.patches as mpatches\n",
    "import seaborn as sns\n",
    "sns.set_palette(\"Set2\")\n",
    "#ontology\n",
    "import owlready2 as owl"
   ]
  },
  {
   "cell_type": "code",
   "execution_count": null,
   "metadata": {},
   "outputs": [],
   "source": []
  },
  {
   "cell_type": "code",
   "execution_count": 2,
   "metadata": {},
   "outputs": [
    {
     "ename": "ImportError",
     "evalue": "cannot import name 'SGD' from 'keras.optimizers' (/home/olaf/anaconda3/envs/master/lib/python3.9/site-packages/keras/optimizers.py)",
     "output_type": "error",
     "traceback": [
      "\u001b[0;31m---------------------------------------------------------------------------\u001b[0m",
      "\u001b[0;31mImportError\u001b[0m                               Traceback (most recent call last)",
      "Input \u001b[0;32mIn [2]\u001b[0m, in \u001b[0;36m<cell line: 1>\u001b[0;34m()\u001b[0m\n\u001b[0;32m----> 1\u001b[0m \u001b[38;5;28;01mfrom\u001b[39;00m \u001b[38;5;21;01mdynamicgem\u001b[39;00m\u001b[38;5;21;01m.\u001b[39;00m\u001b[38;5;21;01membedding\u001b[39;00m\u001b[38;5;21;01m.\u001b[39;00m\u001b[38;5;21;01mae_static\u001b[39;00m \u001b[38;5;28;01mimport\u001b[39;00m AE\n\u001b[1;32m      2\u001b[0m \u001b[38;5;28;01mfrom\u001b[39;00m \u001b[38;5;21;01mdynamicgem\u001b[39;00m\u001b[38;5;21;01m.\u001b[39;00m\u001b[38;5;21;01mgraph_generation\u001b[39;00m \u001b[38;5;28;01mimport\u001b[39;00m dynamic_SBM_graph\n\u001b[1;32m      3\u001b[0m node_num \u001b[38;5;241m=\u001b[39m \u001b[38;5;241m1000\u001b[39m\n",
      "File \u001b[0;32m~/anaconda3/envs/master/lib/python3.9/site-packages/dynamicgem/embedding/ae_static.py:22\u001b[0m, in \u001b[0;36m<module>\u001b[0;34m\u001b[0m\n\u001b[1;32m     20\u001b[0m \u001b[38;5;28;01mfrom\u001b[39;00m \u001b[38;5;21;01mkeras\u001b[39;00m\u001b[38;5;21;01m.\u001b[39;00m\u001b[38;5;21;01mlayers\u001b[39;00m \u001b[38;5;28;01mimport\u001b[39;00m Input, Dense, Lambda, merge, Subtract\n\u001b[1;32m     21\u001b[0m \u001b[38;5;28;01mfrom\u001b[39;00m \u001b[38;5;21;01mkeras\u001b[39;00m\u001b[38;5;21;01m.\u001b[39;00m\u001b[38;5;21;01mmodels\u001b[39;00m \u001b[38;5;28;01mimport\u001b[39;00m Model, model_from_json\n\u001b[0;32m---> 22\u001b[0m \u001b[38;5;28;01mfrom\u001b[39;00m \u001b[38;5;21;01mkeras\u001b[39;00m\u001b[38;5;21;01m.\u001b[39;00m\u001b[38;5;21;01moptimizers\u001b[39;00m \u001b[38;5;28;01mimport\u001b[39;00m SGD, Adam\n\u001b[1;32m     23\u001b[0m \u001b[38;5;28;01mfrom\u001b[39;00m \u001b[38;5;21;01mkeras\u001b[39;00m \u001b[38;5;28;01mimport\u001b[39;00m backend \u001b[38;5;28;01mas\u001b[39;00m KBack\n\u001b[1;32m     24\u001b[0m \u001b[38;5;28;01mimport\u001b[39;00m \u001b[38;5;21;01mtensorflow\u001b[39;00m \u001b[38;5;28;01mas\u001b[39;00m \u001b[38;5;21;01mtf\u001b[39;00m\n",
      "\u001b[0;31mImportError\u001b[0m: cannot import name 'SGD' from 'keras.optimizers' (/home/olaf/anaconda3/envs/master/lib/python3.9/site-packages/keras/optimizers.py)"
     ]
    }
   ],
   "source": [
    ">>> from dynamicgem.embedding.ae_static import AE\n",
    ">>> from dynamicgem.graph_generation import dynamic_SBM_graph\n",
    ">>> node_num = 1000\n",
    ">>> community_num = 2\n",
    ">>> node_change_num = 10\n",
    ">>> length =5\n",
    ">>> dynamic_sbm_series = dynamic_SBM_graph.get_community_diminish_series_v2(node_num,\n",
    "                                                                        community_num,\n",
    "                                                                        length,\n",
    "                                                                        1,\n",
    "                                                                        node_change_num)\n",
    ">>> embedding = AE(d=dim_emb,\n",
    "               beta=5,\n",
    "               nu1=1e-6,\n",
    "               nu2=1e-6,\n",
    "               K=3,\n",
    "               n_units=[500, 300, ],\n",
    "               n_iter=epochs,\n",
    "               xeta=1e-4,\n",
    "               n_batch=100,\n",
    "               modelfile=['./intermediate/enc_modelsbm.json',\n",
    "                          './intermediate/dec_modelsbm.json'],\n",
    "               weightfile=['./intermediate/enc_weightssbm.hdf5',\n",
    "                           './intermediate/dec_weightssbm.hdf5'])"
   ]
  },
  {
   "cell_type": "code",
   "execution_count": null,
   "metadata": {},
   "outputs": [],
   "source": []
  },
  {
   "cell_type": "code",
   "execution_count": null,
   "metadata": {},
   "outputs": [],
   "source": []
  },
  {
   "cell_type": "markdown",
   "metadata": {},
   "source": [
    "# help functions"
   ]
  },
  {
   "cell_type": "code",
   "execution_count": 5,
   "metadata": {},
   "outputs": [],
   "source": [
    "# img = Image.fromarray(States[0], 'RGB')\n",
    "# img.save(\"normal.png\")\n",
    "# img.show()"
   ]
  },
  {
   "cell_type": "code",
   "execution_count": 6,
   "metadata": {},
   "outputs": [],
   "source": [
    "def to_shape(a, shape):\n",
    "    y_, x_ = shape\n",
    "    y, x = a.shape[0:2]\n",
    "    y_pad = (y_-y)\n",
    "    x_pad = (x_-x)\n",
    "    return np.pad(a,((y_pad//2, y_pad//2 + y_pad%2), \n",
    "                     (x_pad//2, x_pad//2 + x_pad%2),\n",
    "                    (0,0)\n",
    "                    ),\n",
    "                  mode = 'constant')"
   ]
  },
  {
   "cell_type": "code",
   "execution_count": 7,
   "metadata": {},
   "outputs": [],
   "source": [
    "def make_video(States,name=\"test\",width=210,height=160,channel=3,fps=30):\n",
    "    width = 210\n",
    "    height = 160\n",
    "    channel = 3\n",
    "\n",
    "    fourcc = cv2.VideoWriter_fourcc(*'XVID') \n",
    "    video = cv2.VideoWriter(name+'.avi', fourcc, float(fps), (height, width))\n",
    "\n",
    "    for i in range(States.shape[0]):\n",
    "        video.write(States[i])\n",
    "\n",
    "    video.release()"
   ]
  },
  {
   "cell_type": "code",
   "execution_count": 8,
   "metadata": {},
   "outputs": [],
   "source": [
    "def visualize_objects(label_image,image):\n",
    "    # to make the background transparent, pass the value of `bg_label`,\n",
    "    # and leave `bg_color` as `None` and `kind` as `overlay`\n",
    "    image_label_overlay = label2rgb(label_image, image=image, bg_label=0)\n",
    "\n",
    "    fig, ax = plt.subplots(figsize=(10, 6))\n",
    "    ax.imshow(image_label_overlay)\n",
    "\n",
    "    for region in regionprops(label_image):\n",
    "        # take regions with large enough areas\n",
    "        if region.area >= 5:\n",
    "            # draw rectangle around segmented coins\n",
    "            minr, minc, maxr, maxc = region.bbox\n",
    "            rect = mpatches.Rectangle((minc, minr), maxc - minc, maxr - minr,\n",
    "                                      fill=False, edgecolor='red', linewidth=2)\n",
    "            ax.add_patch(rect)\n",
    "\n",
    "    ax.set_axis_off()\n",
    "    plt.tight_layout()\n",
    "    plt.show()"
   ]
  },
  {
   "cell_type": "markdown",
   "metadata": {},
   "source": [
    "# Agent and Enviroment"
   ]
  },
  {
   "cell_type": "code",
   "execution_count": 52,
   "metadata": {},
   "outputs": [
    {
     "name": "stderr",
     "output_type": "stream",
     "text": [
      "\n",
      "/home/olaf/anaconda3/envs/master/lib/python3.9/site-packages/gym/envs/registration.py:505: UserWarning: \u001b[33mWARN: The environment SpaceInvaders-v4 is out of date. You should consider upgrading to version `v5` with the environment ID `ALE/SpaceInvaders-v5`.\u001b[0m\n",
      "  logger.warn(\n",
      "A.L.E: Arcade Learning Environment (version 0.7.4+069f8bd)\n",
      "[Powered by Stella]\n"
     ]
    },
    {
     "data": {
      "application/vnd.jupyter.widget-view+json": {
       "model_id": "8655625b860948bea5d5adc745700dd7",
       "version_major": 2,
       "version_minor": 0
      },
      "text/plain": [
       "Episodes:   0%|          | 0/5 [00:00, return=0.00, ts/ep=0, sec/ep=0.00, ms/ts=0.0, agent=0.0%]"
      ]
     },
     "metadata": {},
     "output_type": "display_data"
    }
   ],
   "source": [
    "# OpenAI-Gym environment specification\n",
    "environment = Environment.create(\n",
    "       environment='gym', level='SpaceInvaders-v4', max_episode_timesteps=100)\n",
    "\n",
    "# PPO agent specification\n",
    "agent = dict(\n",
    "    agent='ppo',\n",
    "    # Automatically configured network\n",
    "    network='auto',\n",
    "    # Parameters\n",
    "    memory= 1700 ,\n",
    "    batch_size = 16 , \n",
    "    # Reward estimation\n",
    "    discount=0.95, predict_terminal_values=False,\n",
    "    reward_processing=None,\n",
    "    # Baseline network and optimizer\n",
    "    #baseline=dict(type='auto', size=32, depth=1),\n",
    "    #baseline_optimizer=dict(optimizer='adam', learning_rate=1e-3, multi_step=10),\n",
    "    # Regularization\n",
    "    l2_regularization=0.0, entropy_regularization=0.0,\n",
    "    # Preprocessing\n",
    "    state_preprocessing='linear_normalization',\n",
    "    # Exploration\n",
    "    exploration=0.0, variable_noise=0.0,\n",
    "    # Default additional config values\n",
    "    config=None,\n",
    "    # Save agent every 10 updates and keep the 5 most recent checkpoints\n",
    "    saver=dict(directory='model', frequency=10, max_checkpoints=5),\n",
    "    # Log all available Tensorboard summaries\n",
    "    summarizer=dict(directory='summaries', summaries='all'),\n",
    "    # Do record agent-environment interaction trace\n",
    "    recorder=dict(directory='record')\n",
    ")\n",
    "# or: Agent.create(agent='ppo', environment=environment, ...)\n",
    "# with additional argument \"environment\" and, if applicable, \"parallel_interactions\"\n",
    "\n",
    "# Initialize the runner\n",
    "runner = Runner(agent=agent, environment=environment)\n",
    "\n",
    "# Train for 200 episodes\n",
    "runner.run(num_episodes=5)\n",
    "runner.close()"
   ]
  },
  {
   "cell_type": "markdown",
   "metadata": {},
   "source": [
    "# Dimension Reduction"
   ]
  },
  {
   "cell_type": "code",
   "execution_count": 9,
   "metadata": {},
   "outputs": [],
   "source": [
    "trace=np.load(\"./record/trace-000000000.npz\")"
   ]
  },
  {
   "cell_type": "code",
   "execution_count": 10,
   "metadata": {},
   "outputs": [
    {
     "data": {
      "text/plain": [
       "array([5, 0, 4, 1, 3, 4, 3, 4, 0, 2, 1, 0, 1, 5, 4, 1, 2, 0, 4, 1, 0, 2,\n",
       "       5, 4, 1, 3, 1, 4, 5, 2, 2, 4, 3, 4, 3, 4, 5, 0, 2, 2, 2, 1, 3, 3,\n",
       "       1, 3, 0, 3, 2, 3, 4, 5, 3, 0, 3, 2, 2, 2, 4, 4, 2, 1, 1, 4, 4, 2,\n",
       "       2, 2, 5, 0, 4, 0, 2, 5, 1, 3, 3, 3, 0, 5, 5, 5, 2, 3, 5, 0, 5, 4,\n",
       "       0, 1, 2, 3, 5, 0, 0, 0, 0, 1, 1, 5])"
      ]
     },
     "execution_count": 10,
     "metadata": {},
     "output_type": "execute_result"
    }
   ],
   "source": [
    "trace[\"states\"]\n",
    "\n",
    "trace[\"terminal\"]\n",
    "\n",
    "trace[\"reward\"]\n",
    "\n",
    "trace[\"actions\"]"
   ]
  },
  {
   "cell_type": "code",
   "execution_count": 11,
   "metadata": {},
   "outputs": [],
   "source": [
    "States=trace[\"states\"]"
   ]
  },
  {
   "cell_type": "code",
   "execution_count": 12,
   "metadata": {},
   "outputs": [
    {
     "data": {
      "text/plain": [
       "array([0., 0., 0., 0., 0., 0., 0., 0., 0., 0., 0., 0., 0., 0., 0., 0., 0.,\n",
       "       0., 0., 0., 0., 0., 0., 0., 0., 0., 0., 0., 0., 0., 0., 0., 0., 0.,\n",
       "       0., 0., 0., 0., 0., 0., 0., 0., 0., 0., 0., 0., 0., 0., 0., 0., 0.,\n",
       "       0., 0., 0., 0., 0., 0., 0., 0., 0., 0., 0., 0., 0., 0., 0., 0., 0.,\n",
       "       0., 0., 0., 0., 0., 0., 0., 0., 0., 0., 0., 0., 0., 0., 0., 0., 0.,\n",
       "       0., 0., 0., 0., 0., 0., 0., 0., 0., 0., 0., 0., 0., 0., 0.],\n",
       "      dtype=float32)"
      ]
     },
     "execution_count": 12,
     "metadata": {},
     "output_type": "execute_result"
    }
   ],
   "source": [
    "trace[\"reward\"]"
   ]
  },
  {
   "cell_type": "code",
   "execution_count": 13,
   "metadata": {},
   "outputs": [
    {
     "data": {
      "text/plain": [
       "array([5, 0, 4, 1, 3, 4, 3, 4, 0, 2, 1, 0, 1, 5, 4, 1, 2, 0, 4, 1, 0, 2,\n",
       "       5, 4, 1, 3, 1, 4, 5, 2, 2, 4, 3, 4, 3, 4, 5, 0, 2, 2, 2, 1, 3, 3,\n",
       "       1, 3, 0, 3, 2, 3, 4, 5, 3, 0, 3, 2, 2, 2, 4, 4, 2, 1, 1, 4, 4, 2,\n",
       "       2, 2, 5, 0, 4, 0, 2, 5, 1, 3, 3, 3, 0, 5, 5, 5, 2, 3, 5, 0, 5, 4,\n",
       "       0, 1, 2, 3, 5, 0, 0, 0, 0, 1, 1, 5])"
      ]
     },
     "execution_count": 13,
     "metadata": {},
     "output_type": "execute_result"
    }
   ],
   "source": [
    "trace[\"actions\"]"
   ]
  },
  {
   "cell_type": "code",
   "execution_count": 14,
   "metadata": {},
   "outputs": [
    {
     "data": {
      "image/png": "[encoded data removed]",
      "text/plain": [
       "<Figure size 432x288 with 1 Axes>"
      ]
     },
     "metadata": {
      "needs_background": "light"
     },
     "output_type": "display_data"
    }
   ],
   "source": [
    "pca = PCA(n_components=20)\n",
    "\n",
    "pca.fit(States.reshape(100,-1))\n",
    "\n",
    "X = pca.transform(States.reshape(100,-1))\n",
    "\n",
    "#visualize\n",
    "df = pd.DataFrame(X[:,:2], columns=[\"x\", \"y\"])\n",
    "sns.scatterplot(data=df,x=\"x\",y=\"y\")\n",
    "\n",
    "X=pca.inverse_transform(X)\n",
    "\n",
    "X=X.reshape(States.shape)\n",
    "\n",
    "X=X.astype(\"uint8\")"
   ]
  },
  {
   "cell_type": "code",
   "execution_count": 15,
   "metadata": {},
   "outputs": [
    {
     "data": {
      "text/plain": [
       "0.010952380952380953"
      ]
     },
     "execution_count": 15,
     "metadata": {},
     "output_type": "execute_result"
    }
   ],
   "source": [
    "np.mean((States[0] - X[0]) ** 2)"
   ]
  },
  {
   "cell_type": "code",
   "execution_count": 19,
   "metadata": {},
   "outputs": [
    {
     "data": {
      "image/png": "[encoded data removed]",
      "text/plain": [
       "<Figure size 720x432 with 1 Axes>"
      ]
     },
     "metadata": {
      "needs_background": "light"
     },
     "output_type": "display_data"
    }
   ],
   "source": [
    "image=States[80]\n",
    "\n",
    "def find_objects(image):\n",
    "    img = rgb2gray(image)\n",
    "\n",
    "    # apply threshold\n",
    "    thresh = threshold_otsu(img)\n",
    "    reg = closing(img > thresh, square(3))\n",
    "\n",
    "    # label image regions\n",
    "    label_image = label(reg)\n",
    "    \n",
    "    return label_image\n",
    "\n",
    "label_image=find_objects(image)\n",
    "visualize_objects(label_image,image)"
   ]
  },
  {
   "cell_type": "code",
   "execution_count": 17,
   "metadata": {},
   "outputs": [
    {
     "data": {
      "image/png": "[encoded data removed]",
      "text/plain": [
       "<Figure size 720x432 with 1 Axes>"
      ]
     },
     "metadata": {
      "needs_background": "light"
     },
     "output_type": "display_data"
    }
   ],
   "source": [
    "image=States[80]\n",
    "\n",
    "def find_objects2(image,threshold=80,scale=2):\n",
    "    reg = felzenszwalb(image,scale=scale)\n",
    "\n",
    "    # label image regions\n",
    "    label_image = label(reg)\n",
    "    g = graph.rag_mean_color(image, label_image)\n",
    "    final_labels = graph.cut_threshold(reg + 1, g, threshold)\n",
    "    label_image = label(final_labels)\n",
    "    \n",
    "    return label_image\n",
    "\n",
    "label_image=find_objects2(image)\n",
    "visualize_objects(label_image,image)"
   ]
  },
  {
   "cell_type": "code",
   "execution_count": 20,
   "metadata": {},
   "outputs": [],
   "source": [
    "regions=regionprops(label_image)\n",
    "\n",
    "m_w=max([reg.image.shape[0] for reg in regions])\n",
    "\n",
    "m_h=max([reg.image.shape[1] for reg in regions])\n",
    "\n",
    "objects=np.array([to_shape(image[reg.slice],(m_w,m_h)) for reg in regions])"
   ]
  },
  {
   "cell_type": "code",
   "execution_count": 21,
   "metadata": {},
   "outputs": [],
   "source": [
    "X=objects.reshape(objects.shape[0],-1)"
   ]
  },
  {
   "cell_type": "markdown",
   "metadata": {},
   "source": [
    "# Clustering"
   ]
  },
  {
   "cell_type": "code",
   "execution_count": 22,
   "metadata": {},
   "outputs": [],
   "source": [
    "kmeans = KMeans(n_clusters=5, random_state=0).fit(X)"
   ]
  },
  {
   "cell_type": "code",
   "execution_count": 23,
   "metadata": {},
   "outputs": [
    {
     "data": {
      "image/png": "[encoded data removed]",
      "text/plain": [
       "<Figure size 720x1152 with 9 Axes>"
      ]
     },
     "metadata": {
      "needs_background": "light"
     },
     "output_type": "display_data"
    },
    {
     "data": {
      "image/png": "[encoded data removed]",
      "text/plain": [
       "<Figure size 720x1152 with 2 Axes>"
      ]
     },
     "metadata": {
      "needs_background": "light"
     },
     "output_type": "display_data"
    },
    {
     "data": {
      "image/png": "[encoded data removed]",
      "text/plain": [
       "<Figure size 720x1152 with 25 Axes>"
      ]
     },
     "metadata": {
      "needs_background": "light"
     },
     "output_type": "display_data"
    },
    {
     "data": {
      "image/png": "[encoded data removed]",
      "text/plain": [
       "<Figure size 720x1152 with 14 Axes>"
      ]
     },
     "metadata": {
      "needs_background": "light"
     },
     "output_type": "display_data"
    },
    {
     "data": {
      "image/png": "[encoded data removed]",
      "text/plain": [
       "<Figure size 720x1152 with 4 Axes>"
      ]
     },
     "metadata": {
      "needs_background": "light"
     },
     "output_type": "display_data"
    }
   ],
   "source": [
    "for l in np.unique(kmeans.labels_):\n",
    "    fig = plt.figure(figsize=(10,16))\n",
    "    plt.title(\"Cluster: \"+str(label))\n",
    "    i=1\n",
    "    size=round(np.sqrt(sum(kmeans.labels_==l)))\n",
    "    for ob in objects[(kmeans.labels_==l)]:\n",
    "        fig.add_subplot(size+1, size,i)\n",
    "        plt.imshow(ob)\n",
    "        i+=1"
   ]
  },
  {
   "cell_type": "markdown",
   "metadata": {},
   "source": [
    "# States Clustering"
   ]
  },
  {
   "cell_type": "code",
   "execution_count": 24,
   "metadata": {},
   "outputs": [],
   "source": [
    "import networkx as nx"
   ]
  },
  {
   "cell_type": "code",
   "execution_count": 25,
   "metadata": {},
   "outputs": [],
   "source": [
    "obj_mask=np.array([find_objects(x)>0 for x in States])"
   ]
  },
  {
   "cell_type": "code",
   "execution_count": 26,
   "metadata": {},
   "outputs": [],
   "source": [
    "img = Image.fromarray(obj_mask[0])\n",
    "#img.save(\"normal.png\")\n",
    "img.show()"
   ]
  },
  {
   "cell_type": "code",
   "execution_count": null,
   "metadata": {},
   "outputs": [],
   "source": []
  },
  {
   "cell_type": "code",
   "execution_count": 27,
   "metadata": {},
   "outputs": [
    {
     "data": {
      "text/plain": [
       "<AxesSubplot:xlabel='x', ylabel='y'>"
      ]
     },
     "execution_count": 27,
     "metadata": {},
     "output_type": "execute_result"
    },
    {
     "data": {
      "image/png": "[encoded data removed]",
      "text/plain": [
       "<Figure size 432x288 with 1 Axes>"
      ]
     },
     "metadata": {
      "needs_background": "light"
     },
     "output_type": "display_data"
    }
   ],
   "source": [
    "pca = PCA(n_components=50)\n",
    "\n",
    "pca.fit(obj_mask.reshape(100,-1))\n",
    "\n",
    "X = pca.transform(obj_mask.reshape(100,-1))\n",
    "\n",
    "#visualize\n",
    "df = pd.DataFrame(X[:,:2], columns=[\"x\", \"y\"])\n",
    "sns.scatterplot(data=df,x=\"x\",y=\"y\")\n",
    "\n",
    "# X=pca.inverse_transform(X)\n",
    "\n",
    "# X=X.reshape(obj_mask.shape)\n",
    "\n",
    "# X=X.astype(\"uint8\")"
   ]
  },
  {
   "cell_type": "code",
   "execution_count": 28,
   "metadata": {},
   "outputs": [
    {
     "data": {
      "text/plain": [
       "(100, 50)"
      ]
     },
     "execution_count": 28,
     "metadata": {},
     "output_type": "execute_result"
    }
   ],
   "source": [
    "X.shape"
   ]
  },
  {
   "cell_type": "code",
   "execution_count": 29,
   "metadata": {},
   "outputs": [],
   "source": [
    "kmeans = KMeans(n_clusters=6, random_state=0).fit(X)"
   ]
  },
  {
   "cell_type": "code",
   "execution_count": 30,
   "metadata": {},
   "outputs": [],
   "source": [
    "lab=kmeans.labels_"
   ]
  },
  {
   "cell_type": "code",
   "execution_count": 31,
   "metadata": {},
   "outputs": [],
   "source": [
    "Rewards=trace[\"reward\"]\n",
    "\n",
    "changes=np.where(lab[1:]!=lab[:-1])[0]\n",
    "\n",
    "changes=np.concatenate(([0],changes,[len(Rewards)-1]))"
   ]
  },
  {
   "cell_type": "code",
   "execution_count": 32,
   "metadata": {},
   "outputs": [
    {
     "data": {
      "text/plain": [
       "array([ 0, 42, 53, 63, 74, 86, 99])"
      ]
     },
     "execution_count": 32,
     "metadata": {},
     "output_type": "execute_result"
    }
   ],
   "source": [
    "changes"
   ]
  },
  {
   "cell_type": "code",
   "execution_count": 33,
   "metadata": {},
   "outputs": [],
   "source": [
    "G=nx.DiGraph()"
   ]
  },
  {
   "cell_type": "code",
   "execution_count": 34,
   "metadata": {},
   "outputs": [],
   "source": [
    "for c in range(1,len(changes)-1):\n",
    "    G.add_edge(lab[changes[c]],lab[changes[c+1]], weight=-np.sum(Rewards[changes[c-1]:changes[c]]))\n",
    "\n",
    "G.add_edge(lab[changes[c+1]],-1, weight=-np.sum(Rewards[changes[c]:changes[c+1]]))"
   ]
  },
  {
   "cell_type": "code",
   "execution_count": 35,
   "metadata": {},
   "outputs": [
    {
     "data": {
      "image/png": "[encoded data removed]",
      "text/plain": [
       "<Figure size 432x288 with 1 Axes>"
      ]
     },
     "metadata": {},
     "output_type": "display_data"
    }
   ],
   "source": [
    "nx.draw(G,with_labels=True)"
   ]
  },
  {
   "cell_type": "code",
   "execution_count": 37,
   "metadata": {},
   "outputs": [
    {
     "data": {
      "text/plain": [
       "[1, 4, 5]"
      ]
     },
     "execution_count": 37,
     "metadata": {},
     "output_type": "execute_result"
    }
   ],
   "source": [
    "nx.shortest_path(G, source=1, target=5, weight=\"weight\", method='dijkstra')"
   ]
  },
  {
   "cell_type": "code",
   "execution_count": null,
   "metadata": {},
   "outputs": [],
   "source": []
  },
  {
   "cell_type": "code",
   "execution_count": 38,
   "metadata": {},
   "outputs": [],
   "source": [
    "make_video(States[changes],\"test2\",fps=7)"
   ]
  },
  {
   "cell_type": "code",
   "execution_count": 39,
   "metadata": {},
   "outputs": [],
   "source": [
    "trace2=np.load(\"./record/trace-000000004.npz\")"
   ]
  },
  {
   "cell_type": "code",
   "execution_count": 40,
   "metadata": {},
   "outputs": [],
   "source": [
    "States2=trace2[\"states\"]"
   ]
  },
  {
   "cell_type": "code",
   "execution_count": 41,
   "metadata": {},
   "outputs": [],
   "source": [
    "obj_mask2=np.array([find_objects(x)>0 for x in States2])"
   ]
  },
  {
   "cell_type": "code",
   "execution_count": 42,
   "metadata": {},
   "outputs": [],
   "source": [
    "X = pca.transform(obj_mask2.reshape(100,-1))"
   ]
  },
  {
   "cell_type": "code",
   "execution_count": 43,
   "metadata": {},
   "outputs": [
    {
     "data": {
      "text/plain": [
       "array([1, 1, 1, 1, 1, 1, 1, 1, 1, 1, 1, 1, 1, 1, 1, 1, 1, 1, 1, 1, 1, 1,\n",
       "       1, 1, 1, 1, 1, 1, 1, 1, 1, 1, 1, 1, 1, 1, 1, 1, 1, 1, 1, 1, 4, 4,\n",
       "       4, 4, 4, 4, 4, 4, 4, 4, 4, 4, 5, 5, 5, 5, 5, 5, 5, 5, 5, 5, 2, 2,\n",
       "       2, 2, 2, 2, 2, 2, 2, 2, 2, 3, 3, 3, 3, 3, 3, 3, 3, 3, 3, 3, 3, 0,\n",
       "       0, 0, 0, 0, 0, 0, 0, 0, 0, 0, 0, 0], dtype=int32)"
      ]
     },
     "execution_count": 43,
     "metadata": {},
     "output_type": "execute_result"
    }
   ],
   "source": [
    "kmeans.predict(X)"
   ]
  },
  {
   "cell_type": "code",
   "execution_count": 44,
   "metadata": {},
   "outputs": [],
   "source": [
    "lab=kmeans.predict(X)\n",
    "\n",
    "Rewards2=trace2[\"reward\"]\n",
    "\n",
    "changes2=np.where(lab[1:]!=lab[:-1])[0]\n",
    "\n",
    "changes2=np.concatenate(([0],changes2,[len(Rewards)-1]))"
   ]
  },
  {
   "cell_type": "code",
   "execution_count": 45,
   "metadata": {},
   "outputs": [
    {
     "data": {
      "text/plain": [
       "array([4, 2, 1, 0, 0, 2, 3, 3, 1, 5, 3, 0, 1, 4, 2, 3, 0, 3, 5, 4, 3, 5,\n",
       "       4, 1, 4, 1, 2, 5, 1, 1, 5, 0, 5, 5, 4, 1, 3, 1, 4, 3, 4, 5, 4, 3,\n",
       "       0, 5, 3, 0, 5, 2, 2, 2, 2, 4, 0, 1, 1, 1, 5, 0, 0, 2, 4, 0, 3, 5,\n",
       "       0, 2, 3, 4, 0, 3, 3, 2, 0, 1, 1, 3, 5, 3, 1, 2, 1, 5, 0, 0, 5, 5,\n",
       "       3, 1, 2, 2, 5, 3, 5, 5, 1, 4, 4, 2])"
      ]
     },
     "execution_count": 45,
     "metadata": {},
     "output_type": "execute_result"
    }
   ],
   "source": [
    "trace2[\"actions\"]"
   ]
  },
  {
   "cell_type": "code",
   "execution_count": 46,
   "metadata": {},
   "outputs": [
    {
     "data": {
      "text/plain": [
       "array([5, 0, 4, 1, 3, 4, 3, 4, 0, 2, 1, 0, 1, 5, 4, 1, 2, 0, 4, 1, 0, 2,\n",
       "       5, 4, 1, 3, 1, 4, 5, 2, 2, 4, 3, 4, 3, 4, 5, 0, 2, 2, 2, 1, 3, 3,\n",
       "       1, 3, 0, 3, 2, 3, 4, 5, 3, 0, 3, 2, 2, 2, 4, 4, 2, 1, 1, 4, 4, 2,\n",
       "       2, 2, 5, 0, 4, 0, 2, 5, 1, 3, 3, 3, 0, 5, 5, 5, 2, 3, 5, 0, 5, 4,\n",
       "       0, 1, 2, 3, 5, 0, 0, 0, 0, 1, 1, 5])"
      ]
     },
     "execution_count": 46,
     "metadata": {},
     "output_type": "execute_result"
    }
   ],
   "source": [
    "trace[\"actions\"]"
   ]
  },
  {
   "cell_type": "code",
   "execution_count": 47,
   "metadata": {},
   "outputs": [],
   "source": [
    "for c in range(1,len(changes2)-1):\n",
    "    G.add_edge(lab[changes2[c]],lab[changes2[c+1]], weight=-np.sum(Rewards[changes2[c-1]:changes2[c]]))\n",
    "\n",
    "G.add_edge(lab[changes2[c+1]],-1, weight=-np.sum(Rewards[changes2[c]:changes2[c+1]]))"
   ]
  },
  {
   "cell_type": "code",
   "execution_count": 48,
   "metadata": {},
   "outputs": [
    {
     "data": {
      "image/png": "[encoded data removed]",
      "text/plain": [
       "<Figure size 432x288 with 1 Axes>"
      ]
     },
     "metadata": {},
     "output_type": "display_data"
    }
   ],
   "source": [
    "nx.draw(G,with_labels=True)"
   ]
  },
  {
   "cell_type": "markdown",
   "metadata": {},
   "source": [
    "# Trees"
   ]
  },
  {
   "cell_type": "code",
   "execution_count": 69,
   "metadata": {},
   "outputs": [
    {
     "name": "stdout",
     "output_type": "stream",
     "text": [
      "200 samples analyzed.\n",
      "Hoeffding Tree accuracy: 0.945\n"
     ]
    }
   ],
   "source": [
    "# Imports\n",
    "from skmultiflow.data import SEAGenerator\n",
    "from skmultiflow.trees import HoeffdingTreeClassifier\n",
    "# Setting up a data stream\n",
    "stream = SEAGenerator(random_state=1)\n",
    "# Setup Hoeffding Tree estimator\n",
    "ht = HoeffdingTreeClassifier()\n",
    "# Setup variables to control loop and track performance\n",
    "n_samples = 0\n",
    "correct_cnt = 0\n",
    "max_samples = 200\n",
    "# Train the estimator with the samples provided by the data stream\n",
    "while n_samples < max_samples and stream.has_more_samples():\n",
    "    X, y = stream.next_sample()\n",
    "    y_pred = ht.predict(X)\n",
    "    if y[0] == y_pred[0]:\n",
    "        correct_cnt += 1\n",
    "    ht = ht.partial_fit(X, y)\n",
    "    n_samples += 1\n",
    "# Display results\n",
    "print('{} samples analyzed.'.format(n_samples))\n",
    "print('Hoeffding Tree accuracy: {}'.format(correct_cnt / n_samples))"
   ]
  },
  {
   "cell_type": "code",
   "execution_count": 59,
   "metadata": {},
   "outputs": [],
   "source": [
    "ht = HoeffdingTreeClassifier()"
   ]
  },
  {
   "cell_type": "code",
   "execution_count": 66,
   "metadata": {},
   "outputs": [],
   "source": [
    "X=obj_mask.reshape(100,-1)"
   ]
  },
  {
   "cell_type": "code",
   "execution_count": 70,
   "metadata": {},
   "outputs": [],
   "source": [
    "#ht = ht.partial_fit(X, X)"
   ]
  },
  {
   "cell_type": "code",
   "execution_count": 55,
   "metadata": {},
   "outputs": [
    {
     "data": {
      "text/plain": [
       "'Leaf = Class 1 | {0: 56.0, 1: 144.0}\\n'"
      ]
     },
     "execution_count": 55,
     "metadata": {},
     "output_type": "execute_result"
    }
   ],
   "source": [
    "ht.get_model_description()"
   ]
  },
  {
   "cell_type": "code",
   "execution_count": 57,
   "metadata": {},
   "outputs": [
    {
     "name": "stdout",
     "output_type": "stream",
     "text": [
      "ass: 1\n",
      "\n"
     ]
    }
   ],
   "source": [
    "print(ht.get_rules_description())"
   ]
  },
  {
   "cell_type": "code",
   "execution_count": 71,
   "metadata": {},
   "outputs": [
    {
     "name": "stdout",
     "output_type": "stream",
     "text": [
      "Leaf = Class 1 | {0: 56.0, 1: 144.0}\n",
      "\n"
     ]
    }
   ],
   "source": [
    "print(ht.get_model_description())"
   ]
  },
  {
   "cell_type": "code",
   "execution_count": 58,
   "metadata": {},
   "outputs": [
    {
     "data": {
      "text/plain": [
       "[Rule(class_distribution=None, class_idx=1, drift_detector=None)]"
      ]
     },
     "execution_count": 58,
     "metadata": {},
     "output_type": "execute_result"
    }
   ],
   "source": [
    "ht.get_model_rules()"
   ]
  },
  {
   "cell_type": "code",
   "execution_count": 106,
   "metadata": {},
   "outputs": [
    {
     "name": "stdout",
     "output_type": "stream",
     "text": [
      "if Attribute 2 <= 36.36363636363636:\n",
      "  Leaf = Class 0 | {0: 5521.516267882114}\n",
      "if Attribute 2 > 36.36363636363636:\n",
      "  if Attribute 2 <= 60.45454545454545:\n",
      "    if Attribute 2 <= 39.09090909090909:\n",
      "      Leaf = Class 0 | {0: 952.3534640186198}\n",
      "    if Attribute 2 > 39.09090909090909:\n",
      "      if Attribute 2 <= 58.18181818181818:\n",
      "        Leaf = Class 1 | {1: 5707.59420542183}\n",
      "      if Attribute 2 > 58.18181818181818:\n",
      "        if Attribute 2 <= 59.09090909090909:\n",
      "          Leaf = Class 1 | {1: 275.0}\n",
      "        if Attribute 2 > 59.09090909090909:\n",
      "          Leaf = Class 0 | {0: 276.0}\n",
      "  if Attribute 2 > 60.45454545454545:\n",
      "    Leaf = Class 0 | {0: 6285.275136305439}\n",
      "\n"
     ]
    },
    {
     "data": {
      "text/plain": [
       "array([0, 1, 0, 0, 0, 1, 0, 1, 0, 0, 0, 0, 1, 0, 1, 0, 0, 0, 1, 0, 0, 1,\n",
       "       0, 0, 1, 0, 0, 1, 0, 0, 1, 0, 0, 0, 0, 0, 1, 0, 0, 0, 0, 1, 0, 0,\n",
       "       0, 0, 0, 0, 0, 0, 1, 0, 0, 1, 0, 0, 1, 1, 0, 0, 1, 1, 1, 0, 0, 1,\n",
       "       0, 0, 0, 0, 0, 1, 0, 1, 0, 1, 0, 0, 0, 0, 0, 0, 1, 0, 0, 0, 0, 0,\n",
       "       1, 0, 1, 1, 1, 0, 0, 1, 0, 0, 0, 1])"
      ]
     },
     "execution_count": 106,
     "metadata": {},
     "output_type": "execute_result"
    }
   ],
   "source": [
    "# Setup the stream\n",
    "stream = AGRAWALGenerator()\n",
    "X, y = stream.next_sample(20000)\n",
    "# Setup the learner\n",
    "learner = HoeffdingTreeClassifier()\n",
    "# Train\n",
    "learner.partial_fit(X, y)\n",
    "# Print rules\n",
    "print(learner.get_model_description())\n",
    "# Predict\n",
    "X, y = stream.next_sample(100)\n",
    "learner.predict(X)"
   ]
  },
  {
   "cell_type": "code",
   "execution_count": null,
   "metadata": {},
   "outputs": [],
   "source": []
  },
  {
   "cell_type": "code",
   "execution_count": 101,
   "metadata": {},
   "outputs": [
    {
     "name": "stdout",
     "output_type": "stream",
     "text": [
      "No Nominal attributes have been defined, will consider all attributes as numerical\n",
      "Rule 0 :Att (2) <= 36.360| class :0  {0: 5576.6702283655395}\n",
      "Rule 1 :Att (2) > 60.450| class :0  {0: 6304.473710946984}\n",
      "Rule 2 :Att (2) <= 39.090| class :0  {0: 5864.713041885753}\n",
      "Rule 3 :Att (2) > 60.910| class :0  {0: 5626.952614493953}\n",
      "Rule 4 :Att (2) > 58.180 and Att (2) <= 59.090| class :1  {1: 207.0}\n",
      "Rule 5 :Att (2) <= 39.640| class :0  {0: 2016.0}\n",
      "Rule 6 :Att (2) <= 37.000| class :0  {0: 1574.0}\n",
      "Rule 7 :Att (2) <= 39.820 and Att (2) > 37.820| class :0  {0: 169.0}\n",
      "Rule 8 :Att (2) > 60.910| class :0  {0: 1130.0314519660838}\n",
      "Rule 9 :Att (2) > 58.180| class :0  {0: 134.0, 1: 5.0}\n",
      "Default Rule :| class :1  {1: 1089.0}\n"
     ]
    },
    {
     "name": "stderr",
     "output_type": "stream",
     "text": [
      "/home/olaf/anaconda3/envs/master/lib/python3.9/site-packages/skmultiflow/rules/very_fast_decision_rules.py:837: VisibleDeprecationWarning: Creating an ndarray from ragged nested sequences (which is a list-or-tuple of lists-or-tuples-or ndarrays with different lengths or shapes) is deprecated. If you meant to do this, you must specify 'dtype=object' when creating the ndarray.\n",
      "  return np.array(predictions)\n"
     ]
    },
    {
     "data": {
      "text/plain": [
       "array([0, 0, 1, 0, 0, 0, 0, 1, 0, 0, 1, 1, 0, 0, 0, 0, 0, 1, 0, 0, 0, 0,\n",
       "       0, 0, 1, 0, 1, 0, 0, 0, 1, 0, 0, 0, 1, 0, 0, 0, 0, 1, 0, 0, 1, 0,\n",
       "       0, 0, 1, 0, 0, 1, 1, 1, 1, 1, 1, 1, 0, 0, 0, 1, 0, 1, 0, 1, 0, 0,\n",
       "       0, 1, 0, 0, 0, 1, 0, 1, 0, 0, 0, 0, 1, 1, 0, 1, 0, 1, 0, 1, 0, 0,\n",
       "       1, 0, 1, 0, 0, 0, 0, 0, 0, 1, 0, 1])"
      ]
     },
     "execution_count": 101,
     "metadata": {},
     "output_type": "execute_result"
    }
   ],
   "source": [
    "from skmultiflow.rules import VeryFastDecisionRulesClassifier\n",
    "from skmultiflow.data import AGRAWALGenerator\n",
    "# Setup the stream\n",
    "stream = AGRAWALGenerator()\n",
    "X, y = stream.next_sample(20000)\n",
    "# Setup the learner\n",
    "learner = VeryFastDecisionRulesClassifier(ordered_rules=False)\n",
    "# Train\n",
    "learner.partial_fit(X, y)\n",
    "# Print rules\n",
    "print(learner.get_model_description())\n",
    "# Predict\n",
    "X, y = stream.next_sample(100)\n",
    "learner.predict(X)"
   ]
  },
  {
   "cell_type": "code",
   "execution_count": 108,
   "metadata": {},
   "outputs": [],
   "source": [
    "r=learner.get_model_rules()[2]"
   ]
  },
  {
   "cell_type": "code",
   "execution_count": 109,
   "metadata": {},
   "outputs": [
    {
     "data": {
      "text/plain": [
       "'Att (2) > 36.360 and Att (2) <= 60.450 and Att (2) > 39.090 and Att (2) <= 58.180 | class: 1'"
      ]
     },
     "execution_count": 109,
     "metadata": {},
     "output_type": "execute_result"
    }
   ],
   "source": [
    "r.get_rule()"
   ]
  },
  {
   "cell_type": "markdown",
   "metadata": {},
   "source": [
    "# Ontology"
   ]
  },
  {
   "cell_type": "code",
   "execution_count": 396,
   "metadata": {},
   "outputs": [],
   "source": [
    "onto = owl.get_ontology(\"http://test.org/onto.owl\")"
   ]
  },
  {
   "cell_type": "code",
   "execution_count": 84,
   "metadata": {},
   "outputs": [
    {
     "data": {
      "text/plain": [
       "get_ontology(\"http://test.org/onto.owl#\")"
      ]
     },
     "execution_count": 84,
     "metadata": {},
     "output_type": "execute_result"
    }
   ],
   "source": [
    "onto"
   ]
  },
  {
   "cell_type": "code",
   "execution_count": 436,
   "metadata": {},
   "outputs": [],
   "source": [
    "class State(owl.Thing):\n",
    "    namespace = onto"
   ]
  },
  {
   "cell_type": "code",
   "execution_count": 437,
   "metadata": {},
   "outputs": [],
   "source": [
    "class Action(owl.Thing):\n",
    "    namespace = onto"
   ]
  },
  {
   "cell_type": "code",
   "execution_count": 438,
   "metadata": {},
   "outputs": [],
   "source": [
    "class from_state_action(owl.ObjectProperty):\n",
    "    namespace = onto\n",
    "    domain = [State]\n",
    "    range  = [Action]"
   ]
  },
  {
   "cell_type": "code",
   "execution_count": 439,
   "metadata": {},
   "outputs": [],
   "source": [
    "class to_state_action(owl.ObjectProperty):\n",
    "    namespace = onto\n",
    "    domain = [Action]\n",
    "    range  = [State]"
   ]
  },
  {
   "cell_type": "code",
   "execution_count": 445,
   "metadata": {},
   "outputs": [],
   "source": [
    "with onto:\n",
    "    class object_representant(owl.DataProperty):\n",
    "        domain = [Object]\n",
    "        range = [str]"
   ]
  },
  {
   "cell_type": "code",
   "execution_count": 449,
   "metadata": {},
   "outputs": [],
   "source": [
    "with onto:\n",
    "    class object_position_x(owl.DataProperty):\n",
    "        domain = [Object]\n",
    "        range = [int]"
   ]
  },
  {
   "cell_type": "code",
   "execution_count": 450,
   "metadata": {},
   "outputs": [],
   "source": [
    "with onto:\n",
    "    class object_position_y(owl.DataProperty):\n",
    "        domain = [Object]\n",
    "        range = [int]"
   ]
  },
  {
   "cell_type": "code",
   "execution_count": 446,
   "metadata": {},
   "outputs": [],
   "source": [
    "class Object(owl.Thing):\n",
    "    namespace = onto"
   ]
  },
  {
   "cell_type": "code",
   "execution_count": 460,
   "metadata": {},
   "outputs": [
    {
     "data": {
      "text/plain": [
       "(10, 4, 19, 16)"
      ]
     },
     "execution_count": 460,
     "metadata": {},
     "output_type": "execute_result"
    }
   ],
   "source": [
    "regions[0].bbox"
   ]
  },
  {
   "cell_type": "code",
   "execution_count": 464,
   "metadata": {},
   "outputs": [
    {
     "data": {
      "text/plain": [
       "array([3, 3, 3, 3, 3, 3, 3, 3, 2, 2, 2, 2, 2, 2, 1, 1, 1, 1, 1, 1, 2, 2,\n",
       "       2, 2, 2, 2, 1, 1, 1, 1, 1, 1, 1, 1, 1, 1, 1, 1, 4, 4, 4, 4, 4, 4,\n",
       "       0, 0, 0], dtype=int32)"
      ]
     },
     "execution_count": 464,
     "metadata": {},
     "output_type": "execute_result"
    }
   ],
   "source": [
    "kmeans.labels_"
   ]
  },
  {
   "cell_type": "code",
   "execution_count": 466,
   "metadata": {},
   "outputs": [],
   "source": [
    "my_object = Object(\"my_object\", namespace = onto, object_representant = [\"rep\"],object_position_x=[0],object_position_y=[0])"
   ]
  },
  {
   "cell_type": "code",
   "execution_count": 467,
   "metadata": {},
   "outputs": [
    {
     "data": {
      "text/plain": [
       "{einsteins_riddle.object_representant,\n",
       " einsteins_riddle.object_position_x,\n",
       " einsteins_riddle.object_position_y}"
      ]
     },
     "execution_count": 467,
     "metadata": {},
     "output_type": "execute_result"
    }
   ],
   "source": [
    "onto.my_object.get_properties()"
   ]
  },
  {
   "cell_type": "markdown",
   "metadata": {},
   "source": [
    "# Reasoning"
   ]
  },
  {
   "cell_type": "code",
   "execution_count": 418,
   "metadata": {},
   "outputs": [],
   "source": [
    "onto = owl.get_ontology(\"file://einsteins_riddle.rdf\").load()"
   ]
  },
  {
   "cell_type": "markdown",
   "metadata": {},
   "source": [
    "# Grounding"
   ]
  },
  {
   "cell_type": "code",
   "execution_count": 419,
   "metadata": {},
   "outputs": [
    {
     "data": {
      "text/plain": [
       "'einsteins_riddle'"
      ]
     },
     "execution_count": 419,
     "metadata": {},
     "output_type": "execute_result"
    }
   ],
   "source": [
    "onto.name"
   ]
  },
  {
   "cell_type": "code",
   "execution_count": 420,
   "metadata": {},
   "outputs": [
    {
     "data": {
      "text/plain": [
       "[owl.Nothing,\n",
       " einsteins_riddle.owl.Beverage,\n",
       " einsteins_riddle.owl.Man,\n",
       " einsteins_riddle.owl.Color,\n",
       " einsteins_riddle.owl.House,\n",
       " einsteins_riddle.owl.Pet,\n",
       " einsteins_riddle.owl.Cigarette]"
      ]
     },
     "execution_count": 420,
     "metadata": {},
     "output_type": "execute_result"
    }
   ],
   "source": [
    "list(onto.classes())"
   ]
  },
  {
   "cell_type": "code",
   "execution_count": 421,
   "metadata": {},
   "outputs": [
    {
     "data": {
      "text/plain": [
       "[einsteins_riddle.owl.orange_juice,\n",
       " einsteins_riddle.owl.tea,\n",
       " einsteins_riddle.owl.water,\n",
       " einsteins_riddle.owl.coffee,\n",
       " einsteins_riddle.owl.milk,\n",
       " einsteins_riddle.owl.Kools,\n",
       " einsteins_riddle.owl.Lucky_Strike,\n",
       " einsteins_riddle.owl.Parliaments,\n",
       " einsteins_riddle.owl.Chesterfields,\n",
       " einsteins_riddle.owl.Old_Gold,\n",
       " einsteins_riddle.owl.green,\n",
       " einsteins_riddle.owl.red,\n",
       " einsteins_riddle.owl.blue,\n",
       " einsteins_riddle.owl.yellow,\n",
       " einsteins_riddle.owl.ivory,\n",
       " einsteins_riddle.owl.house-2,\n",
       " einsteins_riddle.owl.house-3,\n",
       " einsteins_riddle.owl.house-1,\n",
       " einsteins_riddle.owl.house-4,\n",
       " einsteins_riddle.owl.house-5,\n",
       " einsteins_riddle.owl.Ukrainian,\n",
       " einsteins_riddle.owl.Spaniard,\n",
       " einsteins_riddle.owl.Norwegian,\n",
       " einsteins_riddle.owl.Englishman,\n",
       " einsteins_riddle.owl.Japanese,\n",
       " einsteins_riddle.owl.zebra,\n",
       " einsteins_riddle.owl.horse,\n",
       " einsteins_riddle.owl.snails,\n",
       " einsteins_riddle.owl.dog,\n",
       " einsteins_riddle.owl.fox]"
      ]
     },
     "execution_count": 421,
     "metadata": {},
     "output_type": "execute_result"
    }
   ],
   "source": [
    "list(onto.individuals())"
   ]
  },
  {
   "cell_type": "code",
   "execution_count": 422,
   "metadata": {},
   "outputs": [
    {
     "data": {
      "text/plain": [
       "[einsteins_riddle.owl.drinks,\n",
       " einsteins_riddle.owl.has_color,\n",
       " einsteins_riddle.owl.lives_in,\n",
       " einsteins_riddle.owl.owns,\n",
       " einsteins_riddle.owl.right_to,\n",
       " einsteins_riddle.owl.smokes,\n",
       " 1.1.description,\n",
       " 1.1.date,\n",
       " 1.1.creator]"
      ]
     },
     "execution_count": 422,
     "metadata": {},
     "output_type": "execute_result"
    }
   ],
   "source": [
    "list(onto.properties())"
   ]
  },
  {
   "cell_type": "code",
   "execution_count": 423,
   "metadata": {},
   "outputs": [
    {
     "data": {
      "text/plain": [
       "[einsteins_riddle.owl.drinks,\n",
       " einsteins_riddle.owl.has_color,\n",
       " einsteins_riddle.owl.lives_in,\n",
       " einsteins_riddle.owl.owns,\n",
       " einsteins_riddle.owl.right_to,\n",
       " einsteins_riddle.owl.smokes]"
      ]
     },
     "execution_count": 423,
     "metadata": {},
     "output_type": "execute_result"
    }
   ],
   "source": [
    "list(onto.object_properties())"
   ]
  },
  {
   "cell_type": "code",
   "execution_count": 424,
   "metadata": {},
   "outputs": [
    {
     "data": {
      "text/plain": [
       "[AllDisjoint([einsteins_riddle.owl.Chesterfields, einsteins_riddle.owl.Englishman, einsteins_riddle.owl.Japanese, einsteins_riddle.owl.Kools, einsteins_riddle.owl.Lucky_Strike, einsteins_riddle.owl.Norwegian, einsteins_riddle.owl.Old_Gold, einsteins_riddle.owl.Parliaments, einsteins_riddle.owl.Spaniard, einsteins_riddle.owl.Ukrainian, einsteins_riddle.owl.blue, einsteins_riddle.owl.coffee, einsteins_riddle.owl.dog, einsteins_riddle.owl.fox, einsteins_riddle.owl.green, einsteins_riddle.owl.horse, einsteins_riddle.owl.house-1, einsteins_riddle.owl.house-2, einsteins_riddle.owl.house-3, einsteins_riddle.owl.house-4, einsteins_riddle.owl.house-5, einsteins_riddle.owl.ivory, einsteins_riddle.owl.milk, einsteins_riddle.owl.orange_juice, einsteins_riddle.owl.red, einsteins_riddle.owl.snails, einsteins_riddle.owl.tea, einsteins_riddle.owl.water, einsteins_riddle.owl.yellow, einsteins_riddle.owl.zebra], ontology = get_ontology(\"http://persons.iis.nsk.su/files/persons/pages/einsteins_riddle.owl#\"))]"
      ]
     },
     "execution_count": 424,
     "metadata": {},
     "output_type": "execute_result"
    }
   ],
   "source": [
    "list(onto.disjoints())"
   ]
  },
  {
   "cell_type": "code",
   "execution_count": 426,
   "metadata": {},
   "outputs": [
    {
     "name": "stderr",
     "output_type": "stream",
     "text": [
      "* Owlready2 * Running HermiT...\n",
      "    java -Xmx2000M -cp /home/olaf/anaconda3/envs/master/lib/python3.9/site-packages/owlready2/hermit:/home/olaf/anaconda3/envs/master/lib/python3.9/site-packages/owlready2/hermit/HermiT.jar org.semanticweb.HermiT.cli.CommandLine -c -O -D -I file:////tmp/tmpwhqkkfrx -Y\n"
     ]
    },
    {
     "name": "stdout",
     "output_type": "stream",
     "text": [
      "* Owlready * Adding relation einsteins_riddle.owl.Norwegian smokes einsteins_riddle.owl.Kools\n",
      "* Owlready * Adding relation einsteins_riddle.owl.Ukrainian smokes einsteins_riddle.owl.Chesterfields\n",
      "* Owlready * Adding relation einsteins_riddle.owl.Spaniard smokes einsteins_riddle.owl.Lucky_Strike\n",
      "* Owlready * Adding relation einsteins_riddle.owl.Englishman smokes einsteins_riddle.owl.Old_Gold\n",
      "* Owlready * Adding relation einsteins_riddle.owl.Norwegian owns einsteins_riddle.owl.fox\n",
      "* Owlready * Adding relation einsteins_riddle.owl.Ukrainian owns einsteins_riddle.owl.horse\n",
      "* Owlready * Adding relation einsteins_riddle.owl.Englishman owns einsteins_riddle.owl.snails\n",
      "* Owlready * Adding relation einsteins_riddle.owl.Japanese owns einsteins_riddle.owl.zebra\n",
      "* Owlready * Adding relation einsteins_riddle.owl.Norwegian drinks einsteins_riddle.owl.water\n",
      "* Owlready * Adding relation einsteins_riddle.owl.Spaniard drinks einsteins_riddle.owl.orange_juice\n",
      "* Owlready * Adding relation einsteins_riddle.owl.Englishman drinks einsteins_riddle.owl.milk\n",
      "* Owlready * Adding relation einsteins_riddle.owl.Japanese drinks einsteins_riddle.owl.coffee\n",
      "* Owlready * Adding relation einsteins_riddle.owl.house-1 has_color einsteins_riddle.owl.yellow\n",
      "* Owlready * Adding relation einsteins_riddle.owl.house-2 has_color einsteins_riddle.owl.blue\n",
      "* Owlready * Adding relation einsteins_riddle.owl.house-5 has_color einsteins_riddle.owl.green\n",
      "* Owlready * Adding relation einsteins_riddle.owl.house-3 has_color einsteins_riddle.owl.red\n",
      "* Owlready * Adding relation einsteins_riddle.owl.house-4 has_color einsteins_riddle.owl.ivory\n",
      "* Owlready * Adding relation einsteins_riddle.owl.Ukrainian lives_in einsteins_riddle.owl.house-2\n",
      "* Owlready * Adding relation einsteins_riddle.owl.Spaniard lives_in einsteins_riddle.owl.house-4\n",
      "* Owlready * Adding relation einsteins_riddle.owl.Englishman lives_in einsteins_riddle.owl.house-3\n",
      "* Owlready * Adding relation einsteins_riddle.owl.Japanese lives_in einsteins_riddle.owl.house-5\n"
     ]
    },
    {
     "name": "stderr",
     "output_type": "stream",
     "text": [
      "* Owlready2 * HermiT took 1.7078933715820312 seconds\n",
      "* Owlready * (NB: only changes on entities loaded in Python are shown, other changes are done but not listed)\n"
     ]
    }
   ],
   "source": [
    "with onto:\n",
    "    owl.sync_reasoner(infer_property_values = True)"
   ]
  },
  {
   "cell_type": "code",
   "execution_count": 427,
   "metadata": {},
   "outputs": [],
   "source": [
    "query = owl.default_world.prepare_sparql(\"\"\"SELECT ?house ?man Where{ ?house a einsteins_riddle:House. ?man a einsteins_riddle:Man. ?man einsteins_riddle:lives_in ?house. \n",
    "}\"\"\")"
   ]
  },
  {
   "cell_type": "code",
   "execution_count": 428,
   "metadata": {},
   "outputs": [
    {
     "data": {
      "text/plain": [
       "[[einsteins_riddle.owl.house-2, einsteins_riddle.owl.Ukrainian],\n",
       " [einsteins_riddle.owl.house-4, einsteins_riddle.owl.Spaniard],\n",
       " [einsteins_riddle.owl.house-1, einsteins_riddle.owl.Norwegian],\n",
       " [einsteins_riddle.owl.house-1, einsteins_riddle.owl.Norwegian],\n",
       " [einsteins_riddle.owl.house-3, einsteins_riddle.owl.Englishman],\n",
       " [einsteins_riddle.owl.house-5, einsteins_riddle.owl.Japanese]]"
      ]
     },
     "execution_count": 428,
     "metadata": {},
     "output_type": "execute_result"
    }
   ],
   "source": [
    "list(query.execute())"
   ]
  }
 ],
 "metadata": {
  "kernelspec": {
   "display_name": "Python 3 (ipykernel)",
   "language": "python",
   "name": "python3"
  },
  "language_info": {
   "codemirror_mode": {
    "name": "ipython",
    "version": 3
   },
   "file_extension": ".py",
   "mimetype": "text/x-python",
   "name": "python",
   "nbconvert_exporter": "python",
   "pygments_lexer": "ipython3",
   "version": "3.9.7"
  }
 },
 "nbformat": 4,
 "nbformat_minor": 4
}
