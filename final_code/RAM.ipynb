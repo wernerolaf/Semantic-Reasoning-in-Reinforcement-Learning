{
 "cells": [
  {
   "cell_type": "code",
   "execution_count": 1,
   "id": "7fef769b",
   "metadata": {},
   "outputs": [
    {
     "name": "stderr",
     "output_type": "stream",
     "text": [
      "\n"
     ]
    }
   ],
   "source": [
    "import math, random\n",
    "\n",
    "import gym\n",
    "\n",
    "import torch\n",
    "import torch.nn as nn\n",
    "import torch.optim as optim\n",
    "import torch.autograd as autograd \n",
    "import torch.nn.functional as F\n",
    "#basic\n",
    "import numpy as np\n",
    "import pandas as pd\n",
    "#sklearn\n",
    "from sklearn.manifold import TSNE\n",
    "from sklearn.decomposition import IncrementalPCA, PCA\n",
    "from sklearn.cluster import KMeans\n",
    "from sklearn.cluster import Birch\n",
    "from sklearn import metrics\n",
    "from sklearn.metrics import mean_absolute_error\n",
    "from sklearn.metrics import balanced_accuracy_score\n",
    "from sklearn.metrics.pairwise import euclidean_distances\n",
    "#image processing\n",
    "from skimage.filters import threshold_otsu\n",
    "from skimage.segmentation import clear_border\n",
    "from skimage.measure import label, regionprops\n",
    "from skimage.segmentation import felzenszwalb\n",
    "from skimage.morphology import closing, square\n",
    "from skimage.color import label2rgb, rgb2gray, gray2rgb\n",
    "from skimage.transform import resize\n",
    "from skimage.transform import rescale\n",
    "#visialization\n",
    "from PIL import Image\n",
    "import cv2\n",
    "#scikit \n",
    "from scipy.spatial import distance_matrix\n",
    "from scipy.spatial import distance\n",
    "#graph\n",
    "import networkx as nx\n",
    "#language model\n",
    "from gensim.models.doc2vec import Doc2Vec, TaggedDocument\n",
    "#other\n",
    "from copy import deepcopy\n",
    "from itertools import count\n",
    "from joblib import dump, load\n",
    "from joblib import Parallel, delayed\n",
    "import datetime\n",
    "\n",
    "import warnings\n",
    "warnings.filterwarnings(\"ignore\")"
   ]
  },
  {
   "cell_type": "code",
   "execution_count": 2,
   "id": "b2277213",
   "metadata": {},
   "outputs": [],
   "source": [
    "from IPython.display import clear_output\n",
    "import matplotlib.pyplot as plt\n",
    "%matplotlib inline"
   ]
  },
  {
   "cell_type": "code",
   "execution_count": 3,
   "id": "c21b6953",
   "metadata": {},
   "outputs": [],
   "source": [
    "from gym import spaces"
   ]
  },
  {
   "cell_type": "markdown",
   "id": "255cc79b",
   "metadata": {},
   "source": [
    "# helping functions"
   ]
  },
  {
   "cell_type": "code",
   "execution_count": 4,
   "id": "61e4a72b",
   "metadata": {},
   "outputs": [],
   "source": [
    "def show_image(img):\n",
    "    fig, ax = plt.subplots(figsize=(10, 6))\n",
    "    ax.imshow(img)"
   ]
  },
  {
   "cell_type": "code",
   "execution_count": 5,
   "id": "c0c911a8",
   "metadata": {},
   "outputs": [],
   "source": [
    "def make_video(States,name=\"test\",width=160,height=210,channel=3,fps=60):\n",
    "    fourcc = cv2.VideoWriter_fourcc(*'XVID') \n",
    "    video = cv2.VideoWriter(name+'.avi', fourcc, float(fps), (width,height))\n",
    "\n",
    "    for i in range(States.shape[0]):\n",
    "        video.write(States[i])\n",
    "\n",
    "    video.release()"
   ]
  },
  {
   "cell_type": "code",
   "execution_count": 6,
   "id": "44f1726b",
   "metadata": {},
   "outputs": [],
   "source": [
    "def visualize_objects(label_image,image):\n",
    "    # to make the background transparent, pass the value of `bg_label`,\n",
    "    # and leave `bg_color` as `None` and `kind` as `overlay`\n",
    "    image_label_overlay = label2rgb(label_image, image=image, bg_label=0)\n",
    "\n",
    "    fig, ax = plt.subplots(figsize=(10, 6))\n",
    "    ax.imshow(image_label_overlay)\n",
    "\n",
    "    for region in regionprops(label_image):\n",
    "        # take regions with large enough areas\n",
    "        if region.area >= 1:\n",
    "            # draw rectangle around segmented coins\n",
    "            minr, minc, maxr, maxc = region.bbox\n",
    "            rect = mpatches.Rectangle((minc-0.5, minr-0.5), maxc - minc, maxr - minr,\n",
    "                                      fill=False, edgecolor='red', linewidth=3)\n",
    "            ax.add_patch(rect)\n",
    "\n",
    "    ax.set_axis_off()\n",
    "    plt.tight_layout()\n",
    "    plt.show()"
   ]
  },
  {
   "cell_type": "code",
   "execution_count": 7,
   "id": "60b464c7",
   "metadata": {},
   "outputs": [],
   "source": [
    "def find_objects(image,thresh=None):\n",
    "    #image = rgb2gray(image)\n",
    "\n",
    "    if thresh is None:\n",
    "        thresh = threshold_otsu(image)*0.9\n",
    "    # label image regions\n",
    "    label_image = label(image > thresh)\n",
    "    \n",
    "    return label_image, thresh"
   ]
  },
  {
   "cell_type": "code",
   "execution_count": 8,
   "id": "d315e073",
   "metadata": {},
   "outputs": [],
   "source": [
    "def find_cut_objects(image,m_h,m_w,thresh=None,grayscale=False):\n",
    "    label_image,_=find_objects(image,thresh=thresh)\n",
    "    regions=regionprops(label_image)\n",
    "\n",
    "    i=len(regions)+1\n",
    "    for reg in regions:\n",
    "        i=i+1\n",
    "        minr, minc, maxr, maxc = reg.bbox\n",
    "        if int(np.ceil((maxc-minc)/m_w))!=1:\n",
    "            split_w=np.linspace(0,(maxc-minc),1+int(np.ceil((maxc-minc)/m_w))).astype(\"int\")\n",
    "            for y in range(int(np.ceil((maxc-minc)/m_w))):\n",
    "                i=i+1\n",
    "                label_image[reg.slice][:,split_w[y]:split_w[y+1]][reg.image[:,split_w[y]:split_w[y+1]]]=i\n",
    "    \n",
    "    regions=regionprops(label_image)\n",
    "    for reg in regions:\n",
    "        i=i+1\n",
    "        minr, minc, maxr, maxc = reg.bbox\n",
    "        if int(np.ceil((maxr-minr)/m_h))!=1:\n",
    "            split_h=np.linspace(0,(maxr-minr),1+int(np.ceil((maxr-minr)/m_h))).astype(\"int\")\n",
    "            for x in range(int(np.ceil((maxr-minr)/m_h))):\n",
    "                i=i+1\n",
    "                label_image[reg.slice][split_h[x]:split_h[x+1],:][reg.image[split_h[x]:split_h[x+1],:]]=i\n",
    "\n",
    "\n",
    "    regions=regionprops(label_image)\n",
    "    \n",
    "    if grayscale:\n",
    "        image=rgb2gray(image)\n",
    "    \n",
    "    objects=np.array([np.zeros((m_h,m_w)) for reg in regions])\n",
    "    for i in range(len(regions)):\n",
    "        x=regions[i].image.shape[0]\n",
    "        y=regions[i].image.shape[1]\n",
    "        objects[i,(m_h-x)//2:(m_h-x)//2+x,(m_w-y)//2:(m_w-y)//2+y]=image[regions[i].slice]\n",
    "    \n",
    "    \n",
    "    return label_image, objects, regions"
   ]
  },
  {
   "cell_type": "code",
   "execution_count": 9,
   "id": "81b59fdd",
   "metadata": {},
   "outputs": [],
   "source": [
    "def regions_to_graph(regions,labels,prox=60):\n",
    "    #weighted?\n",
    "    centroids=np.array([reg.centroid for reg in regions])\n",
    "    if prox==0:\n",
    "        dist=np.zeros((len(centroids),len(centroids)))\n",
    "    else:\n",
    "        dist=distance_matrix(centroids,centroids)\n",
    "        dist=(dist<prox)*dist\n",
    "    G = nx.from_numpy_matrix(dist)\n",
    "    lab={x:str(labels[x]) for x in range(len(centroids))}\n",
    "    nx.set_node_attributes(G, lab, \"feature\")\n",
    "    pos_x={x:int(centroids[x][0]) for x in range(len(centroids))}\n",
    "    nx.set_node_attributes(G, pos_x, \"position_x\")\n",
    "    pos_y={x:int(centroids[x][1]) for x in range(len(centroids))}\n",
    "    nx.set_node_attributes(G, pos_y, \"position_y\")\n",
    "    return G"
   ]
  },
  {
   "cell_type": "code",
   "execution_count": 10,
   "id": "812dfe84",
   "metadata": {},
   "outputs": [],
   "source": [
    "def graph_to_doc(Graphs,iterations=2,start_tag=0):\n",
    "    documents=[]\n",
    "    hashes=None\n",
    "    for i in range(len(Graphs)):\n",
    "        if iterations>0:\n",
    "            hashes=nx.weisfeiler_lehman_subgraph_hashes(Graphs[i], iterations=iterations, node_attr=\"feature\")\n",
    "            \n",
    "        Doc=[]\n",
    "        for node in Graphs[i].nodes:\n",
    "            Doc=Doc+[Graphs[i].nodes[node][\"feature\"],\"pos_x\"+str(Graphs[i].nodes[node][\"position_x\"]),\"pos_y\"+str(Graphs[i].nodes[node][\"position_y\"]),\n",
    "                    \"apr_pos_x\"+str(Graphs[i].nodes[node][\"position_x\"]//5),\"apr_pos_y\"+str(Graphs[i].nodes[node][\"position_y\"]//5),\n",
    "                    Graphs[i].nodes[node][\"feature\"]+\"pos_x\"+str(Graphs[i].nodes[node][\"position_x\"]),\n",
    "                     Graphs[i].nodes[node][\"feature\"]+\"pos_y\"+str(Graphs[i].nodes[node][\"position_y\"]),\n",
    "                    Graphs[i].nodes[node][\"feature\"]+\"apr_pos_x\"+str(Graphs[i].nodes[node][\"position_x\"]//5),\n",
    "                     Graphs[i].nodes[node][\"feature\"]+\"apr_pos_y\"+str(Graphs[i].nodes[node][\"position_y\"]//5),\n",
    "                     Graphs[i].nodes[node][\"feature\"]+\"apr_pos_x\"+str(Graphs[i].nodes[node][\"position_x\"]//5)+\"apr_pos_y\"+str(Graphs[i].nodes[node][\"position_y\"]//5),\n",
    "                     Graphs[i].nodes[node][\"feature\"]+\"pos_x\"+str(Graphs[i].nodes[node][\"position_x\"])+Graphs[i].nodes[node][\"feature\"]+\"pos_y\"+str(Graphs[i].nodes[node][\"position_y\"]),\n",
    "                     \"apr_pos_x\"+str(Graphs[i].nodes[node][\"position_x\"]//5)+\"apr_pos_y\"+str(Graphs[i].nodes[node][\"position_y\"]//5),\n",
    "                     \"pos_x\"+str(Graphs[i].nodes[node][\"position_x\"])+Graphs[i].nodes[node][\"feature\"]+\"pos_y\"+str(Graphs[i].nodes[node][\"position_y\"])                   \n",
    "                    ]\n",
    "            if iterations>0:\n",
    "                Doc=Doc+hashes[node]\n",
    "        \n",
    "        documents=documents+[Doc.copy()]\n",
    "    \n",
    "    return documents"
   ]
  },
  {
   "cell_type": "code",
   "execution_count": 11,
   "id": "67c379c1",
   "metadata": {},
   "outputs": [],
   "source": [
    "def doc_to_embedding(documents,model,seed=42):\n",
    "    model.random.seed(seed)\n",
    "    return np.array([model.infer_vector(doc) for doc in documents])"
   ]
  },
  {
   "cell_type": "code",
   "execution_count": 12,
   "id": "b84f617b",
   "metadata": {},
   "outputs": [],
   "source": [
    "def visualize_graph(g,max_col=15):\n",
    "    nodes = g.nodes()\n",
    "    colors = [int(g.nodes[n]['feature'])/max_col for n in nodes]\n",
    "    pos = nx.spring_layout(g)\n",
    "    for n in nodes:\n",
    "        pos[n][1]=-1*g.nodes[n]['position_x']\n",
    "        pos[n][0]=g.nodes[n]['position_y']\n",
    "\n",
    "    ec = nx.draw_networkx_edges(g, pos, alpha=0.2)\n",
    "    nc = nx.draw_networkx_nodes(g, pos, nodelist=nodes, node_color=colors, node_size=150, cmap=plt.cm.jet,vmin=0,vmax=1)\n",
    "    #plt.colorbar(nc)\n",
    "    plt.axis('off')\n",
    "    plt.show()"
   ]
  },
  {
   "cell_type": "code",
   "execution_count": 13,
   "id": "3f950654",
   "metadata": {},
   "outputs": [],
   "source": [
    "def graph_diff2(G1,G2,obj_class_diff=100,obj_n_diff=100):\n",
    "    n1=set([(G1.nodes[x][\"feature\"],G1.nodes[x][\"position_x\"],G1.nodes[x][\"position_y\"]) for x in G1.nodes])\n",
    "    n2=set([(G2.nodes[x][\"feature\"],G2.nodes[x][\"position_x\"],G2.nodes[x][\"position_y\"]) for x in G2.nodes])\n",
    "    l1=list(n1.difference(n2))\n",
    "    l2=list(n2.difference(n1))\n",
    "    \n",
    "    if len(l1)==0 or len(l2)==0:\n",
    "        return abs(len(l1)-len(l2))*obj_n_diff\n",
    "    \n",
    "    if len(l1)>len(l2):\n",
    "        l1,l2 = l2,l1\n",
    "    \n",
    "    dist=np.zeros((len(l1),len(l2)))\n",
    "    for x in range(len(l1)):\n",
    "        for y in range(len(l2)):\n",
    "            dist[x,y]=node_dist(l1[x],l2[y],obj_class_diff=obj_class_diff)\n",
    "        \n",
    "    return graph_metric(dist,obj_n_diff=obj_n_diff)"
   ]
  },
  {
   "cell_type": "code",
   "execution_count": 14,
   "id": "22b7a5c0",
   "metadata": {},
   "outputs": [],
   "source": [
    "def node_dist2(n1,n2,obj_class_diff=100):\n",
    "    return (n1[0]!=n2[0])*obj_class_diff+abs(n1[1]-n2[1])+abs(n1[2]-n2[2])"
   ]
  },
  {
   "cell_type": "code",
   "execution_count": 15,
   "id": "934191fe",
   "metadata": {},
   "outputs": [],
   "source": [
    "def node_dist(n1,n2,obj_class_diff=100):\n",
    "    return (n1[0]!=n2[0])*obj_class_diff+np.sqrt((n1[1]-n2[1])**2+(n1[2]-n2[2])**2)"
   ]
  },
  {
   "cell_type": "code",
   "execution_count": 16,
   "id": "674406d7",
   "metadata": {},
   "outputs": [],
   "source": [
    "def graph_metric(dist,obj_n_diff=100):\n",
    "    return np.sum(np.min(dist,axis=1))+abs(dist.shape[0]-dist.shape[1])*obj_n_diff"
   ]
  },
  {
   "cell_type": "code",
   "execution_count": 17,
   "id": "9d9e2d80",
   "metadata": {},
   "outputs": [],
   "source": [
    "def graph_diff(G1,G2,obj_class_diff=100,obj_n_diff=100):\n",
    "    l1=[(G1.nodes[x][\"feature\"],G1.nodes[x][\"position_x\"],G1.nodes[x][\"position_y\"]) for x in G1.nodes]\n",
    "    l2=[(G2.nodes[x][\"feature\"],G2.nodes[x][\"position_x\"],G2.nodes[x][\"position_y\"]) for x in G2.nodes]\n",
    "    \n",
    "    if len(l1)==0 or len(l2)==0:\n",
    "        return abs(len(l1)-len(l2))*obj_n_diff\n",
    "    \n",
    "    if len(l1)>len(l2):\n",
    "        l1,l2 = l2,l1\n",
    "    \n",
    "    dist=np.zeros((len(l1),len(l2)))\n",
    "    for x in range(len(l1)):\n",
    "        for y in range(len(l2)):\n",
    "            dist[x,y]=node_dist(l1[x],l2[y],obj_class_diff=obj_class_diff)\n",
    "        \n",
    "    return graph_metric(dist,obj_n_diff=obj_n_diff)"
   ]
  },
  {
   "cell_type": "code",
   "execution_count": 18,
   "id": "a29f3b6c",
   "metadata": {},
   "outputs": [],
   "source": [
    "def graph_diff3(l1,l2,obj_class_diff=100,obj_n_diff=100):\n",
    "\n",
    "    if len(l1)==0 or len(l2)==0:\n",
    "        return abs(len(l1)-len(l2))*obj_n_diff\n",
    "    \n",
    "    if len(l1)>len(l2):\n",
    "        l1,l2 = l2,l1\n",
    "    \n",
    "    c1=np.array([[l[1],l[2]] for l in l1])\n",
    "    c2=np.array([[l[1],l[2]] for l in l2])\n",
    "    \n",
    "    lab1=np.array([[int(l[0])] for l in l1])\n",
    "    lab2=np.array([[int(l[0])] for l in l2])\n",
    "    \n",
    "    dist=euclidean_distances(c1,c2)+obj_class_diff*(euclidean_distances(lab1,lab2)>0)\n",
    "        \n",
    "    return np.sum(np.min(dist,axis=1))+abs(dist.shape[0]-dist.shape[1])*obj_n_diff"
   ]
  },
  {
   "cell_type": "code",
   "execution_count": 19,
   "id": "c1e7d3bb",
   "metadata": {},
   "outputs": [],
   "source": [
    "def graph_diff_list(G1_list,G2_list,obj_class_diff=100,obj_n_diff=100):\n",
    "    L1=[[(G1.nodes[x][\"feature\"],G1.nodes[x][\"position_x\"],G1.nodes[x][\"position_y\"]) for x in G1.nodes] for G1 in G1_list]\n",
    "    L2=[[(G2.nodes[x][\"feature\"],G2.nodes[x][\"position_x\"],G2.nodes[x][\"position_y\"]) for x in G2.nodes] for G2 in G2_list]\n",
    "    \n",
    "    dist=np.zeros((len(L1),len(L2)))\n",
    "    for x in range(len(L1)):\n",
    "        for y in range(len(L2)):\n",
    "            dist[x,y]=graph_diff3(L1[x],L2[y])\n",
    "            if dist[x,y]==0:\n",
    "                break\n",
    "        \n",
    "    return dist"
   ]
  },
  {
   "cell_type": "code",
   "execution_count": 20,
   "id": "dfbf0c0d",
   "metadata": {},
   "outputs": [],
   "source": [
    "def regions_to_embedding(regions,labels,grid,label_size=16,x=105,y=80,max_rad=10):\n",
    "    centroids=np.array([reg.centroid for reg in regions])\n",
    "    dist=distance_matrix(centroids,grid)\n",
    "    dist=(1-np.clip(dist/max_rad,0,1))#**2\n",
    "    emb=np.zeros((label_size+1,grid.shape[0]))\n",
    "    emb[0,:]=dist.sum(axis=0)\n",
    "    for lab in np.unique(labels):\n",
    "        emb[lab+1,:]=dist[labels==lab,:].sum(axis=0)\n",
    "        \n",
    "    return emb"
   ]
  },
  {
   "cell_type": "code",
   "execution_count": 21,
   "id": "d813f41c",
   "metadata": {},
   "outputs": [],
   "source": [
    "def make_grid(shape,x=2,y=2):\n",
    "    grid=np.zeros((x*y,2))\n",
    "    split_h=np.linspace(0,shape[0],y).astype(\"int\")\n",
    "    split_w=np.linspace(0,shape[1],x).astype(\"int\")\n",
    "    z=0\n",
    "    for i in split_h:\n",
    "        for j in split_w:\n",
    "            grid[z,:]=[i,j]\n",
    "            z+=1\n",
    "    return grid"
   ]
  },
  {
   "cell_type": "code",
   "execution_count": 22,
   "id": "79ebbf98",
   "metadata": {},
   "outputs": [],
   "source": [
    "def moving_average(x, w):\n",
    "    return np.convolve(x, np.ones(w), 'valid') / w"
   ]
  },
  {
   "cell_type": "markdown",
   "id": "bb0db70d",
   "metadata": {},
   "source": [
    "<h3>Use Cuda</h3>"
   ]
  },
  {
   "cell_type": "code",
   "execution_count": 23,
   "id": "14507bb3",
   "metadata": {},
   "outputs": [],
   "source": [
    "USE_CUDA = torch.cuda.is_available()\n",
    "Variable = lambda *args, **kwargs: autograd.Variable(*args, **kwargs).cuda() if USE_CUDA else autograd.Variable(*args, **kwargs)"
   ]
  },
  {
   "cell_type": "markdown",
   "id": "6c0589e8",
   "metadata": {},
   "source": [
    "<h2>Replay Buffer</h2>"
   ]
  },
  {
   "cell_type": "code",
   "execution_count": 24,
   "id": "32ce72c5",
   "metadata": {},
   "outputs": [],
   "source": [
    "from collections import deque\n",
    "\n",
    "class ReplayBuffer(object):\n",
    "    def __init__(self, capacity):\n",
    "        self.buffer = deque(maxlen=capacity)\n",
    "    \n",
    "    def push(self, state, action, reward, next_state, done):\n",
    "        state      = np.expand_dims(state, 0)\n",
    "        next_state = np.expand_dims(next_state, 0)\n",
    "            \n",
    "        self.buffer.append((state, action, reward, next_state, done))\n",
    "    \n",
    "    def sample(self, batch_size):\n",
    "        state, action, reward, next_state, done = zip(*random.sample(self.buffer, batch_size))\n",
    "        return np.concatenate(state), action, reward, np.concatenate(next_state), done\n",
    "    \n",
    "    def __len__(self):\n",
    "        return len(self.buffer)"
   ]
  },
  {
   "cell_type": "markdown",
   "id": "73a80997",
   "metadata": {},
   "source": [
    "<h2>Deep Q Network</h2>"
   ]
  },
  {
   "cell_type": "code",
   "execution_count": 25,
   "id": "ece9ac5a",
   "metadata": {},
   "outputs": [],
   "source": [
    "class DQN(nn.Module):\n",
    "    def __init__(self, num_inputs, num_actions):\n",
    "        super(DQN, self).__init__()\n",
    "        \n",
    "        self.layers = nn.Sequential(\n",
    "            nn.Linear(num_inputs, 256),\n",
    "            nn.ReLU(),\n",
    "            nn.Linear(256, num_actions)\n",
    "        )\n",
    "        \n",
    "    def forward(self, x):\n",
    "        return self.layers(x)\n",
    "    \n",
    "    def act(self, state, epsilon):\n",
    "        if random.random() > epsilon:\n",
    "            with torch.no_grad():\n",
    "                state   = Variable(torch.FloatTensor(state).unsqueeze(0))\n",
    "                \n",
    "            q_value = self.forward(state)\n",
    "            action  = q_value.max(1)[1].item()\n",
    "        else:\n",
    "            action = random.randrange(env.action_space.n)\n",
    "        return action"
   ]
  },
  {
   "cell_type": "code",
   "execution_count": 26,
   "id": "c78697fc",
   "metadata": {},
   "outputs": [],
   "source": [
    "class CnnDQN(nn.Module):\n",
    "    def __init__(self, input_shape, num_actions):\n",
    "        super(CnnDQN, self).__init__()\n",
    "        \n",
    "        self.input_shape = input_shape\n",
    "        self.num_actions = num_actions\n",
    "        \n",
    "        self.features = nn.Sequential(\n",
    "            nn.Conv2d(input_shape[0], 32, kernel_size=8, stride=4),\n",
    "            nn.ReLU(),\n",
    "            nn.Conv2d(32, 64, kernel_size=4, stride=2),\n",
    "            nn.ReLU(),\n",
    "            nn.Conv2d(64, 64, kernel_size=3, stride=1),\n",
    "            nn.ReLU()\n",
    "        )\n",
    "        \n",
    "        self.fc = nn.Sequential(\n",
    "            nn.Linear(self.feature_size(), 256),\n",
    "            nn.ReLU(),\n",
    "            nn.Linear(256, self.num_actions)\n",
    "        )\n",
    "        \n",
    "    def forward(self, x):\n",
    "        x = self.features(x)\n",
    "        x = x.view(x.size(0), -1)\n",
    "        x = self.fc(x)\n",
    "        return x\n",
    "    \n",
    "    def feature_size(self):\n",
    "        return self.features(autograd.Variable(torch.zeros(1, *self.input_shape))).view(1, -1).size(1)\n",
    "    \n",
    "    def act(self, state, epsilon):\n",
    "        if random.random() > epsilon:\n",
    "            with torch.no_grad():\n",
    "                state = Variable(torch.FloatTensor(np.float32(state)).unsqueeze(0))\n",
    "                \n",
    "            q_value = self.forward(state)\n",
    "            action  = q_value.max(1)[1].item()\n",
    "        else:\n",
    "            action = random.randrange(env.action_space.n)\n",
    "        return action"
   ]
  },
  {
   "cell_type": "markdown",
   "id": "0989879f",
   "metadata": {},
   "source": [
    "<h2>Computing Temporal Difference Loss</h2>"
   ]
  },
  {
   "cell_type": "code",
   "execution_count": 27,
   "id": "445d639e",
   "metadata": {},
   "outputs": [],
   "source": [
    "def compute_td_loss(batch_size):\n",
    "    state, action, reward, next_state, done = replay_buffer.sample(batch_size)\n",
    "\n",
    "    state      = Variable(torch.FloatTensor(np.float32(state)))\n",
    "    \n",
    "    with torch.no_grad():\n",
    "        next_state = Variable(torch.FloatTensor(np.float32(next_state)))\n",
    "    \n",
    "    action     = Variable(torch.LongTensor(action))\n",
    "    reward     = Variable(torch.FloatTensor(reward))\n",
    "    done       = Variable(torch.FloatTensor(done))\n",
    "\n",
    "    q_values      = model(state)\n",
    "    next_q_values = model(next_state)\n",
    "\n",
    "    q_value          = q_values.gather(1, action.unsqueeze(1)).squeeze(1)\n",
    "    next_q_value     = next_q_values.max(1)[0]\n",
    "    expected_q_value = reward + gamma * next_q_value * (1 - done)\n",
    "    \n",
    "    loss = (q_value - Variable(expected_q_value.data)).pow(2).mean()\n",
    "        \n",
    "    optimizer.zero_grad()\n",
    "    loss.backward()\n",
    "    optimizer.step()\n",
    "    \n",
    "    return loss"
   ]
  },
  {
   "cell_type": "code",
   "execution_count": 28,
   "id": "a10284cf",
   "metadata": {},
   "outputs": [],
   "source": [
    "def plot(frame_idx, rewards, losses):\n",
    "    clear_output(True)\n",
    "    plt.figure(figsize=(20,5))\n",
    "    plt.subplot(131)\n",
    "    plt.title('frame %s. reward: %s' % (frame_idx, np.mean(rewards[-10:])))\n",
    "    plt.plot(rewards)\n",
    "    plt.plot(moving_average(rewards,10))\n",
    "    plt.subplot(132)\n",
    "    plt.title('loss')\n",
    "    plt.plot(losses)\n",
    "    plt.show()"
   ]
  },
  {
   "cell_type": "markdown",
   "id": "fcb6da96",
   "metadata": {},
   "source": [
    "<p><hr></p>"
   ]
  },
  {
   "cell_type": "markdown",
   "id": "bdfef56d",
   "metadata": {},
   "source": [
    "<h1>Atari Environment</h1>"
   ]
  },
  {
   "cell_type": "code",
   "execution_count": 29,
   "id": "2fa1cf02",
   "metadata": {},
   "outputs": [],
   "source": [
    "class SkipWrapper(gym.Wrapper):\n",
    "    def __init__(self, env, repeat_action=4):\n",
    "        gym.Wrapper.__init__(self, env)\n",
    "        self.repeat_action= repeat_action\n",
    "\n",
    "    def step(self, action):\n",
    "        total_reward=0\n",
    "        for i in range(self.repeat_action):\n",
    "            next_state, reward, done, info = self.env.step(action)\n",
    "            total_reward += reward\n",
    "            if done:\n",
    "                break\n",
    "                \n",
    "        return next_state, total_reward, done, info"
   ]
  },
  {
   "cell_type": "code",
   "execution_count": 30,
   "id": "cac7b0a8",
   "metadata": {},
   "outputs": [],
   "source": [
    "class GridWrapper(gym.Wrapper):\n",
    "    def __init__(self, env):\n",
    "        gym.Wrapper.__init__(self, env)\n",
    "        \n",
    "        self.x_grid=4\n",
    "        self.y_grid=4\n",
    "        self.grid=make_grid((84,84),self.x_grid,self.y_grid)\n",
    "        self.max_rad=distance.euclidean([0,0],[84//self.x_grid,84//self.y_grid])\n",
    "        \n",
    "    def preprocess_state(self, state):\n",
    "        label_image, regions, labels=state\n",
    "        embedding=regions_to_embedding(regions,labels,self.grid,label_size=self.num_clusters_obj,max_rad=self.max_rad).reshape(-1)\n",
    "        #clip emmbeding\n",
    "        embedding=np.clip(embedding,-2, 2)\n",
    "        return embedding\n",
    "        \n",
    "    def step(self, actions):\n",
    "        orig_state, reward, terminal, info = self.env.step(actions)\n",
    "        embedding=self.preprocess_state(orig_state)\n",
    "        next_state=embedding\n",
    "        return next_state, reward, terminal, info"
   ]
  },
  {
   "cell_type": "code",
   "execution_count": 31,
   "id": "838bb270",
   "metadata": {},
   "outputs": [],
   "source": [
    "class OtsuWrapper(gym.Wrapper):\n",
    "    def __init__(self, env):\n",
    "        gym.Wrapper.__init__(self, env)\n",
    "        self.max_obj_height=8\n",
    "        self.max_obj_width=8\n",
    "        self.threshold=None\n",
    "    \n",
    "    def preprocess_state(self, state):\n",
    "        if self.threshold is None:\n",
    "            _,self.threshold=find_objects(state)\n",
    "        \n",
    "        #cut objects\n",
    "        label_image, objects, regions=find_cut_objects(state,self.max_obj_height,self.max_obj_width,self.threshold)\n",
    "        return label_image, objects, regions\n",
    "        \n",
    "    def step(self, actions):\n",
    "        orig_state, reward, terminal, info = self.env.step(actions)\n",
    "        label_image, objects, regions=self.preprocess_state(orig_state)\n",
    "        next_state=(label_image, objects, regions)\n",
    "        return next_state, reward, terminal, info"
   ]
  },
  {
   "cell_type": "code",
   "execution_count": 32,
   "id": "39adf430",
   "metadata": {},
   "outputs": [],
   "source": [
    "class PcaWrapper(gym.Wrapper):\n",
    "    def __init__(self, env):\n",
    "        gym.Wrapper.__init__(self, env)\n",
    "        self.pca_n_components=10\n",
    "        self.pca_model=IncrementalPCA(n_components=self.pca_n_components)\n",
    "        self.train_pca=True\n",
    "        \n",
    "    def preprocess_state(self, state):\n",
    "        label_image, objects, regions=state\n",
    "        X=objects.reshape(objects.shape[0],-1)\n",
    "        if self.train_pca:\n",
    "            self.pca_model.partial_fit(np.vstack((np.unique(X,axis=0),np.unique(X,axis=0))))\n",
    "        \n",
    "        objects_compressed=self.pca_model.transform(X)\n",
    "        return label_image, objects_compressed, regions \n",
    "        \n",
    "    def step(self, actions):\n",
    "        orig_state, reward, terminal, info = self.env.step(actions)\n",
    "        label_image, objects_compressed, regions =self.preprocess_state(orig_state)\n",
    "        next_state=(label_image, objects_compressed, regions)\n",
    "        return next_state, reward, terminal, info"
   ]
  },
  {
   "cell_type": "code",
   "execution_count": 33,
   "id": "b98d2638",
   "metadata": {},
   "outputs": [],
   "source": [
    "class BirchWrapper(gym.Wrapper):\n",
    "    def __init__(self, env):\n",
    "        gym.Wrapper.__init__(self, env)\n",
    "        self.num_clusters=10\n",
    "        self.birch_model=Birch(n_clusters=None,threshold=0.5,branching_factor=50)\n",
    "        self.train_birch=True\n",
    "        \n",
    "    def preprocess_state(self, state):\n",
    "        label_image, objects_compressed, regions=state\n",
    "        if self.train_birch:\n",
    "            self.birch_model.partial_fit(objects_compressed)\n",
    "            if self.birch_model.n_clusters is None and len(self.birch_model.subcluster_labels_)>self.num_clusters:\n",
    "                self.birch_model.set_params(n_clusters=self.num_clusters)\n",
    "                self.birch_model.partial_fit()\n",
    "        \n",
    "        labels=self.birch_model.predict(objects_compressed)\n",
    "        \n",
    "        for i in range(len(labels)):\n",
    "            label_image[regions[i].slice][regions[i].image]=labels[i]+1\n",
    "        \n",
    "        return label_image, regions, labels\n",
    "        \n",
    "    def step(self, actions):\n",
    "        orig_state, reward, terminal, info = self.env.step(actions)\n",
    "        label_image, regions, labels=self.preprocess_state(orig_state)\n",
    "        next_state=(label_image, regions, labels)\n",
    "        return next_state, reward, terminal, info"
   ]
  },
  {
   "cell_type": "code",
   "execution_count": 34,
   "id": "e6a78be3",
   "metadata": {},
   "outputs": [],
   "source": [
    "class SemanticWrapper(gym.Wrapper):\n",
    "    def __init__(self, env):\n",
    "        gym.Wrapper.__init__(self, env)\n",
    "        \n",
    "        #semantic model\n",
    "        self.ready=False\n",
    "        self.dimensions=128\n",
    "        self.observation_space = gym.spaces.Box(low=-2.0, high=2.0, shape=(self.dimensions,), dtype=np.float32)\n",
    "        self.prox=20\n",
    "        self.hash_iterations=2\n",
    "        self.starting_doc_len=30000\n",
    "        self.start_tag=0\n",
    "        self.min_count=2\n",
    "        self.seed=42\n",
    "        self.workers = 8\n",
    "        self.epochs = 20\n",
    "        self.learning_rate = 0.025\n",
    "        self.window=16\n",
    "        self.hs=1\n",
    "        self.dm=0\n",
    "        self.negative=0\n",
    "        self.max_vocab_size=30000\n",
    "        self.semantic_model=Doc2Vec(\n",
    "            vector_size=self.dimensions,\n",
    "            window=self.window,\n",
    "            min_count=self.min_count,\n",
    "            dm=self.dm,\n",
    "            hs=self.hs,\n",
    "            negative=self.negative,\n",
    "            workers=self.workers,\n",
    "            epochs=self.epochs,\n",
    "            alpha=self.learning_rate,\n",
    "            max_vocab_size=self.max_vocab_size,\n",
    "            seed=self.seed\n",
    "        )\n",
    "        \n",
    "    def train_semantic(self,regions_list,labels_list):\n",
    "        Graphs=[regions_to_graph(regions,labels,prox=self.prox) for regions,labels in zip(regions_list,labels_list)]\n",
    "        Doc_all=graph_to_doc(Graphs,iterations=self.hash_iterations,start_tag=0)\n",
    "        \n",
    "        documents = [\n",
    "                TaggedDocument(words=doc, tags=[i])\n",
    "                for i, doc in enumerate(Doc_all)\n",
    "            ]\n",
    "    \n",
    "        self.semantic_model.build_vocab(documents)\n",
    "        self.semantic_model.train(documents,total_examples=len(documents),epochs=self.semantic_model.epochs)\n",
    "        self.ready=True\n",
    "    \n",
    "    def preprocess_state(self, state):\n",
    "        label_image, regions, labels=state\n",
    "        \n",
    "        if self.ready:\n",
    "            #make graph\n",
    "            graph=regions_to_graph(regions,labels,prox=self.prox)\n",
    "\n",
    "            doc=graph_to_doc([graph],iterations=self.hash_iterations,start_tag=0)\n",
    "\n",
    "            #make embedding\n",
    "            embedding=doc_to_embedding(doc,self.semantic_model,seed=42)\n",
    "\n",
    "            #clip emmbeding\n",
    "            embedding=np.clip(embedding,-2, 2)[0]\n",
    "        else:\n",
    "            embedding=np.zeros(self.dimensions)\n",
    "        \n",
    "        return embedding\n",
    "        \n",
    "    def step(self, actions):\n",
    "        orig_state, reward, terminal, info = self.env.step(actions)\n",
    "        embedding=self.preprocess_state(orig_state)\n",
    "        next_state=embedding\n",
    "        return next_state, reward, terminal, info"
   ]
  },
  {
   "cell_type": "code",
   "execution_count": 35,
   "id": "0a24b33e",
   "metadata": {},
   "outputs": [],
   "source": [
    "class ResetWrapper(gym.Wrapper):\n",
    "    def __init__(self, env):\n",
    "        gym.Wrapper.__init__(self, env)\n",
    "\n",
    "    def reset(self, **kwargs):\n",
    "        self.env.reset(**kwargs)\n",
    "        obs, _, done, _ = self.env.step(0)\n",
    "        return obs\n",
    "\n",
    "    def step(self, ac):\n",
    "        return self.env.step(ac)"
   ]
  },
  {
   "cell_type": "code",
   "execution_count": 36,
   "id": "d3b6d641",
   "metadata": {},
   "outputs": [],
   "source": [
    "class ActionWrapper(gym.ActionWrapper):\n",
    "    def __init__(self, env):\n",
    "        super().__init__(env)\n",
    "        self.action_space=spaces.Discrete(2)\n",
    "    \n",
    "    def action(self, act):\n",
    "        act={0:2,1:3,2:2}[act]\n",
    "        return act"
   ]
  },
  {
   "cell_type": "code",
   "execution_count": 37,
   "id": "5ab569f5",
   "metadata": {},
   "outputs": [],
   "source": [
    "class WarpFrame(gym.ObservationWrapper):\n",
    "    def __init__(self, env):\n",
    "        \"\"\"Warp frames to 84x84 as done in the Nature paper and later work.\"\"\"\n",
    "        gym.ObservationWrapper.__init__(self, env)\n",
    "        self.width = 84\n",
    "        self.height = 84\n",
    "        self.observation_space = spaces.Box(low=0, high=1,\n",
    "            shape=(self.height, self.width), dtype=np.uint8)\n",
    "\n",
    "    def observation(self, frame):\n",
    "        frame = cv2.cvtColor(frame, cv2.COLOR_RGB2GRAY)\n",
    "        frame = cv2.resize(frame, (self.width, self.height), interpolation=cv2.INTER_AREA)\n",
    "        return frame.reshape(self.width,self.height)/255.0"
   ]
  },
  {
   "cell_type": "code",
   "execution_count": 38,
   "id": "1660afce",
   "metadata": {},
   "outputs": [],
   "source": [
    "class StateDiff(gym.Wrapper):\n",
    "    def __init__(self, env,stacking=False):\n",
    "        gym.Wrapper.__init__(self, env)\n",
    "        self.last_state = None\n",
    "        self.stacking=stacking\n",
    "\n",
    "    def reset(self):\n",
    "        state = self.env.reset()\n",
    "        self.last_state=state\n",
    "        if self.stacking:\n",
    "            return np.stack((state, state-self.last_state), axis=0)\n",
    "        else:    \n",
    "            return np.concatenate((state, state-self.last_state), axis=-1)\n",
    "\n",
    "    def step(self, action):\n",
    "        state, reward, done, info = self.env.step(action)\n",
    "        if self.stacking:\n",
    "            next_state=np.stack((state, state-self.last_state), axis=0)\n",
    "        else:    \n",
    "            next_state=np.concatenate((state, state-self.last_state), axis=-1)\n",
    "        self.last_state=state\n",
    "        return next_state, reward, done, info"
   ]
  },
  {
   "cell_type": "code",
   "execution_count": 39,
   "id": "c1f465a9",
   "metadata": {},
   "outputs": [],
   "source": [
    "class LabelWrapper(gym.Wrapper):\n",
    "    def __init__(self, env):\n",
    "        gym.Wrapper.__init__(self, env)\n",
    "    \n",
    "    def preprocess_state(self, state):\n",
    "        label_image, objects, regions=state\n",
    "        return label_image\n",
    "        \n",
    "    def step(self, actions):\n",
    "        orig_state, reward, terminal, info = self.env.step(actions)\n",
    "        label_image=self.preprocess_state(orig_state)\n",
    "        next_state=label_image\n",
    "        return next_state, reward, terminal, info"
   ]
  },
  {
   "cell_type": "code",
   "execution_count": 40,
   "id": "3296d89e",
   "metadata": {},
   "outputs": [],
   "source": [
    "class ClipWrapper(gym.Wrapper):\n",
    "    def __init__(self, env):\n",
    "        gym.Wrapper.__init__(self, env)\n",
    "    \n",
    "    def preprocess_state(self, state):\n",
    "        state=(state>0)*1\n",
    "        return state\n",
    "        \n",
    "    def step(self, actions):\n",
    "        orig_state, reward, terminal, info = self.env.step(actions)\n",
    "        state=self.preprocess_state(orig_state)\n",
    "        next_state=state\n",
    "        return next_state, reward, terminal, info"
   ]
  },
  {
   "cell_type": "code",
   "execution_count": 41,
   "id": "1dc58db9",
   "metadata": {},
   "outputs": [],
   "source": [
    "class RamWrapper(gym.Wrapper):\n",
    "\n",
    "    def __init__(self, env):\n",
    "        gym.Wrapper.__init__(self, env)\n",
    "        \n",
    "    def preprocess_state(self, state):\n",
    "        #cpu_score = ram[13]  # computer/ai opponent score \n",
    "        #player_score = ram[14]  # your score\n",
    "        cpu_paddle_y = state[21]  # Y coordinate of computer paddle\n",
    "        player_paddle_y = state[51]  # Y coordinate of your paddle\n",
    "        ball_x = state[49]  # X coordinate of ball\n",
    "        ball_y = state[54]  # Y coordinate of ball\n",
    "        embedding = np.array([cpu_paddle_y, player_paddle_y, ball_x, ball_y], dtype=np.float32)/255.0\n",
    "        return embedding\n",
    "\n",
    "    def step(self, actions):\n",
    "        orig_state, reward, terminal, info = self.env.step(actions)\n",
    "        embedding=self.preprocess_state(orig_state)\n",
    "        next_state=embedding\n",
    "        return next_state, reward, terminal, info"
   ]
  },
  {
   "cell_type": "code",
   "execution_count": 42,
   "id": "d52ce0e0",
   "metadata": {},
   "outputs": [],
   "source": [
    "def check_stability_pca(object_list,old_compression,pca_model,stability_threshold=0.01):\n",
    "    obj=object_list.pop(0)\n",
    "    obj=obj.reshape(obj.shape[0],-1)\n",
    "    new=pca_model.transform(obj)\n",
    "    old=old_compression.pop(0)\n",
    "    err=mean_absolute_error(new,old)\n",
    "    if err<stability_threshold:\n",
    "        return True, err\n",
    "    else:\n",
    "        return False, err"
   ]
  },
  {
   "cell_type": "code",
   "execution_count": 43,
   "id": "f8db3a99",
   "metadata": {},
   "outputs": [],
   "source": [
    "def check_stability_birch(object_compressed_list,old_labels,birch_model,stability_threshold=0.95):\n",
    "    obj=object_compressed_list.pop(0)\n",
    "    new=birch_model.predict(obj)\n",
    "    old=old_labels.pop(0)\n",
    "    acc=balanced_accuracy_score(new,old)\n",
    "    if acc>stability_threshold:\n",
    "        return True, acc\n",
    "    else:\n",
    "        return False, acc"
   ]
  },
  {
   "cell_type": "markdown",
   "id": "e49234c9",
   "metadata": {},
   "source": [
    "# Train"
   ]
  },
  {
   "cell_type": "code",
   "execution_count": 44,
   "id": "c7e42426",
   "metadata": {},
   "outputs": [],
   "source": [
    "prefix='RAM_'"
   ]
  },
  {
   "cell_type": "code",
   "execution_count": 46,
   "id": "9eacfbc7",
   "metadata": {},
   "outputs": [],
   "source": [
    "env_start=gym.make('Pong-ramNoFrameskip-v4')\n",
    "env_start=SkipWrapper(env_start)\n",
    "env_start=RamWrapper(env_start)\n",
    "env_act=ActionWrapper(env_start)\n",
    "env=ResetWrapper(env_act)\n",
    "env=StateDiff(env,stacking=False)"
   ]
  },
  {
   "cell_type": "markdown",
   "id": "d9dcd220",
   "metadata": {},
   "source": [
    "# create model"
   ]
  },
  {
   "cell_type": "code",
   "execution_count": 48,
   "id": "fec0014d",
   "metadata": {},
   "outputs": [],
   "source": [
    "model = DQN(8, env.action_space.n)\n",
    "\n",
    "if USE_CUDA:\n",
    "    model = model.cuda()\n",
    "    \n",
    "optimizer = optim.Adam(model.parameters(), lr=0.0001)\n",
    "\n",
    "replay_initial = 10000\n",
    "replay_buffer = ReplayBuffer(100000)"
   ]
  },
  {
   "cell_type": "code",
   "execution_count": 49,
   "id": "21dbdc2d",
   "metadata": {},
   "outputs": [],
   "source": [
    "epsilon_start = 1.0\n",
    "epsilon_final = 0.01\n",
    "epsilon_decay = 30000\n",
    "\n",
    "epsilon_by_frame = lambda frame_idx: epsilon_final + (epsilon_start - epsilon_final) * math.exp(-1. * frame_idx / epsilon_decay)"
   ]
  },
  {
   "cell_type": "code",
   "execution_count": 50,
   "id": "c2184f7f",
   "metadata": {},
   "outputs": [
    {
     "data": {
      "image/png": "[encoded data removed]",
      "text/plain": [
       "<Figure size 1440x360 with 2 Axes>"
      ]
     },
     "metadata": {
      "needs_background": "light"
     },
     "output_type": "display_data"
    },
    {
     "name": "stdout",
     "output_type": "stream",
     "text": [
      "312.6878667789591 frames per sec\n"
     ]
    }
   ],
   "source": [
    "num_frames = 2000000\n",
    "batch_size = 32\n",
    "gamma      = 0.99\n",
    "\n",
    "losses = []\n",
    "all_rewards = []\n",
    "episode_reward = 0\n",
    "tic = datetime.datetime.now()\n",
    "\n",
    "state = env.reset()\n",
    "for frame_idx in range(1, num_frames + 1):\n",
    "    epsilon = epsilon_by_frame(frame_idx)\n",
    "    action = model.act(state, epsilon)\n",
    "    \n",
    "    next_state, reward, done, _ = env.step(action)\n",
    "    replay_buffer.push(state, action, reward, next_state, done)\n",
    "    \n",
    "    state = next_state\n",
    "    episode_reward += reward\n",
    "    \n",
    "    if done:\n",
    "        print(frame_idx)\n",
    "        state = env.reset()\n",
    "        all_rewards.append(episode_reward)\n",
    "        episode_reward = 0\n",
    "        \n",
    "    if len(replay_buffer) > replay_initial:\n",
    "        loss = compute_td_loss(batch_size)\n",
    "        losses.append(loss.item())\n",
    "        \n",
    "    if frame_idx % 10000 == 0:\n",
    "        plot(frame_idx, all_rewards, losses)\n",
    "        tac = datetime.datetime.now()\n",
    "        print(str(10000/(tac-tic).total_seconds())+\" frames per sec\")\n",
    "        tic = tac"
   ]
  },
  {
   "cell_type": "code",
   "execution_count": 51,
   "id": "584efdc1",
   "metadata": {},
   "outputs": [],
   "source": [
    "torch.save(model, prefix+\"model.pt\")\n",
    "\n",
    "np.save(prefix+'rewards.npy',all_rewards)\n",
    "\n",
    "np.save(prefix+'losses.npy',losses)"
   ]
  }
 ],
 "metadata": {
  "kernelspec": {
   "display_name": "Python 3 (ipykernel)",
   "language": "python",
   "name": "python3"
  },
  "language_info": {
   "codemirror_mode": {
    "name": "ipython",
    "version": 3
   },
   "file_extension": ".py",
   "mimetype": "text/x-python",
   "name": "python",
   "nbconvert_exporter": "python",
   "pygments_lexer": "ipython3",
   "version": "3.9.13"
  }
 },
 "nbformat": 4,
 "nbformat_minor": 5
}
