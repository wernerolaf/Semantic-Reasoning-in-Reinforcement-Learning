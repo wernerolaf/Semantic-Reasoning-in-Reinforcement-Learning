{
 "cells": [
  {
   "cell_type": "code",
   "execution_count": 1,
   "id": "fa8cd6cb",
   "metadata": {},
   "outputs": [],
   "source": [
    "# pip install gensim\n",
    "\n",
    "# pip install \"gym[atari,accept-rom-license]\""
   ]
  },
  {
   "cell_type": "code",
   "execution_count": 2,
   "id": "3688e6e9",
   "metadata": {},
   "outputs": [
    {
     "name": "stderr",
     "output_type": "stream",
     "text": [
      "\n"
     ]
    }
   ],
   "source": [
    "import math, random\n",
    "\n",
    "import gym\n",
    "\n",
    "import torch\n",
    "import torch.nn as nn\n",
    "import torch.optim as optim\n",
    "import torch.autograd as autograd \n",
    "import torch.nn.functional as F\n",
    "#basic\n",
    "import numpy as np\n",
    "import pandas as pd\n",
    "#sklearn\n",
    "from sklearn.manifold import TSNE\n",
    "from sklearn.decomposition import IncrementalPCA, PCA\n",
    "from sklearn.cluster import KMeans\n",
    "from sklearn.cluster import Birch\n",
    "from sklearn.linear_model import SGDClassifier\n",
    "from sklearn import metrics\n",
    "from sklearn.metrics import mean_absolute_error\n",
    "from sklearn.metrics import balanced_accuracy_score\n",
    "from sklearn.metrics.pairwise import euclidean_distances\n",
    "from sklearn.metrics import mean_squared_error\n",
    "from sklearn.metrics import r2_score, mean_absolute_error\n",
    "#image processing\n",
    "from skimage.filters import threshold_otsu\n",
    "from skimage.segmentation import clear_border\n",
    "from skimage.measure import label, regionprops\n",
    "from skimage.segmentation import felzenszwalb\n",
    "from skimage.morphology import closing, square\n",
    "from skimage.color import label2rgb, rgb2gray, gray2rgb\n",
    "from skimage.transform import resize\n",
    "from skimage.transform import rescale\n",
    "#skmultiflow\n",
    "# from skmultiflow.trees import HoeffdingTreeClassifier\n",
    "#visialization\n",
    "from PIL import Image\n",
    "import cv2\n",
    "import matplotlib.patches as mpatches\n",
    "import seaborn as sns\n",
    "sns.set_palette(\"Set2\")\n",
    "#dunn index\n",
    "import dunn\n",
    "from sklearn.metrics.pairwise import euclidean_distances\n",
    "#scikit \n",
    "from scipy.spatial import distance_matrix\n",
    "from scipy.spatial import distance\n",
    "#graph\n",
    "import networkx as nx\n",
    "#language model\n",
    "from gensim.models.doc2vec import Doc2Vec, TaggedDocument\n",
    "#other\n",
    "from copy import deepcopy\n",
    "from itertools import count\n",
    "from joblib import dump, load\n",
    "from joblib import Parallel, delayed\n",
    "import datetime\n",
    "\n",
    "import warnings\n",
    "warnings.filterwarnings(\"ignore\")"
   ]
  },
  {
   "cell_type": "code",
   "execution_count": 3,
   "id": "857a0e00",
   "metadata": {},
   "outputs": [],
   "source": [
    "from IPython.display import clear_output\n",
    "import matplotlib.pyplot as plt\n",
    "%matplotlib inline"
   ]
  },
  {
   "cell_type": "code",
   "execution_count": 4,
   "id": "a370d604",
   "metadata": {},
   "outputs": [],
   "source": [
    "from gym import spaces"
   ]
  },
  {
   "cell_type": "markdown",
   "id": "979e878e",
   "metadata": {},
   "source": [
    "# helping functions"
   ]
  },
  {
   "cell_type": "code",
   "execution_count": 5,
   "id": "e587710b",
   "metadata": {},
   "outputs": [],
   "source": [
    "def show_image(img):\n",
    "    fig, ax = plt.subplots(figsize=(10, 6))\n",
    "    ax.imshow(img)"
   ]
  },
  {
   "cell_type": "code",
   "execution_count": 6,
   "id": "bbac1486",
   "metadata": {},
   "outputs": [],
   "source": [
    "def make_video(States,name=\"test\",width=160,height=210,channel=3,fps=60):\n",
    "    fourcc = cv2.VideoWriter_fourcc(*'XVID') \n",
    "    video = cv2.VideoWriter(name+'.avi', fourcc, float(fps), (width,height))\n",
    "\n",
    "    for i in range(States.shape[0]):\n",
    "        video.write(States[i])\n",
    "\n",
    "    video.release()"
   ]
  },
  {
   "cell_type": "code",
   "execution_count": 7,
   "id": "3a4cea80",
   "metadata": {},
   "outputs": [],
   "source": [
    "def visualize_objects(label_image,image):\n",
    "    # to make the background transparent, pass the value of `bg_label`,\n",
    "    # and leave `bg_color` as `None` and `kind` as `overlay`\n",
    "    image_label_overlay = label2rgb(label_image, image=image, bg_label=0)\n",
    "\n",
    "    fig, ax = plt.subplots(figsize=(10, 6))\n",
    "    ax.imshow(image)\n",
    "\n",
    "    for region in regionprops(label_image):\n",
    "        # take regions with large enough areas\n",
    "        if region.area >= 1:\n",
    "            # draw rectangle around segmented coins\n",
    "            minr, minc, maxr, maxc = region.bbox\n",
    "            rect = mpatches.Rectangle((minc-0.5, minr-0.5), maxc - minc, maxr - minr,\n",
    "                                      fill=False, edgecolor='red', linewidth=3)\n",
    "            ax.add_patch(rect)"
   ]
  },
  {
   "cell_type": "code",
   "execution_count": 8,
   "id": "3f2fe1f9",
   "metadata": {},
   "outputs": [],
   "source": [
    "def visualize_objects2(label_image,image):\n",
    "    # to make the background transparent, pass the value of `bg_label`,\n",
    "    # and leave `bg_color` as `None` and `kind` as `overlay`\n",
    "    image_label_overlay = label2rgb(label_image, image=image, bg_label=0)\n",
    "\n",
    "    fig, ax = plt.subplots(figsize=(10, 6))\n",
    "    ax.imshow(image_label_overlay)\n",
    "\n",
    "    for region in regionprops(label_image):\n",
    "        # take regions with large enough areas\n",
    "        if region.area >= 1:\n",
    "            # draw rectangle around segmented coins\n",
    "            minr, minc, maxr, maxc = region.bbox\n",
    "            rect = mpatches.Rectangle((minc-0.5, minr-0.5), maxc - minc, maxr - minr,\n",
    "                                      fill=False, edgecolor='red', linewidth=3)\n",
    "            ax.add_patch(rect)\n",
    "\n",
    "    ax.set_axis_off()\n",
    "    plt.tight_layout()\n",
    "    plt.show()"
   ]
  },
  {
   "cell_type": "code",
   "execution_count": 9,
   "id": "522c5b72",
   "metadata": {},
   "outputs": [],
   "source": [
    "def find_objects(image,thresh=None):\n",
    "    #image = rgb2gray(image)\n",
    "\n",
    "    if thresh is None:\n",
    "        thresh = threshold_otsu(image)*0.9\n",
    "    # label image regions\n",
    "    label_image = label(image > thresh)\n",
    "    \n",
    "    return label_image, thresh"
   ]
  },
  {
   "cell_type": "code",
   "execution_count": 10,
   "id": "d26522ff",
   "metadata": {},
   "outputs": [],
   "source": [
    "def find_cut_objects(image,m_h,m_w,thresh=None,grayscale=False):\n",
    "    label_image,_=find_objects(image,thresh=thresh)\n",
    "    regions=regionprops(label_image)\n",
    "\n",
    "    i=len(regions)+1\n",
    "    for reg in regions:\n",
    "        i=i+1\n",
    "        minr, minc, maxr, maxc = reg.bbox\n",
    "        if int(np.ceil((maxc-minc)/m_w))!=1:\n",
    "            split_w=np.linspace(0,(maxc-minc),1+int(np.ceil((maxc-minc)/m_w))).astype(\"int\")\n",
    "            for y in range(int(np.ceil((maxc-minc)/m_w))):\n",
    "                i=i+1\n",
    "                label_image[reg.slice][:,split_w[y]:split_w[y+1]][reg.image[:,split_w[y]:split_w[y+1]]]=i\n",
    "    \n",
    "    regions=regionprops(label_image)\n",
    "    for reg in regions:\n",
    "        i=i+1\n",
    "        minr, minc, maxr, maxc = reg.bbox\n",
    "        if int(np.ceil((maxr-minr)/m_h))!=1:\n",
    "            split_h=np.linspace(0,(maxr-minr),1+int(np.ceil((maxr-minr)/m_h))).astype(\"int\")\n",
    "            for x in range(int(np.ceil((maxr-minr)/m_h))):\n",
    "                i=i+1\n",
    "                label_image[reg.slice][split_h[x]:split_h[x+1],:][reg.image[split_h[x]:split_h[x+1],:]]=i\n",
    "\n",
    "\n",
    "    regions=regionprops(label_image)\n",
    "    \n",
    "    if grayscale:\n",
    "        image=rgb2gray(image)\n",
    "    \n",
    "    objects=np.array([np.zeros((m_h,m_w)) for reg in regions])\n",
    "    for i in range(len(regions)):\n",
    "        x=regions[i].image.shape[0]\n",
    "        y=regions[i].image.shape[1]\n",
    "        objects[i,(m_h-x)//2:(m_h-x)//2+x,(m_w-y)//2:(m_w-y)//2+y]=image[regions[i].slice]\n",
    "    \n",
    "    \n",
    "    return label_image, objects, regions"
   ]
  },
  {
   "cell_type": "code",
   "execution_count": 11,
   "id": "3dc036e1",
   "metadata": {},
   "outputs": [],
   "source": [
    "def regions_to_graph(regions,labels,prox=60):\n",
    "    #weighted?\n",
    "    centroids=np.array([reg.centroid for reg in regions])\n",
    "    if prox==0:\n",
    "        dist=np.zeros((len(centroids),len(centroids)))\n",
    "    else:\n",
    "        dist=distance_matrix(centroids,centroids)\n",
    "        dist=(dist<prox)*dist\n",
    "    G = nx.from_numpy_matrix(dist)\n",
    "    lab={x:str(labels[x]) for x in range(len(centroids))}\n",
    "    nx.set_node_attributes(G, lab, \"feature\")\n",
    "    pos_x={x:int(centroids[x][0]) for x in range(len(centroids))}\n",
    "    nx.set_node_attributes(G, pos_x, \"position_x\")\n",
    "    pos_y={x:int(centroids[x][1]) for x in range(len(centroids))}\n",
    "    nx.set_node_attributes(G, pos_y, \"position_y\")\n",
    "    return G"
   ]
  },
  {
   "cell_type": "code",
   "execution_count": 12,
   "id": "d3c29a81",
   "metadata": {},
   "outputs": [],
   "source": [
    "def graph_to_doc(Graphs,iterations=2,start_tag=0):\n",
    "    documents=[]\n",
    "    hashes=None\n",
    "    for i in range(len(Graphs)):\n",
    "        if iterations>0:\n",
    "            hashes=nx.weisfeiler_lehman_subgraph_hashes(Graphs[i], iterations=iterations, node_attr=\"feature\")\n",
    "            \n",
    "        Doc=[]\n",
    "        for node in Graphs[i].nodes:\n",
    "            Doc=Doc+[Graphs[i].nodes[node][\"feature\"],\"pos_x\"+str(Graphs[i].nodes[node][\"position_x\"]),\"pos_y\"+str(Graphs[i].nodes[node][\"position_y\"]),\n",
    "                    \"apr_pos_x\"+str(Graphs[i].nodes[node][\"position_x\"]//5),\"apr_pos_y\"+str(Graphs[i].nodes[node][\"position_y\"]//5),\n",
    "                    Graphs[i].nodes[node][\"feature\"]+\"pos_x\"+str(Graphs[i].nodes[node][\"position_x\"]),\n",
    "                     Graphs[i].nodes[node][\"feature\"]+\"pos_y\"+str(Graphs[i].nodes[node][\"position_y\"]),\n",
    "                    Graphs[i].nodes[node][\"feature\"]+\"apr_pos_x\"+str(Graphs[i].nodes[node][\"position_x\"]//5),\n",
    "                     Graphs[i].nodes[node][\"feature\"]+\"apr_pos_y\"+str(Graphs[i].nodes[node][\"position_y\"]//5),\n",
    "                     Graphs[i].nodes[node][\"feature\"]+\"apr_pos_x\"+str(Graphs[i].nodes[node][\"position_x\"]//5)+\"apr_pos_y\"+str(Graphs[i].nodes[node][\"position_y\"]//5),\n",
    "                     Graphs[i].nodes[node][\"feature\"]+\"pos_x\"+str(Graphs[i].nodes[node][\"position_x\"])+Graphs[i].nodes[node][\"feature\"]+\"pos_y\"+str(Graphs[i].nodes[node][\"position_y\"]),\n",
    "                     \"apr_pos_x\"+str(Graphs[i].nodes[node][\"position_x\"]//5)+\"apr_pos_y\"+str(Graphs[i].nodes[node][\"position_y\"]//5),\n",
    "                     \"pos_x\"+str(Graphs[i].nodes[node][\"position_x\"])+Graphs[i].nodes[node][\"feature\"]+\"pos_y\"+str(Graphs[i].nodes[node][\"position_y\"])                   \n",
    "                    ]\n",
    "            if iterations>0:\n",
    "                Doc=Doc+hashes[node]\n",
    "        \n",
    "        documents=documents+[Doc.copy()]\n",
    "    \n",
    "    return documents"
   ]
  },
  {
   "cell_type": "code",
   "execution_count": 13,
   "id": "9b2a1046",
   "metadata": {},
   "outputs": [],
   "source": [
    "def doc_to_embedding(documents,model,seed=42):\n",
    "    model.random.seed(seed)\n",
    "    return np.array([model.infer_vector(doc) for doc in documents])"
   ]
  },
  {
   "cell_type": "code",
   "execution_count": 14,
   "id": "37cacf0a",
   "metadata": {},
   "outputs": [],
   "source": [
    "def visualize_graph(g,max_col=15):\n",
    "    nodes = g.nodes()\n",
    "    colors = [int(g.nodes[n]['feature'])/max_col for n in nodes]\n",
    "    pos = nx.spring_layout(g)\n",
    "    for n in nodes:\n",
    "        pos[n][1]=-1*g.nodes[n]['position_x']\n",
    "        pos[n][0]=g.nodes[n]['position_y']\n",
    "\n",
    "    ec = nx.draw_networkx_edges(g, pos, alpha=0.2)\n",
    "    nc = nx.draw_networkx_nodes(g, pos, nodelist=nodes, node_color=colors, node_size=150, cmap=plt.cm.jet,vmin=0,vmax=1)\n",
    "    #plt.colorbar(nc)\n",
    "    plt.axis('off')\n",
    "#     plt.show()"
   ]
  },
  {
   "cell_type": "code",
   "execution_count": 15,
   "id": "085eb7a4",
   "metadata": {},
   "outputs": [],
   "source": [
    "def graph_diff2(G1,G2,obj_class_diff=100,obj_n_diff=100):\n",
    "    n1=set([(G1.nodes[x][\"feature\"],G1.nodes[x][\"position_x\"],G1.nodes[x][\"position_y\"]) for x in G1.nodes])\n",
    "    n2=set([(G2.nodes[x][\"feature\"],G2.nodes[x][\"position_x\"],G2.nodes[x][\"position_y\"]) for x in G2.nodes])\n",
    "    l1=list(n1.difference(n2))\n",
    "    l2=list(n2.difference(n1))\n",
    "    \n",
    "    if len(l1)==0 or len(l2)==0:\n",
    "        return abs(len(l1)-len(l2))*obj_n_diff\n",
    "    \n",
    "    if len(l1)>len(l2):\n",
    "        l1,l2 = l2,l1\n",
    "    \n",
    "    dist=np.zeros((len(l1),len(l2)))\n",
    "    for x in range(len(l1)):\n",
    "        for y in range(len(l2)):\n",
    "            dist[x,y]=node_dist(l1[x],l2[y],obj_class_diff=obj_class_diff)\n",
    "        \n",
    "    return graph_metric(dist,obj_n_diff=obj_n_diff)"
   ]
  },
  {
   "cell_type": "code",
   "execution_count": 16,
   "id": "64ed809a",
   "metadata": {},
   "outputs": [],
   "source": [
    "def node_dist2(n1,n2,obj_class_diff=100):\n",
    "    return (n1[0]!=n2[0])*obj_class_diff+abs(n1[1]-n2[1])+abs(n1[2]-n2[2])"
   ]
  },
  {
   "cell_type": "code",
   "execution_count": 17,
   "id": "0a737050",
   "metadata": {},
   "outputs": [],
   "source": [
    "def node_dist(n1,n2,obj_class_diff=100):\n",
    "    return (n1[0]!=n2[0])*obj_class_diff+np.sqrt((n1[1]-n2[1])**2+(n1[2]-n2[2])**2)"
   ]
  },
  {
   "cell_type": "code",
   "execution_count": 18,
   "id": "c755653b",
   "metadata": {},
   "outputs": [],
   "source": [
    "def graph_metric(dist,obj_n_diff=100):\n",
    "    return np.sum(np.min(dist,axis=1))+abs(dist.shape[0]-dist.shape[1])*obj_n_diff"
   ]
  },
  {
   "cell_type": "code",
   "execution_count": 19,
   "id": "24aa06c0",
   "metadata": {},
   "outputs": [],
   "source": [
    "def graph_diff(G1,G2,obj_class_diff=100,obj_n_diff=100):\n",
    "    l1=[(G1.nodes[x][\"feature\"],G1.nodes[x][\"position_x\"],G1.nodes[x][\"position_y\"]) for x in G1.nodes]\n",
    "    l2=[(G2.nodes[x][\"feature\"],G2.nodes[x][\"position_x\"],G2.nodes[x][\"position_y\"]) for x in G2.nodes]\n",
    "    \n",
    "    if len(l1)==0 or len(l2)==0:\n",
    "        return abs(len(l1)-len(l2))*obj_n_diff\n",
    "    \n",
    "    if len(l1)>len(l2):\n",
    "        l1,l2 = l2,l1\n",
    "    \n",
    "    dist=np.zeros((len(l1),len(l2)))\n",
    "    for x in range(len(l1)):\n",
    "        for y in range(len(l2)):\n",
    "            dist[x,y]=node_dist(l1[x],l2[y],obj_class_diff=obj_class_diff)\n",
    "        \n",
    "    return graph_metric(dist,obj_n_diff=obj_n_diff)"
   ]
  },
  {
   "cell_type": "code",
   "execution_count": 20,
   "id": "21196d0b",
   "metadata": {},
   "outputs": [],
   "source": [
    "def graph_diff3(l1,l2,obj_class_diff=100,obj_n_diff=100):\n",
    "\n",
    "    if len(l1)==0 or len(l2)==0:\n",
    "        return abs(len(l1)-len(l2))*obj_n_diff\n",
    "    \n",
    "    if len(l1)>len(l2):\n",
    "        l1,l2 = l2,l1\n",
    "    \n",
    "    c1=np.array([[l[1],l[2]] for l in l1])\n",
    "    c2=np.array([[l[1],l[2]] for l in l2])\n",
    "    \n",
    "    lab1=np.array([[int(l[0])] for l in l1])\n",
    "    lab2=np.array([[int(l[0])] for l in l2])\n",
    "    \n",
    "    dist=euclidean_distances(c1,c2)+obj_class_diff*(euclidean_distances(lab1,lab2)>0)\n",
    "        \n",
    "    return np.sum(np.min(dist,axis=1))+abs(dist.shape[0]-dist.shape[1])*obj_n_diff"
   ]
  },
  {
   "cell_type": "code",
   "execution_count": 21,
   "id": "ae6f0c0e",
   "metadata": {},
   "outputs": [],
   "source": [
    "def graph_diff_list(G1_list,G2_list,obj_class_diff=100,obj_n_diff=100):\n",
    "    L1=[[(G1.nodes[x][\"feature\"],G1.nodes[x][\"position_x\"],G1.nodes[x][\"position_y\"]) for x in G1.nodes] for G1 in G1_list]\n",
    "    L2=[[(G2.nodes[x][\"feature\"],G2.nodes[x][\"position_x\"],G2.nodes[x][\"position_y\"]) for x in G2.nodes] for G2 in G2_list]\n",
    "    \n",
    "    dist=np.zeros((len(L1),len(L2)))\n",
    "    for x in range(len(L1)):\n",
    "        for y in range(len(L2)):\n",
    "            dist[x,y]=graph_diff3(L1[x],L2[y])\n",
    "            if dist[x,y]==0:\n",
    "                break\n",
    "        \n",
    "    return dist"
   ]
  },
  {
   "cell_type": "code",
   "execution_count": 22,
   "id": "9e4e854b",
   "metadata": {},
   "outputs": [],
   "source": [
    "def regions_to_embedding(regions,labels,grid,label_size=16,x=105,y=80,max_rad=10):\n",
    "    centroids=np.array([reg.centroid for reg in regions])\n",
    "    dist=distance_matrix(centroids,grid)\n",
    "    dist=(1-np.clip(dist/max_rad,0,1))#**2\n",
    "    emb=np.zeros((label_size+1,grid.shape[0]))\n",
    "    emb[0,:]=dist.sum(axis=0)\n",
    "    for lab in np.unique(labels):\n",
    "        emb[lab+1,:]=dist[labels==lab,:].sum(axis=0)\n",
    "        \n",
    "    return emb"
   ]
  },
  {
   "cell_type": "code",
   "execution_count": 23,
   "id": "0ae35fab",
   "metadata": {},
   "outputs": [],
   "source": [
    "def make_grid(shape,x=2,y=2):\n",
    "    grid=np.zeros((x*y,2))\n",
    "    split_h=np.linspace(0,shape[0],y).astype(\"int\")\n",
    "    split_w=np.linspace(0,shape[1],x).astype(\"int\")\n",
    "    z=0\n",
    "    for i in split_h:\n",
    "        for j in split_w:\n",
    "            grid[z,:]=[i,j]\n",
    "            z+=1\n",
    "    return grid"
   ]
  },
  {
   "cell_type": "code",
   "execution_count": 24,
   "id": "489bcb97",
   "metadata": {},
   "outputs": [],
   "source": [
    "def moving_average(x, w):\n",
    "    return np.convolve(x, np.ones(w), 'valid') / w"
   ]
  },
  {
   "cell_type": "markdown",
   "id": "c2ba2c75",
   "metadata": {},
   "source": [
    "<h3>Use Cuda</h3>"
   ]
  },
  {
   "cell_type": "code",
   "execution_count": 25,
   "id": "d2b9faf3",
   "metadata": {},
   "outputs": [],
   "source": [
    "USE_CUDA = torch.cuda.is_available()\n",
    "Variable = lambda *args, **kwargs: autograd.Variable(*args, **kwargs).cuda() if USE_CUDA else autograd.Variable(*args, **kwargs)"
   ]
  },
  {
   "cell_type": "markdown",
   "id": "558871e2",
   "metadata": {},
   "source": [
    "# Reasoning graph"
   ]
  },
  {
   "cell_type": "code",
   "execution_count": 26,
   "id": "1aa63234",
   "metadata": {},
   "outputs": [],
   "source": [
    "def flatten_list(list1):\n",
    "    out = []\n",
    "    inside = list1\n",
    "    while inside:\n",
    "        x = inside.pop(0)\n",
    "        if isinstance(x, list):\n",
    "            inside[0:0] = x\n",
    "        else:\n",
    "            out.append(x)\n",
    "    return out"
   ]
  },
  {
   "cell_type": "code",
   "execution_count": 27,
   "id": "f06e400e",
   "metadata": {},
   "outputs": [],
   "source": [
    "class Net_Regr(nn.Module):\n",
    "    def __init__(self, num_inputs, num_outputs):\n",
    "        super(Net_Regr, self).__init__()\n",
    "        \n",
    "        self.layers = nn.Sequential(\n",
    "            nn.Linear(num_inputs, 512),\n",
    "            nn.ReLU(),\n",
    "            nn.Linear(512, num_outputs)\n",
    "        )\n",
    "        \n",
    "        self.optimizer = optim.Adam(self.parameters(), lr=0.0001)\n",
    "        self.criterion = nn.MSELoss()\n",
    "        \n",
    "    def forward(self, X):\n",
    "        X  = autograd.Variable(torch.FloatTensor(X))\n",
    "        return self.layers(X)\n",
    "    \n",
    "    def predict(self, X):\n",
    "        X  = autograd.Variable(torch.FloatTensor(X))\n",
    "        return self.layers(X).detach().numpy()\n",
    "    \n",
    "    def train(self, X, y, epochs=100, batch_size = 128):\n",
    "        y=torch.FloatTensor(y)\n",
    "        \n",
    "        permutation = torch.randperm(X.shape[0])\n",
    "        \n",
    "        for e in range(epochs):\n",
    "            \n",
    "            for i in range(0,X.shape[0], batch_size):\n",
    "                self.optimizer.zero_grad()\n",
    "                \n",
    "                indices = permutation[i:i+batch_size]\n",
    "                batch_x, batch_y = X[indices], y[indices]\n",
    "        \n",
    "                y_hat = self.forward(batch_x)\n",
    "                loss = self.criterion(y_hat, batch_y)\n",
    "                loss.backward()\n",
    "                self.optimizer.step()\n",
    "                    \n",
    "        return loss"
   ]
  },
  {
   "cell_type": "code",
   "execution_count": 28,
   "id": "546a013c",
   "metadata": {},
   "outputs": [],
   "source": [
    "def weights_adjust(d):\n",
    "    w=d['weight']\n",
    "    if w==0:\n",
    "        return 1\n",
    "    if w==-1:\n",
    "        return 100\n",
    "    if w==1:\n",
    "        return 0"
   ]
  },
  {
   "cell_type": "code",
   "execution_count": 118,
   "id": "f7705729",
   "metadata": {},
   "outputs": [],
   "source": [
    "class StateMap():\n",
    "    def __init__(self,dimensions,depth=3,action_n=2):\n",
    "        self.dimensions=dimensions\n",
    "        self.action_n=action_n\n",
    "        self.depth=depth\n",
    "        self.node_brc=Birch(n_clusters=None,threshold=0.01*dimensions,branching_factor=100)\n",
    "        self.edge_brc=Birch(n_clusters=None,threshold=0.01*dimensions,branching_factor=100)\n",
    "        self.pred_reward=SGDClassifier(class_weight={-1:5,0:1,1:5})\n",
    "        self.pred_state=Net_Regr(self.dimensions+1,self.dimensions//2)\n",
    "        self.G=nx.DiGraph()\n",
    "        self.current_node=None\n",
    "        self.best_path=[]\n",
    "        \n",
    "    def update_map(self,states,actions,rewards):\n",
    "        D=self.dimensions\n",
    "        states_now=np.array(states)[1:-1]\n",
    "        states_next=np.array(states)[2:]\n",
    "        reward_now=np.array(rewards[1:-1]).reshape(-1).astype(int)\n",
    "        act_now=np.array(actions[1:-1]).astype(int)\n",
    "        \n",
    "        state_action=np.hstack((states_now,act_now.reshape(-1,1)))\n",
    "        state_pair=np.hstack((states_now[:,:D//2],act_now.reshape(-1,1),reward_now.reshape(-1,1),states_next[:,:D//2]))\n",
    "        #train reward prediction\n",
    "        self.pred_reward.partial_fit(state_action,reward_now,classes=np.array([-1,0,1]))\n",
    "        #train state prediction\n",
    "        self.pred_state.train(state_action,states_next[:,:D//2],epochs=100,batch_size=64)\n",
    "\n",
    "        self.edge_brc.partial_fit(state_pair)\n",
    "        \n",
    "        self.node_brc.partial_fit(states_now[:,:D//2])\n",
    "        \n",
    "    def rebuild_graph(self):\n",
    "        D=self.dimensions\n",
    "        lab=self.node_brc.subcluster_labels_\n",
    "        \n",
    "        N_E=self.edge_brc.subcluster_centers_.shape[0]\n",
    "        N_N=self.node_brc.subcluster_centers_.shape[0]\n",
    "        \n",
    "        self.G=nx.DiGraph()\n",
    "        for i in range(N_N):\n",
    "            self.G.add_nodes_from([(lab[i], {'position':self.node_brc.subcluster_centers_[lab[i]],'value':0})])\n",
    "        \n",
    "        for i in range(N_E):\n",
    "            l=self.node_brc.predict([self.edge_brc.subcluster_centers_[i,:D//2]])[0]\n",
    "            r=self.node_brc.predict([self.edge_brc.subcluster_centers_[i,-D//2:]])[0]\n",
    "            w=int(self.edge_brc.subcluster_centers_[i,D+1])\n",
    "            a=int(self.edge_brc.subcluster_centers_[i,D])\n",
    "            self.G.add_edge(l,r,weight=w,action=a)\n",
    "            \n",
    "            if w!=0:\n",
    "                self.G.add_nodes_from([(l, {'position':self.node_brc.subcluster_centers_[l],'value':w})])\n",
    "\n",
    "        #remove self loops\n",
    "        self.G.remove_edges_from(list(nx.selfloop_edges(self.G)))\n",
    "        self.current_node=None\n",
    "        self.best_path=[]\n",
    "            \n",
    "    def predict_reward(self,state,action):\n",
    "        state_action=np.hstack((state,action))\n",
    "        return self.pred_reward.predict([state_action])[0]\n",
    "    \n",
    "    def predict_state(self,state,action):\n",
    "        state_action=np.hstack((state,action))\n",
    "        return self.pred_state.predict([state_action]).reshape(-1)\n",
    "    \n",
    "    def pred_multi_step(self, state, depth=3):\n",
    "\n",
    "        def _pred(self,state, depth,action_seq,total_reward):\n",
    "            predicted_next_states=[self.predict_state(state,a) for a in range(self.action_n)]\n",
    "            predicted_next_states=[np.concatenate((predicted_next_states[a], predicted_next_states[a]-state[:self.dimensions//2]), axis=-1) for a in range(self.action_n)]\n",
    "            predicted_next_rewards=[self.predict_reward(state,a) for a in range(self.action_n)]\n",
    "            if depth==1:\n",
    "                return [(predicted_next_states[a], action_seq+[a], total_reward+predicted_next_rewards[a]) for a in range(self.action_n)]\n",
    "            else:\n",
    "                return [_pred(self, predicted_next_states[a], depth-1, action_seq+[a],total_reward+predicted_next_rewards[a]) for a in range(self.action_n)]\n",
    "\n",
    "        return flatten_list(_pred(self, state, depth,action_seq=[],total_reward=0))\n",
    "\n",
    "    def get_path_index(self,state):\n",
    "        D=self.dimensions\n",
    "        try:\n",
    "            index = self.best_path.index(self.node_brc.predict([state[:D//2]])[0])\n",
    "        except ValueError:\n",
    "            index = -1\n",
    "\n",
    "        return index\n",
    "    \n",
    "    def propose_path(self,state, env=None):\n",
    "        D=self.dimensions\n",
    "        self.current_node=self.node_brc.predict([state[:D//2]])[0]\n",
    "        #check if path is followed\n",
    "        if self.current_node not in self.best_path[:-1]:\n",
    "            good=[n for n in self.G.nodes() if self.G.nodes()[n]['value']==1]\n",
    "            l,p=nx.single_source_dijkstra(self.G,self.current_node,weight = lambda u, v, d: weights_adjust(d),cutoff=8)\n",
    "            candidates=np.array([g for g in good if g in l])\n",
    "            \n",
    "            if len(candidates)>0:\n",
    "                best=np.array([l[g] for g in candidates]).argmin()\n",
    "                self.best_path=p[candidates[best]]\n",
    "            else:\n",
    "                self.best_path=[self.current_node]\n",
    "        \n",
    "        i=self.best_path.index(self.current_node)\n",
    "        \n",
    "        if len(self.best_path)>1:\n",
    "            proposed_next_state=self.node_brc.subcluster_centers_[self.best_path[i+1]]\n",
    "            proposed_final_state=self.node_brc.subcluster_centers_[self.best_path[-1]]\n",
    "        else:\n",
    "            proposed_next_state=self.node_brc.subcluster_centers_[self.best_path[i]]\n",
    "            proposed_final_state=self.node_brc.subcluster_centers_[self.best_path[-1]]\n",
    "            \n",
    "        if env is None:\n",
    "            predicted_next_states=self.pred_multi_step(state,depth=self.depth)\n",
    "        else:\n",
    "            predicted_next_states=pred_true_multi_step(state, env, action_n=self.action_n, depth=self.depth)\n",
    "\n",
    "        a=np.array([[self.get_path_index(s[0]),mean_squared_error(proposed_final_state,s[0][:D//2]),s[2]] for s in predicted_next_states])\n",
    "        best_scenario_ind=np.lexsort((a[:,1], a[:,0][::-1], a[:,2][::-1]))\n",
    "        \n",
    "        return self.current_node, self.best_path, best_scenario_ind, predicted_next_states\n",
    "        \n",
    "    def show_map(self, nodes_to_draw=None, show_labels=False, state1=None, state2=None):\n",
    "        pca=PCA(2)\n",
    "        pca.fit(self.node_brc.subcluster_centers_)\n",
    "        \n",
    "        H=deepcopy(self.G)\n",
    "        \n",
    "        def map_c(x):\n",
    "            if x==-1:\n",
    "                return \"red\"\n",
    "            if x==0:\n",
    "                return \"yellow\"\n",
    "            if x==1:\n",
    "                return \"green\"\n",
    "            if x==2:\n",
    "                return \"blue\"\n",
    "            if x==3:\n",
    "                return \"orange\"\n",
    "        \n",
    "        if state1 is not None:\n",
    "            H.add_nodes_from([(-1, {'position':state1,'value':2})])\n",
    "            if nodes_to_draw is not None:\n",
    "                nodes_to_draw.append(-1)\n",
    "            \n",
    "        if state2 is not None:\n",
    "            H.add_nodes_from([(-2, {'position':state2,'value':3})])\n",
    "            if nodes_to_draw is not None:\n",
    "                nodes_to_draw.append(-2)\n",
    "        \n",
    "        if nodes_to_draw is not None:\n",
    "            H=H.subgraph(nodes_to_draw)\n",
    "        \n",
    "        \n",
    "        edges = H.edges()\n",
    "        colors = [map_c(H[u][v]['weight']) for u,v in edges]\n",
    "        weights = [H[u][v]['weight'] for u,v in edges]\n",
    "\n",
    "        color_map = []\n",
    "        for n in H.nodes():\n",
    "            color_map.append(int(H.nodes()[n][\"value\"]))\n",
    "        \n",
    "        color_map=[map_c(x) for x in color_map]\n",
    "        pos = nx.spring_layout(H)\n",
    "        for n in H.nodes():\n",
    "            pos[n][0]=pca.transform([H.nodes[n]['position']])[0][0]\n",
    "            pos[n][1]=pca.transform([H.nodes[n]['position']])[0][1]\n",
    "\n",
    "        plt.figure(figsize=(12,12))\n",
    "        ec = nx.draw(H, pos, node_color=color_map,node_size=75,with_labels=show_labels)\n",
    "        nx.draw_networkx_edges(H, pos, edge_color=colors)\n",
    "#         plt.show()"
   ]
  },
  {
   "cell_type": "code",
   "execution_count": 119,
   "id": "26b222a3",
   "metadata": {},
   "outputs": [],
   "source": [
    "def pred_true_multi_step(state, env, action_n=2, depth=3):\n",
    "\n",
    "    def _pred(state, env, action_n, game_state, depth, action_seq, total_reward):\n",
    "        env.unwrapped.restore_full_state(game_state)\n",
    "        predicted_next_states=[]\n",
    "        predicted_next_rewards=[]\n",
    "        predicted_next_game_states=[]\n",
    "        for a in range(action_n):\n",
    "            new_state, reward, _, _=env.step(a)\n",
    "            new_game_state=env.unwrapped.clone_full_state()\n",
    "            predicted_next_game_states+=[new_game_state]\n",
    "            new_state[len(state)//2:]=new_state[:len(state)//2]-state[:len(state)//2]\n",
    "            predicted_next_states+=[new_state]\n",
    "            predicted_next_rewards+=[reward]\n",
    "            env.unwrapped.restore_full_state(game_state)\n",
    "        \n",
    "        if depth==1:\n",
    "            return [(predicted_next_states[a], action_seq+[a], total_reward+predicted_next_rewards[a]) for a in range(action_n)]\n",
    "        else:\n",
    "            return [_pred(predicted_next_states[a], env, action_n, predicted_next_game_states[a], depth-1, action_seq+[a],total_reward+predicted_next_rewards[a]) for a in range(action_n)]\n",
    "\n",
    "    game_state=env.unwrapped.clone_full_state()\n",
    "    results=flatten_list(_pred(state, env, action_n, game_state, depth,action_seq=[],total_reward=0))\n",
    "    env.unwrapped.restore_full_state(game_state)\n",
    "    return results"
   ]
  },
  {
   "cell_type": "code",
   "execution_count": 120,
   "id": "0089745b",
   "metadata": {},
   "outputs": [],
   "source": [
    "def RAM_to_image(ram):\n",
    "    img=np.zeros([84,84,3])\n",
    "    img[int(84*ram[0]):int(84*ram[0])+6,20:22,:]=1\n",
    "    img[int(84*ram[1]):int(84*ram[1])+6,-22:-20,:]=1\n",
    "    img[int(84*ram[3]):int(84*ram[3])+1,int(84*ram[2]):int(84*ram[2])+1,:]=1\n",
    "    return img"
   ]
  },
  {
   "cell_type": "code",
   "execution_count": 121,
   "id": "3ab785da",
   "metadata": {},
   "outputs": [],
   "source": [
    "class MapWrapper(gym.Wrapper):\n",
    "    def __init__(self, env, dimensions,depth=4,action_n=2):\n",
    "        gym.Wrapper.__init__(self, env)\n",
    "        self.state_map=StateMap(dimensions,depth=depth,action_n=action_n)\n",
    "        \n",
    "    def preprocess_state(self, state):\n",
    "        current_node, best_path, best_scenario_ind, predicted_next_states = self.state_map.propose_path(state)\n",
    "        best=predicted_next_states[best_scenario_ind[0]]\n",
    "        new_state=np.concatenate((state,best[0],np.array(best[1]),[best[2]]))\n",
    "        return new_state\n",
    "        \n",
    "    def step(self, actions):\n",
    "        orig_state, reward, terminal, info = self.env.step(actions)\n",
    "        new_state=self.preprocess_state(orig_state)\n",
    "        next_state=new_state\n",
    "        return next_state, reward, terminal, info"
   ]
  },
  {
   "cell_type": "markdown",
   "id": "646053ce",
   "metadata": {},
   "source": [
    "<h2>Replay Buffer</h2>"
   ]
  },
  {
   "cell_type": "code",
   "execution_count": 33,
   "id": "b1c6e3c8",
   "metadata": {},
   "outputs": [],
   "source": [
    "from collections import deque\n",
    "\n",
    "class ReplayBuffer(object):\n",
    "    def __init__(self, capacity):\n",
    "        self.buffer = deque(maxlen=capacity)\n",
    "    \n",
    "    def push(self, state, action, reward, next_state, done):\n",
    "        state      = np.expand_dims(state, 0)\n",
    "        next_state = np.expand_dims(next_state, 0)\n",
    "            \n",
    "        self.buffer.append((state, action, reward, next_state, done))\n",
    "    \n",
    "    def sample(self, batch_size):\n",
    "        state, action, reward, next_state, done = zip(*random.sample(self.buffer, batch_size))\n",
    "        return np.concatenate(state), action, reward, np.concatenate(next_state), done\n",
    "    \n",
    "    def __len__(self):\n",
    "        return len(self.buffer)"
   ]
  },
  {
   "cell_type": "markdown",
   "id": "e44c95b0",
   "metadata": {},
   "source": [
    "<h2>Deep Q Network</h2>"
   ]
  },
  {
   "cell_type": "code",
   "execution_count": 34,
   "id": "ea66e7e8",
   "metadata": {},
   "outputs": [],
   "source": [
    "class DQN(nn.Module):\n",
    "    def __init__(self, num_inputs, num_actions):\n",
    "        super(DQN, self).__init__()\n",
    "        \n",
    "        self.layers = nn.Sequential(\n",
    "            nn.Linear(num_inputs, 256),\n",
    "            nn.ReLU(),\n",
    "            nn.Linear(256, num_actions)\n",
    "        )\n",
    "        \n",
    "    def forward(self, x):\n",
    "        return self.layers(x)\n",
    "    \n",
    "    def act(self, state, epsilon):\n",
    "        if random.random() > epsilon:\n",
    "            with torch.no_grad():\n",
    "                state   = Variable(torch.FloatTensor(state).unsqueeze(0))\n",
    "                \n",
    "            q_value = self.forward(state)\n",
    "            action  = q_value.max(1)[1].item()\n",
    "        else:\n",
    "            action = random.randrange(env.action_space.n)\n",
    "        return action"
   ]
  },
  {
   "cell_type": "code",
   "execution_count": 35,
   "id": "987cc6a7",
   "metadata": {},
   "outputs": [],
   "source": [
    "class CnnDQN(nn.Module):\n",
    "    def __init__(self, input_shape, num_actions):\n",
    "        super(CnnDQN, self).__init__()\n",
    "        \n",
    "        self.input_shape = input_shape\n",
    "        self.num_actions = num_actions\n",
    "        \n",
    "        self.features = nn.Sequential(\n",
    "            nn.Conv2d(input_shape[0], 32, kernel_size=8, stride=4),\n",
    "            nn.ReLU(),\n",
    "            nn.Conv2d(32, 64, kernel_size=4, stride=2),\n",
    "            nn.ReLU(),\n",
    "            nn.Conv2d(64, 64, kernel_size=3, stride=1),\n",
    "            nn.ReLU()\n",
    "        )\n",
    "        \n",
    "        self.fc = nn.Sequential(\n",
    "            nn.Linear(self.feature_size(), 256),\n",
    "            nn.ReLU(),\n",
    "            nn.Linear(256, self.num_actions)\n",
    "        )\n",
    "        \n",
    "    def forward(self, x):\n",
    "        x = self.features(x)\n",
    "        x = x.view(x.size(0), -1)\n",
    "        x = self.fc(x)\n",
    "        return x\n",
    "    \n",
    "    def feature_size(self):\n",
    "        return self.features(autograd.Variable(torch.zeros(1, *self.input_shape))).view(1, -1).size(1)\n",
    "    \n",
    "    def act(self, state, epsilon):\n",
    "        if random.random() > epsilon:\n",
    "            with torch.no_grad():\n",
    "                state = Variable(torch.FloatTensor(np.float32(state)).unsqueeze(0))\n",
    "                \n",
    "            q_value = self.forward(state)\n",
    "            action  = q_value.max(1)[1].item()\n",
    "        else:\n",
    "            action = random.randrange(env.action_space.n)\n",
    "        return action"
   ]
  },
  {
   "cell_type": "markdown",
   "id": "4b304e31",
   "metadata": {},
   "source": [
    "<h2>Computing Temporal Difference Loss</h2>"
   ]
  },
  {
   "cell_type": "code",
   "execution_count": 36,
   "id": "e2206ae1",
   "metadata": {},
   "outputs": [],
   "source": [
    "def compute_td_loss(batch_size):\n",
    "    state, action, reward, next_state, done = replay_buffer.sample(batch_size)\n",
    "\n",
    "    state      = Variable(torch.FloatTensor(np.float32(state)))\n",
    "    \n",
    "    with torch.no_grad():\n",
    "        next_state = Variable(torch.FloatTensor(np.float32(next_state)))\n",
    "    \n",
    "    action     = Variable(torch.LongTensor(action))\n",
    "    reward     = Variable(torch.FloatTensor(reward))\n",
    "    done       = Variable(torch.FloatTensor(done))\n",
    "\n",
    "    q_values      = model(state)\n",
    "    next_q_values = model(next_state)\n",
    "\n",
    "    q_value          = q_values.gather(1, action.unsqueeze(1)).squeeze(1)\n",
    "    next_q_value     = next_q_values.max(1)[0]\n",
    "    expected_q_value = reward + gamma * next_q_value * (1 - done)\n",
    "    \n",
    "    loss = (q_value - Variable(expected_q_value.data)).pow(2).mean()\n",
    "        \n",
    "    optimizer.zero_grad()\n",
    "    loss.backward()\n",
    "    optimizer.step()\n",
    "    \n",
    "    return loss"
   ]
  },
  {
   "cell_type": "code",
   "execution_count": 37,
   "id": "1d78932f",
   "metadata": {},
   "outputs": [],
   "source": [
    "def plot(frame_idx, rewards, losses):\n",
    "    clear_output(True)\n",
    "    plt.figure(figsize=(20,5))\n",
    "    plt.subplot(131)\n",
    "    plt.title('frame %s. reward: %s' % (frame_idx, np.mean(rewards[-10:])))\n",
    "    plt.plot(rewards)\n",
    "    plt.plot(moving_average(rewards,10))\n",
    "    plt.subplot(132)\n",
    "    plt.title('loss')\n",
    "    plt.plot(losses)\n",
    "    plt.show()"
   ]
  },
  {
   "cell_type": "markdown",
   "id": "095db7b8",
   "metadata": {},
   "source": [
    "<h1>Atari Environment</h1>"
   ]
  },
  {
   "cell_type": "code",
   "execution_count": 38,
   "id": "71641eff",
   "metadata": {},
   "outputs": [],
   "source": [
    "class RamWrapper(gym.Wrapper):\n",
    "\n",
    "    def __init__(self, env):\n",
    "        gym.Wrapper.__init__(self, env)\n",
    "        \n",
    "    def preprocess_state(self, state):\n",
    "        #cpu_score = ram[13]  # computer/ai opponent score \n",
    "        #player_score = ram[14]  # your score\n",
    "        cpu_paddle_y = state[21]  # Y coordinate of computer paddle\n",
    "        player_paddle_y = state[51]  # Y coordinate of your paddle\n",
    "        ball_x = state[49]  # X coordinate of ball\n",
    "        ball_y = state[54]  # Y coordinate of ball\n",
    "        embedding = np.array([cpu_paddle_y, player_paddle_y, ball_x, ball_y], dtype=np.float32)/255.0\n",
    "        return embedding\n",
    "\n",
    "    def step(self, actions):\n",
    "        orig_state, reward, terminal, info = self.env.step(actions)\n",
    "        embedding=self.preprocess_state(orig_state)\n",
    "        next_state=embedding\n",
    "        return next_state, reward, terminal, info"
   ]
  },
  {
   "cell_type": "code",
   "execution_count": 39,
   "id": "a744bf82",
   "metadata": {},
   "outputs": [],
   "source": [
    "class SkipWrapper(gym.Wrapper):\n",
    "    def __init__(self, env, repeat_action=4):\n",
    "        gym.Wrapper.__init__(self, env)\n",
    "        self.repeat_action= repeat_action\n",
    "\n",
    "    def step(self, action):\n",
    "        total_reward=0\n",
    "        for i in range(self.repeat_action):\n",
    "            next_state, reward, done, info = self.env.step(action)\n",
    "            total_reward += reward\n",
    "            if done:\n",
    "                break\n",
    "                \n",
    "        return next_state, total_reward, done, info"
   ]
  },
  {
   "cell_type": "code",
   "execution_count": 40,
   "id": "26ea0a78",
   "metadata": {},
   "outputs": [],
   "source": [
    "class GridWrapper(gym.Wrapper):\n",
    "    def __init__(self, env):\n",
    "        gym.Wrapper.__init__(self, env)\n",
    "        \n",
    "        self.x_grid=4\n",
    "        self.y_grid=4\n",
    "        self.grid=make_grid((84,84),self.x_grid,self.y_grid)\n",
    "        self.max_rad=distance.euclidean([0,0],[84//self.x_grid,84//self.y_grid])\n",
    "        \n",
    "    def preprocess_state(self, state):\n",
    "        label_image, regions, labels=state\n",
    "        embedding=regions_to_embedding(regions,labels,self.grid,label_size=self.num_clusters_obj,max_rad=self.max_rad).reshape(-1)\n",
    "        #clip emmbeding\n",
    "        embedding=np.clip(embedding,-2, 2)\n",
    "        return embedding\n",
    "        \n",
    "    def step(self, actions):\n",
    "        orig_state, reward, terminal, info = self.env.step(actions)\n",
    "        embedding=self.preprocess_state(orig_state)\n",
    "        next_state=embedding\n",
    "        return next_state, reward, terminal, info"
   ]
  },
  {
   "cell_type": "code",
   "execution_count": 41,
   "id": "eb03d45d",
   "metadata": {},
   "outputs": [],
   "source": [
    "class OtsuWrapper(gym.Wrapper):\n",
    "    def __init__(self, env):\n",
    "        gym.Wrapper.__init__(self, env)\n",
    "        self.max_obj_height=8\n",
    "        self.max_obj_width=8\n",
    "        self.threshold=None\n",
    "    \n",
    "    def preprocess_state(self, state):\n",
    "        if self.threshold is None:\n",
    "            _,self.threshold=find_objects(state)\n",
    "        \n",
    "        #cut objects\n",
    "        label_image, objects, regions=find_cut_objects(state,self.max_obj_height,self.max_obj_width,self.threshold)\n",
    "        return label_image, objects, regions\n",
    "        \n",
    "    def step(self, actions):\n",
    "        orig_state, reward, terminal, info = self.env.step(actions)\n",
    "        label_image, objects, regions=self.preprocess_state(orig_state)\n",
    "        next_state=(label_image, objects, regions)\n",
    "        return next_state, reward, terminal, info"
   ]
  },
  {
   "cell_type": "code",
   "execution_count": 42,
   "id": "b88d1453",
   "metadata": {},
   "outputs": [],
   "source": [
    "class PcaWrapper(gym.Wrapper):\n",
    "    def __init__(self, env):\n",
    "        gym.Wrapper.__init__(self, env)\n",
    "        self.pca_n_components=10\n",
    "        self.pca_model=IncrementalPCA(n_components=self.pca_n_components)\n",
    "        self.train_pca=True\n",
    "        \n",
    "    def preprocess_state(self, state):\n",
    "        label_image, objects, regions=state\n",
    "        X=objects.reshape(objects.shape[0],-1)\n",
    "        if self.train_pca:\n",
    "            self.pca_model.partial_fit(np.vstack((np.unique(X,axis=0),np.unique(X,axis=0))))\n",
    "        \n",
    "        objects_compressed=self.pca_model.transform(X)\n",
    "        return label_image, objects_compressed, regions \n",
    "        \n",
    "    def step(self, actions):\n",
    "        orig_state, reward, terminal, info = self.env.step(actions)\n",
    "        label_image, objects_compressed, regions =self.preprocess_state(orig_state)\n",
    "        next_state=(label_image, objects_compressed, regions)\n",
    "        return next_state, reward, terminal, info"
   ]
  },
  {
   "cell_type": "code",
   "execution_count": 43,
   "id": "35810aba",
   "metadata": {},
   "outputs": [],
   "source": [
    "class BirchWrapper(gym.Wrapper):\n",
    "    def __init__(self, env):\n",
    "        gym.Wrapper.__init__(self, env)\n",
    "        self.num_clusters=10\n",
    "        self.birch_model=Birch(n_clusters=None,threshold=0.5,branching_factor=50)\n",
    "        self.train_birch=True\n",
    "        \n",
    "    def preprocess_state(self, state):\n",
    "        label_image, objects_compressed, regions=state\n",
    "        if self.train_birch:\n",
    "            self.birch_model.partial_fit(objects_compressed)\n",
    "            if self.birch_model.n_clusters is None and len(self.birch_model.subcluster_labels_)>self.num_clusters:\n",
    "                self.birch_model.set_params(n_clusters=self.num_clusters)\n",
    "                self.birch_model.partial_fit()\n",
    "        \n",
    "        labels=self.birch_model.predict(objects_compressed)\n",
    "        \n",
    "        for i in range(len(labels)):\n",
    "            label_image[regions[i].slice][regions[i].image]=labels[i]+1\n",
    "        \n",
    "        return label_image, regions, labels\n",
    "        \n",
    "    def step(self, actions):\n",
    "        orig_state, reward, terminal, info = self.env.step(actions)\n",
    "        label_image, regions, labels=self.preprocess_state(orig_state)\n",
    "        next_state=(label_image, regions, labels)\n",
    "        return next_state, reward, terminal, info"
   ]
  },
  {
   "cell_type": "code",
   "execution_count": 122,
   "id": "f5cc5e4f",
   "metadata": {},
   "outputs": [],
   "source": [
    "class SemanticWrapper(gym.Wrapper):\n",
    "    def __init__(self, env):\n",
    "        gym.Wrapper.__init__(self, env)\n",
    "        \n",
    "        #semantic model\n",
    "        self.ready=False\n",
    "        self.dimensions=128\n",
    "        self.observation_space = gym.spaces.Box(low=-2.0, high=2.0, shape=(self.dimensions,), dtype=np.float32)\n",
    "        self.prox=20\n",
    "        self.hash_iterations=2\n",
    "        self.starting_doc_len=30000\n",
    "        self.start_tag=0\n",
    "        self.min_count=2\n",
    "        self.seed=42\n",
    "        self.workers = 8\n",
    "        self.epochs = 20\n",
    "        self.learning_rate = 0.025\n",
    "        self.window=16\n",
    "        self.hs=1\n",
    "        self.dm=0\n",
    "        self.negative=0\n",
    "        self.max_vocab_size=30000\n",
    "        self.semantic_model=Doc2Vec(\n",
    "            vector_size=self.dimensions,\n",
    "            window=self.window,\n",
    "            min_count=self.min_count,\n",
    "            dm=self.dm,\n",
    "            hs=self.hs,\n",
    "            negative=self.negative,\n",
    "            workers=self.workers,\n",
    "            epochs=self.epochs,\n",
    "            alpha=self.learning_rate,\n",
    "            max_vocab_size=self.max_vocab_size,\n",
    "            seed=self.seed\n",
    "        )\n",
    "        \n",
    "    def train_semantic(self,regions_list,labels_list):\n",
    "        Graphs=[regions_to_graph(regions,labels,prox=self.prox) for regions,labels in zip(regions_list,labels_list)]\n",
    "        Doc_all=graph_to_doc(Graphs,iterations=self.hash_iterations,start_tag=0)\n",
    "        \n",
    "        documents = [\n",
    "                TaggedDocument(words=doc, tags=[i])\n",
    "                for i, doc in enumerate(Doc_all)\n",
    "            ]\n",
    "    \n",
    "        self.semantic_model.build_vocab(documents)\n",
    "        self.semantic_model.train(documents,total_examples=len(documents),epochs=self.semantic_model.epochs)\n",
    "        self.ready=True\n",
    "    \n",
    "    def preprocess_state(self, state):\n",
    "        label_image, regions, labels=state\n",
    "        \n",
    "        if self.ready:\n",
    "            #make graph\n",
    "            graph=regions_to_graph(regions,labels,prox=self.prox)\n",
    "\n",
    "            doc=graph_to_doc([graph],iterations=self.hash_iterations,start_tag=0)\n",
    "\n",
    "            #make embedding\n",
    "            embedding=doc_to_embedding(doc,self.semantic_model,seed=42)\n",
    "\n",
    "            #clip emmbeding\n",
    "            embedding=np.clip(embedding,-2, 2)[0]\n",
    "        else:\n",
    "            embedding=np.zeros(self.dimensions)\n",
    "        \n",
    "        return embedding\n",
    "        \n",
    "    def step(self, actions):\n",
    "        orig_state, reward, terminal, info = self.env.step(actions)\n",
    "        embedding=self.preprocess_state(orig_state)\n",
    "        next_state=embedding\n",
    "        return next_state, reward, terminal, info"
   ]
  },
  {
   "cell_type": "code",
   "execution_count": 123,
   "id": "6c185dae",
   "metadata": {},
   "outputs": [],
   "source": [
    "class ResetWrapper(gym.Wrapper):\n",
    "    def __init__(self, env):\n",
    "        gym.Wrapper.__init__(self, env)\n",
    "\n",
    "    def reset(self, **kwargs):\n",
    "        self.env.reset(**kwargs)\n",
    "        obs, _, done, _ = self.env.step(0)\n",
    "        return obs\n",
    "\n",
    "    def step(self, ac):\n",
    "        return self.env.step(ac)"
   ]
  },
  {
   "cell_type": "code",
   "execution_count": 124,
   "id": "3ce8e9c9",
   "metadata": {},
   "outputs": [],
   "source": [
    "class ActionWrapper(gym.ActionWrapper):\n",
    "    def __init__(self, env):\n",
    "        super().__init__(env)\n",
    "        self.action_space=spaces.Discrete(2)\n",
    "    \n",
    "    def action(self, act):\n",
    "        act={0:2,1:3,2:2}[act]\n",
    "        return act"
   ]
  },
  {
   "cell_type": "code",
   "execution_count": 125,
   "id": "fcc3b15e",
   "metadata": {},
   "outputs": [],
   "source": [
    "class WarpFrame(gym.ObservationWrapper):\n",
    "    def __init__(self, env):\n",
    "        \"\"\"Warp frames to 84x84 as done in the Nature paper and later work.\"\"\"\n",
    "        gym.ObservationWrapper.__init__(self, env)\n",
    "        self.width = 84\n",
    "        self.height = 84\n",
    "        self.observation_space = spaces.Box(low=0, high=1,\n",
    "            shape=(self.height, self.width), dtype=np.uint8)\n",
    "\n",
    "    def observation(self, frame):\n",
    "        frame = cv2.cvtColor(frame, cv2.COLOR_RGB2GRAY)\n",
    "        frame = cv2.resize(frame, (self.width, self.height), interpolation=cv2.INTER_AREA)\n",
    "        return frame.reshape(self.width,self.height)/255.0"
   ]
  },
  {
   "cell_type": "code",
   "execution_count": 126,
   "id": "097442d8",
   "metadata": {},
   "outputs": [],
   "source": [
    "class StateDiff(gym.Wrapper):\n",
    "    def __init__(self, env,stacking=False):\n",
    "        gym.Wrapper.__init__(self, env)\n",
    "        self.last_state = None\n",
    "        self.stacking=stacking\n",
    "\n",
    "    def reset(self):\n",
    "        state = self.env.reset()\n",
    "        self.last_state=state\n",
    "        if self.stacking:\n",
    "            return np.stack((state, state-self.last_state), axis=0)\n",
    "        else:    \n",
    "            return np.concatenate((state, state-self.last_state), axis=-1)\n",
    "\n",
    "    def step(self, action):\n",
    "        state, reward, done, info = self.env.step(action)\n",
    "        if self.stacking:\n",
    "            next_state=np.stack((state, state-self.last_state), axis=0)\n",
    "        else:    \n",
    "            next_state=np.concatenate((state, state-self.last_state), axis=-1)\n",
    "        self.last_state=state\n",
    "        return next_state, reward, done, info"
   ]
  },
  {
   "cell_type": "code",
   "execution_count": 127,
   "id": "4ee88aa5",
   "metadata": {},
   "outputs": [],
   "source": [
    "class LabelWrapper(gym.Wrapper):\n",
    "    def __init__(self, env):\n",
    "        gym.Wrapper.__init__(self, env)\n",
    "    \n",
    "    def preprocess_state(self, state):\n",
    "        label_image, objects, regions=state\n",
    "        return label_image\n",
    "        \n",
    "    def step(self, actions):\n",
    "        orig_state, reward, terminal, info = self.env.step(actions)\n",
    "        label_image=self.preprocess_state(orig_state)\n",
    "        next_state=label_image\n",
    "        return next_state, reward, terminal, info"
   ]
  },
  {
   "cell_type": "code",
   "execution_count": 128,
   "id": "64b51ce8",
   "metadata": {},
   "outputs": [],
   "source": [
    "def check_stability_pca(object_list,old_compression,pca_model,stability_threshold=0.01):\n",
    "    obj=object_list.pop(0)\n",
    "    obj=obj.reshape(obj.shape[0],-1)\n",
    "    new=pca_model.transform(obj)\n",
    "    old=old_compression.pop(0)\n",
    "    err=mean_absolute_error(new,old)\n",
    "    if err<stability_threshold:\n",
    "        return True, err\n",
    "    else:\n",
    "        return False, err"
   ]
  },
  {
   "cell_type": "code",
   "execution_count": 129,
   "id": "d212a103",
   "metadata": {},
   "outputs": [],
   "source": [
    "def check_stability_birch(object_compressed_list,old_labels,birch_model,stability_threshold=0.95):\n",
    "    obj=object_compressed_list.pop(0)\n",
    "    new=birch_model.predict(obj)\n",
    "    old=old_labels.pop(0)\n",
    "    acc=balanced_accuracy_score(new,old)\n",
    "    if acc>stability_threshold:\n",
    "        return True, acc\n",
    "    else:\n",
    "        return False, acc"
   ]
  },
  {
   "cell_type": "markdown",
   "id": "a99bd846",
   "metadata": {},
   "source": [
    "# Train"
   ]
  },
  {
   "cell_type": "code",
   "execution_count": 130,
   "id": "d31e229c",
   "metadata": {},
   "outputs": [],
   "source": [
    "prefix='SemanticMap_'"
   ]
  },
  {
   "cell_type": "code",
   "execution_count": 131,
   "id": "ba07aac4",
   "metadata": {},
   "outputs": [],
   "source": [
    "env_start=gym.make('PongNoFrameskip-v4')\n",
    "env_start=SkipWrapper(env_start)\n",
    "env_start=ResetWrapper(env_start)\n",
    "env_start=WarpFrame(env_start)\n",
    "env_act=ActionWrapper(env_start)\n",
    "env_otsu=OtsuWrapper(env_act)\n",
    "env_pca=PcaWrapper(env_otsu)\n",
    "env_birch=BirchWrapper(env_pca)\n",
    "env_semantic=SemanticWrapper(env_birch)\n",
    "env_reset=ResetWrapper(env_semantic)\n",
    "env_diff=StateDiff(env_reset)\n",
    "env_map=MapWrapper(env_diff,dimensions=256,depth=2)\n",
    "env=ResetWrapper(env_map)"
   ]
  },
  {
   "cell_type": "markdown",
   "id": "b5369dce",
   "metadata": {},
   "source": [
    "# PCA warm up"
   ]
  },
  {
   "cell_type": "code",
   "execution_count": 132,
   "id": "18d6d8f9",
   "metadata": {},
   "outputs": [
    {
     "name": "stdout",
     "output_type": "stream",
     "text": [
      "PCA stable after 1140 frames\n"
     ]
    }
   ],
   "source": [
    "lookback=250\n",
    "num_frames = 10000\n",
    "state = env_start.reset()\n",
    "object_list=[]\n",
    "old_compression=[]\n",
    "err_list=[]\n",
    "ok=False\n",
    "for frame_idx in range(1, num_frames + 1):\n",
    "    \n",
    "    action = random.randrange(env.action_space.n)\n",
    "    next_state, reward, done, _ = env_otsu.step(action)\n",
    "    object_list.append(next_state[1])\n",
    "    old_compression.append(env_pca.preprocess_state(next_state)[1])\n",
    "    state = next_state\n",
    "\n",
    "    if len(object_list)>lookback:\n",
    "        ok,err=check_stability_pca(object_list,old_compression,env_pca.pca_model,stability_threshold=0.01)\n",
    "        err_list.append(err)\n",
    "    \n",
    "    if ok:\n",
    "        print(\"PCA stable after \"+str(frame_idx)+\" frames\" )\n",
    "        env_pca.train_pca=False\n",
    "        break\n",
    "    \n",
    "    if done:\n",
    "        state = env_start.reset()"
   ]
  },
  {
   "cell_type": "code",
   "execution_count": 133,
   "id": "9f0453ad",
   "metadata": {},
   "outputs": [
    {
     "data": {
      "text/plain": [
       "['SemanticMap_pca_model.joblib']"
      ]
     },
     "execution_count": 133,
     "metadata": {},
     "output_type": "execute_result"
    }
   ],
   "source": [
    "np.save(prefix+'pca_err.npy',np.array(err_list))\n",
    "\n",
    "dump(env_pca.pca_model, prefix+'pca_model.joblib') "
   ]
  },
  {
   "cell_type": "code",
   "execution_count": 134,
   "id": "5d631633",
   "metadata": {},
   "outputs": [],
   "source": [
    "# env_pca.pca_model=load(prefix+'pca_model.joblib')\n",
    "# env_pca.train_pca=False"
   ]
  },
  {
   "cell_type": "markdown",
   "id": "a00678b2",
   "metadata": {},
   "source": [
    "# Birch warm up"
   ]
  },
  {
   "cell_type": "code",
   "execution_count": 135,
   "id": "3ddd1647",
   "metadata": {},
   "outputs": [
    {
     "name": "stdout",
     "output_type": "stream",
     "text": [
      "Birch stable after 364 frames\n"
     ]
    }
   ],
   "source": [
    "lookback=250\n",
    "num_frames = 10000\n",
    "state = env_start.reset()\n",
    "object_compressed_list=[]\n",
    "old_labels=[]\n",
    "acc_list=[]\n",
    "ok=False\n",
    "for frame_idx in range(1, num_frames + 1):\n",
    "    \n",
    "    action = random.randrange(env.action_space.n)\n",
    "    next_state, reward, done, _ = env_pca.step(action)\n",
    "    object_compressed_list.append(next_state[1])\n",
    "    old_labels.append(env_birch.preprocess_state(next_state)[2])\n",
    "    state = next_state\n",
    "\n",
    "    if len(object_compressed_list)>lookback:\n",
    "        ok,acc=check_stability_birch(object_compressed_list,old_labels,env_birch.birch_model,stability_threshold=0.95)\n",
    "        acc_list.append(acc)\n",
    "    \n",
    "    if ok:\n",
    "        print(\"Birch stable after \"+str(frame_idx)+\" frames\" )\n",
    "        env_birch.train_birch=False\n",
    "        break\n",
    "    \n",
    "    if done:\n",
    "        state = env_start.reset()"
   ]
  },
  {
   "cell_type": "code",
   "execution_count": 136,
   "id": "bca7eec1",
   "metadata": {},
   "outputs": [
    {
     "data": {
      "text/plain": [
       "['SemanticMap_birch_model.joblib']"
      ]
     },
     "execution_count": 136,
     "metadata": {},
     "output_type": "execute_result"
    }
   ],
   "source": [
    "np.save(prefix+'birch_acc.npy',np.array(acc_list))\n",
    "\n",
    "dump(env_birch.birch_model, prefix+'birch_model.joblib') "
   ]
  },
  {
   "cell_type": "code",
   "execution_count": 137,
   "id": "e7f02549",
   "metadata": {},
   "outputs": [],
   "source": [
    "# env_birch.birch_model=load(prefix+'birch_model.joblib')\n",
    "# env_birch.train_birch=False"
   ]
  },
  {
   "cell_type": "markdown",
   "id": "03a03e98",
   "metadata": {},
   "source": [
    "# Gensim warm up"
   ]
  },
  {
   "cell_type": "code",
   "execution_count": 138,
   "id": "039f74e2",
   "metadata": {},
   "outputs": [
    {
     "name": "stdout",
     "output_type": "stream",
     "text": [
      "Accumulated 30000 documents\n",
      "Finished training\n",
      "CPU times: user 14min 48s, sys: 10.2 s, total: 14min 58s\n",
      "Wall time: 5min 34s\n"
     ]
    }
   ],
   "source": [
    "%%time\n",
    "num_frames = 1000000\n",
    "total_doc_n=env_semantic.starting_doc_len\n",
    "state = env_start.reset()\n",
    "regions_list=[]\n",
    "labels_list=[]\n",
    "for frame_idx in range(1, num_frames + 1):\n",
    "    \n",
    "    action = random.randrange(env.action_space.n)\n",
    "    next_state, reward, done, _ = env_birch.step(action)\n",
    "    regions_list.append(next_state[1])\n",
    "    labels_list.append(next_state[2])\n",
    "\n",
    "    if len(labels_list)==total_doc_n:\n",
    "        print(\"Accumulated \"+str(total_doc_n)+\" documents\")\n",
    "        env_semantic.train_semantic(regions_list,labels_list)\n",
    "        print(\"Finished training\")\n",
    "        break\n",
    "  \n",
    "    if done:\n",
    "        state = env_start.reset()"
   ]
  },
  {
   "cell_type": "code",
   "execution_count": 139,
   "id": "1e1eaa01",
   "metadata": {},
   "outputs": [],
   "source": [
    "env_semantic.semantic_model.save(prefix+\"doc2vec\")"
   ]
  },
  {
   "cell_type": "code",
   "execution_count": 140,
   "id": "92126c1f",
   "metadata": {},
   "outputs": [
    {
     "data": {
      "text/plain": [
       "10323"
      ]
     },
     "execution_count": 140,
     "metadata": {},
     "output_type": "execute_result"
    }
   ],
   "source": [
    "len(env_semantic.semantic_model.wv)"
   ]
  },
  {
   "cell_type": "code",
   "execution_count": 141,
   "id": "61881f37",
   "metadata": {},
   "outputs": [],
   "source": [
    "# env_semantic.semantic_model=Doc2Vec.load(prefix+\"doc2vec\")\n",
    "# env_semantic.ready=True"
   ]
  },
  {
   "cell_type": "markdown",
   "id": "49cb2e1c",
   "metadata": {},
   "source": [
    "# Map warm up"
   ]
  },
  {
   "cell_type": "code",
   "execution_count": 142,
   "id": "e11e8e1c",
   "metadata": {},
   "outputs": [
    {
     "data": {
      "image/png": "[encoded data removed]",
      "text/plain": [
       "<Figure size 1440x360 with 2 Axes>"
      ]
     },
     "metadata": {
      "needs_background": "light"
     },
     "output_type": "display_data"
    },
    {
     "name": "stdout",
     "output_type": "stream",
     "text": [
      "60.606058402203935 frames per sec\n",
      "533\n",
      "CPU times: user 11min 7s, sys: 20.3 s, total: 11min 28s\n",
      "Wall time: 2min 49s\n"
     ]
    }
   ],
   "source": [
    "%%time\n",
    "num_frames = 10000\n",
    "\n",
    "state = env_diff.reset()\n",
    "episode_reward=0\n",
    "actions=[]\n",
    "states=[]\n",
    "rewards=[]\n",
    "\n",
    "losses = []\n",
    "all_rewards = []\n",
    "episode_reward = 0\n",
    "tic = datetime.datetime.now()\n",
    "\n",
    "for frame_idx in range(1, num_frames + 1):\n",
    "    epsilon=0\n",
    "    states.append(state)\n",
    "    if random.random() > epsilon:\n",
    "        action = random.randrange(env.action_space.n)\n",
    "        \n",
    "    next_state, reward, done, _ = env_diff.step(action)\n",
    "    \n",
    "    rewards.append(reward)\n",
    "    actions.append(action)\n",
    "    \n",
    "    state = next_state\n",
    "    episode_reward += reward\n",
    "    if done:\n",
    "        print(frame_idx)\n",
    "        state = env_diff.reset()\n",
    "        all_rewards.append(episode_reward)\n",
    "        episode_reward=0\n",
    "        env_map.state_map.update_map(states,actions,rewards)\n",
    "        actions=[]\n",
    "        states=[]\n",
    "        rewards=[]\n",
    "        \n",
    "    if frame_idx % 10000 == 0:\n",
    "        plot(frame_idx, all_rewards, losses)\n",
    "        tac = datetime.datetime.now()\n",
    "        print(str(10000/(tac-tic).total_seconds())+\" frames per sec\")\n",
    "        tic = tac\n",
    "        \n",
    "env_map.state_map.rebuild_graph()\n",
    "print(len(env_map.state_map.G.nodes()))"
   ]
  },
  {
   "cell_type": "code",
   "execution_count": 143,
   "id": "51da5983",
   "metadata": {},
   "outputs": [],
   "source": [
    "torch.save(env_map.state_map.pred_state, prefix+\"pred_state_model.pt\")"
   ]
  },
  {
   "cell_type": "code",
   "execution_count": 144,
   "id": "261b1c39",
   "metadata": {},
   "outputs": [
    {
     "data": {
      "text/plain": [
       "['SemanticMap_pred_reward_model.joblib']"
      ]
     },
     "execution_count": 144,
     "metadata": {},
     "output_type": "execute_result"
    }
   ],
   "source": [
    "dump(env_map.state_map.pred_reward, prefix+'pred_reward_model.joblib') "
   ]
  },
  {
   "cell_type": "code",
   "execution_count": 145,
   "id": "12503bae",
   "metadata": {},
   "outputs": [
    {
     "data": {
      "text/plain": [
       "['SemanticMap_node_brc.joblib']"
      ]
     },
     "execution_count": 145,
     "metadata": {},
     "output_type": "execute_result"
    }
   ],
   "source": [
    "dump(env_map.state_map.node_brc, prefix+'node_brc.joblib') "
   ]
  },
  {
   "cell_type": "code",
   "execution_count": 146,
   "id": "e29b337b",
   "metadata": {},
   "outputs": [
    {
     "data": {
      "text/plain": [
       "['SemanticMap_edge_brc.joblib']"
      ]
     },
     "execution_count": 146,
     "metadata": {},
     "output_type": "execute_result"
    }
   ],
   "source": [
    "dump(env_map.state_map.edge_brc, prefix+'edge_brc.joblib') "
   ]
  },
  {
   "cell_type": "markdown",
   "id": "21989acb",
   "metadata": {},
   "source": [
    "# create model"
   ]
  },
  {
   "cell_type": "code",
   "execution_count": 147,
   "id": "6b1a0539",
   "metadata": {},
   "outputs": [],
   "source": [
    "# model = CnnDQN((2, 84, 84), env.action_space.n)\n",
    "model = DQN(256*2+2+1, env.action_space.n)\n",
    "\n",
    "if USE_CUDA:\n",
    "    model = model.cuda()\n",
    "    \n",
    "optimizer = optim.Adam(model.parameters(), lr=0.0001)\n",
    "\n",
    "replay_initial = 10000\n",
    "replay_buffer = ReplayBuffer(100000)"
   ]
  },
  {
   "cell_type": "code",
   "execution_count": 148,
   "id": "43d30580",
   "metadata": {},
   "outputs": [],
   "source": [
    "epsilon_start = 1.0\n",
    "epsilon_final = 0.01\n",
    "epsilon_decay = 30000\n",
    "\n",
    "epsilon_by_frame = lambda frame_idx: epsilon_final + (epsilon_start - epsilon_final) * math.exp(-1. * frame_idx / epsilon_decay)"
   ]
  },
  {
   "cell_type": "code",
   "execution_count": 149,
   "id": "ea981a33",
   "metadata": {},
   "outputs": [
    {
     "data": {
      "image/png": "[encoded data removed]",
      "text/plain": [
       "<Figure size 1440x360 with 2 Axes>"
      ]
     },
     "metadata": {
      "needs_background": "light"
     },
     "output_type": "display_data"
    },
    {
     "name": "stdout",
     "output_type": "stream",
     "text": [
      "26.154551823773247 frames per sec\n",
      "CPU times: user 44min 40s, sys: 54.9 s, total: 45min 35s\n",
      "Wall time: 11min 29s\n"
     ]
    }
   ],
   "source": [
    "%%time\n",
    "\n",
    "num_frames = 20000\n",
    "batch_size = 32\n",
    "gamma      = 0.99\n",
    "\n",
    "actions=[]\n",
    "states=[]\n",
    "rewards=[]\n",
    "\n",
    "losses = []\n",
    "all_rewards = []\n",
    "episode_reward = 0\n",
    "tic = datetime.datetime.now()\n",
    "\n",
    "state = env.reset()\n",
    "for frame_idx in range(1, num_frames + 1):\n",
    "    states.append(state[:256])\n",
    "    \n",
    "    epsilon = epsilon_by_frame(frame_idx)\n",
    "    action = model.act(state, epsilon)\n",
    "    \n",
    "    next_state, reward, done, _ = env.step(action)\n",
    "    replay_buffer.push(state, action, reward, next_state, done)\n",
    "    \n",
    "    state = next_state\n",
    "    episode_reward += reward\n",
    "    \n",
    "    rewards.append(reward)\n",
    "    actions.append(action)\n",
    "    \n",
    "    if done:\n",
    "        print(frame_idx)\n",
    "        state = env.reset()\n",
    "        all_rewards.append(episode_reward)\n",
    "        episode_reward = 0\n",
    "        env_map.state_map.update_map(states,actions,rewards)\n",
    "        env_map.state_map.rebuild_graph()\n",
    "        actions=[]\n",
    "        states=[]\n",
    "        rewards=[]\n",
    "        \n",
    "    if len(replay_buffer) > replay_initial:\n",
    "        loss = compute_td_loss(batch_size)\n",
    "        losses.append(loss.item())\n",
    "        \n",
    "    if frame_idx % 10000 == 0:\n",
    "        plot(frame_idx, all_rewards, losses)\n",
    "        tac = datetime.datetime.now()\n",
    "        print(str(10000/(tac-tic).total_seconds())+\" frames per sec\")\n",
    "        tic = tac"
   ]
  },
  {
   "cell_type": "code",
   "execution_count": 609,
   "id": "60cae4fc",
   "metadata": {},
   "outputs": [],
   "source": [
    "torch.save(model, prefix+\"model.pt\")\n",
    "\n",
    "np.save(prefix+'rewards.npy',all_rewards)\n",
    "\n",
    "# np.save(prefix+'losses.npy',losses)"
   ]
  },
  {
   "cell_type": "code",
   "execution_count": 60,
   "id": "ce23b445",
   "metadata": {},
   "outputs": [],
   "source": [
    "torch.save(env_map.state_map.pred_state, prefix+\"pred_state_model.pt\")"
   ]
  },
  {
   "cell_type": "code",
   "execution_count": 61,
   "id": "bc4bff7f",
   "metadata": {},
   "outputs": [
    {
     "data": {
      "text/plain": [
       "['RAMMap_pred_reward_model.joblib']"
      ]
     },
     "execution_count": 61,
     "metadata": {},
     "output_type": "execute_result"
    }
   ],
   "source": [
    "dump(env_map.state_map.pred_reward, prefix+'pred_reward_model.joblib') "
   ]
  },
  {
   "cell_type": "code",
   "execution_count": 62,
   "id": "77892bc5",
   "metadata": {},
   "outputs": [
    {
     "data": {
      "text/plain": [
       "['RAMMap_node_brc.joblib']"
      ]
     },
     "execution_count": 62,
     "metadata": {},
     "output_type": "execute_result"
    }
   ],
   "source": [
    "dump(env_map.state_map.node_brc, prefix+'node_brc.joblib') "
   ]
  },
  {
   "cell_type": "code",
   "execution_count": 63,
   "id": "d6f755e9",
   "metadata": {},
   "outputs": [
    {
     "data": {
      "text/plain": [
       "['RAMMap_edge_brc.joblib']"
      ]
     },
     "execution_count": 63,
     "metadata": {},
     "output_type": "execute_result"
    }
   ],
   "source": [
    "dump(env_map.state_map.edge_brc, prefix+'edge_brc.joblib') "
   ]
  }
 ],
 "metadata": {
  "kernelspec": {
   "display_name": "Python 3 (ipykernel)",
   "language": "python",
   "name": "python3"
  },
  "language_info": {
   "codemirror_mode": {
    "name": "ipython",
    "version": 3
   },
   "file_extension": ".py",
   "mimetype": "text/x-python",
   "name": "python",
   "nbconvert_exporter": "python",
   "pygments_lexer": "ipython3",
   "version": "3.9.13"
  }
 },
 "nbformat": 4,
 "nbformat_minor": 5
}
