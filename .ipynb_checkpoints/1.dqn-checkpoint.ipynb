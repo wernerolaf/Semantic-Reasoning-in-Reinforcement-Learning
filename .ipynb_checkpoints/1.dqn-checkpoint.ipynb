{
 "cells": [
  {
   "cell_type": "code",
   "execution_count": 1,
   "metadata": {},
   "outputs": [
    {
     "name": "stderr",
     "output_type": "stream",
     "text": [
      "\n"
     ]
    }
   ],
   "source": [
    "import math, random\n",
    "\n",
    "import gym\n",
    "import numpy as np\n",
    "\n",
    "import torch\n",
    "import torch.nn as nn\n",
    "import torch.optim as optim\n",
    "import torch.autograd as autograd \n",
    "import torch.nn.functional as F"
   ]
  },
  {
   "cell_type": "code",
   "execution_count": 30,
   "metadata": {},
   "outputs": [],
   "source": [
    "#basic\n",
    "import numpy as np\n",
    "import pandas as pd\n",
    "#sklearn\n",
    "from sklearn.manifold import TSNE\n",
    "from sklearn.decomposition import IncrementalPCA\n",
    "from sklearn.cluster import KMeans\n",
    "from sklearn.cluster import Birch\n",
    "from sklearn import metrics\n",
    "from sklearn.metrics import mean_absolute_error\n",
    "from sklearn.metrics import balanced_accuracy_score\n",
    "#image processing\n",
    "from skimage.future import graph\n",
    "from skimage import data\n",
    "from skimage.filters import threshold_otsu\n",
    "from skimage.segmentation import clear_border\n",
    "from skimage.measure import label, regionprops\n",
    "from skimage.segmentation import felzenszwalb\n",
    "from skimage.morphology import closing, square\n",
    "from skimage.color import label2rgb, rgb2gray, gray2rgb\n",
    "from skimage.transform import resize\n",
    "from skimage.transform import rescale\n",
    "#visialization\n",
    "from PIL import Image\n",
    "import cv2\n",
    "import matplotlib.pyplot as plt\n",
    "import matplotlib.patches as mpatches\n",
    "import seaborn as sns\n",
    "sns.set_palette(\"Set2\")\n",
    "#skmultiflow\n",
    "from skmultiflow.trees import HoeffdingTreeClassifier\n",
    "from skmultiflow.trees import HoeffdingAdaptiveTreeClassifier\n",
    "from skmultiflow.rules import VeryFastDecisionRulesClassifier\n",
    "from skmultiflow.trees import ExtremelyFastDecisionTreeClassifier\n",
    "#scikit \n",
    "from scipy.spatial import distance_matrix\n",
    "from scipy.spatial import distance\n",
    "#graph\n",
    "import networkx as nx\n",
    "#ontology\n",
    "import owlready2 as owl\n",
    "#language model\n",
    "from gensim.models.doc2vec import Doc2Vec, TaggedDocument\n",
    "#dunn index\n",
    "import dunn\n",
    "from sklearn.metrics.pairwise import euclidean_distances\n",
    "#other\n",
    "from itertools import count\n",
    "from joblib import dump, load\n",
    "\n",
    "import warnings\n",
    "warnings.filterwarnings(\"ignore\", category=UserWarning)"
   ]
  },
  {
   "cell_type": "code",
   "execution_count": 31,
   "metadata": {},
   "outputs": [],
   "source": [
    "from IPython.display import clear_output\n",
    "import matplotlib.pyplot as plt\n",
    "%matplotlib inline"
   ]
  },
  {
   "cell_type": "code",
   "execution_count": 32,
   "metadata": {},
   "outputs": [],
   "source": [
    "from gym import spaces"
   ]
  },
  {
   "cell_type": "code",
   "execution_count": 33,
   "metadata": {},
   "outputs": [],
   "source": [
    "from common.wrappers import make_atari, wrap_deepmind, wrap_pytorch"
   ]
  },
  {
   "cell_type": "markdown",
   "metadata": {},
   "source": [
    "helping functions"
   ]
  },
  {
   "cell_type": "code",
   "execution_count": 34,
   "metadata": {},
   "outputs": [],
   "source": [
    "def show_image(img):\n",
    "    fig, ax = plt.subplots(figsize=(10, 6))\n",
    "    ax.imshow(img)"
   ]
  },
  {
   "cell_type": "code",
   "execution_count": 35,
   "metadata": {},
   "outputs": [],
   "source": [
    "def to_shape(a, shape, grayscale=True):\n",
    "    y_, x_ = shape\n",
    "    y, x = a.shape[0:2]\n",
    "    y_pad = (y_-y)\n",
    "    x_pad = (x_-x)\n",
    "    if grayscale:\n",
    "        return np.pad(a,((y_pad//2, y_pad//2 + y_pad%2), \n",
    "                         (x_pad//2, x_pad//2 + x_pad%2)\n",
    "                        ),\n",
    "                      mode = 'constant')\n",
    "    else:\n",
    "        return np.pad(a,((y_pad//2, y_pad//2 + y_pad%2), \n",
    "                         (x_pad//2, x_pad//2 + x_pad%2),\n",
    "                        (0,0)\n",
    "                        ),\n",
    "                      mode = 'constant')"
   ]
  },
  {
   "cell_type": "code",
   "execution_count": 36,
   "metadata": {},
   "outputs": [],
   "source": [
    "def make_video(States,name=\"test\",width=160,height=210,channel=3,fps=30):\n",
    "    fourcc = cv2.VideoWriter_fourcc(*'XVID') \n",
    "    video = cv2.VideoWriter(name+'.avi', fourcc, float(fps), (width,height))\n",
    "\n",
    "    for i in range(States.shape[0]):\n",
    "        video.write(States[i])\n",
    "\n",
    "    video.release()"
   ]
  },
  {
   "cell_type": "code",
   "execution_count": 37,
   "metadata": {},
   "outputs": [],
   "source": [
    "def visualize_objects(label_image,image):\n",
    "    # to make the background transparent, pass the value of `bg_label`,\n",
    "    # and leave `bg_color` as `None` and `kind` as `overlay`\n",
    "    image_label_overlay = label2rgb(label_image, image=image, bg_label=0)\n",
    "\n",
    "    fig, ax = plt.subplots(figsize=(10, 6))\n",
    "    ax.imshow(image_label_overlay)\n",
    "\n",
    "    for region in regionprops(label_image):\n",
    "        # take regions with large enough areas\n",
    "        if region.area >= 1:\n",
    "            # draw rectangle around segmented coins\n",
    "            minr, minc, maxr, maxc = region.bbox\n",
    "            rect = mpatches.Rectangle((minc-0.5, minr-0.5), maxc - minc, maxr - minr,\n",
    "                                      fill=False, edgecolor='red', linewidth=3)\n",
    "            ax.add_patch(rect)\n",
    "\n",
    "    ax.set_axis_off()\n",
    "    plt.tight_layout()\n",
    "    plt.show()"
   ]
  },
  {
   "cell_type": "code",
   "execution_count": 38,
   "metadata": {},
   "outputs": [],
   "source": [
    "def find_objects2(image):\n",
    "    img = rgb2gray(image)\n",
    "\n",
    "    # apply threshold\n",
    "    thresh = threshold_otsu(img)\n",
    "    reg = closing(img > thresh, square(2))\n",
    "\n",
    "    # label image regions\n",
    "    label_image = label(reg)\n",
    "    \n",
    "    return label_image"
   ]
  },
  {
   "cell_type": "code",
   "execution_count": 39,
   "metadata": {},
   "outputs": [],
   "source": [
    "def find_objects3(image):\n",
    "    img = rgb2gray(image)\n",
    "\n",
    "    # apply threshold\n",
    "    thresh = threshold_otsu(img)\n",
    "    #0.327\n",
    "    # label image regions\n",
    "    label_image = label(img > thresh)\n",
    "    \n",
    "    return label_image"
   ]
  },
  {
   "cell_type": "code",
   "execution_count": 40,
   "metadata": {},
   "outputs": [],
   "source": [
    "def find_objects(image):\n",
    "    img = rgb2gray(image)\n",
    "\n",
    "    # label image regions\n",
    "    label_image = label(img > 0.327)\n",
    "    \n",
    "    return label_image"
   ]
  },
  {
   "cell_type": "code",
   "execution_count": 41,
   "metadata": {},
   "outputs": [],
   "source": [
    "def find_cut_objects(image,m_h,m_w,grayscale=True):\n",
    "    label_image=find_objects(image)\n",
    "    regions=regionprops(label_image)\n",
    "\n",
    "    i=len(regions)-1\n",
    "    for reg in regions:\n",
    "        i=i+1\n",
    "        minr, minc, maxr, maxc = reg.bbox\n",
    "        if int(np.ceil((maxc-minc)/m_w))!=1:\n",
    "            split_w=np.linspace(0,(maxc-minc),1+int(np.ceil((maxc-minc)/m_w))).astype(\"int\")\n",
    "            for y in range(int(np.ceil((maxc-minc)/m_w))):\n",
    "                i=i+1\n",
    "                label_image[reg.slice][:,split_w[y]:split_w[y+1]][reg.image[:,split_w[y]:split_w[y+1]]]=i\n",
    "    \n",
    "    regions=regionprops(label_image)\n",
    "    i=len(regions)+1\n",
    "    for reg in regions:\n",
    "        i=i+1\n",
    "        minr, minc, maxr, maxc = reg.bbox\n",
    "        if int(np.ceil((maxr-minr)/m_h))!=1:\n",
    "            split_h=np.linspace(0,(maxr-minr),1+int(np.ceil((maxr-minr)/m_h))).astype(\"int\")\n",
    "            for x in range(int(np.ceil((maxr-minr)/m_h))):\n",
    "                i=i+1\n",
    "                label_image[reg.slice][split_h[x]:split_h[x+1],:][reg.image[split_h[x]:split_h[x+1],:]]=i\n",
    "\n",
    "\n",
    "    regions=regionprops(label_image)\n",
    "    \n",
    "    if grayscale:\n",
    "        image=rgb2gray(image)\n",
    "    \n",
    "    objects=np.array([np.zeros((m_h,m_w)) for reg in regions])\n",
    "    for i in range(len(regions)):\n",
    "        x=regions[i].image.shape[0]\n",
    "        y=regions[i].image.shape[1]\n",
    "        objects[i,(m_h-x)//2:(m_h-x)//2+x,(m_w-y)//2:(m_w-y)//2+y]=image[regions[i].slice]\n",
    "    \n",
    "    \n",
    "    return label_image, objects, regions"
   ]
  },
  {
   "cell_type": "code",
   "execution_count": 42,
   "metadata": {},
   "outputs": [],
   "source": [
    "def regions_to_graph(regions,labels,prox=60):\n",
    "    #weighted?\n",
    "    centroids=np.array([reg.centroid for reg in regions])\n",
    "    if prox==0:\n",
    "        dist=np.zeros((len(centroids),len(centroids)))\n",
    "    else:\n",
    "        dist=distance_matrix(centroids,centroids)\n",
    "        dist=(dist<prox)*dist\n",
    "    G = nx.from_numpy_matrix(dist)\n",
    "    lab={x:str(labels[x]) for x in range(len(centroids))}\n",
    "    nx.set_node_attributes(G, lab, \"feature\")\n",
    "    pos_x={x:int(centroids[x][0]) for x in range(len(centroids))}\n",
    "    nx.set_node_attributes(G, pos_x, \"position_x\")\n",
    "    pos_y={x:int(centroids[x][1]) for x in range(len(centroids))}\n",
    "    nx.set_node_attributes(G, pos_y, \"position_y\")\n",
    "    return G"
   ]
  },
  {
   "cell_type": "code",
   "execution_count": 43,
   "metadata": {},
   "outputs": [],
   "source": [
    "def graph_to_doc(Graphs,iterations=2,start_tag=0):\n",
    "    documents=[]\n",
    "    hashes=None\n",
    "    for i in range(len(Graphs)):\n",
    "        if iterations>0:\n",
    "            hashes=nx.weisfeiler_lehman_subgraph_hashes(Graphs[i], iterations=iterations, node_attr=\"feature\")\n",
    "            \n",
    "        Doc=[]\n",
    "        for node in Graphs[i].nodes:\n",
    "            Doc=Doc+[Graphs[i].nodes[node][\"feature\"],\"pos_x\"+str(Graphs[i].nodes[node][\"position_x\"]),\"pos_y\"+str(Graphs[i].nodes[node][\"position_y\"]),\n",
    "                    \"apr_pos_x\"+str(Graphs[i].nodes[node][\"position_x\"]//5),\"apr_pos_y\"+str(Graphs[i].nodes[node][\"position_y\"]//5),\n",
    "                    Graphs[i].nodes[node][\"feature\"]+\"pos_x\"+str(Graphs[i].nodes[node][\"position_x\"]),\n",
    "                     Graphs[i].nodes[node][\"feature\"]+\"pos_y\"+str(Graphs[i].nodes[node][\"position_y\"]),\n",
    "                    Graphs[i].nodes[node][\"feature\"]+\"apr_pos_x\"+str(Graphs[i].nodes[node][\"position_x\"]//5),\n",
    "                     Graphs[i].nodes[node][\"feature\"]+\"apr_pos_y\"+str(Graphs[i].nodes[node][\"position_y\"]//5),\n",
    "                     Graphs[i].nodes[node][\"feature\"]+\"apr_pos_x\"+str(Graphs[i].nodes[node][\"position_x\"]//5)+\"apr_pos_y\"+str(Graphs[i].nodes[node][\"position_y\"]//5),\n",
    "                     Graphs[i].nodes[node][\"feature\"]+\"pos_x\"+str(Graphs[i].nodes[node][\"position_x\"])+Graphs[i].nodes[node][\"feature\"]+\"pos_y\"+str(Graphs[i].nodes[node][\"position_y\"]),\n",
    "                     \"apr_pos_x\"+str(Graphs[i].nodes[node][\"position_x\"]//5)+\"apr_pos_y\"+str(Graphs[i].nodes[node][\"position_y\"]//5),\n",
    "                     \"pos_x\"+str(Graphs[i].nodes[node][\"position_x\"])+Graphs[i].nodes[node][\"feature\"]+\"pos_y\"+str(Graphs[i].nodes[node][\"position_y\"])                   \n",
    "                    ]\n",
    "            if iterations>0:\n",
    "                Doc=Doc+hashes[node]\n",
    "        \n",
    "        documents=documents+[Doc.copy()]\n",
    "    \n",
    "    return documents"
   ]
  },
  {
   "cell_type": "code",
   "execution_count": 69,
   "metadata": {},
   "outputs": [],
   "source": [
    "def doc_to_embedding(documents,model,seed=42):\n",
    "    model.random.seed(seed)\n",
    "    return np.array([model.infer_vector(doc) for doc in documents])"
   ]
  },
  {
   "cell_type": "code",
   "execution_count": 45,
   "metadata": {},
   "outputs": [],
   "source": [
    "def visualize_graph(g,max_col=15):\n",
    "    nodes = g.nodes()\n",
    "    colors = [int(g.nodes[n]['feature'])/max_col for n in nodes]\n",
    "    pos = nx.spring_layout(g)\n",
    "    for n in nodes:\n",
    "        pos[n][1]=-1*g.nodes[n]['position_x']\n",
    "        pos[n][0]=g.nodes[n]['position_y']\n",
    "\n",
    "    ec = nx.draw_networkx_edges(g, pos, alpha=0.2)\n",
    "    nc = nx.draw_networkx_nodes(g, pos, nodelist=nodes, node_color=colors, node_size=150, cmap=plt.cm.jet,vmin=0,vmax=1)\n",
    "    #plt.colorbar(nc)\n",
    "    plt.axis('off')\n",
    "    plt.show()"
   ]
  },
  {
   "cell_type": "code",
   "execution_count": 46,
   "metadata": {},
   "outputs": [],
   "source": [
    "def graph_diff2(G1,G2,obj_class_diff=100,obj_n_diff=100):\n",
    "    n1=set([(G1.nodes[x][\"feature\"],G1.nodes[x][\"position_x\"],G1.nodes[x][\"position_y\"]) for x in G1.nodes])\n",
    "    n2=set([(G2.nodes[x][\"feature\"],G2.nodes[x][\"position_x\"],G2.nodes[x][\"position_y\"]) for x in G2.nodes])\n",
    "    l1=list(n1.difference(n2))\n",
    "    l2=list(n2.difference(n1))\n",
    "    \n",
    "    if len(l1)==0 or len(l2)==0:\n",
    "        return abs(len(l1)-len(l2))*obj_n_diff\n",
    "    \n",
    "    if len(l1)>len(l2):\n",
    "        l1,l2 = l2,l1\n",
    "    \n",
    "    dist=np.zeros((len(l1),len(l2)))\n",
    "    for x in range(len(l1)):\n",
    "        for y in range(len(l2)):\n",
    "            dist[x,y]=node_dist(l1[x],l2[y],obj_class_diff=obj_class_diff)\n",
    "        \n",
    "    return graph_metric(dist,obj_n_diff=obj_n_diff)"
   ]
  },
  {
   "cell_type": "code",
   "execution_count": 47,
   "metadata": {},
   "outputs": [],
   "source": [
    "def node_dist2(n1,n2,obj_class_diff=100):\n",
    "    return (n1[0]!=n2[0])*obj_class_diff+abs(n1[1]-n2[1])+abs(n1[2]-n2[2])"
   ]
  },
  {
   "cell_type": "code",
   "execution_count": 48,
   "metadata": {},
   "outputs": [],
   "source": [
    "def node_dist(n1,n2,obj_class_diff=100):\n",
    "    return (n1[0]!=n2[0])*obj_class_diff+np.sqrt((n1[1]-n2[1])**2+(n1[2]-n2[2])**2)"
   ]
  },
  {
   "cell_type": "code",
   "execution_count": 49,
   "metadata": {},
   "outputs": [],
   "source": [
    "def graph_metric(dist,obj_n_diff=100):\n",
    "    return np.sum(np.min(dist,axis=1))+abs(dist.shape[0]-dist.shape[1])*obj_n_diff"
   ]
  },
  {
   "cell_type": "code",
   "execution_count": 50,
   "metadata": {},
   "outputs": [],
   "source": [
    "def graph_diff(G1,G2,obj_class_diff=100,obj_n_diff=100):\n",
    "    l1=[(G1.nodes[x][\"feature\"],G1.nodes[x][\"position_x\"],G1.nodes[x][\"position_y\"]) for x in G1.nodes]\n",
    "    l2=[(G2.nodes[x][\"feature\"],G2.nodes[x][\"position_x\"],G2.nodes[x][\"position_y\"]) for x in G2.nodes]\n",
    "    \n",
    "    if len(l1)==0 or len(l2)==0:\n",
    "        return abs(len(l1)-len(l2))*obj_n_diff\n",
    "    \n",
    "    if len(l1)>len(l2):\n",
    "        l1,l2 = l2,l1\n",
    "    \n",
    "    dist=np.zeros((len(l1),len(l2)))\n",
    "    for x in range(len(l1)):\n",
    "        for y in range(len(l2)):\n",
    "            dist[x,y]=node_dist(l1[x],l2[y],obj_class_diff=obj_class_diff)\n",
    "        \n",
    "    return graph_metric(dist,obj_n_diff=obj_n_diff)"
   ]
  },
  {
   "cell_type": "code",
   "execution_count": 51,
   "metadata": {},
   "outputs": [],
   "source": [
    "def regions_to_embedding(regions,labels,grid,label_size=16,x=105,y=80,max_rad=10):\n",
    "    centroids=np.array([reg.centroid for reg in regions])\n",
    "    dist=distance_matrix(centroids,grid)\n",
    "    dist=(1-np.clip(dist/max_rad,0,1))#**2\n",
    "    emb=np.zeros((label_size+1,grid.shape[0]))\n",
    "    emb[0,:]=dist.sum(axis=0)\n",
    "    for lab in np.unique(labels):\n",
    "        emb[lab+1,:]=dist[labels==lab,:].sum(axis=0)\n",
    "        \n",
    "    return emb"
   ]
  },
  {
   "cell_type": "code",
   "execution_count": 52,
   "metadata": {},
   "outputs": [],
   "source": [
    "def make_grid(shape,x=2,y=2):\n",
    "    grid=np.zeros((x*y,2))\n",
    "    split_h=np.linspace(0,shape[0],y).astype(\"int\")\n",
    "    split_w=np.linspace(0,shape[1],x).astype(\"int\")\n",
    "    z=0\n",
    "    for i in split_h:\n",
    "        for j in split_w:\n",
    "            grid[z,:]=[i,j]\n",
    "            z+=1\n",
    "    return grid"
   ]
  },
  {
   "cell_type": "markdown",
   "metadata": {},
   "source": [
    "<h3>Use Cuda</h3>"
   ]
  },
  {
   "cell_type": "code",
   "execution_count": 23,
   "metadata": {},
   "outputs": [],
   "source": [
    "USE_CUDA = torch.cuda.is_available()\n",
    "Variable = lambda *args, **kwargs: autograd.Variable(*args, **kwargs).cuda() if USE_CUDA else autograd.Variable(*args, **kwargs)"
   ]
  },
  {
   "cell_type": "markdown",
   "metadata": {},
   "source": [
    "<h2>Replay Buffer</h2>"
   ]
  },
  {
   "cell_type": "code",
   "execution_count": 24,
   "metadata": {},
   "outputs": [],
   "source": [
    "from collections import deque\n",
    "\n",
    "class ReplayBuffer(object):\n",
    "    def __init__(self, capacity):\n",
    "        self.buffer = deque(maxlen=capacity)\n",
    "    \n",
    "    def push(self, state, action, reward, next_state, done):\n",
    "        state      = np.expand_dims(state, 0)\n",
    "        next_state = np.expand_dims(next_state, 0)\n",
    "            \n",
    "        self.buffer.append((state, action, reward, next_state, done))\n",
    "    \n",
    "    def sample(self, batch_size):\n",
    "        state, action, reward, next_state, done = zip(*random.sample(self.buffer, batch_size))\n",
    "        return np.concatenate(state), action, reward, np.concatenate(next_state), done\n",
    "    \n",
    "    def __len__(self):\n",
    "        return len(self.buffer)"
   ]
  },
  {
   "cell_type": "markdown",
   "metadata": {},
   "source": [
    "<h2>Deep Q Network</h2>"
   ]
  },
  {
   "cell_type": "code",
   "execution_count": 355,
   "metadata": {},
   "outputs": [],
   "source": [
    "class DQN(nn.Module):\n",
    "    def __init__(self, num_inputs, num_actions):\n",
    "        super(DQN, self).__init__()\n",
    "        \n",
    "        self.layers = nn.Sequential(\n",
    "            nn.Linear(env.observation_space.shape[0], 256),\n",
    "            nn.ReLU(),\n",
    "            nn.Linear(256, env.action_space.n)\n",
    "        )\n",
    "        \n",
    "    def forward(self, x):\n",
    "        return self.layers(x)\n",
    "    \n",
    "    def act(self, state, epsilon):\n",
    "        if random.random() > epsilon:\n",
    "            with torch.no_grad():\n",
    "                state   = Variable(torch.FloatTensor(state).unsqueeze(0))\n",
    "                \n",
    "            q_value = self.forward(state)\n",
    "            action  = q_value.max(1)[1].item()\n",
    "        else:\n",
    "            action = random.randrange(env.action_space.n)\n",
    "        return action"
   ]
  },
  {
   "cell_type": "markdown",
   "metadata": {},
   "source": [
    "<h2>Computing Temporal Difference Loss</h2>"
   ]
  },
  {
   "cell_type": "code",
   "execution_count": 26,
   "metadata": {},
   "outputs": [],
   "source": [
    "def compute_td_loss(batch_size):\n",
    "    state, action, reward, next_state, done = replay_buffer.sample(batch_size)\n",
    "\n",
    "    state      = Variable(torch.FloatTensor(np.float32(state)))\n",
    "    \n",
    "    with torch.no_grad():\n",
    "        next_state = Variable(torch.FloatTensor(np.float32(next_state)))\n",
    "    \n",
    "    action     = Variable(torch.LongTensor(action))\n",
    "    reward     = Variable(torch.FloatTensor(reward))\n",
    "    done       = Variable(torch.FloatTensor(done))\n",
    "\n",
    "    q_values      = model(state)\n",
    "    next_q_values = model(next_state)\n",
    "\n",
    "    q_value          = q_values.gather(1, action.unsqueeze(1)).squeeze(1)\n",
    "    next_q_value     = next_q_values.max(1)[0]\n",
    "    expected_q_value = reward + gamma * next_q_value * (1 - done)\n",
    "    \n",
    "    loss = (q_value - Variable(expected_q_value.data)).pow(2).mean()\n",
    "        \n",
    "    optimizer.zero_grad()\n",
    "    loss.backward()\n",
    "    optimizer.step()\n",
    "    \n",
    "    return loss"
   ]
  },
  {
   "cell_type": "code",
   "execution_count": 27,
   "metadata": {},
   "outputs": [],
   "source": [
    "def plot(frame_idx, rewards, losses):\n",
    "    clear_output(True)\n",
    "    plt.figure(figsize=(20,5))\n",
    "    plt.subplot(131)\n",
    "    plt.title('frame %s. reward: %s' % (frame_idx, np.mean(rewards[-10:])))\n",
    "    plt.plot(rewards)\n",
    "    plt.subplot(132)\n",
    "    plt.title('loss')\n",
    "    plt.plot(losses)\n",
    "    plt.show()"
   ]
  },
  {
   "cell_type": "markdown",
   "metadata": {},
   "source": [
    "<p><hr></p>"
   ]
  },
  {
   "cell_type": "markdown",
   "metadata": {},
   "source": [
    "<h1>Atari Environment</h1>"
   ]
  },
  {
   "cell_type": "markdown",
   "metadata": {},
   "source": [
    "<h2>Training</h2>"
   ]
  },
  {
   "cell_type": "code",
   "execution_count": null,
   "metadata": {},
   "outputs": [],
   "source": []
  },
  {
   "cell_type": "code",
   "execution_count": null,
   "metadata": {},
   "outputs": [],
   "source": []
  },
  {
   "cell_type": "code",
   "execution_count": 28,
   "metadata": {},
   "outputs": [],
   "source": [
    "class SemanticEnvironment(gym.Wrapper):\n",
    "\n",
    "    def __init__(self, base_env):\n",
    "        gym.Wrapper.__init__(self, env)\n",
    "        \n",
    "        self.num_clusters_obj=8\n",
    "        self.image_seg=Birch(n_clusters=None,threshold=0.5,branching_factor=50)\n",
    "        self.pca_n_components=8\n",
    "        self.pca_obj=IncrementalPCA(n_components=self.pca_n_components)\n",
    "        self.max_obj_width=160//20\n",
    "        self.max_obj_height=210//20\n",
    "        self.repeat_action=4\n",
    "        self.x_grid=12\n",
    "        self.y_grid=12\n",
    "        self.grid=make_grid((105,80),self.x_grid,self.y_grid)\n",
    "        self.max_rad=distance.euclidean([0,0],[105//self.x_grid,80//self.y_grid])\n",
    "        #self.max_rad=80\n",
    "        #self.grid=make_grid((105,80),self.x_grid,self.y_grid)\n",
    "        self.dimensions=(1+self.num_clusters_obj)*self.x_grid*self.y_grid\n",
    "        self.last_state=None\n",
    "        \n",
    "        self.action_space=spaces.Discrete(3)\n",
    "        self.observation_space = gym.spaces.Box(low=-2.0, high=2.0, shape=(2*self.dimensions,), dtype=np.float32)\n",
    "        #self.example_objects={}\n",
    "        #self.example_objects_pca={}\n",
    "        \n",
    "        self.stability_threshold=0.01\n",
    "        self.stability_threshold_birch=0.95\n",
    "        \n",
    "        self.pca_stab_err=[]\n",
    "        self.birch_stab_acc=[]\n",
    "        \n",
    "        self.state_list=[]\n",
    "        self.reward_list=[]\n",
    "        self.action_list=[]\n",
    "        self.object_list=[]\n",
    "        self.pca_list=[]\n",
    "        self.birch_list=[]\n",
    "        \n",
    "        self.lookback=250\n",
    "        #state list\n",
    "        self.keep_state_list=False\n",
    "        self.keep_object_list=True\n",
    "        self.keep_pca_list=True\n",
    "        self.keep_birch_list=False\n",
    "\n",
    "    \n",
    "    def check_stability_pca(self):\n",
    "        obj=self.object_list.pop()\n",
    "        new=self.pca_obj.transform(obj)\n",
    "        old=self.pca_list.pop()\n",
    "        err=mean_absolute_error(new,old)\n",
    "        self.pca_stab_err.append(err)\n",
    "        if err<self.stability_threshold:\n",
    "            return True\n",
    "        else:\n",
    "            return False\n",
    "        \n",
    "    def check_stability_birch(self):\n",
    "        obj=self.object_list.pop()\n",
    "        new=self.image_seg.predict(self.pca_obj.transform(obj))\n",
    "        old=self.birch_list.pop()\n",
    "        acc=balanced_accuracy_score(new,old)\n",
    "        self.birch_stab_acc.append(acc)\n",
    "        if acc>self.stability_threshold_birch:\n",
    "            return True\n",
    "        else:\n",
    "            return False\n",
    "    \n",
    "    def preprocess_state(self, state, use_pca=True, train_pca=False, use_birch=True, train_birch=False, use_embedding=True):\n",
    "        \n",
    "        #crop for pong [16:98,8:72]\n",
    "        #state = rescale(state, 0.5, anti_aliasing=False, channel_axis=-1, order=0)#[16:98,8:72]\n",
    "        #state = state[::2,::2][16:98,8:72]\n",
    "        state = state[::2,::2]#[17:97,8:72]\n",
    "        #cut objects\n",
    "        label_image, objects, regions=find_cut_objects(state,self.max_obj_height,self.max_obj_width)\n",
    "        X=objects.reshape(objects.shape[0],-1)\n",
    "        \n",
    "        if self.keep_object_list:\n",
    "            self.object_list.insert(0,X.copy())\n",
    "        \n",
    "        #PCA\n",
    "        if train_pca:\n",
    "            self.pca_obj.partial_fit(np.vstack((np.unique(X,axis=0),np.unique(X,axis=0))))\n",
    "        \n",
    "        if use_pca:\n",
    "            X=self.pca_obj.transform(X)\n",
    "        else:\n",
    "            X=np.zeros((X.shape[0],self.pca_n_components))\n",
    "        \n",
    "        if self.keep_pca_list:\n",
    "            self.pca_list.insert(0,X.copy())\n",
    "        \n",
    "        #BIRCH clustering\n",
    "        if train_birch:\n",
    "            self.image_seg.partial_fit(X)\n",
    "            if self.image_seg.n_clusters is None and len(self.image_seg.subcluster_labels_)>self.num_clusters_obj:\n",
    "                self.image_seg.set_params(n_clusters=self.num_clusters_obj)\n",
    "                self.image_seg.partial_fit()\n",
    "        \n",
    "        if use_birch:\n",
    "            labels=self.image_seg.predict(X)\n",
    "        else:\n",
    "            labels=np.zeros(X.shape[0])\n",
    "        \n",
    "        \n",
    "        if self.keep_birch_list:\n",
    "            self.birch_list.insert(0,labels.copy())\n",
    "        \n",
    "        for i in range(len(labels)):\n",
    "#             if train:\n",
    "#                 pass\n",
    "                #self.example_objects[labels[i]]=state[regions[i].slice]\n",
    "                #self.example_objects_pca[labels[i]]=self.pca_obj.inverse_transform(X[i]).reshape(self.max_obj_height,self.max_obj_width,3)\n",
    "            \n",
    "            label_image[regions[i].slice][regions[i].image]=labels[i]+1\n",
    "                \n",
    "        if use_embedding:\n",
    "            embedding=regions_to_embedding(regions,labels,self.grid,label_size=self.num_clusters_obj,max_rad=self.max_rad).reshape(-1)\n",
    "            \n",
    "            #clip emmbeding\n",
    "            embedding=np.clip(embedding,-2, 2)\n",
    "        \n",
    "        else:\n",
    "            embedding=np.zeros(self.dimensions)\n",
    "        \n",
    "        return label_image.astype(\"int8\"),regions,labels,embedding\n",
    "\n",
    "\n",
    "    def reset(self, **kwargs):\n",
    "        state = self.env.reset(**kwargs)\n",
    "        state = np.zeros((2,self.dimensions))\n",
    "        self.last_state=np.zeros(self.dimensions)\n",
    "        return state.reshape(-1)\n",
    "\n",
    "    def step(self, actions):\n",
    "        \n",
    "        #actions mapped\n",
    "        actions={0:2,1:3,2:0}[actions]\n",
    "        \n",
    "        total_reward=0\n",
    "        next_state=np.zeros((2,self.dimensions))\n",
    "        for i in range(self.repeat_action):\n",
    "            orig_state, reward, terminal, info = self.env.step(actions)\n",
    "            total_reward += reward\n",
    "            if terminal:\n",
    "                break\n",
    "        \n",
    "        if self.keep_state_list:\n",
    "            self.state_list.append(orig_state.copy())\n",
    "            self.reward_list.append(total_reward)\n",
    "            self.action_list.append(actions)\n",
    "        \n",
    "        if self.keep_pca_list:\n",
    "            _,_,_,state=self.preprocess_state(orig_state, use_pca=True, train_pca=True, use_birch=False, train_birch=False, use_embedding=False)\n",
    "        elif self.keep_birch_list:\n",
    "            _,_,_,state=self.preprocess_state(orig_state, use_pca=True, train_pca=False, use_birch=True, train_birch=True, use_embedding=False)\n",
    "        else:\n",
    "            _,_,_,state=self.preprocess_state(orig_state, use_pca=True, train_pca=False, use_birch=True, train_birch=False, use_embedding=True)\n",
    "       \n",
    "        next_state[0,:] = state\n",
    "        next_state[1,:] = state-self.last_state\n",
    "        self.last_state=state\n",
    "         \n",
    "        if len(self.pca_list)>=self.lookback and self.keep_pca_list==True:\n",
    "            is_stable=self.check_stability_pca()\n",
    "            if is_stable:\n",
    "                print(\"PCA stable after \"+str(self.lookback+len(self.pca_stab_err))+\" steps with err=\"+str(self.pca_stab_err[-1]))\n",
    "                self.keep_pca_list=False\n",
    "                self.keep_birch_list=True\n",
    "                self.object_list=[]\n",
    "                 \n",
    "        if len(self.birch_list)>=self.lookback and self.keep_birch_list==True:\n",
    "            is_stable=self.check_stability_birch()\n",
    "            if is_stable:\n",
    "                print(\"Birch stable after \"+str(self.lookback+len(self.birch_stab_acc))+\" steps with acc=\"+str(self.birch_stab_acc[-1]))\n",
    "                self.keep_birch_list=False\n",
    "                self.keep_object_list=False\n",
    "       \n",
    "        return next_state.reshape(-1), reward, terminal, info"
   ]
  },
  {
   "cell_type": "code",
   "execution_count": 74,
   "metadata": {},
   "outputs": [],
   "source": [
    "class Semantic2Environment(gym.Wrapper):\n",
    "\n",
    "    def __init__(self, base_env):\n",
    "        gym.Wrapper.__init__(self, env)\n",
    "        \n",
    "        self.num_clusters_obj=8\n",
    "        self.image_seg=Birch(n_clusters=None,threshold=0.5,branching_factor=50)\n",
    "        self.pca_n_components=8\n",
    "        self.pca_obj=IncrementalPCA(n_components=self.pca_n_components)\n",
    "        self.max_obj_width=160//20\n",
    "        self.max_obj_height=210//20\n",
    "        self.repeat_action=4\n",
    "        self.x_grid=12\n",
    "        self.y_grid=12\n",
    "        self.grid=make_grid((105,80),self.x_grid,self.y_grid)\n",
    "        self.max_rad=distance.euclidean([0,0],[105//self.x_grid,80//self.y_grid])\n",
    "        #self.max_rad=80\n",
    "        #self.grid=make_grid((105,80),self.x_grid,self.y_grid)\n",
    "        #self.dimensions=(1+self.num_clusters_obj)*self.x_grid*self.y_grid\n",
    "        self.dimensions=128\n",
    "        self.last_state=None\n",
    "        \n",
    "        self.action_space=spaces.Discrete(3)\n",
    "        self.observation_space = gym.spaces.Box(low=-2.0, high=2.0, shape=(2*self.dimensions,), dtype=np.float32)\n",
    "        #self.example_objects={}\n",
    "        #self.example_objects_pca={}\n",
    "        \n",
    "        self.stability_threshold=0.01\n",
    "        self.stability_threshold_birch=0.95\n",
    "        \n",
    "        self.pca_stab_err=[]\n",
    "        self.birch_stab_acc=[]\n",
    "        \n",
    "        self.state_list=[]\n",
    "        self.reward_list=[]\n",
    "        self.action_list=[]\n",
    "        self.object_list=[]\n",
    "        self.pca_list=[]\n",
    "        self.birch_list=[]\n",
    "        self.graph_list=[]\n",
    "        self.document_list=[]\n",
    "        \n",
    "        self.lookback=250\n",
    "        #state list\n",
    "        self.keep_state_list=False\n",
    "        self.keep_object_list=True\n",
    "        self.keep_pca_list=True\n",
    "        self.keep_birch_list=False\n",
    "        self.keep_graph_list=False\n",
    "        \n",
    "        #semantic model\n",
    "        self.prox=30\n",
    "        self.hash_iterations=2\n",
    "        self.starting_doc_len=30000\n",
    "        self.start_tag=0\n",
    "        self.min_count=2\n",
    "        self.seed=42\n",
    "        self.workers = 4\n",
    "        self.epochs = 50\n",
    "        self.learning_rate = 0.025\n",
    "        self.window=8\n",
    "        self.hs=1\n",
    "        self.dm=0\n",
    "        self.negative=0\n",
    "        self.max_vocab_size=30000\n",
    "        self.semantic_model=Doc2Vec(\n",
    "            vector_size=self.dimensions,\n",
    "            window=self.window,\n",
    "            min_count=self.min_count,\n",
    "            dm=self.dm,\n",
    "            hs=self.hs,\n",
    "            negative=self.negative,\n",
    "            workers=self.workers,\n",
    "            epochs=self.epochs,\n",
    "            alpha=self.learning_rate,\n",
    "            max_vocab_size=self.max_vocab_size,\n",
    "            seed=self.seed\n",
    "        )\n",
    "\n",
    "    \n",
    "    def check_stability_pca(self):\n",
    "        obj=self.object_list.pop()\n",
    "        new=self.pca_obj.transform(obj)\n",
    "        old=self.pca_list.pop()\n",
    "        err=mean_absolute_error(new,old)\n",
    "        self.pca_stab_err.append(err)\n",
    "        if err<self.stability_threshold:\n",
    "            return True\n",
    "        else:\n",
    "            return False\n",
    "        \n",
    "    def check_stability_birch(self):\n",
    "        obj=self.object_list.pop()\n",
    "        new=self.image_seg.predict(self.pca_obj.transform(obj))\n",
    "        old=self.birch_list.pop()\n",
    "        acc=balanced_accuracy_score(new,old)\n",
    "        self.birch_stab_acc.append(acc)\n",
    "        if acc>self.stability_threshold_birch:\n",
    "            return True\n",
    "        else:\n",
    "            return False\n",
    "        \n",
    "    def train_semantic(self):\n",
    "        Graphs=self.graph_list\n",
    "        Doc_all=graph_to_doc(Graphs,iterations=self.hash_iterations,start_tag=0)\n",
    "        \n",
    "        documents = [\n",
    "                TaggedDocument(words=doc, tags=[i])\n",
    "                for i, doc in enumerate(Doc_all)\n",
    "            ]\n",
    "    \n",
    "        self.document_list=documents\n",
    "        self.semantic_model.build_vocab(documents)\n",
    "        self.semantic_model.train(documents,total_examples=len(documents),epochs=self.semantic_model.epochs)\n",
    "    \n",
    "    def preprocess_state(self, state, use_pca=True, train_pca=False, use_birch=True, train_birch=False, use_embedding=True):\n",
    "        \n",
    "        #crop for pong [16:98,8:72]\n",
    "        #state = rescale(state, 0.5, anti_aliasing=False, channel_axis=-1, order=0)#[16:98,8:72]\n",
    "        #state = state[::2,::2][16:98,8:72]\n",
    "        state = state[::2,::2]#[17:97,8:72]\n",
    "        #cut objects\n",
    "        label_image, objects, regions=find_cut_objects(state,self.max_obj_height,self.max_obj_width)\n",
    "        X=objects.reshape(objects.shape[0],-1)\n",
    "        \n",
    "        if self.keep_object_list:\n",
    "            self.object_list.insert(0,X.copy())\n",
    "        \n",
    "        #PCA\n",
    "        if train_pca:\n",
    "            self.pca_obj.partial_fit(np.vstack((np.unique(X,axis=0),np.unique(X,axis=0))))\n",
    "        \n",
    "        if use_pca:\n",
    "            X=self.pca_obj.transform(X)\n",
    "        else:\n",
    "            X=np.zeros((X.shape[0],self.pca_n_components))\n",
    "        \n",
    "        if self.keep_pca_list:\n",
    "            self.pca_list.insert(0,X.copy())\n",
    "        \n",
    "        #BIRCH clustering\n",
    "        if train_birch:\n",
    "            self.image_seg.partial_fit(X)\n",
    "            if self.image_seg.n_clusters is None and len(self.image_seg.subcluster_labels_)>self.num_clusters_obj:\n",
    "                self.image_seg.set_params(n_clusters=self.num_clusters_obj)\n",
    "                self.image_seg.partial_fit()\n",
    "        \n",
    "        if use_birch:\n",
    "            labels=self.image_seg.predict(X)\n",
    "        else:\n",
    "            labels=np.zeros(X.shape[0])\n",
    "        \n",
    "        \n",
    "        if self.keep_birch_list:\n",
    "            self.birch_list.insert(0,labels.copy())\n",
    "        \n",
    "        for i in range(len(labels)):\n",
    "#             if train:\n",
    "#                 pass\n",
    "                #self.example_objects[labels[i]]=state[regions[i].slice]\n",
    "                #self.example_objects_pca[labels[i]]=self.pca_obj.inverse_transform(X[i]).reshape(self.max_obj_height,self.max_obj_width,3)\n",
    "            \n",
    "            label_image[regions[i].slice][regions[i].image]=labels[i]+1\n",
    "                \n",
    "        if self.keep_graph_list and not use_embedding:\n",
    "            graph=regions_to_graph(regions,labels,prox=self.prox)\n",
    "            self.graph_list.append(graph.copy())\n",
    "        \n",
    "        if use_embedding:\n",
    "            #make graph\n",
    "            graph=regions_to_graph(regions,labels,prox=self.prox)\n",
    "            \n",
    "            doc=graph_to_doc([graph],iterations=self.hash_iterations,start_tag=0)\n",
    "            \n",
    "            #make embedding\n",
    "            embedding=doc_to_embedding(doc,self.semantic_model,seed=42)\n",
    "\n",
    "            #clip emmbeding\n",
    "            embedding=np.clip(embedding,-2, 2)[0]\n",
    "        \n",
    "        else:\n",
    "            graph=nx.DiGraph()\n",
    "            \n",
    "            embedding=np.zeros(self.dimensions)\n",
    "        \n",
    "        return label_image.astype(\"int8\"),regions,labels,embedding\n",
    "\n",
    "\n",
    "    def reset(self, **kwargs):\n",
    "        state = self.env.reset(**kwargs)\n",
    "        state = np.zeros((2,self.dimensions))\n",
    "        self.last_state=np.zeros(self.dimensions)\n",
    "        return state.reshape(-1)\n",
    "\n",
    "    def step(self, actions):\n",
    "        \n",
    "        #actions mapped\n",
    "        actions={0:2,1:3,2:0}[actions]\n",
    "        \n",
    "        total_reward=0\n",
    "        next_state=np.zeros((2,self.dimensions))\n",
    "        for i in range(self.repeat_action):\n",
    "            orig_state, reward, terminal, info = self.env.step(actions)\n",
    "            total_reward += reward\n",
    "            if terminal:\n",
    "                break\n",
    "        \n",
    "        if self.keep_state_list:\n",
    "            self.state_list.append(orig_state.copy())\n",
    "            self.reward_list.append(total_reward)\n",
    "            self.action_list.append(actions)\n",
    "        \n",
    "        if self.keep_pca_list:\n",
    "            _,_,_,state=self.preprocess_state(orig_state, use_pca=True, train_pca=True, use_birch=False, train_birch=False, use_embedding=False)\n",
    "        elif self.keep_birch_list:\n",
    "            _,_,_,state=self.preprocess_state(orig_state, use_pca=True, train_pca=False, use_birch=True, train_birch=True, use_embedding=False)\n",
    "        elif self.keep_graph_list:\n",
    "            _,_,_,state=self.preprocess_state(orig_state,use_pca=True, train_pca=False, use_birch=True, train_birch=False, use_embedding=False)\n",
    "        else:\n",
    "            _,_,_,state=self.preprocess_state(orig_state,use_pca=True, train_pca=False, use_birch=True, train_birch=False, use_embedding=True)\n",
    "       \n",
    "        next_state[0,:] = state\n",
    "        next_state[1,:] = state-self.last_state\n",
    "        self.last_state=state\n",
    "         \n",
    "        if len(self.pca_list)>=self.lookback and self.keep_pca_list==True:\n",
    "            is_stable=self.check_stability_pca()\n",
    "            if is_stable:\n",
    "                print(\"PCA stable after \"+str(self.lookback+len(self.pca_stab_err))+\" steps with err=\"+str(self.pca_stab_err[-1]))\n",
    "                self.keep_pca_list=False\n",
    "                self.keep_birch_list=True\n",
    "                self.object_list=[]\n",
    "                 \n",
    "        if len(self.birch_list)>=self.lookback and self.keep_birch_list==True:\n",
    "            is_stable=self.check_stability_birch()\n",
    "            if is_stable:\n",
    "                print(\"Birch stable after \"+str(self.lookback+len(self.birch_stab_acc))+\" steps with acc=\"+str(self.birch_stab_acc[-1]))\n",
    "                self.keep_birch_list=False\n",
    "                self.keep_object_list=False\n",
    "                self.keep_graph_list=True\n",
    "                \n",
    "        \n",
    "        if self.keep_graph_list and len(self.graph_list)>=self.starting_doc_len and self.keep_pca_list==False and self.keep_birch_list==False:\n",
    "            print(\"Accumulated: \"+str(len(self.graph_list))+\" graphs\")\n",
    "            self.keep_graph_list=False\n",
    "            self.train_semantic()\n",
    "       \n",
    "        return next_state.reshape(-1), reward, terminal, info"
   ]
  },
  {
   "cell_type": "code",
   "execution_count": 75,
   "metadata": {},
   "outputs": [],
   "source": [
    "env=gym.make('PongNoFrameskip-v4')\n",
    "\n",
    "env=Semantic2Environment(env)"
   ]
  },
  {
   "cell_type": "code",
   "execution_count": 76,
   "metadata": {},
   "outputs": [
    {
     "name": "stdout",
     "output_type": "stream",
     "text": [
      "PCA stable after 1380 steps with err=0.0093109605490156\n",
      "Birch stable after 554 steps with acc=1.0\n"
     ]
    }
   ],
   "source": [
    "env.reset()\n",
    "while env.keep_birch_list==True or env.keep_pca_list==True:\n",
    "    act=random.choice([0,1,2])\n",
    "    _,_,done,_=env.step(act)\n",
    "    if done:\n",
    "        state = env.reset()"
   ]
  },
  {
   "cell_type": "code",
   "execution_count": 77,
   "metadata": {},
   "outputs": [
    {
     "name": "stdout",
     "output_type": "stream",
     "text": [
      "Accumulated: 30000 graphs\n"
     ]
    }
   ],
   "source": [
    "env.reset()\n",
    "while env.keep_birch_list==True or env.keep_pca_list==True or env.keep_graph_list==True:\n",
    "    act=random.choice([0,1,2])\n",
    "    _,_,done,_=env.step(act)\n",
    "    if done:\n",
    "        state = env.reset()"
   ]
  },
  {
   "cell_type": "code",
   "execution_count": 78,
   "metadata": {},
   "outputs": [],
   "source": [
    "States=np.load(\"Pong_Example_Run.npy\")"
   ]
  },
  {
   "cell_type": "code",
   "execution_count": 80,
   "metadata": {},
   "outputs": [
    {
     "name": "stdout",
     "output_type": "stream",
     "text": [
      "21.1 ms ± 569 µs per loop (mean ± std. dev. of 7 runs, 10 loops each)\n"
     ]
    }
   ],
   "source": [
    "%timeit _,_,_,emb=env.preprocess_state(States[100])"
   ]
  },
  {
   "cell_type": "code",
   "execution_count": 84,
   "metadata": {},
   "outputs": [],
   "source": [
    "label_image,regions,labels,embedding=env.preprocess_state(States[100])"
   ]
  },
  {
   "cell_type": "code",
   "execution_count": 85,
   "metadata": {},
   "outputs": [
    {
     "name": "stdout",
     "output_type": "stream",
     "text": [
      "1.34 ms ± 17.5 µs per loop (mean ± std. dev. of 7 runs, 1,000 loops each)\n"
     ]
    }
   ],
   "source": [
    "%timeit graph=regions_to_graph(regions,labels,prox=30)"
   ]
  },
  {
   "cell_type": "code",
   "execution_count": 91,
   "metadata": {},
   "outputs": [],
   "source": [
    "graph=regions_to_graph(regions,labels,prox=30)\n",
    "            \n",
    "doc=graph_to_doc([graph],iterations=2,start_tag=0)\n",
    "            \n",
    "            #make embedding\n",
    "embedding=doc_to_embedding(doc,env.semantic_model,seed=42)"
   ]
  },
  {
   "cell_type": "code",
   "execution_count": 87,
   "metadata": {},
   "outputs": [],
   "source": [
    "graph=regions_to_graph(regions,labels,prox=30)"
   ]
  },
  {
   "cell_type": "code",
   "execution_count": 89,
   "metadata": {},
   "outputs": [
    {
     "name": "stdout",
     "output_type": "stream",
     "text": [
      "720 µs ± 5.81 µs per loop (mean ± std. dev. of 7 runs, 1,000 loops each)\n"
     ]
    }
   ],
   "source": [
    "%timeit doc=graph_to_doc([graph],iterations=2,start_tag=0)"
   ]
  },
  {
   "cell_type": "code",
   "execution_count": 93,
   "metadata": {},
   "outputs": [
    {
     "name": "stdout",
     "output_type": "stream",
     "text": [
      "15.5 ms ± 74.1 µs per loop (mean ± std. dev. of 7 runs, 100 loops each)\n"
     ]
    }
   ],
   "source": [
    "%timeit embedding=doc_to_embedding(doc,env.semantic_model,seed=42)"
   ]
  },
  {
   "cell_type": "code",
   "execution_count": 397,
   "metadata": {},
   "outputs": [
    {
     "data": {
      "text/plain": [
       "array([4, 4, 2, 2, 6, 0, 0, 0, 0, 0, 0, 0, 0, 0, 0, 7, 7, 7, 7, 7, 7, 7,\n",
       "       7, 7, 7])"
      ]
     },
     "execution_count": 397,
     "metadata": {},
     "output_type": "execute_result"
    }
   ],
   "source": [
    "env.image_seg.predict(env.pca_list[100])"
   ]
  },
  {
   "cell_type": "code",
   "execution_count": 111,
   "metadata": {},
   "outputs": [],
   "source": [
    "train_corpus=env.document_list\n",
    "model=env.semantic_model"
   ]
  },
  {
   "cell_type": "code",
   "execution_count": 112,
   "metadata": {},
   "outputs": [
    {
     "name": "stdout",
     "output_type": "stream",
     "text": [
      "CPU times: user 34min 51s, sys: 1h 17min 9s, total: 1h 52min\n",
      "Wall time: 15min\n"
     ]
    }
   ],
   "source": [
    "%%time\n",
    "ranks = []\n",
    "for doc_id in range(len(train_corpus)):\n",
    "    inferred_vector = model.infer_vector(train_corpus[doc_id].words)\n",
    "    sims = model.dv.most_similar([inferred_vector], topn=1)\n",
    "    ranks.append(sims[0][0])"
   ]
  },
  {
   "cell_type": "code",
   "execution_count": 113,
   "metadata": {},
   "outputs": [],
   "source": [
    "similiar=np.array([x==ranks[x] for x in range(len(ranks))])"
   ]
  },
  {
   "cell_type": "code",
   "execution_count": 312,
   "metadata": {},
   "outputs": [
    {
     "data": {
      "text/plain": [
       "0.7345333333333334"
      ]
     },
     "execution_count": 312,
     "metadata": {},
     "output_type": "execute_result"
    }
   ],
   "source": [
    "similiar.mean()"
   ]
  },
  {
   "cell_type": "code",
   "execution_count": 115,
   "metadata": {},
   "outputs": [],
   "source": [
    "wrong=np.argwhere(similiar==False)"
   ]
  },
  {
   "cell_type": "code",
   "execution_count": 116,
   "metadata": {},
   "outputs": [],
   "source": [
    "g_diff=np.array([graph_diff(env.graph_list[ranks[w[0]]],env.graph_list[w[0]]) for w in wrong])"
   ]
  },
  {
   "cell_type": "code",
   "execution_count": 316,
   "metadata": {},
   "outputs": [],
   "source": [
    "g_diff2=np.array([graph_diff(env.graph_list[ranks[w]],env.graph_list[w]) for w in range(len(ranks))])"
   ]
  },
  {
   "cell_type": "code",
   "execution_count": 317,
   "metadata": {},
   "outputs": [
    {
     "data": {
      "text/plain": [
       "100.0"
      ]
     },
     "execution_count": 317,
     "metadata": {},
     "output_type": "execute_result"
    }
   ],
   "source": [
    "np.max(g_diff2)"
   ]
  },
  {
   "cell_type": "code",
   "execution_count": 318,
   "metadata": {},
   "outputs": [
    {
     "data": {
      "text/plain": [
       "0.9656333333333333"
      ]
     },
     "execution_count": 318,
     "metadata": {},
     "output_type": "execute_result"
    }
   ],
   "source": [
    "(g_diff2==0).mean()"
   ]
  },
  {
   "cell_type": "code",
   "execution_count": 119,
   "metadata": {},
   "outputs": [
    {
     "data": {
      "text/plain": [
       "0.9656333333333333"
      ]
     },
     "execution_count": 119,
     "metadata": {},
     "output_type": "execute_result"
    }
   ],
   "source": [
    "similiar.mean()+(1-similiar.mean())*(g_diff==0).mean()"
   ]
  },
  {
   "cell_type": "code",
   "execution_count": 120,
   "metadata": {},
   "outputs": [
    {
     "data": {
      "text/plain": [
       "0.9994000000000001"
      ]
     },
     "execution_count": 120,
     "metadata": {},
     "output_type": "execute_result"
    }
   ],
   "source": [
    "similiar.mean()+(1-similiar.mean())*(g_diff<5).mean()"
   ]
  },
  {
   "cell_type": "code",
   "execution_count": 321,
   "metadata": {},
   "outputs": [],
   "source": [
    "worst=np.argmax(g_diff)"
   ]
  },
  {
   "cell_type": "code",
   "execution_count": 322,
   "metadata": {},
   "outputs": [
    {
     "data": {
      "text/plain": [
       "1051"
      ]
     },
     "execution_count": 322,
     "metadata": {},
     "output_type": "execute_result"
    }
   ],
   "source": [
    "worst"
   ]
  },
  {
   "cell_type": "code",
   "execution_count": 323,
   "metadata": {},
   "outputs": [
    {
     "data": {
      "image/png": "[encoded data removed]",
      "text/plain": [
       "<Figure size 720x1152 with 1 Axes>"
      ]
     },
     "metadata": {
      "needs_background": "light"
     },
     "output_type": "display_data"
    }
   ],
   "source": [
    "fig = plt.figure(figsize=(10,16))\n",
    "sns.histplot(g_diff2,binwidth=5)\n",
    "plt.xlabel(\"Graph Distance\")\n",
    "plt.savefig('Pong_semantic_train_hist.png')"
   ]
  },
  {
   "cell_type": "code",
   "execution_count": 126,
   "metadata": {},
   "outputs": [],
   "source": [
    "G1=env.graph_list[ranks[wrong[worst][0]]]"
   ]
  },
  {
   "cell_type": "code",
   "execution_count": 127,
   "metadata": {},
   "outputs": [],
   "source": [
    "G2=env.graph_list[wrong[worst][0]]"
   ]
  },
  {
   "cell_type": "code",
   "execution_count": 128,
   "metadata": {},
   "outputs": [
    {
     "data": {
      "image/png": "[encoded data removed]",
      "text/plain": [
       "<Figure size 432x288 with 1 Axes>"
      ]
     },
     "metadata": {},
     "output_type": "display_data"
    }
   ],
   "source": [
    "visualize_graph(G1)"
   ]
  },
  {
   "cell_type": "code",
   "execution_count": 129,
   "metadata": {},
   "outputs": [
    {
     "data": {
      "image/png": "[encoded data removed]",
      "text/plain": [
       "<Figure size 432x288 with 1 Axes>"
      ]
     },
     "metadata": {},
     "output_type": "display_data"
    }
   ],
   "source": [
    "visualize_graph(G2)"
   ]
  },
  {
   "cell_type": "code",
   "execution_count": 130,
   "metadata": {},
   "outputs": [
    {
     "data": {
      "text/plain": [
       "100.0"
      ]
     },
     "execution_count": 130,
     "metadata": {},
     "output_type": "execute_result"
    }
   ],
   "source": [
    "graph_diff(G1,G2)"
   ]
  },
  {
   "cell_type": "code",
   "execution_count": 135,
   "metadata": {},
   "outputs": [],
   "source": [
    "state_list=np.load(\"Pong_Example_Run.npy\")\n",
    "Graphs=[]\n",
    "Label_imgs=[]\n",
    "emb=[]\n",
    "for state in state_list:\n",
    "    label_img,regions,labels,emmbedding=env.preprocess_state(state)\n",
    "    Graphs.append(regions_to_graph(regions,labels,prox=env.prox))\n",
    "    Label_imgs.append(label_img)\n",
    "    emb.append(emmbedding)"
   ]
  },
  {
   "cell_type": "code",
   "execution_count": 136,
   "metadata": {},
   "outputs": [],
   "source": [
    "ranks2=[]"
   ]
  },
  {
   "cell_type": "code",
   "execution_count": 137,
   "metadata": {},
   "outputs": [],
   "source": [
    "for x in emb:\n",
    "    sims = model.dv.most_similar([x], topn=1)\n",
    "    ranks2.append(sims[0][0])"
   ]
  },
  {
   "cell_type": "code",
   "execution_count": 252,
   "metadata": {},
   "outputs": [],
   "source": [
    "valid_diff=np.array([graph_diff(Graphs[i],env.graph_list[ranks2[i]]) for i in range(len(ranks2))])"
   ]
  },
  {
   "cell_type": "code",
   "execution_count": 332,
   "metadata": {},
   "outputs": [
    {
     "data": {
      "text/plain": [
       "0.6658249158249159"
      ]
     },
     "execution_count": 332,
     "metadata": {},
     "output_type": "execute_result"
    }
   ],
   "source": [
    "np.mean(valid_diff<5)"
   ]
  },
  {
   "cell_type": "code",
   "execution_count": 255,
   "metadata": {},
   "outputs": [
    {
     "data": {
      "text/plain": [
       "2.0"
      ]
     },
     "execution_count": 255,
     "metadata": {},
     "output_type": "execute_result"
    }
   ],
   "source": [
    "graph_diff(Graphs[100],env.graph_list[ranks2[100]])"
   ]
  },
  {
   "cell_type": "code",
   "execution_count": null,
   "metadata": {},
   "outputs": [],
   "source": []
  },
  {
   "cell_type": "code",
   "execution_count": 327,
   "metadata": {},
   "outputs": [
    {
     "data": {
      "image/png": "[encoded data removed]",
      "text/plain": [
       "<Figure size 720x1152 with 1 Axes>"
      ]
     },
     "metadata": {
      "needs_background": "light"
     },
     "output_type": "display_data"
    }
   ],
   "source": [
    "fig = plt.figure(figsize=(10,16))\n",
    "sns.histplot(np.round(valid_diff,2),cumulative=True,stat=\"percent\",binwidth=5)\n",
    "plt.xlabel(\"Graph Distance\")\n",
    "plt.savefig('Pong_semantic_val_cum_hist.png')"
   ]
  },
  {
   "cell_type": "code",
   "execution_count": null,
   "metadata": {},
   "outputs": [],
   "source": [
    "Pong_semantic_val_hist"
   ]
  },
  {
   "cell_type": "code",
   "execution_count": 331,
   "metadata": {},
   "outputs": [
    {
     "data": {
      "image/png": "[encoded data removed]",
      "text/plain": [
       "<Figure size 720x1152 with 1 Axes>"
      ]
     },
     "metadata": {
      "needs_background": "light"
     },
     "output_type": "display_data"
    }
   ],
   "source": [
    "fig = plt.figure(figsize=(10,16))\n",
    "sns.histplot(valid_diff,binwidth=10)\n",
    "plt.xlabel(\"Graph Distance\")\n",
    "plt.savefig('Pong_semantic_val_hist.png')"
   ]
  },
  {
   "cell_type": "code",
   "execution_count": 184,
   "metadata": {},
   "outputs": [],
   "source": [
    "worst=np.argmax(valid_diff)"
   ]
  },
  {
   "cell_type": "code",
   "execution_count": 186,
   "metadata": {},
   "outputs": [
    {
     "data": {
      "image/png": "[encoded data removed]",
      "text/plain": [
       "<Figure size 432x288 with 1 Axes>"
      ]
     },
     "metadata": {},
     "output_type": "display_data"
    }
   ],
   "source": [
    "visualize_graph(env.graph_list[ranks2[worst]])"
   ]
  },
  {
   "cell_type": "code",
   "execution_count": 187,
   "metadata": {},
   "outputs": [
    {
     "data": {
      "image/png": "[encoded data removed]",
      "text/plain": [
       "<Figure size 432x288 with 1 Axes>"
      ]
     },
     "metadata": {},
     "output_type": "display_data"
    }
   ],
   "source": [
    "visualize_graph(Graphs[worst])"
   ]
  },
  {
   "cell_type": "code",
   "execution_count": 285,
   "metadata": {},
   "outputs": [],
   "source": [
    "def graph_diff3(l1,l2,obj_class_diff=100,obj_n_diff=100):\n",
    "\n",
    "    if len(l1)==0 or len(l2)==0:\n",
    "        return abs(len(l1)-len(l2))*obj_n_diff\n",
    "    \n",
    "    if len(l1)>len(l2):\n",
    "        l1,l2 = l2,l1\n",
    "    \n",
    "    c1=np.array([[l[1],l[2]] for l in l1])\n",
    "    c2=np.array([[l[1],l[2]] for l in l2])\n",
    "    \n",
    "    lab1=np.array([[int(l[0])] for l in l1])\n",
    "    lab2=np.array([[int(l[0])] for l in l2])\n",
    "    \n",
    "    dist=euclidean_distances(c1,c2)+obj_class_diff*(euclidean_distances(lab1,lab2)>0)\n",
    "        \n",
    "    return np.sum(np.min(dist,axis=1))+abs(dist.shape[0]-dist.shape[1])*obj_n_diff"
   ]
  },
  {
   "cell_type": "code",
   "execution_count": 286,
   "metadata": {},
   "outputs": [],
   "source": [
    "def graph_diff_list(G1_list,G2_list,obj_class_diff=100,obj_n_diff=100):\n",
    "    L1=[[(G1.nodes[x][\"feature\"],G1.nodes[x][\"position_x\"],G1.nodes[x][\"position_y\"]) for x in G1.nodes] for G1 in G1_list]\n",
    "    L2=[[(G2.nodes[x][\"feature\"],G2.nodes[x][\"position_x\"],G2.nodes[x][\"position_y\"]) for x in G2.nodes] for G2 in G2_list]\n",
    "    \n",
    "    dist=np.zeros((len(L1),len(L2)))\n",
    "    for x in range(len(L1)):\n",
    "        for y in range(len(L2)):\n",
    "            dist[x,y]=graph_diff3(L1[x],L2[y])\n",
    "            if dist[x,y]==0:\n",
    "                break\n",
    "        \n",
    "    return dist"
   ]
  },
  {
   "cell_type": "code",
   "execution_count": 161,
   "metadata": {},
   "outputs": [
    {
     "name": "stdout",
     "output_type": "stream",
     "text": [
      "CPU times: user 2.66 ms, sys: 0 ns, total: 2.66 ms\n",
      "Wall time: 2.79 ms\n"
     ]
    },
    {
     "data": {
      "text/plain": [
       "200.0"
      ]
     },
     "execution_count": 161,
     "metadata": {},
     "output_type": "execute_result"
    }
   ],
   "source": [
    "%time graph_diff(Graphs[10],env.graph_list[12])"
   ]
  },
  {
   "cell_type": "code",
   "execution_count": 189,
   "metadata": {},
   "outputs": [],
   "source": [
    "from joblib import Parallel, delayed"
   ]
  },
  {
   "cell_type": "code",
   "execution_count": 287,
   "metadata": {},
   "outputs": [
    {
     "name": "stdout",
     "output_type": "stream",
     "text": [
      "CPU times: user 3.3 s, sys: 1.15 s, total: 4.44 s\n",
      "Wall time: 1h 8min 43s\n"
     ]
    }
   ],
   "source": [
    "%%time\n",
    "n_cores = 6\n",
    "parallel = Parallel(n_jobs=n_cores)\n",
    "results = parallel(delayed(graph_diff_list)(Graphs,env.graph_list[i::n_cores]) for i in range(n_cores))\n",
    "#results=np.vstack(results).flatten()"
   ]
  },
  {
   "cell_type": "code",
   "execution_count": 288,
   "metadata": {},
   "outputs": [],
   "source": [
    "results2=np.hstack(results)"
   ]
  },
  {
   "cell_type": "code",
   "execution_count": 289,
   "metadata": {},
   "outputs": [
    {
     "data": {
      "text/plain": [
       "1.0"
      ]
     },
     "execution_count": 289,
     "metadata": {},
     "output_type": "execute_result"
    }
   ],
   "source": [
    "graph_diff(Graphs[101],env.graph_list[ranks2[101]])"
   ]
  },
  {
   "cell_type": "code",
   "execution_count": 290,
   "metadata": {},
   "outputs": [
    {
     "data": {
      "image/png": "[encoded data removed]",
      "text/plain": [
       "<Figure size 432x288 with 1 Axes>"
      ]
     },
     "metadata": {},
     "output_type": "display_data"
    }
   ],
   "source": [
    "visualize_graph(Graphs[101])"
   ]
  },
  {
   "cell_type": "code",
   "execution_count": 291,
   "metadata": {},
   "outputs": [
    {
     "data": {
      "image/png": "[encoded data removed]",
      "text/plain": [
       "<Figure size 432x288 with 1 Axes>"
      ]
     },
     "metadata": {},
     "output_type": "display_data"
    }
   ],
   "source": [
    "visualize_graph(env.graph_list[ranks2[101]])"
   ]
  },
  {
   "cell_type": "code",
   "execution_count": 292,
   "metadata": {},
   "outputs": [
    {
     "data": {
      "text/plain": [
       "array([[1.]])"
      ]
     },
     "execution_count": 292,
     "metadata": {},
     "output_type": "execute_result"
    }
   ],
   "source": [
    "graph_diff_list([Graphs[101]],[env.graph_list[ranks2[101]]])"
   ]
  },
  {
   "cell_type": "code",
   "execution_count": 293,
   "metadata": {},
   "outputs": [
    {
     "data": {
      "text/plain": [
       "array([[1.]])"
      ]
     },
     "execution_count": 293,
     "metadata": {},
     "output_type": "execute_result"
    }
   ],
   "source": [
    "graph_diff_list([Graphs[101]],[env.graph_list[ranks2[101]]])"
   ]
  },
  {
   "cell_type": "code",
   "execution_count": 338,
   "metadata": {},
   "outputs": [
    {
     "data": {
      "text/plain": [
       "0.9696969696969697"
      ]
     },
     "execution_count": 338,
     "metadata": {},
     "output_type": "execute_result"
    }
   ],
   "source": [
    "np.mean(valid_diff<200)/np.mean(G_test2<200)"
   ]
  },
  {
   "cell_type": "code",
   "execution_count": 295,
   "metadata": {},
   "outputs": [],
   "source": [
    "G_test2=np.min(results2,axis=1)"
   ]
  },
  {
   "cell_type": "code",
   "execution_count": 309,
   "metadata": {},
   "outputs": [
    {
     "data": {
      "text/plain": [
       "0.8416175231676496"
      ]
     },
     "execution_count": 309,
     "metadata": {},
     "output_type": "execute_result"
    }
   ],
   "source": [
    "np.mean(valid_diff<100)/np.mean(G_test2<100)"
   ]
  },
  {
   "cell_type": "code",
   "execution_count": 300,
   "metadata": {},
   "outputs": [],
   "source": [
    "df_2=pd.DataFrame({\"Distance\":np.concatenate([valid_diff,G_test2]),\"Embedding\":np.concatenate([np.ones(len(valid_diff)),np.zeros(len(G_test2))])})"
   ]
  },
  {
   "cell_type": "code",
   "execution_count": 305,
   "metadata": {},
   "outputs": [],
   "source": [
    "df_2[\"Embedding\"]=df_2[\"Embedding\"].astype(\"int\")"
   ]
  },
  {
   "cell_type": "code",
   "execution_count": 328,
   "metadata": {},
   "outputs": [
    {
     "data": {
      "image/png": "[encoded data removed]",
      "text/plain": [
       "<Figure size 720x1152 with 1 Axes>"
      ]
     },
     "metadata": {
      "needs_background": "light"
     },
     "output_type": "display_data"
    }
   ],
   "source": [
    "fig = plt.figure(figsize=(10,16))\n",
    "sns.histplot(data=df_2,x=\"Distance\",cumulative=True,stat=\"percent\",hue=\"Embedding\",common_norm=False,binwidth=5)\n",
    "plt.xlabel(\"Graph Distance\")\n",
    "plt.savefig('Pong_semantic_val_cum_hist.png')"
   ]
  },
  {
   "cell_type": "code",
   "execution_count": 193,
   "metadata": {},
   "outputs": [
    {
     "name": "stdout",
     "output_type": "stream",
     "text": [
      "CPU times: user 50.7 s, sys: 0 ns, total: 50.7 s\n",
      "Wall time: 51.3 s\n"
     ]
    }
   ],
   "source": [
    "%time G_test=graph_diff_list(Graphs[0:1000],env.graph_list[0:100])"
   ]
  },
  {
   "cell_type": "code",
   "execution_count": 163,
   "metadata": {},
   "outputs": [],
   "source": [
    "def cosine_similarity(x, y):\n",
    "    \n",
    "    # Ensure length of x and y are the same\n",
    "    if len(x) != len(y) :\n",
    "        return None\n",
    "    \n",
    "    # Compute the dot product between x and y\n",
    "    dot_product = np.dot(x, y)\n",
    "    \n",
    "    # Compute the L2 norms (magnitudes) of x and y\n",
    "    magnitude_x = np.sqrt(np.sum(x**2)) \n",
    "    magnitude_y = np.sqrt(np.sum(y**2))\n",
    "    \n",
    "    # Compute the cosine similarity\n",
    "    cosine_similarity = dot_product / (magnitude_x * magnitude_y)\n",
    "    \n",
    "    return cosine_similarity"
   ]
  },
  {
   "cell_type": "code",
   "execution_count": 339,
   "metadata": {},
   "outputs": [],
   "source": [
    "X=np.array(emb)"
   ]
  },
  {
   "cell_type": "code",
   "execution_count": 340,
   "metadata": {},
   "outputs": [],
   "source": [
    "changes=(np.abs(X[1:]-X[0:-1])).mean(axis=-1)"
   ]
  },
  {
   "cell_type": "code",
   "execution_count": 341,
   "metadata": {},
   "outputs": [],
   "source": [
    "changes=np.array([cosine_similarity(X[i+1],X[i]) for i in range(len(Graphs)-1)])"
   ]
  },
  {
   "cell_type": "code",
   "execution_count": 342,
   "metadata": {},
   "outputs": [],
   "source": [
    "G_diff=np.array([graph_diff(Graphs[i],Graphs[i+1]) for i in range(len(Graphs)-1)])"
   ]
  },
  {
   "cell_type": "code",
   "execution_count": 343,
   "metadata": {},
   "outputs": [],
   "source": [
    "m, b = np.polyfit(changes, G_diff, 1)"
   ]
  },
  {
   "cell_type": "code",
   "execution_count": 344,
   "metadata": {},
   "outputs": [
    {
     "data": {
      "text/plain": [
       "-0.07498352"
      ]
     },
     "execution_count": 344,
     "metadata": {},
     "output_type": "execute_result"
    }
   ],
   "source": [
    "np.min(changes)"
   ]
  },
  {
   "cell_type": "code",
   "execution_count": 345,
   "metadata": {},
   "outputs": [
    {
     "data": {
      "image/png": "[encoded data removed]",
      "text/plain": [
       "<Figure size 720x1152 with 1 Axes>"
      ]
     },
     "metadata": {
      "needs_background": "light"
     },
     "output_type": "display_data"
    }
   ],
   "source": [
    "fig = plt.figure(figsize=(10,16))\n",
    "sns.scatterplot(x=changes,y=G_diff)\n",
    "plt.plot([np.min(changes),np.max(changes)], [np.min(changes)*m + b,np.max(changes)*m + b],c=\"red\")\n",
    "plt.xlabel(\"Cosine similarity\")\n",
    "plt.ylabel(\"Graph distance\")\n",
    "plt.savefig('Pong_val_correlation.png')"
   ]
  },
  {
   "cell_type": "code",
   "execution_count": 346,
   "metadata": {},
   "outputs": [
    {
     "data": {
      "text/plain": [
       "<matplotlib.collections.PathCollection at 0x7fca86325af0>"
      ]
     },
     "execution_count": 346,
     "metadata": {},
     "output_type": "execute_result"
    },
    {
     "data": {
      "image/png": "[encoded data removed]",
      "text/plain": [
       "<Figure size 432x288 with 1 Axes>"
      ]
     },
     "metadata": {
      "needs_background": "light"
     },
     "output_type": "display_data"
    }
   ],
   "source": [
    "plt.scatter(changes[G_diff<50],G_diff[G_diff<50])"
   ]
  },
  {
   "cell_type": "code",
   "execution_count": 347,
   "metadata": {},
   "outputs": [
    {
     "data": {
      "text/plain": [
       "array([[ 1.        , -0.46328484],\n",
       "       [-0.46328484,  1.        ]])"
      ]
     },
     "execution_count": 347,
     "metadata": {},
     "output_type": "execute_result"
    }
   ],
   "source": [
    "np.corrcoef(changes,G_diff)"
   ]
  },
  {
   "cell_type": "code",
   "execution_count": 175,
   "metadata": {},
   "outputs": [
    {
     "data": {
      "text/plain": [
       "array([[ 1.        , -0.67539389],\n",
       "       [-0.67539389,  1.        ]])"
      ]
     },
     "execution_count": 175,
     "metadata": {},
     "output_type": "execute_result"
    }
   ],
   "source": [
    "np.corrcoef(changes[G_diff<50],G_diff[G_diff<50])"
   ]
  },
  {
   "cell_type": "code",
   "execution_count": 348,
   "metadata": {},
   "outputs": [],
   "source": [
    "X=np.array(emb)"
   ]
  },
  {
   "cell_type": "code",
   "execution_count": 349,
   "metadata": {},
   "outputs": [],
   "source": [
    "brc = Birch(n_clusters=32,threshold=0.5).fit(X)"
   ]
  },
  {
   "cell_type": "code",
   "execution_count": 350,
   "metadata": {},
   "outputs": [],
   "source": [
    "lab=brc.labels_"
   ]
  },
  {
   "cell_type": "code",
   "execution_count": 351,
   "metadata": {},
   "outputs": [
    {
     "data": {
      "text/plain": [
       "0.09226871"
      ]
     },
     "execution_count": 351,
     "metadata": {},
     "output_type": "execute_result"
    }
   ],
   "source": [
    "metrics.silhouette_score(X, lab, metric='euclidean')"
   ]
  },
  {
   "cell_type": "code",
   "execution_count": 352,
   "metadata": {},
   "outputs": [
    {
     "data": {
      "text/plain": [
       "2.528671881514425"
      ]
     },
     "execution_count": 352,
     "metadata": {},
     "output_type": "execute_result"
    }
   ],
   "source": [
    "metrics.davies_bouldin_score(X, lab)"
   ]
  },
  {
   "cell_type": "code",
   "execution_count": 353,
   "metadata": {},
   "outputs": [
    {
     "data": {
      "text/plain": [
       "0.30920385573795595"
      ]
     },
     "execution_count": 353,
     "metadata": {},
     "output_type": "execute_result"
    }
   ],
   "source": [
    "d = euclidean_distances(X)\n",
    "\n",
    "dunn.dunn(lab,d)"
   ]
  },
  {
   "cell_type": "code",
   "execution_count": 354,
   "metadata": {},
   "outputs": [
    {
     "data": {
      "text/plain": [
       "<AxesSubplot:xlabel='x', ylabel='y'>"
      ]
     },
     "execution_count": 354,
     "metadata": {},
     "output_type": "execute_result"
    },
    {
     "data": {
      "image/png": "[encoded data removed]",
      "text/plain": [
       "<Figure size 432x288 with 1 Axes>"
      ]
     },
     "metadata": {
      "needs_background": "light"
     },
     "output_type": "display_data"
    }
   ],
   "source": [
    "X_embedded = TSNE(n_components=2, init='random').fit_transform(X)\n",
    "\n",
    "df = pd.DataFrame(np.concatenate((X_embedded[:,:2],lab.reshape(-1,1)),axis=-1), columns=[\"x\", \"y\",\"z\"])\n",
    "df[\"z\"]=df[\"z\"].astype(\"int\").astype(\"str\")\n",
    "sns.scatterplot(data=df,x=\"x\",y=\"y\",hue=\"z\", legend=None)"
   ]
  },
  {
   "cell_type": "code",
   "execution_count": null,
   "metadata": {},
   "outputs": [],
   "source": []
  },
  {
   "cell_type": "code",
   "execution_count": null,
   "metadata": {},
   "outputs": [],
   "source": []
  },
  {
   "cell_type": "code",
   "execution_count": null,
   "metadata": {},
   "outputs": [],
   "source": []
  },
  {
   "cell_type": "code",
   "execution_count": null,
   "metadata": {},
   "outputs": [],
   "source": []
  },
  {
   "cell_type": "code",
   "execution_count": null,
   "metadata": {},
   "outputs": [],
   "source": []
  },
  {
   "cell_type": "code",
   "execution_count": null,
   "metadata": {},
   "outputs": [],
   "source": []
  },
  {
   "cell_type": "code",
   "execution_count": 401,
   "metadata": {},
   "outputs": [],
   "source": [
    "X=env.pca_list[100]"
   ]
  },
  {
   "cell_type": "code",
   "execution_count": 403,
   "metadata": {},
   "outputs": [],
   "source": [
    "estimator=env.image_seg"
   ]
  },
  {
   "cell_type": "code",
   "execution_count": 404,
   "metadata": {},
   "outputs": [
    {
     "data": {
      "text/plain": [
       "[array([4, 4, 2, 2, 6, 0]),\n",
       " array([0, 0, 0, 0, 0, 0]),\n",
       " array([0, 0, 0, 7, 7, 7]),\n",
       " array([7, 7, 7, 7, 7, 7]),\n",
       " array([7])]"
      ]
     },
     "execution_count": 404,
     "metadata": {},
     "output_type": "execute_result"
    }
   ],
   "source": [
    "from sklearn.utils import gen_batches\n",
    "from joblib import Parallel, delayed\n",
    "\n",
    "n_jobs = 4\n",
    "n_samples, n_features = X.shape\n",
    "batch_size = n_samples//n_jobs\n",
    "\n",
    "def _predict(method, X, sl):\n",
    "    return method(X[sl])\n",
    "\n",
    "Parallel(n_jobs)(delayed(_predict)(estimator.predict, X, sl)\n",
    "                 for sl in gen_batches(n_samples, batch_size))"
   ]
  },
  {
   "cell_type": "code",
   "execution_count": 407,
   "metadata": {},
   "outputs": [
    {
     "name": "stdout",
     "output_type": "stream",
     "text": [
      "10.4 ms ± 110 µs per loop (mean ± std. dev. of 7 runs, 100 loops each)\n"
     ]
    }
   ],
   "source": [
    "%timeit Parallel(n_jobs)(delayed(_predict)(estimator.predict, X, sl) for sl in gen_batches(n_samples, batch_size))"
   ]
  },
  {
   "cell_type": "code",
   "execution_count": 409,
   "metadata": {},
   "outputs": [
    {
     "name": "stdout",
     "output_type": "stream",
     "text": [
      "5.06 ms ± 192 µs per loop (mean ± std. dev. of 7 runs, 100 loops each)\n"
     ]
    }
   ],
   "source": [
    "%timeit env.step(0)"
   ]
  },
  {
   "cell_type": "code",
   "execution_count": 410,
   "metadata": {},
   "outputs": [
    {
     "name": "stdout",
     "output_type": "stream",
     "text": [
      "4.06 ms ± 20.2 µs per loop (mean ± std. dev. of 7 runs, 100 loops each)\n"
     ]
    }
   ],
   "source": [
    "%timeit env.preprocess_state(test)"
   ]
  },
  {
   "cell_type": "code",
   "execution_count": null,
   "metadata": {},
   "outputs": [],
   "source": []
  },
  {
   "cell_type": "code",
   "execution_count": 284,
   "metadata": {},
   "outputs": [],
   "source": [
    "def pred_core():\n",
    "    n_cores = 3\n",
    "    parallel = Parallel(n_jobs=n_cores)\n",
    "    results = parallel(delayed(clf.predict)(to_be_predicted[i].reshape(-1,3))\n",
    "        for i in range(n_cores))\n",
    "\n",
    "    return np.vstack(results).flatten()"
   ]
  },
  {
   "cell_type": "code",
   "execution_count": 286,
   "metadata": {},
   "outputs": [
    {
     "name": "stdout",
     "output_type": "stream",
     "text": [
      "CPU times: user 1.94 ms, sys: 18 µs, total: 1.96 ms\n",
      "Wall time: 1.71 ms\n"
     ]
    },
    {
     "data": {
      "text/plain": [
       "array([0, 0, 0])"
      ]
     },
     "execution_count": 286,
     "metadata": {},
     "output_type": "execute_result"
    }
   ],
   "source": [
    "%time clf.predict(to_be_predicted)"
   ]
  },
  {
   "cell_type": "code",
   "execution_count": 300,
   "metadata": {},
   "outputs": [
    {
     "name": "stdout",
     "output_type": "stream",
     "text": [
      "CPU times: user 8.06 ms, sys: 4.04 ms, total: 12.1 ms\n",
      "Wall time: 10.6 ms\n"
     ]
    },
    {
     "data": {
      "text/plain": [
       "array([0, 0, 0])"
      ]
     },
     "execution_count": 300,
     "metadata": {},
     "output_type": "execute_result"
    }
   ],
   "source": [
    "%time pred_core()"
   ]
  },
  {
   "cell_type": "code",
   "execution_count": 378,
   "metadata": {},
   "outputs": [
    {
     "name": "stdout",
     "output_type": "stream",
     "text": [
      "CPU times: user 10.7 ms, sys: 0 ns, total: 10.7 ms\n",
      "Wall time: 10.5 ms\n"
     ]
    },
    {
     "data": {
      "text/plain": [
       "array([0., 0., 0., ..., 0., 0., 0.])"
      ]
     },
     "execution_count": 378,
     "metadata": {},
     "output_type": "execute_result"
    }
   ],
   "source": [
    "%time env.reset()"
   ]
  },
  {
   "cell_type": "code",
   "execution_count": 379,
   "metadata": {},
   "outputs": [
    {
     "name": "stdout",
     "output_type": "stream",
     "text": [
      "CPU times: user 9.7 ms, sys: 15 µs, total: 9.71 ms\n",
      "Wall time: 8.42 ms\n"
     ]
    },
    {
     "data": {
      "text/plain": [
       "(array([0.        , 0.        , 0.        , ..., 0.39266775, 0.39266775,\n",
       "        0.18517829]),\n",
       " 0.0,\n",
       " False,\n",
       " {'lives': 0, 'episode_frame_number': 4, 'frame_number': 6220})"
      ]
     },
     "execution_count": 379,
     "metadata": {},
     "output_type": "execute_result"
    }
   ],
   "source": [
    "%time env.step(0)"
   ]
  },
  {
   "cell_type": "code",
   "execution_count": 414,
   "metadata": {},
   "outputs": [
    {
     "data": {
      "text/plain": [
       "0.9909245415086192"
      ]
     },
     "execution_count": 414,
     "metadata": {},
     "output_type": "execute_result"
    }
   ],
   "source": [
    "env.pca_obj.explained_variance_ratio_.sum()"
   ]
  },
  {
   "cell_type": "code",
   "execution_count": 415,
   "metadata": {},
   "outputs": [],
   "source": [
    "centers=env.pca_obj.inverse_transform(env.image_seg.subcluster_centers_).reshape(env.image_seg.subcluster_centers_.shape[0],10,8,1)"
   ]
  },
  {
   "cell_type": "code",
   "execution_count": 416,
   "metadata": {},
   "outputs": [],
   "source": [
    "centers=centers[np.argsort(env.image_seg.subcluster_labels_)]"
   ]
  },
  {
   "cell_type": "code",
   "execution_count": 417,
   "metadata": {},
   "outputs": [
    {
     "data": {
      "text/plain": [
       "0.9909245415086192"
      ]
     },
     "execution_count": 417,
     "metadata": {},
     "output_type": "execute_result"
    }
   ],
   "source": [
    "env.pca_obj.explained_variance_ratio_.sum()"
   ]
  },
  {
   "cell_type": "code",
   "execution_count": 418,
   "metadata": {},
   "outputs": [],
   "source": [
    "labels_s=np.sort(env.image_seg.subcluster_labels_)"
   ]
  },
  {
   "cell_type": "code",
   "execution_count": 419,
   "metadata": {},
   "outputs": [
    {
     "data": {
      "text/plain": [
       "(8, 10, 8, 1)"
      ]
     },
     "execution_count": 419,
     "metadata": {},
     "output_type": "execute_result"
    }
   ],
   "source": [
    "centers.shape"
   ]
  },
  {
   "cell_type": "code",
   "execution_count": 420,
   "metadata": {},
   "outputs": [
    {
     "data": {
      "text/plain": [
       "array([0, 1, 2, 3, 4, 5, 6, 7])"
      ]
     },
     "execution_count": 420,
     "metadata": {},
     "output_type": "execute_result"
    }
   ],
   "source": [
    "labels_s"
   ]
  },
  {
   "cell_type": "code",
   "execution_count": 421,
   "metadata": {},
   "outputs": [
    {
     "data": {
      "image/png": "[encoded data removed]",
      "text/plain": [
       "<Figure size 864x864 with 8 Axes>"
      ]
     },
     "metadata": {
      "needs_background": "light"
     },
     "output_type": "display_data"
    }
   ],
   "source": [
    "size=4\n",
    "i=1\n",
    "fig = plt.figure(figsize=(12,12))\n",
    "for i in range(centers.shape[0]):\n",
    "    fig.add_subplot(4, 6,i+1)\n",
    "    plt.imshow(centers[i])\n",
    "    plt.title(\"Cluster: \"+str(labels_s[i]))\n",
    "#     for k in range(4):\n",
    "#         plt.title(\"Cluster: \"+str(label))\n",
    "#         fig.add_subplot(size, size,i)\n",
    "#         plt.imshow(ob)\n",
    "#         i+=1\n",
    "plt.savefig('Pong_clusters.png')"
   ]
  },
  {
   "cell_type": "code",
   "execution_count": null,
   "metadata": {},
   "outputs": [],
   "source": []
  },
  {
   "cell_type": "code",
   "execution_count": 422,
   "metadata": {},
   "outputs": [],
   "source": [
    "class PongRamEnvironment(gym.Wrapper):\n",
    "\n",
    "    def __init__(self, env):\n",
    "        gym.Wrapper.__init__(self, env)\n",
    "        self.repeat_action=4\n",
    "        self.last_state=np.zeros(4)\n",
    "        self.observation_space = gym.spaces.Box(low=-2.0, high=2.0, shape=(8,), dtype=np.float32)\n",
    "        self.action_space=spaces.Discrete(2)\n",
    "        \n",
    "    def preprocess_state(self, state):\n",
    "        #cpu_score = ram[13]  # computer/ai opponent score \n",
    "        #player_score = ram[14]  # your score\n",
    "        cpu_paddle_y = state[21]  # Y coordinate of computer paddle\n",
    "        player_paddle_y = state[51]  # Y coordinate of your paddle\n",
    "        ball_x = state[49]  # X coordinate of ball\n",
    "        ball_y = state[54]  # Y coordinate of ball\n",
    "        obs = np.array([cpu_paddle_y, player_paddle_y, ball_x, ball_y], dtype=np.float32)/255.0\n",
    "        return obs\n",
    "\n",
    "\n",
    "    def reset(self, **kwargs):\n",
    "        self.env.reset(**kwargs)\n",
    "        state = np.zeros((2,4))\n",
    "        self.last_state=np.zeros(4)\n",
    "        return state.reshape(-1)\n",
    "\n",
    "    def step(self, actions):\n",
    "        \n",
    "        #actions mapped\n",
    "        actions={0:2,1:3}[actions]\n",
    "        total_reward=0\n",
    "        next_state=np.zeros((2,4))\n",
    "        for i in range(self.repeat_action):\n",
    "            state, reward, terminal, info = self.env.step(actions)\n",
    "            total_reward += reward\n",
    "            if terminal:\n",
    "                break\n",
    "        \n",
    "        state=self.preprocess_state(state)\n",
    "        next_state[0,:] = state\n",
    "        next_state[1,:] = state-self.last_state\n",
    "        self.last_state=state\n",
    "        \n",
    "        return next_state.reshape(-1), total_reward, terminal, info"
   ]
  },
  {
   "cell_type": "code",
   "execution_count": 228,
   "metadata": {},
   "outputs": [],
   "source": [
    "class ActionWrapper(gym.ActionWrapper):\n",
    "    def __init__(self, env):\n",
    "        super().__init__(env)\n",
    "        self.action_space=spaces.Discrete(2)\n",
    "    \n",
    "    def action(self, act):\n",
    "        act={0:2,1:3,2:2}[act]\n",
    "        return act"
   ]
  },
  {
   "cell_type": "code",
   "execution_count": 229,
   "metadata": {},
   "outputs": [],
   "source": [
    "env_id = \"PongNoFrameskip-v4\"\n",
    "env    = make_atari(env_id)\n",
    "env    = ActionWrapper(env)\n",
    "env    = wrap_deepmind(env)\n",
    "env    = wrap_pytorch(env)"
   ]
  },
  {
   "cell_type": "code",
   "execution_count": 47,
   "metadata": {},
   "outputs": [],
   "source": [
    "env=gym.make('Pong-ramNoFrameskip-v4')\n",
    "\n",
    "env=PongRamEnvironment(env)"
   ]
  },
  {
   "cell_type": "code",
   "execution_count": 423,
   "metadata": {},
   "outputs": [],
   "source": [
    "class CnnDQN(nn.Module):\n",
    "    def __init__(self, input_shape, num_actions):\n",
    "        super(CnnDQN, self).__init__()\n",
    "        \n",
    "        self.input_shape = input_shape\n",
    "        self.num_actions = num_actions\n",
    "        \n",
    "        self.features = nn.Sequential(\n",
    "            nn.Conv2d(input_shape[0], 32, kernel_size=8, stride=4),\n",
    "            nn.ReLU(),\n",
    "            nn.Conv2d(32, 64, kernel_size=4, stride=2),\n",
    "            nn.ReLU(),\n",
    "            nn.Conv2d(64, 64, kernel_size=3, stride=1),\n",
    "            nn.ReLU()\n",
    "        )\n",
    "        \n",
    "        self.fc = nn.Sequential(\n",
    "            nn.Linear(self.feature_size(), 256),\n",
    "            nn.ReLU(),\n",
    "            nn.Linear(256, self.num_actions)\n",
    "        )\n",
    "        \n",
    "    def forward(self, x):\n",
    "        x = self.features(x)\n",
    "        x = x.view(x.size(0), -1)\n",
    "        x = self.fc(x)\n",
    "        return x\n",
    "    \n",
    "    def feature_size(self):\n",
    "        return self.features(autograd.Variable(torch.zeros(1, *self.input_shape))).view(1, -1).size(1)\n",
    "    \n",
    "    def act(self, state, epsilon):\n",
    "        if random.random() > epsilon:\n",
    "            with torch.no_grad():\n",
    "                state   = Variable(torch.FloatTensor(np.float32(state)).unsqueeze(0))\n",
    "                \n",
    "            q_value = self.forward(state)\n",
    "            action  = q_value.max(1)[1].item()\n",
    "        else:\n",
    "            action = random.randrange(env.action_space.n)\n",
    "        return action"
   ]
  },
  {
   "cell_type": "code",
   "execution_count": 356,
   "metadata": {},
   "outputs": [],
   "source": [
    "model = DQN(env.observation_space.shape, env.action_space.n)\n",
    "\n",
    "if USE_CUDA:\n",
    "    model = model.cuda()\n",
    "    \n",
    "optimizer = optim.Adam(model.parameters(), lr=0.00001)\n",
    "\n",
    "replay_initial = 10000\n",
    "replay_buffer = ReplayBuffer(100000)"
   ]
  },
  {
   "cell_type": "code",
   "execution_count": 357,
   "metadata": {},
   "outputs": [
    {
     "data": {
      "text/plain": [
       "DQN(\n",
       "  (layers): Sequential(\n",
       "    (0): Linear(in_features=256, out_features=256, bias=True)\n",
       "    (1): ReLU()\n",
       "    (2): Linear(in_features=256, out_features=3, bias=True)\n",
       "  )\n",
       ")"
      ]
     },
     "execution_count": 357,
     "metadata": {},
     "output_type": "execute_result"
    }
   ],
   "source": [
    "model"
   ]
  },
  {
   "cell_type": "code",
   "execution_count": 358,
   "metadata": {},
   "outputs": [],
   "source": [
    "epsilon_start = 1.0\n",
    "epsilon_final = 0.01\n",
    "epsilon_decay = 30000\n",
    "\n",
    "epsilon_by_frame = lambda frame_idx: epsilon_final + (epsilon_start - epsilon_final) * math.exp(-1. * frame_idx / epsilon_decay)"
   ]
  },
  {
   "cell_type": "code",
   "execution_count": 359,
   "metadata": {},
   "outputs": [
    {
     "data": {
      "text/plain": [
       "[<matplotlib.lines.Line2D at 0x7fcaaedc4550>]"
      ]
     },
     "execution_count": 359,
     "metadata": {},
     "output_type": "execute_result"
    },
    {
     "data": {
      "image/png": "[encoded data removed]",
      "text/plain": [
       "<Figure size 432x288 with 1 Axes>"
      ]
     },
     "metadata": {
      "needs_background": "light"
     },
     "output_type": "display_data"
    }
   ],
   "source": [
    "plt.plot([epsilon_by_frame(i) for i in range(1000000)])"
   ]
  },
  {
   "cell_type": "code",
   "execution_count": 360,
   "metadata": {},
   "outputs": [],
   "source": [
    "import datetime"
   ]
  },
  {
   "cell_type": "code",
   "execution_count": 361,
   "metadata": {},
   "outputs": [
    {
     "data": {
      "image/png": "[encoded data removed]",
      "text/plain": [
       "<Figure size 1440x360 with 2 Axes>"
      ]
     },
     "metadata": {
      "needs_background": "light"
     },
     "output_type": "display_data"
    },
    {
     "name": "stdout",
     "output_type": "stream",
     "text": [
      "36.79151837768535 frames per sec\n"
     ]
    },
    {
     "ename": "RuntimeError",
     "evalue": "CUDA error: unspecified launch failure\nCUDA kernel errors might be asynchronously reported at some other API call,so the stacktrace below might be incorrect.\nFor debugging consider passing CUDA_LAUNCH_BLOCKING=1.",
     "output_type": "error",
     "traceback": [
      "\u001b[0;31m---------------------------------------------------------------------------\u001b[0m",
      "\u001b[0;31mRuntimeError\u001b[0m                              Traceback (most recent call last)",
      "Input \u001b[0;32mIn [361]\u001b[0m, in \u001b[0;36m<cell line: 11>\u001b[0;34m()\u001b[0m\n\u001b[1;32m     24\u001b[0m     episode_reward \u001b[38;5;241m=\u001b[39m \u001b[38;5;241m0\u001b[39m\n\u001b[1;32m     26\u001b[0m \u001b[38;5;28;01mif\u001b[39;00m \u001b[38;5;28mlen\u001b[39m(replay_buffer) \u001b[38;5;241m>\u001b[39m replay_initial:\n\u001b[0;32m---> 27\u001b[0m     loss \u001b[38;5;241m=\u001b[39m \u001b[43mcompute_td_loss\u001b[49m\u001b[43m(\u001b[49m\u001b[43mbatch_size\u001b[49m\u001b[43m)\u001b[49m\n\u001b[1;32m     28\u001b[0m     losses\u001b[38;5;241m.\u001b[39mappend(loss\u001b[38;5;241m.\u001b[39mitem())\n\u001b[1;32m     30\u001b[0m \u001b[38;5;28;01mif\u001b[39;00m frame_idx \u001b[38;5;241m%\u001b[39m \u001b[38;5;241m10000\u001b[39m \u001b[38;5;241m==\u001b[39m \u001b[38;5;241m0\u001b[39m:\n",
      "Input \u001b[0;32mIn [26]\u001b[0m, in \u001b[0;36mcompute_td_loss\u001b[0;34m(batch_size)\u001b[0m\n\u001b[1;32m      1\u001b[0m \u001b[38;5;28;01mdef\u001b[39;00m \u001b[38;5;21mcompute_td_loss\u001b[39m(batch_size):\n\u001b[1;32m      2\u001b[0m     state, action, reward, next_state, done \u001b[38;5;241m=\u001b[39m replay_buffer\u001b[38;5;241m.\u001b[39msample(batch_size)\n\u001b[0;32m----> 4\u001b[0m     state      \u001b[38;5;241m=\u001b[39m \u001b[43mVariable\u001b[49m\u001b[43m(\u001b[49m\u001b[43mtorch\u001b[49m\u001b[38;5;241;43m.\u001b[39;49m\u001b[43mFloatTensor\u001b[49m\u001b[43m(\u001b[49m\u001b[43mnp\u001b[49m\u001b[38;5;241;43m.\u001b[39;49m\u001b[43mfloat32\u001b[49m\u001b[43m(\u001b[49m\u001b[43mstate\u001b[49m\u001b[43m)\u001b[49m\u001b[43m)\u001b[49m\u001b[43m)\u001b[49m\n\u001b[1;32m      6\u001b[0m     \u001b[38;5;28;01mwith\u001b[39;00m torch\u001b[38;5;241m.\u001b[39mno_grad():\n\u001b[1;32m      7\u001b[0m         next_state \u001b[38;5;241m=\u001b[39m Variable(torch\u001b[38;5;241m.\u001b[39mFloatTensor(np\u001b[38;5;241m.\u001b[39mfloat32(next_state)))\n",
      "Input \u001b[0;32mIn [23]\u001b[0m, in \u001b[0;36m<lambda>\u001b[0;34m(*args, **kwargs)\u001b[0m\n\u001b[1;32m      1\u001b[0m USE_CUDA \u001b[38;5;241m=\u001b[39m torch\u001b[38;5;241m.\u001b[39mcuda\u001b[38;5;241m.\u001b[39mis_available()\n\u001b[0;32m----> 2\u001b[0m Variable \u001b[38;5;241m=\u001b[39m \u001b[38;5;28;01mlambda\u001b[39;00m \u001b[38;5;241m*\u001b[39margs, \u001b[38;5;241m*\u001b[39m\u001b[38;5;241m*\u001b[39mkwargs: \u001b[43mautograd\u001b[49m\u001b[38;5;241;43m.\u001b[39;49m\u001b[43mVariable\u001b[49m\u001b[43m(\u001b[49m\u001b[38;5;241;43m*\u001b[39;49m\u001b[43margs\u001b[49m\u001b[43m,\u001b[49m\u001b[43m \u001b[49m\u001b[38;5;241;43m*\u001b[39;49m\u001b[38;5;241;43m*\u001b[39;49m\u001b[43mkwargs\u001b[49m\u001b[43m)\u001b[49m\u001b[38;5;241;43m.\u001b[39;49m\u001b[43mcuda\u001b[49m\u001b[43m(\u001b[49m\u001b[43m)\u001b[49m \u001b[38;5;28;01mif\u001b[39;00m USE_CUDA \u001b[38;5;28;01melse\u001b[39;00m autograd\u001b[38;5;241m.\u001b[39mVariable(\u001b[38;5;241m*\u001b[39margs, \u001b[38;5;241m*\u001b[39m\u001b[38;5;241m*\u001b[39mkwargs)\n",
      "\u001b[0;31mRuntimeError\u001b[0m: CUDA error: unspecified launch failure\nCUDA kernel errors might be asynchronously reported at some other API call,so the stacktrace below might be incorrect.\nFor debugging consider passing CUDA_LAUNCH_BLOCKING=1."
     ]
    }
   ],
   "source": [
    "num_frames = 1400000\n",
    "batch_size = 32\n",
    "gamma      = 0.99\n",
    "\n",
    "losses = []\n",
    "all_rewards = []\n",
    "episode_reward = 0\n",
    "tic = datetime.datetime.now()\n",
    "\n",
    "state = env.reset()\n",
    "for frame_idx in range(1, num_frames + 1):\n",
    "    epsilon = epsilon_by_frame(frame_idx)\n",
    "    action = model.act(state, epsilon)\n",
    "    \n",
    "    next_state, reward, done, _ = env.step(action)\n",
    "    replay_buffer.push(state, action, reward, next_state, done)\n",
    "    \n",
    "    state = next_state\n",
    "    episode_reward += reward\n",
    "    \n",
    "    if done:\n",
    "        state = env.reset()\n",
    "        all_rewards.append(episode_reward)\n",
    "        episode_reward = 0\n",
    "        \n",
    "    if len(replay_buffer) > replay_initial:\n",
    "        loss = compute_td_loss(batch_size)\n",
    "        losses.append(loss.item())\n",
    "        \n",
    "    if frame_idx % 10000 == 0:\n",
    "        plot(frame_idx, all_rewards, losses)\n",
    "        tac = datetime.datetime.now()\n",
    "        print(str(10000/(tac-tic).total_seconds())+\" frames per sec\")\n",
    "        tic = tac"
   ]
  },
  {
   "cell_type": "code",
   "execution_count": 373,
   "metadata": {},
   "outputs": [
    {
     "ename": "RuntimeError",
     "evalue": "CUDA error: unspecified launch failure\nCUDA kernel errors might be asynchronously reported at some other API call,so the stacktrace below might be incorrect.\nFor debugging consider passing CUDA_LAUNCH_BLOCKING=1.",
     "output_type": "error",
     "traceback": [
      "\u001b[0;31m---------------------------------------------------------------------------\u001b[0m",
      "\u001b[0;31mRuntimeError\u001b[0m                              Traceback (most recent call last)",
      "Input \u001b[0;32mIn [373]\u001b[0m, in \u001b[0;36m<cell line: 1>\u001b[0;34m()\u001b[0m\n\u001b[0;32m----> 1\u001b[0m \u001b[43mtorch\u001b[49m\u001b[38;5;241;43m.\u001b[39;49m\u001b[43msave\u001b[49m\u001b[43m(\u001b[49m\u001b[43mmodel\u001b[49m\u001b[43m,\u001b[49m\u001b[43m \u001b[49m\u001b[38;5;124;43m\"\u001b[39;49m\u001b[38;5;124;43mmodel/my_model.pt\u001b[39;49m\u001b[38;5;124;43m\"\u001b[39;49m\u001b[43m)\u001b[49m\n",
      "File \u001b[0;32m~/anaconda3/envs/master/lib/python3.9/site-packages/torch/serialization.py:380\u001b[0m, in \u001b[0;36msave\u001b[0;34m(obj, f, pickle_module, pickle_protocol, _use_new_zipfile_serialization)\u001b[0m\n\u001b[1;32m    378\u001b[0m \u001b[38;5;28;01mif\u001b[39;00m _use_new_zipfile_serialization:\n\u001b[1;32m    379\u001b[0m     \u001b[38;5;28;01mwith\u001b[39;00m _open_zipfile_writer(opened_file) \u001b[38;5;28;01mas\u001b[39;00m opened_zipfile:\n\u001b[0;32m--> 380\u001b[0m         \u001b[43m_save\u001b[49m\u001b[43m(\u001b[49m\u001b[43mobj\u001b[49m\u001b[43m,\u001b[49m\u001b[43m \u001b[49m\u001b[43mopened_zipfile\u001b[49m\u001b[43m,\u001b[49m\u001b[43m \u001b[49m\u001b[43mpickle_module\u001b[49m\u001b[43m,\u001b[49m\u001b[43m \u001b[49m\u001b[43mpickle_protocol\u001b[49m\u001b[43m)\u001b[49m\n\u001b[1;32m    381\u001b[0m         \u001b[38;5;28;01mreturn\u001b[39;00m\n\u001b[1;32m    382\u001b[0m _legacy_save(obj, opened_file, pickle_module, pickle_protocol)\n",
      "File \u001b[0;32m~/anaconda3/envs/master/lib/python3.9/site-packages/torch/serialization.py:601\u001b[0m, in \u001b[0;36m_save\u001b[0;34m(obj, zip_file, pickle_module, pickle_protocol)\u001b[0m\n\u001b[1;32m    597\u001b[0m \u001b[38;5;66;03m# given that we copy things around anyway, we might use storage.cpu()\u001b[39;00m\n\u001b[1;32m    598\u001b[0m \u001b[38;5;66;03m# this means to that to get tensors serialized, you need to implement\u001b[39;00m\n\u001b[1;32m    599\u001b[0m \u001b[38;5;66;03m# .cpu() on the underlying Storage\u001b[39;00m\n\u001b[1;32m    600\u001b[0m \u001b[38;5;28;01mif\u001b[39;00m storage\u001b[38;5;241m.\u001b[39mdevice\u001b[38;5;241m.\u001b[39mtype \u001b[38;5;241m!=\u001b[39m \u001b[38;5;124m'\u001b[39m\u001b[38;5;124mcpu\u001b[39m\u001b[38;5;124m'\u001b[39m:\n\u001b[0;32m--> 601\u001b[0m     storage \u001b[38;5;241m=\u001b[39m \u001b[43mstorage\u001b[49m\u001b[38;5;241;43m.\u001b[39;49m\u001b[43mcpu\u001b[49m\u001b[43m(\u001b[49m\u001b[43m)\u001b[49m\n\u001b[1;32m    602\u001b[0m \u001b[38;5;66;03m# Now that it is on the CPU we can directly copy it into the zip file\u001b[39;00m\n\u001b[1;32m    603\u001b[0m num_bytes \u001b[38;5;241m=\u001b[39m storage\u001b[38;5;241m.\u001b[39mnbytes()\n",
      "File \u001b[0;32m~/anaconda3/envs/master/lib/python3.9/site-packages/torch/storage.py:83\u001b[0m, in \u001b[0;36m_StorageBase.cpu\u001b[0;34m(self)\u001b[0m\n\u001b[1;32m     81\u001b[0m \u001b[38;5;28;01mdef\u001b[39;00m \u001b[38;5;21mcpu\u001b[39m(\u001b[38;5;28mself\u001b[39m):\n\u001b[1;32m     82\u001b[0m     \u001b[38;5;124;03m\"\"\"Returns a CPU copy of this storage if it's not already on the CPU\"\"\"\u001b[39;00m\n\u001b[0;32m---> 83\u001b[0m     \u001b[38;5;28;01mreturn\u001b[39;00m \u001b[43m_type\u001b[49m\u001b[43m(\u001b[49m\u001b[38;5;28;43mself\u001b[39;49m\u001b[43m,\u001b[49m\u001b[43m \u001b[49m\u001b[38;5;28;43mgetattr\u001b[39;49m\u001b[43m(\u001b[49m\u001b[43mtorch\u001b[49m\u001b[43m,\u001b[49m\u001b[43m \u001b[49m\u001b[38;5;28;43mself\u001b[39;49m\u001b[38;5;241;43m.\u001b[39;49m\u001b[38;5;18;43m__class__\u001b[39;49m\u001b[38;5;241;43m.\u001b[39;49m\u001b[38;5;18;43m__name__\u001b[39;49m\u001b[43m)\u001b[49m\u001b[43m)\u001b[49m\n",
      "File \u001b[0;32m~/anaconda3/envs/master/lib/python3.9/site-packages/torch/_utils.py:45\u001b[0m, in \u001b[0;36m_type\u001b[0;34m(self, dtype, non_blocking, **kwargs)\u001b[0m\n\u001b[1;32m     43\u001b[0m \u001b[38;5;28;01mif\u001b[39;00m dtype\u001b[38;5;241m.\u001b[39mis_sparse:\n\u001b[1;32m     44\u001b[0m     \u001b[38;5;28;01mraise\u001b[39;00m \u001b[38;5;167;01mRuntimeError\u001b[39;00m(\u001b[38;5;124m\"\u001b[39m\u001b[38;5;124mCannot cast dense tensor to sparse tensor\u001b[39m\u001b[38;5;124m\"\u001b[39m)\n\u001b[0;32m---> 45\u001b[0m \u001b[38;5;28;01mreturn\u001b[39;00m \u001b[43mdtype\u001b[49m\u001b[43m(\u001b[49m\u001b[38;5;28;43mself\u001b[39;49m\u001b[38;5;241;43m.\u001b[39;49m\u001b[43msize\u001b[49m\u001b[43m(\u001b[49m\u001b[43m)\u001b[49m\u001b[43m)\u001b[49m\u001b[38;5;241;43m.\u001b[39;49m\u001b[43mcopy_\u001b[49m\u001b[43m(\u001b[49m\u001b[38;5;28;43mself\u001b[39;49m\u001b[43m,\u001b[49m\u001b[43m \u001b[49m\u001b[43mnon_blocking\u001b[49m\u001b[43m)\u001b[49m\n",
      "\u001b[0;31mRuntimeError\u001b[0m: CUDA error: unspecified launch failure\nCUDA kernel errors might be asynchronously reported at some other API call,so the stacktrace below might be incorrect.\nFor debugging consider passing CUDA_LAUNCH_BLOCKING=1."
     ]
    }
   ],
   "source": [
    "torch.save(model, \"model/my_model.pt\")"
   ]
  },
  {
   "cell_type": "code",
   "execution_count": null,
   "metadata": {},
   "outputs": [],
   "source": [
    "model = torch.load(PATH)\n",
    "model.eval()"
   ]
  },
  {
   "cell_type": "code",
   "execution_count": 363,
   "metadata": {},
   "outputs": [],
   "source": [
    "def moving_average(x, w):\n",
    "    return np.convolve(x, np.ones(w), 'valid') / w"
   ]
  },
  {
   "cell_type": "code",
   "execution_count": 365,
   "metadata": {},
   "outputs": [],
   "source": [
    "a_r=moving_average(all_rewards,10)"
   ]
  },
  {
   "cell_type": "code",
   "execution_count": 366,
   "metadata": {},
   "outputs": [
    {
     "data": {
      "text/plain": [
       "[<matplotlib.lines.Line2D at 0x7fca60f36880>]"
      ]
     },
     "execution_count": 366,
     "metadata": {},
     "output_type": "execute_result"
    },
    {
     "data": {
      "image/png": "[encoded data removed]",
      "text/plain": [
       "<Figure size 432x288 with 1 Axes>"
      ]
     },
     "metadata": {
      "needs_background": "light"
     },
     "output_type": "display_data"
    }
   ],
   "source": [
    "plt.plot(a_r)"
   ]
  },
  {
   "cell_type": "code",
   "execution_count": 19,
   "metadata": {},
   "outputs": [],
   "source": [
    "def show_image(img):\n",
    "    fig, ax = plt.subplots(figsize=(10, 6))\n",
    "    ax.imshow(img)"
   ]
  },
  {
   "cell_type": "code",
   "execution_count": 371,
   "metadata": {},
   "outputs": [],
   "source": [
    "USE_CUDA=True"
   ]
  },
  {
   "cell_type": "code",
   "execution_count": 50,
   "metadata": {},
   "outputs": [
    {
     "data": {
      "image/png": "[encoded data removed]",
      "text/plain": [
       "<Figure size 720x432 with 1 Axes>"
      ]
     },
     "metadata": {
      "needs_background": "light"
     },
     "output_type": "display_data"
    }
   ],
   "source": [
    "show_image(state_list[1])"
   ]
  },
  {
   "cell_type": "code",
   "execution_count": 368,
   "metadata": {},
   "outputs": [],
   "source": [
    "env.keep_state_list=True"
   ]
  },
  {
   "cell_type": "code",
   "execution_count": 369,
   "metadata": {},
   "outputs": [],
   "source": [
    "env.state_list=[]"
   ]
  },
  {
   "cell_type": "code",
   "execution_count": 372,
   "metadata": {},
   "outputs": [
    {
     "ename": "RuntimeError",
     "evalue": "CUDA error: unspecified launch failure\nCUDA kernel errors might be asynchronously reported at some other API call,so the stacktrace below might be incorrect.\nFor debugging consider passing CUDA_LAUNCH_BLOCKING=1.",
     "output_type": "error",
     "traceback": [
      "\u001b[0;31m---------------------------------------------------------------------------\u001b[0m",
      "\u001b[0;31mRuntimeError\u001b[0m                              Traceback (most recent call last)",
      "Input \u001b[0;32mIn [372]\u001b[0m, in \u001b[0;36m<cell line: 4>\u001b[0;34m()\u001b[0m\n\u001b[1;32m      4\u001b[0m \u001b[38;5;28;01mfor\u001b[39;00m frame_idx \u001b[38;5;129;01min\u001b[39;00m \u001b[38;5;28mrange\u001b[39m(\u001b[38;5;241m1\u001b[39m, \u001b[38;5;241m10000\u001b[39m):\n\u001b[1;32m      5\u001b[0m     epsilon \u001b[38;5;241m=\u001b[39m \u001b[38;5;241m0.01\u001b[39m\n\u001b[0;32m----> 6\u001b[0m     action \u001b[38;5;241m=\u001b[39m \u001b[43mmodel\u001b[49m\u001b[38;5;241;43m.\u001b[39;49m\u001b[43mact\u001b[49m\u001b[43m(\u001b[49m\u001b[43mstate\u001b[49m\u001b[43m,\u001b[49m\u001b[43m \u001b[49m\u001b[43mepsilon\u001b[49m\u001b[43m)\u001b[49m\n\u001b[1;32m      7\u001b[0m     next_state, reward, done, _ \u001b[38;5;241m=\u001b[39m env\u001b[38;5;241m.\u001b[39mstep(action)\n\u001b[1;32m      9\u001b[0m     state \u001b[38;5;241m=\u001b[39m next_state\n",
      "Input \u001b[0;32mIn [355]\u001b[0m, in \u001b[0;36mDQN.act\u001b[0;34m(self, state, epsilon)\u001b[0m\n\u001b[1;32m     15\u001b[0m \u001b[38;5;28;01mif\u001b[39;00m random\u001b[38;5;241m.\u001b[39mrandom() \u001b[38;5;241m>\u001b[39m epsilon:\n\u001b[1;32m     16\u001b[0m     \u001b[38;5;28;01mwith\u001b[39;00m torch\u001b[38;5;241m.\u001b[39mno_grad():\n\u001b[0;32m---> 17\u001b[0m         state   \u001b[38;5;241m=\u001b[39m \u001b[43mVariable\u001b[49m\u001b[43m(\u001b[49m\u001b[43mtorch\u001b[49m\u001b[38;5;241;43m.\u001b[39;49m\u001b[43mFloatTensor\u001b[49m\u001b[43m(\u001b[49m\u001b[43mstate\u001b[49m\u001b[43m)\u001b[49m\u001b[38;5;241;43m.\u001b[39;49m\u001b[43munsqueeze\u001b[49m\u001b[43m(\u001b[49m\u001b[38;5;241;43m0\u001b[39;49m\u001b[43m)\u001b[49m\u001b[43m)\u001b[49m\n\u001b[1;32m     19\u001b[0m     q_value \u001b[38;5;241m=\u001b[39m \u001b[38;5;28mself\u001b[39m\u001b[38;5;241m.\u001b[39mforward(state)\n\u001b[1;32m     20\u001b[0m     action  \u001b[38;5;241m=\u001b[39m q_value\u001b[38;5;241m.\u001b[39mmax(\u001b[38;5;241m1\u001b[39m)[\u001b[38;5;241m1\u001b[39m]\u001b[38;5;241m.\u001b[39mitem()\n",
      "Input \u001b[0;32mIn [23]\u001b[0m, in \u001b[0;36m<lambda>\u001b[0;34m(*args, **kwargs)\u001b[0m\n\u001b[1;32m      1\u001b[0m USE_CUDA \u001b[38;5;241m=\u001b[39m torch\u001b[38;5;241m.\u001b[39mcuda\u001b[38;5;241m.\u001b[39mis_available()\n\u001b[0;32m----> 2\u001b[0m Variable \u001b[38;5;241m=\u001b[39m \u001b[38;5;28;01mlambda\u001b[39;00m \u001b[38;5;241m*\u001b[39margs, \u001b[38;5;241m*\u001b[39m\u001b[38;5;241m*\u001b[39mkwargs: \u001b[43mautograd\u001b[49m\u001b[38;5;241;43m.\u001b[39;49m\u001b[43mVariable\u001b[49m\u001b[43m(\u001b[49m\u001b[38;5;241;43m*\u001b[39;49m\u001b[43margs\u001b[49m\u001b[43m,\u001b[49m\u001b[43m \u001b[49m\u001b[38;5;241;43m*\u001b[39;49m\u001b[38;5;241;43m*\u001b[39;49m\u001b[43mkwargs\u001b[49m\u001b[43m)\u001b[49m\u001b[38;5;241;43m.\u001b[39;49m\u001b[43mcuda\u001b[49m\u001b[43m(\u001b[49m\u001b[43m)\u001b[49m \u001b[38;5;28;01mif\u001b[39;00m USE_CUDA \u001b[38;5;28;01melse\u001b[39;00m autograd\u001b[38;5;241m.\u001b[39mVariable(\u001b[38;5;241m*\u001b[39margs, \u001b[38;5;241m*\u001b[39m\u001b[38;5;241m*\u001b[39mkwargs)\n",
      "\u001b[0;31mRuntimeError\u001b[0m: CUDA error: unspecified launch failure\nCUDA kernel errors might be asynchronously reported at some other API call,so the stacktrace below might be incorrect.\nFor debugging consider passing CUDA_LAUNCH_BLOCKING=1."
     ]
    }
   ],
   "source": [
    "state_list=[]\n",
    "state = env.reset()\n",
    "episode_reward=0\n",
    "for frame_idx in range(1, 10000):\n",
    "    epsilon = 0.01\n",
    "    action = model.act(state, epsilon)\n",
    "    next_state, reward, done, _ = env.step(action)\n",
    "    \n",
    "    state = next_state\n",
    "    episode_reward += reward\n",
    "    state_list.append(state)\n",
    "    if done:\n",
    "        state = env.reset()\n",
    "        break"
   ]
  },
  {
   "cell_type": "code",
   "execution_count": 449,
   "metadata": {},
   "outputs": [],
   "source": [
    "temp=np.array([state_list[i][0:1100].reshape(11,10,10)[0,:,:] for i in range(len(state_list))])"
   ]
  },
  {
   "cell_type": "code",
   "execution_count": 459,
   "metadata": {},
   "outputs": [
    {
     "data": {
      "text/plain": [
       "6698"
      ]
     },
     "execution_count": 459,
     "metadata": {},
     "output_type": "execute_result"
    }
   ],
   "source": [
    "len(state_list)"
   ]
  },
  {
   "cell_type": "code",
   "execution_count": 460,
   "metadata": {},
   "outputs": [
    {
     "data": {
      "text/plain": [
       "-9.0"
      ]
     },
     "execution_count": 460,
     "metadata": {},
     "output_type": "execute_result"
    }
   ],
   "source": [
    "episode_reward"
   ]
  },
  {
   "cell_type": "code",
   "execution_count": 59,
   "metadata": {},
   "outputs": [],
   "source": [
    "import cv2"
   ]
  },
  {
   "cell_type": "code",
   "execution_count": 458,
   "metadata": {},
   "outputs": [],
   "source": [
    "def make_video(States,name=\"test\",width=160,height=210,channel=3,fps=60):\n",
    "    fourcc = cv2.VideoWriter_fourcc(*'XVID') \n",
    "    video = cv2.VideoWriter(name+'.avi', fourcc, float(fps), (width,height), 1)\n",
    "\n",
    "    for i in range(States.shape[0]):\n",
    "        video.write(States[i])\n",
    "\n",
    "    video.release()"
   ]
  },
  {
   "cell_type": "code",
   "execution_count": 394,
   "metadata": {},
   "outputs": [],
   "source": [
    "from skimage.color import label2rgb, rgb2gray, gray2rgb"
   ]
  },
  {
   "cell_type": "code",
   "execution_count": 461,
   "metadata": {},
   "outputs": [],
   "source": [
    "make_video(np.array(env.state_list),name=\"torch4\",width=160,height=210)"
   ]
  },
  {
   "cell_type": "code",
   "execution_count": 41,
   "metadata": {},
   "outputs": [
    {
     "data": {
      "text/plain": [
       "(893, 1, 84, 84)"
      ]
     },
     "execution_count": 41,
     "metadata": {},
     "output_type": "execute_result"
    }
   ],
   "source": [
    "np.array(state_list).shape"
   ]
  },
  {
   "cell_type": "code",
   "execution_count": 85,
   "metadata": {},
   "outputs": [
    {
     "data": {
      "text/plain": [
       "array([[[ 52,  87,  87, ..., 236, 236, 236],\n",
       "        [ 52,  87,  87, ..., 236, 236, 236],\n",
       "        [ 52,  87,  87, ..., 236, 236, 236],\n",
       "        ...,\n",
       "        [ 87,  87,  87, ..., 236, 236, 236],\n",
       "        [ 87,  87,  87, ..., 236, 236, 236],\n",
       "        [ 87,  87,  87, ..., 236, 236, 236]],\n",
       "\n",
       "       [[ 52,  87,  87, ..., 236, 236, 236],\n",
       "        [ 52,  87,  87, ..., 236, 236, 236],\n",
       "        [ 52,  87,  87, ..., 236, 236, 236],\n",
       "        ...,\n",
       "        [ 87,  87,  87, ..., 236, 236, 236],\n",
       "        [ 87,  87,  87, ..., 236, 236, 236],\n",
       "        [ 87,  87,  87, ..., 236, 236, 236]],\n",
       "\n",
       "       [[ 52,  87,  87, ..., 236, 236, 236],\n",
       "        [ 52,  87,  87, ..., 236, 236, 236],\n",
       "        [ 52,  87,  87, ..., 236, 236, 236],\n",
       "        ...,\n",
       "        [ 87,  87,  87, ..., 236, 236, 236],\n",
       "        [ 87,  87,  87, ..., 236, 236, 236],\n",
       "        [ 87,  87,  87, ..., 236, 236, 236]],\n",
       "\n",
       "       ...,\n",
       "\n",
       "       [[ 52,  87,  87, ..., 236, 236, 236],\n",
       "        [ 52,  87,  87, ..., 236, 236, 236],\n",
       "        [ 52,  87,  87, ..., 236, 236, 236],\n",
       "        ...,\n",
       "        [ 87,  87,  87, ..., 236, 236, 236],\n",
       "        [ 87,  87,  87, ..., 236, 236, 236],\n",
       "        [ 87,  87,  87, ..., 236, 236, 236]],\n",
       "\n",
       "       [[ 52,  87,  87, ..., 236, 236, 236],\n",
       "        [ 52,  87,  87, ..., 236, 236, 236],\n",
       "        [ 52,  87,  87, ..., 236, 236, 236],\n",
       "        ...,\n",
       "        [ 87,  87,  87, ..., 236, 236, 236],\n",
       "        [ 87,  87,  87, ..., 236, 236, 236],\n",
       "        [ 87,  87,  87, ..., 236, 236, 236]],\n",
       "\n",
       "       [[ 52,  87,  87, ..., 236, 236, 236],\n",
       "        [ 52,  87,  87, ..., 236, 236, 236],\n",
       "        [ 52,  87,  87, ..., 236, 236, 236],\n",
       "        ...,\n",
       "        [ 87,  87,  87, ..., 236, 236, 236],\n",
       "        [ 87,  87,  87, ..., 236, 236, 236],\n",
       "        [ 87,  87,  87, ..., 236, 236, 236]]], dtype=uint8)"
      ]
     },
     "execution_count": 85,
     "metadata": {},
     "output_type": "execute_result"
    }
   ],
   "source": [
    "state_list"
   ]
  },
  {
   "cell_type": "code",
   "execution_count": 37,
   "metadata": {},
   "outputs": [],
   "source": [
    "temp=np.hstack((state_list,state_list,state_list))"
   ]
  },
  {
   "cell_type": "code",
   "execution_count": 38,
   "metadata": {},
   "outputs": [],
   "source": [
    "temp=temp.reshape(-1,84,84,3)"
   ]
  },
  {
   "cell_type": "code",
   "execution_count": 39,
   "metadata": {},
   "outputs": [],
   "source": [
    "make_video(temp,name=\"torch2\",width=84,height=84)"
   ]
  },
  {
   "cell_type": "code",
   "execution_count": 72,
   "metadata": {},
   "outputs": [
    {
     "data": {
      "text/plain": [
       "array([[ 52,  87,  87, ..., 236, 236, 236],\n",
       "       [ 52,  87,  87, ..., 236, 236, 236],\n",
       "       [ 52,  87,  87, ..., 236, 236, 236],\n",
       "       ...,\n",
       "       [ 87,  87,  87, ..., 236, 236, 236],\n",
       "       [ 87,  87,  87, ..., 236, 236, 236],\n",
       "       [ 87,  87,  87, ..., 236, 236, 236]], dtype=uint8)"
      ]
     },
     "execution_count": 72,
     "metadata": {},
     "output_type": "execute_result"
    }
   ],
   "source": [
    "state_list[5]"
   ]
  },
  {
   "cell_type": "code",
   "execution_count": 73,
   "metadata": {},
   "outputs": [
    {
     "data": {
      "text/plain": [
       "array([[ 52,  87,  87, ..., 236, 236, 236],\n",
       "       [ 52,  87,  87, ..., 236, 236, 236],\n",
       "       [ 52,  87,  87, ..., 236, 236, 236],\n",
       "       ...,\n",
       "       [ 87,  87,  87, ..., 236, 236, 236],\n",
       "       [ 87,  87,  87, ..., 236, 236, 236],\n",
       "       [ 87,  87,  87, ..., 236, 236, 236]], dtype=uint8)"
      ]
     },
     "execution_count": 73,
     "metadata": {},
     "output_type": "execute_result"
    }
   ],
   "source": [
    "state_list[5].sha"
   ]
  },
  {
   "cell_type": "code",
   "execution_count": null,
   "metadata": {},
   "outputs": [],
   "source": []
  }
 ],
 "metadata": {
  "kernelspec": {
   "display_name": "Python 3 (ipykernel)",
   "language": "python",
   "name": "python3"
  },
  "language_info": {
   "codemirror_mode": {
    "name": "ipython",
    "version": 3
   },
   "file_extension": ".py",
   "mimetype": "text/x-python",
   "name": "python",
   "nbconvert_exporter": "python",
   "pygments_lexer": "ipython3",
   "version": "3.9.7"
  }
 },
 "nbformat": 4,
 "nbformat_minor": 2
}
