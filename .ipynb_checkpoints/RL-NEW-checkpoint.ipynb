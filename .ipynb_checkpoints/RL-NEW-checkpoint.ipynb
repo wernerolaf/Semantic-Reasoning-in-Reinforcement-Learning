{
 "cells": [
  {
   "cell_type": "code",
   "execution_count": 1,
   "metadata": {},
   "outputs": [],
   "source": [
    "#RL\n",
    "from tensorforce import Runner\n",
    "from tensorforce import Environment\n",
    "from tensorforce import Agent\n",
    "from tensorforce.core.parameters import Linear\n",
    "#keras\n",
    "import tensorflow as tf\n",
    "#basic\n",
    "import numpy as np\n",
    "import pandas as pd\n",
    "#sklearn\n",
    "from sklearn.manifold import TSNE\n",
    "from sklearn.decomposition import IncrementalPCA\n",
    "from sklearn.cluster import KMeans\n",
    "from sklearn.cluster import Birch\n",
    "from sklearn import metrics\n",
    "from sklearn.metrics import mean_absolute_error\n",
    "from sklearn.metrics import balanced_accuracy_score\n",
    "#image processing\n",
    "from skimage.future import graph\n",
    "from skimage import data\n",
    "from skimage.filters import threshold_otsu\n",
    "from skimage.segmentation import clear_border\n",
    "from skimage.measure import label, regionprops\n",
    "from skimage.segmentation import felzenszwalb\n",
    "from skimage.morphology import closing, square\n",
    "from skimage.color import label2rgb, rgb2gray, gray2rgb\n",
    "from skimage.transform import resize\n",
    "from skimage.transform import rescale\n",
    "#visialization\n",
    "from PIL import Image\n",
    "import cv2\n",
    "import matplotlib.pyplot as plt\n",
    "import matplotlib.patches as mpatches\n",
    "import seaborn as sns\n",
    "sns.set_palette(\"Set2\")\n",
    "#skmultiflow\n",
    "from skmultiflow.trees import HoeffdingTreeClassifier\n",
    "from skmultiflow.trees import HoeffdingAdaptiveTreeClassifier\n",
    "from skmultiflow.rules import VeryFastDecisionRulesClassifier\n",
    "from skmultiflow.trees import ExtremelyFastDecisionTreeClassifier\n",
    "#scikit \n",
    "from scipy.spatial import distance_matrix\n",
    "from scipy.spatial import distance\n",
    "#graph\n",
    "import networkx as nx\n",
    "#ontology\n",
    "import owlready2 as owl\n",
    "#dunn index\n",
    "import dunn\n",
    "from sklearn.metrics.pairwise import euclidean_distances\n",
    "#other\n",
    "from itertools import count\n",
    "from joblib import dump, load\n",
    "\n",
    "import warnings\n",
    "warnings.filterwarnings(\"ignore\", category=UserWarning)"
   ]
  },
  {
   "cell_type": "code",
   "execution_count": 2,
   "metadata": {},
   "outputs": [],
   "source": [
    "#Linear(unit='episodes', num_steps=100000, initial_value=1.0, final_value=0.05,name=\"xd\")"
   ]
  },
  {
   "cell_type": "code",
   "execution_count": 3,
   "metadata": {},
   "outputs": [
    {
     "name": "stdout",
     "output_type": "stream",
     "text": [
      "2.8.0\n"
     ]
    }
   ],
   "source": [
    "print(tf.__version__)"
   ]
  },
  {
   "cell_type": "code",
   "execution_count": 4,
   "metadata": {},
   "outputs": [],
   "source": [
    "%load_ext tensorboard"
   ]
  },
  {
   "cell_type": "code",
   "execution_count": 5,
   "metadata": {},
   "outputs": [
    {
     "data": {
      "text/plain": [
       "[PhysicalDevice(name='/physical_device:CPU:0', device_type='CPU')]"
      ]
     },
     "execution_count": 5,
     "metadata": {},
     "output_type": "execute_result"
    }
   ],
   "source": [
    "tf.config.list_physical_devices()"
   ]
  },
  {
   "cell_type": "code",
   "execution_count": 47,
   "metadata": {},
   "outputs": [],
   "source": [
    "#%tensorboard --logdir summaries_ram/"
   ]
  },
  {
   "cell_type": "code",
   "execution_count": 7,
   "metadata": {},
   "outputs": [],
   "source": [
    "States=np.load(\"Pong_Example_Run.npy\")"
   ]
  },
  {
   "cell_type": "markdown",
   "metadata": {},
   "source": [
    "# help functions"
   ]
  },
  {
   "cell_type": "code",
   "execution_count": 8,
   "metadata": {},
   "outputs": [],
   "source": [
    "img=States[100]"
   ]
  },
  {
   "cell_type": "code",
   "execution_count": 9,
   "metadata": {},
   "outputs": [],
   "source": [
    "def show_image(img):\n",
    "    fig, ax = plt.subplots(figsize=(10, 6))\n",
    "    ax.imshow(img)"
   ]
  },
  {
   "cell_type": "code",
   "execution_count": 10,
   "metadata": {},
   "outputs": [],
   "source": [
    "def to_shape(a, shape, grayscale=True):\n",
    "    y_, x_ = shape\n",
    "    y, x = a.shape[0:2]\n",
    "    y_pad = (y_-y)\n",
    "    x_pad = (x_-x)\n",
    "    if grayscale:\n",
    "        return np.pad(a,((y_pad//2, y_pad//2 + y_pad%2), \n",
    "                         (x_pad//2, x_pad//2 + x_pad%2)\n",
    "                        ),\n",
    "                      mode = 'constant')\n",
    "    else:\n",
    "        return np.pad(a,((y_pad//2, y_pad//2 + y_pad%2), \n",
    "                         (x_pad//2, x_pad//2 + x_pad%2),\n",
    "                        (0,0)\n",
    "                        ),\n",
    "                      mode = 'constant')"
   ]
  },
  {
   "cell_type": "code",
   "execution_count": 11,
   "metadata": {},
   "outputs": [],
   "source": [
    "def make_video(States,name=\"test\",width=160,height=210,channel=3,fps=30):\n",
    "    fourcc = cv2.VideoWriter_fourcc(*'XVID') \n",
    "    video = cv2.VideoWriter(name+'.avi', fourcc, float(fps), (width,height))\n",
    "\n",
    "    for i in range(States.shape[0]):\n",
    "        video.write(States[i])\n",
    "\n",
    "    video.release()"
   ]
  },
  {
   "cell_type": "code",
   "execution_count": 12,
   "metadata": {},
   "outputs": [],
   "source": [
    "def visualize_objects(label_image,image):\n",
    "    # to make the background transparent, pass the value of `bg_label`,\n",
    "    # and leave `bg_color` as `None` and `kind` as `overlay`\n",
    "    image_label_overlay = label2rgb(label_image, image=image, bg_label=0)\n",
    "\n",
    "    fig, ax = plt.subplots(figsize=(10, 6))\n",
    "    ax.imshow(image_label_overlay)\n",
    "\n",
    "    for region in regionprops(label_image):\n",
    "        # take regions with large enough areas\n",
    "        if region.area >= 1:\n",
    "            # draw rectangle around segmented coins\n",
    "            minr, minc, maxr, maxc = region.bbox\n",
    "            rect = mpatches.Rectangle((minc-0.5, minr-0.5), maxc - minc, maxr - minr,\n",
    "                                      fill=False, edgecolor='red', linewidth=3)\n",
    "            ax.add_patch(rect)\n",
    "\n",
    "    ax.set_axis_off()\n",
    "    plt.tight_layout()\n",
    "    plt.show()"
   ]
  },
  {
   "cell_type": "code",
   "execution_count": 13,
   "metadata": {},
   "outputs": [],
   "source": [
    "def find_objects2(image):\n",
    "    img = rgb2gray(image)\n",
    "\n",
    "    # apply threshold\n",
    "    thresh = threshold_otsu(img)\n",
    "    reg = closing(img > thresh, square(2))\n",
    "\n",
    "    # label image regions\n",
    "    label_image = label(reg)\n",
    "    \n",
    "    return label_image"
   ]
  },
  {
   "cell_type": "code",
   "execution_count": 14,
   "metadata": {},
   "outputs": [],
   "source": [
    "def find_objects3(image):\n",
    "    img = rgb2gray(image)\n",
    "\n",
    "    # apply threshold\n",
    "    thresh = threshold_otsu(img)\n",
    "    #0.327\n",
    "    # label image regions\n",
    "    label_image = label(img > thresh)\n",
    "    \n",
    "    return label_image"
   ]
  },
  {
   "cell_type": "code",
   "execution_count": 15,
   "metadata": {},
   "outputs": [],
   "source": [
    "def find_objects(image):\n",
    "    img = rgb2gray(image)\n",
    "\n",
    "    # label image regions\n",
    "    label_image = label(img > 0.327)\n",
    "    \n",
    "    return label_image"
   ]
  },
  {
   "cell_type": "code",
   "execution_count": 16,
   "metadata": {},
   "outputs": [],
   "source": [
    "def find_cut_objects2(image,m_h,m_w,grayscale=True):\n",
    "    label_image=find_objects(image)\n",
    "    regions=regionprops(label_image)\n",
    "\n",
    "    i=len(regions)-1\n",
    "    for reg in regions:\n",
    "        i=i+1\n",
    "        minr, minc, maxr, maxc = reg.bbox\n",
    "        if int(np.ceil((maxc-minc)/m_w))!=1:\n",
    "            split_w=np.linspace(0,(maxc-minc),1+int(np.ceil((maxc-minc)/m_w))).astype(\"int\")\n",
    "            for y in range(int(np.ceil((maxc-minc)/m_w))):\n",
    "                i=i+1\n",
    "                label_image[reg.slice][:,split_w[y]:split_w[y+1]][reg.image[:,split_w[y]:split_w[y+1]]]=i\n",
    "    \n",
    "    regions=regionprops(label_image)\n",
    "    i=len(regions)-1\n",
    "    for reg in regions:\n",
    "        i=i+1\n",
    "        minr, minc, maxr, maxc = reg.bbox\n",
    "        if int(np.ceil((maxr-minr)/m_h))!=1:\n",
    "            split_h=np.linspace(0,(maxr-minr),1+int(np.ceil((maxr-minr)/m_h))).astype(\"int\")\n",
    "            for x in range(int(np.ceil((maxr-minr)/m_h))):\n",
    "                i=i+1\n",
    "                label_image[reg.slice][split_h[x]:split_h[x+1],:][reg.image[split_h[x]:split_h[x+1],:]]=i\n",
    "\n",
    "\n",
    "    regions=regionprops(label_image)\n",
    "    \n",
    "    if grayscale:\n",
    "        image=rgb2gray(image)\n",
    "    \n",
    "    objects=np.array([np.zeros((m_h,m_w)) for reg in regions])\n",
    "    for i in range(len(regions)):\n",
    "        x=regions[i].image.shape[0]\n",
    "        y=regions[i].image.shape[1]\n",
    "        objects[i,(m_h-x)//2:(m_h-x)//2+x,(m_w-y)//2:(m_w-y)//2+y]=image[regions[i].slice]\n",
    "    \n",
    "    \n",
    "    return label_image, objects, regions"
   ]
  },
  {
   "cell_type": "code",
   "execution_count": 17,
   "metadata": {},
   "outputs": [],
   "source": [
    "def find_cut_objects(image,m_h,m_w,grayscale=True):\n",
    "    label_image=find_objects(image)\n",
    "    regions=regionprops(label_image)\n",
    "    i=len(regions)-1\n",
    "    for reg in regions:\n",
    "        i=i+1\n",
    "        minr, minc, maxr, maxc = reg.bbox\n",
    "        if int(np.ceil((maxr-minr)/m_h))!=1 or int(np.ceil((maxc-minc)/m_w))!=1:\n",
    "            split_h=np.linspace(0,(maxr-minr),1+int(np.ceil((maxr-minr)/m_h))).astype(\"int\")\n",
    "            split_w=np.linspace(0,(maxc-minc),1+int(np.ceil((maxc-minc)/m_w))).astype(\"int\")\n",
    "            for x in range(int(np.ceil((maxr-minr)/m_h))):\n",
    "                for y in range(int(np.ceil((maxc-minc)/m_w))):\n",
    "                    i=i+1\n",
    "                    label_image[reg.slice][split_h[x]:split_h[x+1],split_w[y]:split_w[y+1]][reg.image[split_h[x]:split_h[x+1],split_w[y]:split_w[y+1]]]=i\n",
    "\n",
    "\n",
    "    regions=regionprops(label_image)\n",
    "    if grayscale:\n",
    "        image=rgb2gray(image)\n",
    "    \n",
    "    objects=np.array([np.zeros((m_h,m_w)) for reg in regions])\n",
    "    for i in range(len(regions)):\n",
    "        x=regions[i].image.shape[0]\n",
    "        y=regions[i].image.shape[1]\n",
    "        objects[i,(m_h-x)//2:(m_h-x)//2+x,(m_w-y)//2:(m_w-y)//2+y]=image[regions[i].slice]\n",
    "    \n",
    "    \n",
    "    return label_image, objects, regions"
   ]
  },
  {
   "cell_type": "code",
   "execution_count": 18,
   "metadata": {},
   "outputs": [],
   "source": [
    "def find_cut_objects3(image,m_h,m_w,grayscale=True):\n",
    "    label_image=find_objects(image)\n",
    "    regions=regionprops(label_image)\n",
    "    i=len(regions)-1\n",
    "    for reg in regions:\n",
    "        i=i+1\n",
    "        minr, minc, maxr, maxc = reg.bbox\n",
    "        if int(np.ceil((maxr-minr)/m_h))!=1:\n",
    "            split_h=np.linspace(0,(maxr-minr),1+int(np.ceil((maxr-minr)/m_h))).astype(\"int\")\n",
    "            for x in range(int(np.ceil((maxr-minr)/m_h))):\n",
    "                i=i+1\n",
    "                label_image[reg.slice][split_h[x]:split_h[x+1],:][reg.image[split_h[x]:split_h[x+1],:]]=i\n",
    "\n",
    "\n",
    "    regions=regionprops(label_image)\n",
    "    i=len(regions)-1\n",
    "    for reg in regions:\n",
    "        i=i+1\n",
    "        minr, minc, maxr, maxc = reg.bbox\n",
    "        if int(np.ceil((maxc-minc)/m_w))!=1:\n",
    "            split_w=np.linspace(0,(maxc-minc),1+int(np.ceil((maxc-minc)/m_w))).astype(\"int\")\n",
    "            for y in range(int(np.ceil((maxc-minc)/m_w))):\n",
    "                i=i+1\n",
    "                label_image[reg.slice][:,split_w[y]:split_w[y+1]][reg.image[:,split_w[y]:split_w[y+1]]]=i\n",
    "\n",
    "\n",
    "    regions=regionprops(label_image)\n",
    "    \n",
    "    if grayscale:\n",
    "        image=rgb2gray(image)\n",
    "    \n",
    "    objects=np.array([np.zeros((m_h,m_w)) for reg in regions])\n",
    "    for i in range(len(regions)):\n",
    "        x=regions[i].image.shape[0]\n",
    "        y=regions[i].image.shape[1]\n",
    "        objects[i,(m_h-x)//2:(m_h-x)//2+x,(m_w-y)//2:(m_w-y)//2+y]=image[regions[i].slice]\n",
    "    \n",
    "    \n",
    "    return label_image, objects, regions"
   ]
  },
  {
   "cell_type": "code",
   "execution_count": 19,
   "metadata": {},
   "outputs": [],
   "source": [
    "def regions_to_graph(regions,labels,prox=60):\n",
    "    #weighted?\n",
    "    centroids=np.array([reg.centroid for reg in regions])\n",
    "    if prox==0:\n",
    "        dist=np.zeros((len(centroids),len(centroids)))\n",
    "    else:\n",
    "        dist=distance_matrix(centroids,centroids)\n",
    "        dist=(dist<prox)*dist\n",
    "    G = nx.from_numpy_matrix(dist)\n",
    "    lab={x:str(labels[x]) for x in range(len(centroids))}\n",
    "    nx.set_node_attributes(G, lab, \"feature\")\n",
    "    pos_x={x:int(centroids[x][0]) for x in range(len(centroids))}\n",
    "    nx.set_node_attributes(G, pos_x, \"position_x\")\n",
    "    pos_y={x:int(centroids[x][1]) for x in range(len(centroids))}\n",
    "    nx.set_node_attributes(G, pos_y, \"position_y\")\n",
    "    return G"
   ]
  },
  {
   "cell_type": "code",
   "execution_count": 20,
   "metadata": {},
   "outputs": [],
   "source": [
    "def visualize_graph(g,max_col=15):\n",
    "    nodes = g.nodes()\n",
    "    colors = [int(g.nodes[n]['feature'])/max_col for n in nodes]\n",
    "    pos = nx.spring_layout(g)\n",
    "    for n in nodes:\n",
    "        pos[n][1]=-1*g.nodes[n]['position_x']\n",
    "        pos[n][0]=g.nodes[n]['position_y']\n",
    "\n",
    "    ec = nx.draw_networkx_edges(g, pos, alpha=0.2)\n",
    "    nc = nx.draw_networkx_nodes(g, pos, nodelist=nodes, node_color=colors, node_size=150, cmap=plt.cm.jet,vmin=0,vmax=1)\n",
    "    #plt.colorbar(nc)\n",
    "    plt.axis('off')\n",
    "    plt.show()"
   ]
  },
  {
   "cell_type": "code",
   "execution_count": 21,
   "metadata": {},
   "outputs": [],
   "source": [
    "def graph_diff2(G1,G2,obj_class_diff=100,obj_n_diff=100):\n",
    "    n1=set([(G1.nodes[x][\"feature\"],G1.nodes[x][\"position_x\"],G1.nodes[x][\"position_y\"]) for x in G1.nodes])\n",
    "    n2=set([(G2.nodes[x][\"feature\"],G2.nodes[x][\"position_x\"],G2.nodes[x][\"position_y\"]) for x in G2.nodes])\n",
    "    l1=list(n1.difference(n2))\n",
    "    l2=list(n2.difference(n1))\n",
    "    \n",
    "    if len(l1)==0 or len(l2)==0:\n",
    "        return abs(len(l1)-len(l2))*obj_n_diff\n",
    "    \n",
    "    if len(l1)>len(l2):\n",
    "        l1,l2 = l2,l1\n",
    "    \n",
    "    dist=np.zeros((len(l1),len(l2)))\n",
    "    for x in range(len(l1)):\n",
    "        for y in range(len(l2)):\n",
    "            dist[x,y]=node_dist(l1[x],l2[y],obj_class_diff=obj_class_diff)\n",
    "        \n",
    "    return graph_metric(dist,obj_n_diff=obj_n_diff)"
   ]
  },
  {
   "cell_type": "code",
   "execution_count": 22,
   "metadata": {},
   "outputs": [],
   "source": [
    "def node_dist2(n1,n2,obj_class_diff=100):\n",
    "    return (n1[0]!=n2[0])*obj_class_diff+abs(n1[1]-n2[1])+abs(n1[2]-n2[2])"
   ]
  },
  {
   "cell_type": "code",
   "execution_count": 23,
   "metadata": {},
   "outputs": [],
   "source": [
    "def node_dist(n1,n2,obj_class_diff=100):\n",
    "    return (n1[0]!=n2[0])*obj_class_diff+np.sqrt((n1[1]-n2[1])**2+(n1[2]-n2[2])**2)"
   ]
  },
  {
   "cell_type": "code",
   "execution_count": 24,
   "metadata": {},
   "outputs": [],
   "source": [
    "def graph_metric(dist,obj_n_diff=100):\n",
    "    return np.sum(np.min(dist,axis=1))+abs(dist.shape[0]-dist.shape[1])*obj_n_diff"
   ]
  },
  {
   "cell_type": "code",
   "execution_count": 25,
   "metadata": {},
   "outputs": [],
   "source": [
    "def graph_diff(G1,G2,obj_class_diff=100,obj_n_diff=100):\n",
    "    l1=[(G1.nodes[x][\"feature\"],G1.nodes[x][\"position_x\"],G1.nodes[x][\"position_y\"]) for x in G1.nodes]\n",
    "    l2=[(G2.nodes[x][\"feature\"],G2.nodes[x][\"position_x\"],G2.nodes[x][\"position_y\"]) for x in G2.nodes]\n",
    "    \n",
    "    if len(l1)==0 or len(l2)==0:\n",
    "        return abs(len(l1)-len(l2))*obj_n_diff\n",
    "    \n",
    "    if len(l1)>len(l2):\n",
    "        l1,l2 = l2,l1\n",
    "    \n",
    "    dist=np.zeros((len(l1),len(l2)))\n",
    "    for x in range(len(l1)):\n",
    "        for y in range(len(l2)):\n",
    "            dist[x,y]=node_dist(l1[x],l2[y],obj_class_diff=obj_class_diff)\n",
    "        \n",
    "    return graph_metric(dist,obj_n_diff=obj_n_diff)"
   ]
  },
  {
   "cell_type": "code",
   "execution_count": 26,
   "metadata": {},
   "outputs": [],
   "source": [
    "def regions_to_embedding(regions,labels,grid,label_size=16,x=105,y=80,max_rad=10):\n",
    "    centroids=np.array([reg.centroid for reg in regions])\n",
    "    dist=distance_matrix(centroids,grid)\n",
    "    dist=(1-np.clip(dist/max_rad,0,1))#**2\n",
    "    emb=np.zeros((label_size+1,grid.shape[0]))\n",
    "    emb[0,:]=dist.sum(axis=0)\n",
    "    for lab in np.unique(labels):\n",
    "        emb[lab+1,:]=dist[labels==lab,:].sum(axis=0)\n",
    "        \n",
    "    return emb"
   ]
  },
  {
   "cell_type": "code",
   "execution_count": 27,
   "metadata": {},
   "outputs": [],
   "source": [
    "def make_grid(shape,x=2,y=2):\n",
    "    grid=np.zeros((x*y,2))\n",
    "    split_h=np.linspace(0,shape[0],y).astype(\"int\")\n",
    "    split_w=np.linspace(0,shape[1],x).astype(\"int\")\n",
    "    z=0\n",
    "    for i in split_h:\n",
    "        for j in split_w:\n",
    "            grid[z,:]=[i,j]\n",
    "            z+=1\n",
    "    return grid"
   ]
  },
  {
   "cell_type": "markdown",
   "metadata": {},
   "source": [
    "# Enviroment"
   ]
  },
  {
   "cell_type": "code",
   "execution_count": 738,
   "metadata": {},
   "outputs": [],
   "source": [
    "# OpenAI-Gym environment specification\n",
    "environment = Environment.create(\n",
    "       environment='gym', level='SpaceInvaders-v4',max_episode_timesteps=10000)"
   ]
  },
  {
   "cell_type": "code",
   "execution_count": 739,
   "metadata": {},
   "outputs": [],
   "source": [
    "# OpenAI-Gym environment specification\n",
    "environment = Environment.create(\n",
    "       environment='gym', level='PongNoFrameskip-v4',max_episode_timesteps=10000)"
   ]
  },
  {
   "cell_type": "code",
   "execution_count": 28,
   "metadata": {},
   "outputs": [
    {
     "name": "stderr",
     "output_type": "stream",
     "text": [
      "\n",
      "A.L.E: Arcade Learning Environment (version 0.7.4+069f8bd)\n",
      "[Powered by Stella]\n"
     ]
    }
   ],
   "source": [
    "# OpenAI-Gym environment specification\n",
    "environment = Environment.create(\n",
    "       environment='gym', level='Pong-v4',max_episode_timesteps=10000)"
   ]
  },
  {
   "cell_type": "code",
   "execution_count": 101,
   "metadata": {},
   "outputs": [],
   "source": [
    "# OpenAI-Gym environment specification\n",
    "environment_ram = Environment.create(\n",
    "       environment='gym', level='Pong-ram-v4',max_episode_timesteps=10000)"
   ]
  },
  {
   "cell_type": "code",
   "execution_count": 30,
   "metadata": {},
   "outputs": [],
   "source": [
    "#import gym"
   ]
  },
  {
   "cell_type": "code",
   "execution_count": 31,
   "metadata": {},
   "outputs": [],
   "source": [
    "#env = gym.make(\"ALE/Pong-v5\")"
   ]
  },
  {
   "cell_type": "code",
   "execution_count": 3,
   "metadata": {},
   "outputs": [],
   "source": [
    "class PongRamEnvironment(Environment):\n",
    "\n",
    "    def __init__(self):\n",
    "        #self.base_env=Environment.create(environment='gym', level='Pong-ram-v4',max_episode_timesteps=10000)\n",
    "        self.base_env=Environment.create(environment='gym', level='Pong-ramNoFrameskip-v4',max_episode_timesteps=10000)\n",
    "        self.repeat_action=4\n",
    "        self.last_state=np.zeros(4)\n",
    "        super().__init__()\n",
    "\n",
    "    def states(self):\n",
    "        return {'type': 'float', 'shape': (2,4), 'min_value': -2.0, 'max_value': 2.0}\n",
    "\n",
    "    def actions(self):\n",
    "        return {'type': 'int', 'shape': (), 'num_values': 2}\n",
    "\n",
    "    def preprocess_state(self, state):\n",
    "        #cpu_score = ram[13]  # computer/ai opponent score \n",
    "        #player_score = ram[14]  # your score\n",
    "        cpu_paddle_y = state[21]  # Y coordinate of computer paddle\n",
    "        player_paddle_y = state[51]  # Y coordinate of your paddle\n",
    "        ball_x = state[49]  # X coordinate of ball\n",
    "        ball_y = state[54]  # Y coordinate of ball\n",
    "        obs = np.array([cpu_paddle_y, player_paddle_y, ball_x, ball_y], dtype=np.float32)/255.0\n",
    "        return obs\n",
    "        \n",
    "    # Optional: should only be defined if environment has a natural fixed\n",
    "    # maximum episode length; restrict training timesteps via\n",
    "    #     Environment.create(..., max_episode_timesteps=???)\n",
    "    def max_episode_timesteps(self):\n",
    "        return super().max_episode_timesteps()\n",
    "\n",
    "    # Optional additional steps to close environment\n",
    "    def close(self):\n",
    "        super().close()\n",
    "\n",
    "    def reset(self):\n",
    "        state = self.base_env.reset()\n",
    "        state = np.zeros((2,4))\n",
    "        self.last_state=np.zeros(4)\n",
    "        return state\n",
    "\n",
    "    def execute(self, actions):\n",
    "        \n",
    "        #actions mapped\n",
    "        actions={0:2,1:3}[actions]\n",
    "        total_reward=0\n",
    "        next_state=np.zeros((2,4))\n",
    "        for i in range(self.repeat_action):\n",
    "            state, terminal, reward = self.base_env.execute(actions)\n",
    "            total_reward += reward\n",
    "            if terminal:\n",
    "                break\n",
    "        \n",
    "        state=self.preprocess_state(state)\n",
    "        next_state[0,:] = state\n",
    "        next_state[1,:] = state-self.last_state\n",
    "        self.last_state=state\n",
    "        \n",
    "        return next_state, terminal, total_reward"
   ]
  },
  {
   "cell_type": "code",
   "execution_count": 4,
   "metadata": {},
   "outputs": [
    {
     "name": "stderr",
     "output_type": "stream",
     "text": [
      "\n",
      "A.L.E: Arcade Learning Environment (version 0.7.4+069f8bd)\n",
      "[Powered by Stella]\n"
     ]
    }
   ],
   "source": [
    "pong_ram=PongRamEnvironment()"
   ]
  },
  {
   "cell_type": "code",
   "execution_count": 5,
   "metadata": {},
   "outputs": [
    {
     "data": {
      "text/plain": [
       "array([[0., 0., 0., 0.],\n",
       "       [0., 0., 0., 0.]])"
      ]
     },
     "execution_count": 5,
     "metadata": {},
     "output_type": "execute_result"
    }
   ],
   "source": [
    "pong_ram.reset()"
   ]
  },
  {
   "cell_type": "code",
   "execution_count": 6,
   "metadata": {},
   "outputs": [],
   "source": [
    "# DQN agent specification\n",
    "agent = dict(\n",
    "    agent='dqn',\n",
    "    # Automatically configured network\n",
    "    network=dict(type='auto', size=256, depth=1),\n",
    "    # Parameters\n",
    "    memory= 20000,\n",
    "    batch_size = 64, \n",
    "    # Reward estimation\n",
    "    discount=0.99, predict_terminal_values=False,\n",
    "    \n",
    "#     state_preprocessing=[\n",
    "#       dict(type='deltafier',concatenate=0),\n",
    "#         dict(type='linear_normalization')\n",
    "#     ],\n",
    "    \n",
    "    reward_processing=None,\n",
    "    # Regularization\n",
    "    l2_regularization=0.0, \n",
    "    entropy_regularization=0.0,\n",
    "    # Preprocessing\n",
    "    exploration=0.2,\n",
    "    variable_noise=0.0,\n",
    "    # Default additional config values\n",
    "    config=None,\n",
    "    # Save agent every 10 updates and keep the 5 most recent checkpoints\n",
    "    saver=dict(directory='model_ram', frequency=20, max_checkpoints=5),\n",
    "    # Log all available Tensorboard summaries\n",
    "    summarizer=dict(directory='summaries_ram', summaries='all'),\n",
    "    # Do record agent-environment interaction trace\n",
    "    #recorder=dict(directory='record')\n",
    "    max_episode_timesteps=10000\n",
    ")"
   ]
  },
  {
   "cell_type": "code",
   "execution_count": 2,
   "metadata": {},
   "outputs": [
    {
     "ename": "AttributeError",
     "evalue": "type object 'Module' has no attribute '_MODULE_STACK'",
     "output_type": "error",
     "traceback": [
      "\u001b[0;31m---------------------------------------------------------------------------\u001b[0m",
      "\u001b[0;31mAttributeError\u001b[0m                            Traceback (most recent call last)",
      "Input \u001b[0;32mIn [2]\u001b[0m, in \u001b[0;36m<cell line: 1>\u001b[0;34m()\u001b[0m\n\u001b[0;32m----> 1\u001b[0m \u001b[43mLinear\u001b[49m\u001b[43m(\u001b[49m\u001b[43munit\u001b[49m\u001b[38;5;241;43m=\u001b[39;49m\u001b[38;5;124;43m'\u001b[39;49m\u001b[38;5;124;43mtimesteps\u001b[39;49m\u001b[38;5;124;43m'\u001b[39;49m\u001b[43m,\u001b[49m\u001b[43m \u001b[49m\u001b[43mnum_steps\u001b[49m\u001b[38;5;241;43m=\u001b[39;49m\u001b[38;5;241;43m100000\u001b[39;49m\u001b[43m,\u001b[49m\n\u001b[1;32m      2\u001b[0m \u001b[43m         \u001b[49m\u001b[43minitial_value\u001b[49m\u001b[38;5;241;43m=\u001b[39;49m\u001b[38;5;241;43m1\u001b[39;49m\u001b[43m,\u001b[49m\u001b[43m \u001b[49m\u001b[43mfinal_value\u001b[49m\u001b[38;5;241;43m=\u001b[39;49m\u001b[38;5;241;43m0.05\u001b[39;49m\u001b[43m)\u001b[49m\n",
      "File \u001b[0;32m~/Desktop/Semantic-Reasoning-in-Reinforcement-Learning/tensorforce/tensorforce/core/parameters/linear.py:42\u001b[0m, in \u001b[0;36mLinear.__init__\u001b[0;34m(self, unit, num_steps, initial_value, final_value, name, dtype, min_value, max_value)\u001b[0m\n\u001b[1;32m     38\u001b[0m \u001b[38;5;28;01mdef\u001b[39;00m \u001b[38;5;21m__init__\u001b[39m(\n\u001b[1;32m     39\u001b[0m     \u001b[38;5;28mself\u001b[39m, \u001b[38;5;241m*\u001b[39m, unit, num_steps, initial_value, final_value, name\u001b[38;5;241m=\u001b[39m\u001b[38;5;28;01mNone\u001b[39;00m, dtype\u001b[38;5;241m=\u001b[39m\u001b[38;5;28;01mNone\u001b[39;00m, min_value\u001b[38;5;241m=\u001b[39m\u001b[38;5;28;01mNone\u001b[39;00m,\n\u001b[1;32m     40\u001b[0m     max_value\u001b[38;5;241m=\u001b[39m\u001b[38;5;28;01mNone\u001b[39;00m\n\u001b[1;32m     41\u001b[0m ):\n\u001b[0;32m---> 42\u001b[0m     \u001b[38;5;28;43msuper\u001b[39;49m\u001b[43m(\u001b[49m\u001b[43m)\u001b[49m\u001b[38;5;241;43m.\u001b[39;49m\u001b[38;5;21;43m__init__\u001b[39;49m\u001b[43m(\u001b[49m\n\u001b[1;32m     43\u001b[0m \u001b[43m        \u001b[49m\u001b[43mdecay\u001b[49m\u001b[38;5;241;43m=\u001b[39;49m\u001b[38;5;124;43m'\u001b[39;49m\u001b[38;5;124;43mlinear\u001b[39;49m\u001b[38;5;124;43m'\u001b[39;49m\u001b[43m,\u001b[49m\u001b[43m \u001b[49m\u001b[43munit\u001b[49m\u001b[38;5;241;43m=\u001b[39;49m\u001b[43munit\u001b[49m\u001b[43m,\u001b[49m\u001b[43m \u001b[49m\u001b[43mnum_steps\u001b[49m\u001b[38;5;241;43m=\u001b[39;49m\u001b[43mnum_steps\u001b[49m\u001b[43m,\u001b[49m\u001b[43m \u001b[49m\u001b[43minitial_value\u001b[49m\u001b[38;5;241;43m=\u001b[39;49m\u001b[43minitial_value\u001b[49m\u001b[43m,\u001b[49m\u001b[43m \u001b[49m\u001b[43mname\u001b[49m\u001b[38;5;241;43m=\u001b[39;49m\u001b[43mname\u001b[49m\u001b[43m,\u001b[49m\n\u001b[1;32m     44\u001b[0m \u001b[43m        \u001b[49m\u001b[43mdtype\u001b[49m\u001b[38;5;241;43m=\u001b[39;49m\u001b[43mdtype\u001b[49m\u001b[43m,\u001b[49m\u001b[43m \u001b[49m\u001b[43mmin_value\u001b[49m\u001b[38;5;241;43m=\u001b[39;49m\u001b[43mmin_value\u001b[49m\u001b[43m,\u001b[49m\u001b[43m \u001b[49m\u001b[43mmax_value\u001b[49m\u001b[38;5;241;43m=\u001b[39;49m\u001b[43mmax_value\u001b[49m\u001b[43m,\u001b[49m\u001b[43m \u001b[49m\u001b[43mfinal_value\u001b[49m\u001b[38;5;241;43m=\u001b[39;49m\u001b[43mfinal_value\u001b[49m\n\u001b[1;32m     45\u001b[0m \u001b[43m    \u001b[49m\u001b[43m)\u001b[49m\n",
      "File \u001b[0;32m~/Desktop/Semantic-Reasoning-in-Reinforcement-Learning/tensorforce/tensorforce/core/parameters/decaying.py:148\u001b[0m, in \u001b[0;36mDecaying.__init__\u001b[0;34m(self, decay, unit, num_steps, initial_value, increasing, inverse, scale, name, dtype, min_value, max_value, **kwargs)\u001b[0m\n\u001b[1;32m    145\u001b[0m \u001b[38;5;28mself\u001b[39m\u001b[38;5;241m.\u001b[39mscale \u001b[38;5;241m=\u001b[39m scale\n\u001b[1;32m    146\u001b[0m \u001b[38;5;28mself\u001b[39m\u001b[38;5;241m.\u001b[39mkwargs \u001b[38;5;241m=\u001b[39m kwargs\n\u001b[0;32m--> 148\u001b[0m \u001b[38;5;28;43msuper\u001b[39;49m\u001b[43m(\u001b[49m\u001b[43m)\u001b[49m\u001b[38;5;241;43m.\u001b[39;49m\u001b[38;5;21;43m__init__\u001b[39;49m\u001b[43m(\u001b[49m\n\u001b[1;32m    149\u001b[0m \u001b[43m    \u001b[49m\u001b[43munit\u001b[49m\u001b[38;5;241;43m=\u001b[39;49m\u001b[43munit\u001b[49m\u001b[43m,\u001b[49m\u001b[43m \u001b[49m\u001b[43mname\u001b[49m\u001b[38;5;241;43m=\u001b[39;49m\u001b[43mname\u001b[49m\u001b[43m,\u001b[49m\u001b[43m \u001b[49m\u001b[43mdtype\u001b[49m\u001b[38;5;241;43m=\u001b[39;49m\u001b[43mdtype\u001b[49m\u001b[43m,\u001b[49m\u001b[43m \u001b[49m\u001b[43mmin_value\u001b[49m\u001b[38;5;241;43m=\u001b[39;49m\u001b[43mmin_value\u001b[49m\u001b[43m,\u001b[49m\u001b[43m \u001b[49m\u001b[43mmax_value\u001b[49m\u001b[38;5;241;43m=\u001b[39;49m\u001b[43mmax_value\u001b[49m\n\u001b[1;32m    150\u001b[0m \u001b[43m\u001b[49m\u001b[43m)\u001b[49m\n",
      "File \u001b[0;32m~/Desktop/Semantic-Reasoning-in-Reinforcement-Learning/tensorforce/tensorforce/core/parameters/parameter.py:39\u001b[0m, in \u001b[0;36mParameter.__init__\u001b[0;34m(self, unit, name, dtype, shape, min_value, max_value)\u001b[0m\n\u001b[1;32m     36\u001b[0m \u001b[38;5;28;01mdef\u001b[39;00m \u001b[38;5;21m__init__\u001b[39m(\n\u001b[1;32m     37\u001b[0m     \u001b[38;5;28mself\u001b[39m, \u001b[38;5;241m*\u001b[39m, unit\u001b[38;5;241m=\u001b[39m\u001b[38;5;124m'\u001b[39m\u001b[38;5;124mtimesteps\u001b[39m\u001b[38;5;124m'\u001b[39m, name\u001b[38;5;241m=\u001b[39m\u001b[38;5;28;01mNone\u001b[39;00m, dtype\u001b[38;5;241m=\u001b[39m\u001b[38;5;28;01mNone\u001b[39;00m, shape\u001b[38;5;241m=\u001b[39m(), min_value\u001b[38;5;241m=\u001b[39m\u001b[38;5;28;01mNone\u001b[39;00m, max_value\u001b[38;5;241m=\u001b[39m\u001b[38;5;28;01mNone\u001b[39;00m\n\u001b[1;32m     38\u001b[0m ):\n\u001b[0;32m---> 39\u001b[0m     \u001b[38;5;28;43msuper\u001b[39;49m\u001b[43m(\u001b[49m\u001b[43m)\u001b[49m\u001b[38;5;241;43m.\u001b[39;49m\u001b[38;5;21;43m__init__\u001b[39;49m\u001b[43m(\u001b[49m\u001b[43mname\u001b[49m\u001b[38;5;241;43m=\u001b[39;49m\u001b[43mname\u001b[49m\u001b[43m)\u001b[49m\n\u001b[1;32m     41\u001b[0m     \u001b[38;5;28;01massert\u001b[39;00m unit \u001b[38;5;129;01min\u001b[39;00m (\u001b[38;5;28;01mNone\u001b[39;00m, \u001b[38;5;124m'\u001b[39m\u001b[38;5;124mtimesteps\u001b[39m\u001b[38;5;124m'\u001b[39m, \u001b[38;5;124m'\u001b[39m\u001b[38;5;124mepisodes\u001b[39m\u001b[38;5;124m'\u001b[39m, \u001b[38;5;124m'\u001b[39m\u001b[38;5;124mupdates\u001b[39m\u001b[38;5;124m'\u001b[39m)\n\u001b[1;32m     42\u001b[0m     \u001b[38;5;28mself\u001b[39m\u001b[38;5;241m.\u001b[39munit \u001b[38;5;241m=\u001b[39m unit\n",
      "File \u001b[0;32m~/Desktop/Semantic-Reasoning-in-Reinforcement-Learning/tensorforce/tensorforce/core/module.py:178\u001b[0m, in \u001b[0;36mModule.__init__\u001b[0;34m(self, device, l2_regularization, name)\u001b[0m\n\u001b[1;32m    175\u001b[0m \u001b[38;5;28mself\u001b[39m\u001b[38;5;241m.\u001b[39mis_saved \u001b[38;5;241m=\u001b[39m \u001b[38;5;28;01mNone\u001b[39;00m\n\u001b[1;32m    176\u001b[0m \u001b[38;5;28mself\u001b[39m\u001b[38;5;241m.\u001b[39mis_initialized \u001b[38;5;241m=\u001b[39m \u001b[38;5;28;01mNone\u001b[39;00m\n\u001b[0;32m--> 178\u001b[0m \u001b[38;5;28;01massert\u001b[39;00m \u001b[38;5;28mlen\u001b[39m(\u001b[43mModule\u001b[49m\u001b[38;5;241;43m.\u001b[39;49m\u001b[43m_MODULE_STACK\u001b[49m) \u001b[38;5;241m>\u001b[39m\u001b[38;5;241m=\u001b[39m \u001b[38;5;241m1\u001b[39m\n\u001b[1;32m    179\u001b[0m \u001b[38;5;28;01mif\u001b[39;00m \u001b[38;5;28misinstance\u001b[39m(Module\u001b[38;5;241m.\u001b[39m_MODULE_STACK[\u001b[38;5;241m-\u001b[39m\u001b[38;5;241m1\u001b[39m], \u001b[38;5;28mtype\u001b[39m):\n\u001b[1;32m    180\u001b[0m     \u001b[38;5;28;01massert\u001b[39;00m \u001b[38;5;28misinstance\u001b[39m(\u001b[38;5;28mself\u001b[39m, Module\u001b[38;5;241m.\u001b[39m_MODULE_STACK[\u001b[38;5;241m-\u001b[39m\u001b[38;5;241m1\u001b[39m])\n",
      "\u001b[0;31mAttributeError\u001b[0m: type object 'Module' has no attribute '_MODULE_STACK'"
     ]
    }
   ],
   "source": [
    "Linear(unit='timesteps', num_steps=100000,\n",
    "         initial_value=1, final_value=0.05)"
   ]
  },
  {
   "cell_type": "code",
   "execution_count": 7,
   "metadata": {},
   "outputs": [
    {
     "data": {
      "application/vnd.jupyter.widget-view+json": {
       "model_id": "e9bc2fb7edbf48b283b56cf1ed8e9ec1",
       "version_major": 2,
       "version_minor": 0
      },
      "text/plain": [
       "Episodes:   0%|          | 0/10000 [00:00, return=0.00, ts/ep=0, sec/ep=0.00, ms/ts=0.0, agent=0.0%]"
      ]
     },
     "metadata": {},
     "output_type": "display_data"
    },
    {
     "name": "stderr",
     "output_type": "stream",
     "text": [
      "\n",
      "KeyboardInterrupt\n",
      "\n"
     ]
    }
   ],
   "source": [
    "runner = Runner(agent=agent, environment=dict(environment=PongRamEnvironment), num_parallel=4, max_episode_timesteps=10000)\n",
    "\n",
    "# Train for 200 episodes\n",
    "runner.run(num_episodes=10000,batch_agent_calls=True)\n",
    "runner.close()"
   ]
  },
  {
   "cell_type": "code",
   "execution_count": 58,
   "metadata": {},
   "outputs": [],
   "source": [
    "class CustomEnvironment(Environment):\n",
    "\n",
    "    def __init__(self, base_env):\n",
    "        self.base_env=base_env\n",
    "        self.num_clusters_obj=3\n",
    "        self.image_seg=Birch(n_clusters=None,threshold=0.5,branching_factor=50)\n",
    "        self.pca_n_components=2\n",
    "        self.pca_obj=IncrementalPCA(n_components=self.pca_n_components)\n",
    "        self.max_obj_width=160//20\n",
    "        self.max_obj_height=210//20\n",
    "        self.repeat_action=4\n",
    "        self.x_grid=2\n",
    "        self.y_grid=2\n",
    "        self.grid=make_grid((80,64),self.x_grid,self.y_grid)\n",
    "        #self.max_rad=distance.euclidean([0,0],[80//self.x_grid,64//self.y_grid])\n",
    "        self.max_rad=80\n",
    "        #self.grid=make_grid((105,80),self.x_grid,self.y_grid)\n",
    "        self.dimensions=(1+self.num_clusters_obj)*self.x_grid*self.y_grid\n",
    "        self.current_state=None\n",
    "        self.state_param={}\n",
    "        self.state_param[\"type\"]=\"float\"\n",
    "        self.state_param[\"shape\"]=self.dimensions\n",
    "        self.state_param[\"min_value\"]=0\n",
    "        self.state_param[\"max_value\"]=2\n",
    "        #self.example_objects={}\n",
    "        #self.example_objects_pca={}\n",
    "        self.total_timestep=0\n",
    "        self.stability_threshold=0.01\n",
    "        self.stability_threshold_birch=0.95\n",
    "        \n",
    "        self.pca_stab_err=[]\n",
    "        self.birch_stab_acc=[]\n",
    "        \n",
    "        self.state_list=[]\n",
    "        self.reward_list=[]\n",
    "        self.action_list=[]\n",
    "        self.object_list=[]\n",
    "        self.pca_list=[]\n",
    "        self.birch_list=[]\n",
    "        \n",
    "        self.lookback=200\n",
    "        #state list\n",
    "        self.keep_state_list=False\n",
    "        self.keep_object_list=True\n",
    "        self.keep_pca_list=True\n",
    "        self.keep_birch_list=False\n",
    "        \n",
    "        super().__init__()\n",
    "\n",
    "    def states(self):\n",
    "        return self.state_param\n",
    "\n",
    "    def actions(self):\n",
    "        return {'type': 'int', 'shape': (), 'num_values': 2}\n",
    "        #return self.base_env.actions()\n",
    "\n",
    "    \n",
    "    def check_stability_pca(self):\n",
    "        obj=self.object_list.pop()\n",
    "        new=self.pca_obj.transform(obj)\n",
    "        old=self.pca_list.pop()\n",
    "        err=mean_absolute_error(new,old)\n",
    "        self.pca_stab_err.append(err)\n",
    "        if err<self.stability_threshold:\n",
    "            return True\n",
    "        else:\n",
    "            return False\n",
    "        \n",
    "    def check_stability_birch(self):\n",
    "        obj=self.object_list.pop()\n",
    "        new=self.image_seg.predict(self.pca_obj.transform(obj))\n",
    "        old=self.birch_list.pop()\n",
    "        acc=balanced_accuracy_score(new,old)\n",
    "        self.birch_stab_acc.append(acc)\n",
    "        if acc>self.stability_threshold_birch:\n",
    "            return True\n",
    "        else:\n",
    "            return False\n",
    "    \n",
    "    def preprocess_state(self, state, use_pca=True, train_pca=False, use_birch=True, train_birch=False, use_embedding=True):\n",
    "        \n",
    "        #crop for pong [16:98,8:72]\n",
    "        #state = rescale(state, 0.5, anti_aliasing=False, channel_axis=-1, order=0)#[16:98,8:72]\n",
    "        #state = state[::2,::2][16:98,8:72]\n",
    "        state = state[::2,::2][17:97,8:72]\n",
    "        #cut objects\n",
    "        label_image, objects, regions=find_cut_objects(state,self.max_obj_height,self.max_obj_width)\n",
    "        X=objects.reshape(objects.shape[0],-1)\n",
    "        \n",
    "        if self.keep_object_list:\n",
    "            self.object_list.insert(0,X.copy())\n",
    "        \n",
    "        #PCA\n",
    "        if train_pca:\n",
    "            self.pca_obj.partial_fit(np.vstack((X,X,X)))\n",
    "        \n",
    "        if use_pca:\n",
    "            X=self.pca_obj.transform(X)\n",
    "        else:\n",
    "            X=np.zeros((X.shape[0],self.pca_n_components))\n",
    "        \n",
    "        if self.keep_pca_list:\n",
    "            self.pca_list.insert(0,X.copy())\n",
    "        \n",
    "        #BIRCH clustering\n",
    "        if train_birch:\n",
    "            self.image_seg.partial_fit(X)\n",
    "            if self.image_seg.n_clusters is None and len(self.image_seg.subcluster_labels_)>self.num_clusters_obj:\n",
    "                self.image_seg.set_params(n_clusters=self.num_clusters_obj)\n",
    "                self.image_seg.partial_fit()\n",
    "        \n",
    "        if use_birch:\n",
    "            labels=self.image_seg.predict(X)\n",
    "        else:\n",
    "            labels=np.zeros(X.shape[0])\n",
    "        \n",
    "        \n",
    "        if self.keep_birch_list:\n",
    "            self.birch_list.insert(0,labels.copy())\n",
    "        \n",
    "        for i in range(len(labels)):\n",
    "#             if train:\n",
    "#                 pass\n",
    "                #self.example_objects[labels[i]]=state[regions[i].slice]\n",
    "                #self.example_objects_pca[labels[i]]=self.pca_obj.inverse_transform(X[i]).reshape(self.max_obj_height,self.max_obj_width,3)\n",
    "            \n",
    "            label_image[regions[i].slice][regions[i].image]=labels[i]+1\n",
    "                \n",
    "        if use_embedding:\n",
    "            embedding=regions_to_embedding(regions,labels,self.grid,label_size=self.num_clusters_obj,max_rad=self.max_rad).reshape(-1)\n",
    "            \n",
    "            #clip emmbeding\n",
    "            embedding=np.clip(embedding,self.state_param[\"min_value\"], self.state_param[\"max_value\"])\n",
    "        \n",
    "        else:\n",
    "            embedding=np.zeros(self.dimensions)\n",
    "        \n",
    "        return label_image.astype(\"int8\"),regions,labels,embedding\n",
    "        \n",
    "        \n",
    "        \n",
    "    # Optional: should only be defined if environment has a natural fixed\n",
    "    # maximum episode length; restrict training timesteps via\n",
    "    #     Environment.create(..., max_episode_timesteps=???)\n",
    "    def max_episode_timesteps(self):\n",
    "        return super().max_episode_timesteps()\n",
    "\n",
    "    # Optional additional steps to close environment\n",
    "    def close(self):\n",
    "        super().close()\n",
    "\n",
    "    def reset(self):\n",
    "        state = self.base_env.reset()\n",
    "        self.current_state=state\n",
    "        _,_,_,state = self.preprocess_state(state, use_pca=False, train_pca=False, use_birch=False, train_birch=False, use_embedding=False)\n",
    "        return state\n",
    "\n",
    "    def execute(self, actions):\n",
    "        \n",
    "        #actions mapped\n",
    "        actions={0:2,1:3}[actions]\n",
    "        \n",
    "        next_state, terminal, reward = self.base_env.execute(actions)\n",
    "        \n",
    "        if self.keep_state_list:\n",
    "            self.state_list.append(self.current_state.copy())\n",
    "            self.reward_list.append(reward)\n",
    "            self.action_list.append(actions)\n",
    "        \n",
    "        self.current_state=next_state\n",
    "        \n",
    "        if self.keep_pca_list:\n",
    "            _,_,_,next_state=self.preprocess_state(next_state,use_pca=True, train_pca=True, use_birch=False, train_birch=False, use_embedding=False)\n",
    "        elif self.keep_birch_list:\n",
    "            _,_,_,next_state=self.preprocess_state(next_state,use_pca=True, train_pca=False, use_birch=True, train_birch=True, use_embedding=False)\n",
    "        else:\n",
    "            _,_,_,next_state=self.preprocess_state(next_state,use_pca=True, train_pca=False, use_birch=True, train_birch=False, use_embedding=True)\n",
    "        \n",
    "        if len(self.pca_list)>=self.lookback and self.keep_pca_list==True:\n",
    "            is_stable=self.check_stability_pca()\n",
    "            if is_stable:\n",
    "                print(\"PCA stable after \"+str(self.lookback+len(self.pca_stab_err))+\" steps with err=\"+str(self.pca_stab_err[-1]))\n",
    "                self.keep_pca_list=False\n",
    "                self.keep_birch_list=True\n",
    "                self.object_list=[]\n",
    "                 \n",
    "        if len(self.birch_list)>=self.lookback and self.keep_birch_list==True:\n",
    "            is_stable=self.check_stability_birch()\n",
    "            if is_stable:\n",
    "                print(\"Birch stable after \"+str(self.lookback+len(self.birch_stab_acc))+\" steps with acc=\"+str(self.birch_stab_acc[-1]))\n",
    "                self.keep_birch_list=False\n",
    "                self.keep_object_list=False\n",
    "       \n",
    "        return next_state, terminal, reward"
   ]
  },
  {
   "cell_type": "code",
   "execution_count": 59,
   "metadata": {},
   "outputs": [],
   "source": [
    "custom=CustomEnvironment(environment)"
   ]
  },
  {
   "cell_type": "markdown",
   "metadata": {},
   "source": [
    "# Agent"
   ]
  },
  {
   "cell_type": "code",
   "execution_count": 969,
   "metadata": {},
   "outputs": [],
   "source": [
    "agent = dict(\n",
    "    agent='random'\n",
    ")"
   ]
  },
  {
   "cell_type": "code",
   "execution_count": 970,
   "metadata": {},
   "outputs": [
    {
     "data": {
      "application/vnd.jupyter.widget-view+json": {
       "model_id": "847dd00a04ac4a66833d7702eb203903",
       "version_major": 2,
       "version_minor": 0
      },
      "text/plain": [
       "Episodes:   0%|          | 0/2 [00:00, return=0.00, ts/ep=0, sec/ep=0.00, ms/ts=0.0, agent=0.0%]"
      ]
     },
     "metadata": {},
     "output_type": "display_data"
    },
    {
     "name": "stderr",
     "output_type": "stream",
     "text": [
      "/home/olaf/anaconda3/envs/master/lib/python3.9/site-packages/sklearn/decomposition/_incremental_pca.py:301: RuntimeWarning: invalid value encountered in true_divide\n",
      "  explained_variance_ratio = S ** 2 / np.sum(col_var * n_total_samples)\n",
      "/home/olaf/anaconda3/envs/master/lib/python3.9/site-packages/sklearn/decomposition/_incremental_pca.py:301: RuntimeWarning: invalid value encountered in true_divide\n",
      "  explained_variance_ratio = S ** 2 / np.sum(col_var * n_total_samples)\n",
      "/home/olaf/anaconda3/envs/master/lib/python3.9/site-packages/sklearn/decomposition/_incremental_pca.py:301: RuntimeWarning: invalid value encountered in true_divide\n",
      "  explained_variance_ratio = S ** 2 / np.sum(col_var * n_total_samples)\n"
     ]
    },
    {
     "name": "stdout",
     "output_type": "stream",
     "text": [
      "PCA stable after 384 steps with err=0.009565542438087679\n",
      "Birch stable after 230 steps with acc=1.0\n"
     ]
    }
   ],
   "source": [
    "# warm up\n",
    "agent = dict(\n",
    "    agent='random'\n",
    ")\n",
    "\n",
    "# Initialize the runner\n",
    "runner = Runner(agent=agent, environment=custom, max_episode_timesteps=10000)\n",
    "runner.run(num_episodes=2)\n",
    "runner.close()"
   ]
  },
  {
   "cell_type": "code",
   "execution_count": 971,
   "metadata": {},
   "outputs": [
    {
     "data": {
      "text/plain": [
       "16"
      ]
     },
     "execution_count": 971,
     "metadata": {},
     "output_type": "execute_result"
    }
   ],
   "source": [
    "custom.dimensions"
   ]
  },
  {
   "cell_type": "code",
   "execution_count": 63,
   "metadata": {},
   "outputs": [
    {
     "data": {
      "application/vnd.jupyter.widget-view+json": {
       "model_id": "5d122e51df3e4f8b9d14cf7a8881da8a",
       "version_major": 2,
       "version_minor": 0
      },
      "text/plain": [
       "Episodes:   0%|          | 0/10 [00:00, return=0.00, ts/ep=0, sec/ep=0.00, ms/ts=0.0, agent=0.0%]"
      ]
     },
     "metadata": {},
     "output_type": "display_data"
    }
   ],
   "source": [
    "# DQN agent specification\n",
    "agent = Agent.create(\n",
    "    agent='dqn',\n",
    "    # Automatically configured network\n",
    "    network=dict(type='auto', size=64, depth=2),\n",
    "    # Parameters\n",
    "    memory= 10000,\n",
    "    batch_size = 32, \n",
    "    # Reward estimation\n",
    "    discount=0.99, predict_terminal_values=False,\n",
    "    reward_processing=None,\n",
    "    # Regularization\n",
    "    l2_regularization=0.0, \n",
    "    entropy_regularization=0.0,\n",
    "    # Preprocessing\n",
    "    #state_preprocessing='linear_normalization',\n",
    "    # Exploration\n",
    "#     exploration=dict(\n",
    "#         type='decaying',decay=\"linear\" ,unit='timesteps', num_steps=100000,\n",
    "#         initial_value=1, final_value=0.05\n",
    "#     ),\n",
    "#         exploration=Linear(unit='timesteps', num_steps=100000,\n",
    "#         initial_value=1, final_value=0.05\n",
    "#     ),\n",
    "    exploration=0.1,\n",
    "    variable_noise=0.0,\n",
    "    # Default additional config values\n",
    "    config=None,\n",
    "    # Save agent every 10 updates and keep the 5 most recent checkpoints\n",
    "    saver=dict(directory='model', frequency=20, max_checkpoints=5),\n",
    "    # Log all available Tensorboard summaries\n",
    "    summarizer=dict(directory='summaries', summaries='all'),\n",
    "    # Do record agent-environment interaction trace\n",
    "    #recorder=dict(directory='record')\n",
    "    environment=pong_ram,\n",
    "    max_episode_timesteps=10000\n",
    ")\n",
    "\n",
    "# Initialize the runner\n",
    "runner = Runner(agent=agent, environment=PongRamEnvironment(environment_ram), max_episode_timesteps=10000)\n",
    "\n",
    "# Train for 200 episodes\n",
    "runner.run(num_episodes=10)\n",
    "runner.close()"
   ]
  },
  {
   "cell_type": "markdown",
   "metadata": {},
   "source": [
    "# Optimizing"
   ]
  },
  {
   "cell_type": "code",
   "execution_count": 800,
   "metadata": {},
   "outputs": [
    {
     "name": "stdout",
     "output_type": "stream",
     "text": [
      "958 µs ± 9.06 µs per loop (mean ± std. dev. of 7 runs, 1,000 loops each)\n"
     ]
    }
   ],
   "source": [
    "%timeit _,_,_,emb=custom.preprocess_state(States[100])"
   ]
  },
  {
   "cell_type": "markdown",
   "metadata": {},
   "source": [
    "# example run"
   ]
  },
  {
   "cell_type": "code",
   "execution_count": 99,
   "metadata": {
    "scrolled": true
   },
   "outputs": [],
   "source": [
    "agent = Agent.load(directory='model', format='checkpoint', environment=custom,recorder=dict(directory='record2'))"
   ]
  },
  {
   "cell_type": "code",
   "execution_count": 972,
   "metadata": {},
   "outputs": [],
   "source": [
    "custom.state_list=[]\n",
    "custom.reward_list=[]\n",
    "custom.action_list=[]"
   ]
  },
  {
   "cell_type": "code",
   "execution_count": 973,
   "metadata": {},
   "outputs": [],
   "source": [
    "custom.keep_state_list=True"
   ]
  },
  {
   "cell_type": "code",
   "execution_count": 974,
   "metadata": {},
   "outputs": [
    {
     "data": {
      "application/vnd.jupyter.widget-view+json": {
       "model_id": "35a2a42f1627450dacc8ade7e0f9b229",
       "version_major": 2,
       "version_minor": 0
      },
      "text/plain": [
       "Episodes:   0%|          | 0/1 [00:00, return=0.00, ts/ep=0, sec/ep=0.00, ms/ts=0.0, agent=0.0%]"
      ]
     },
     "metadata": {},
     "output_type": "display_data"
    }
   ],
   "source": [
    "runner = Runner(agent=agent, environment=custom, max_episode_timesteps=10000)\n",
    "\n",
    "# Train for 200 episodes\n",
    "runner.run(num_episodes=1)\n",
    "runner.close()\n",
    "#custom.keep_state_list=False"
   ]
  },
  {
   "cell_type": "code",
   "execution_count": 210,
   "metadata": {},
   "outputs": [],
   "source": [
    "make_video(np.array(custom.state_list),name=\"PongPong\")"
   ]
  },
  {
   "cell_type": "code",
   "execution_count": 975,
   "metadata": {},
   "outputs": [],
   "source": [
    "centers=custom.pca_obj.inverse_transform(custom.image_seg.subcluster_centers_).reshape(custom.image_seg.subcluster_centers_.shape[0],10,8,1)"
   ]
  },
  {
   "cell_type": "code",
   "execution_count": 976,
   "metadata": {},
   "outputs": [],
   "source": [
    "centers=centers[np.argsort(custom.image_seg.subcluster_labels_)]"
   ]
  },
  {
   "cell_type": "code",
   "execution_count": 977,
   "metadata": {},
   "outputs": [
    {
     "data": {
      "text/plain": [
       "0.9524608704800785"
      ]
     },
     "execution_count": 977,
     "metadata": {},
     "output_type": "execute_result"
    }
   ],
   "source": [
    "custom.pca_obj.explained_variance_ratio_.sum()"
   ]
  },
  {
   "cell_type": "code",
   "execution_count": 978,
   "metadata": {},
   "outputs": [],
   "source": [
    "labels_s=np.sort(custom.image_seg.subcluster_labels_)"
   ]
  },
  {
   "cell_type": "code",
   "execution_count": 979,
   "metadata": {},
   "outputs": [
    {
     "data": {
      "text/plain": [
       "array([0, 0, 1, 1, 2])"
      ]
     },
     "execution_count": 979,
     "metadata": {},
     "output_type": "execute_result"
    }
   ],
   "source": [
    "labels_s"
   ]
  },
  {
   "cell_type": "code",
   "execution_count": 980,
   "metadata": {},
   "outputs": [
    {
     "data": {
      "image/png": "[encoded data removed]",
      "text/plain": [
       "<Figure size 864x864 with 5 Axes>"
      ]
     },
     "metadata": {
      "needs_background": "light"
     },
     "output_type": "display_data"
    }
   ],
   "source": [
    "size=4\n",
    "i=1\n",
    "fig = plt.figure(figsize=(12,12))\n",
    "for i in range(centers.shape[0]):\n",
    "    fig.add_subplot(4, 6,i+1)\n",
    "    plt.imshow(centers[i])\n",
    "    plt.title(\"Cluster: \"+str(labels_s[i]))\n",
    "#     for k in range(4):\n",
    "#         plt.title(\"Cluster: \"+str(label))\n",
    "#         fig.add_subplot(size, size,i)\n",
    "#         plt.imshow(ob)\n",
    "#         i+=1\n",
    "plt.savefig('Pong_clusters.png')"
   ]
  },
  {
   "cell_type": "code",
   "execution_count": 113,
   "metadata": {},
   "outputs": [],
   "source": [
    "#%tensorboard --logdir summaries/summary-20220502-150216"
   ]
  },
  {
   "cell_type": "markdown",
   "metadata": {},
   "source": [
    "# stability of methods"
   ]
  },
  {
   "cell_type": "markdown",
   "metadata": {},
   "source": [
    "# Clustering"
   ]
  },
  {
   "cell_type": "markdown",
   "metadata": {},
   "source": [
    "# test PCA"
   ]
  },
  {
   "cell_type": "code",
   "execution_count": 114,
   "metadata": {},
   "outputs": [],
   "source": [
    "#state_list=np.load(\"Pong_Example_Run.npy\")"
   ]
  },
  {
   "cell_type": "code",
   "execution_count": 981,
   "metadata": {},
   "outputs": [],
   "source": [
    "reward_list=custom.reward_list\n",
    "state_list=custom.state_list\n",
    "action_list=custom.action_list"
   ]
  },
  {
   "cell_type": "code",
   "execution_count": 982,
   "metadata": {},
   "outputs": [],
   "source": [
    "Label_imgs=[]\n",
    "emb=[]\n",
    "for state in state_list:\n",
    "    label_img,regions,labels,emmbedding=custom.preprocess_state(state)\n",
    "    Label_imgs.append(label_img)\n",
    "    emb.append(emmbedding)"
   ]
  },
  {
   "cell_type": "code",
   "execution_count": 983,
   "metadata": {},
   "outputs": [
    {
     "data": {
      "text/plain": [
       "0.9524608704800785"
      ]
     },
     "execution_count": 983,
     "metadata": {},
     "output_type": "execute_result"
    }
   ],
   "source": [
    "custom.pca_obj.explained_variance_ratio_.sum()"
   ]
  },
  {
   "cell_type": "code",
   "execution_count": 984,
   "metadata": {},
   "outputs": [
    {
     "data": {
      "text/plain": [
       "0.9524608704800785"
      ]
     },
     "execution_count": 984,
     "metadata": {},
     "output_type": "execute_result"
    }
   ],
   "source": [
    "custom.pca_obj.explained_variance_ratio_[0:2].sum()"
   ]
  },
  {
   "cell_type": "markdown",
   "metadata": {},
   "source": [
    "# test Birch"
   ]
  },
  {
   "cell_type": "code",
   "execution_count": 985,
   "metadata": {},
   "outputs": [
    {
     "data": {
      "text/plain": [
       "30"
      ]
     },
     "execution_count": 985,
     "metadata": {},
     "output_type": "execute_result"
    }
   ],
   "source": [
    "len(custom.birch_stab_acc)"
   ]
  },
  {
   "cell_type": "code",
   "execution_count": 986,
   "metadata": {},
   "outputs": [
    {
     "data": {
      "image/png": "[encoded data removed]",
      "text/plain": [
       "<Figure size 720x1152 with 1 Axes>"
      ]
     },
     "metadata": {
      "needs_background": "light"
     },
     "output_type": "display_data"
    }
   ],
   "source": [
    "fig = plt.figure(figsize=(10,16))\n",
    "sns.lineplot(x=np.arange(len(custom.birch_stab_acc)),y=custom.birch_stab_acc)\n",
    "plt.xlabel(\"Batches\")\n",
    "plt.ylabel(\"Balanced accuracy\")\n",
    "plt.savefig('Pong_birch_stab.png')"
   ]
  },
  {
   "cell_type": "code",
   "execution_count": 987,
   "metadata": {},
   "outputs": [
    {
     "data": {
      "image/png": "[encoded data removed]",
      "text/plain": [
       "<Figure size 720x1152 with 1 Axes>"
      ]
     },
     "metadata": {
      "needs_background": "light"
     },
     "output_type": "display_data"
    }
   ],
   "source": [
    "fig = plt.figure(figsize=(10,16))\n",
    "sns.lineplot(x=np.arange(len(custom.pca_stab_err)),y=custom.pca_stab_err)\n",
    "plt.xlabel(\"Batches\")\n",
    "plt.ylabel(\"Mean absolute error\")\n",
    "plt.savefig('Pong_pca_stab.png')"
   ]
  },
  {
   "cell_type": "code",
   "execution_count": 988,
   "metadata": {},
   "outputs": [],
   "source": [
    "object_list=[]\n",
    "for state in state_list:\n",
    "    label_image, objects, regions=find_cut_objects(state[::2,::2][17:97,8:72],custom.max_obj_height,custom.max_obj_width)\n",
    "    X=objects.reshape(objects.shape[0],-1)\n",
    "    object_list.append(X.copy())"
   ]
  },
  {
   "cell_type": "code",
   "execution_count": 989,
   "metadata": {},
   "outputs": [
    {
     "data": {
      "text/plain": [
       "1216"
      ]
     },
     "execution_count": 989,
     "metadata": {},
     "output_type": "execute_result"
    }
   ],
   "source": [
    "len(object_list)"
   ]
  },
  {
   "cell_type": "code",
   "execution_count": 990,
   "metadata": {},
   "outputs": [],
   "source": [
    "obj=object_list"
   ]
  },
  {
   "cell_type": "code",
   "execution_count": 991,
   "metadata": {},
   "outputs": [],
   "source": [
    "obj=np.concatenate(obj)"
   ]
  },
  {
   "cell_type": "code",
   "execution_count": 992,
   "metadata": {},
   "outputs": [
    {
     "data": {
      "text/plain": [
       "(2806, 80)"
      ]
     },
     "execution_count": 992,
     "metadata": {},
     "output_type": "execute_result"
    }
   ],
   "source": [
    "obj.shape"
   ]
  },
  {
   "cell_type": "code",
   "execution_count": 993,
   "metadata": {},
   "outputs": [],
   "source": [
    "obj=custom.pca_obj.transform(obj)"
   ]
  },
  {
   "cell_type": "code",
   "execution_count": 994,
   "metadata": {},
   "outputs": [],
   "source": [
    "lab=custom.image_seg.predict(obj)"
   ]
  },
  {
   "cell_type": "code",
   "execution_count": 995,
   "metadata": {},
   "outputs": [
    {
     "data": {
      "text/plain": [
       "0.873251733553631"
      ]
     },
     "execution_count": 995,
     "metadata": {},
     "output_type": "execute_result"
    }
   ],
   "source": [
    "metrics.silhouette_score(obj, lab, metric='euclidean')"
   ]
  },
  {
   "cell_type": "code",
   "execution_count": 996,
   "metadata": {},
   "outputs": [
    {
     "data": {
      "text/plain": [
       "0.1960887518680554"
      ]
     },
     "execution_count": 996,
     "metadata": {},
     "output_type": "execute_result"
    }
   ],
   "source": [
    "metrics.davies_bouldin_score(obj, lab)"
   ]
  },
  {
   "cell_type": "code",
   "execution_count": 997,
   "metadata": {},
   "outputs": [
    {
     "data": {
      "text/plain": [
       "0.2949019480323006"
      ]
     },
     "execution_count": 997,
     "metadata": {},
     "output_type": "execute_result"
    }
   ],
   "source": [
    "d = euclidean_distances(obj[::10])\n",
    "\n",
    "dunn.dunn(lab[::10],d)"
   ]
  },
  {
   "cell_type": "code",
   "execution_count": 998,
   "metadata": {},
   "outputs": [
    {
     "data": {
      "text/plain": [
       "array([0, 1, 2])"
      ]
     },
     "execution_count": 998,
     "metadata": {},
     "output_type": "execute_result"
    }
   ],
   "source": [
    "np.unique(lab)"
   ]
  },
  {
   "cell_type": "code",
   "execution_count": 999,
   "metadata": {},
   "outputs": [
    {
     "data": {
      "text/plain": [
       "<matplotlib.collections.PathCollection at 0x7fb4583f7190>"
      ]
     },
     "execution_count": 999,
     "metadata": {},
     "output_type": "execute_result"
    },
    {
     "data": {
      "image/png": "[encoded data removed]",
      "text/plain": [
       "<Figure size 432x288 with 1 Axes>"
      ]
     },
     "metadata": {
      "needs_background": "light"
     },
     "output_type": "display_data"
    }
   ],
   "source": [
    "plt.scatter(obj[:,0],obj[:,1])"
   ]
  },
  {
   "cell_type": "code",
   "execution_count": 1000,
   "metadata": {},
   "outputs": [],
   "source": [
    "# X_embedded = TSNE(n_components=2, init='random').fit_transform(obj)\n",
    "\n",
    "# df = pd.DataFrame(np.concatenate((X_embedded[:,:2],lab.reshape(-1,1)),axis=-1), columns=[\"x\", \"y\",\"z\"])\n",
    "# df[\"z\"]=df[\"z\"].astype(\"int\").astype(\"str\")"
   ]
  },
  {
   "cell_type": "code",
   "execution_count": 1001,
   "metadata": {},
   "outputs": [],
   "source": [
    "df = pd.DataFrame(np.concatenate((obj[:,:2],lab.reshape(-1,1)),axis=-1), columns=[\"x\", \"y\",\"z\"])\n",
    "df[\"z\"]=df[\"z\"].astype(\"int\").astype(\"str\")"
   ]
  },
  {
   "cell_type": "code",
   "execution_count": 1002,
   "metadata": {},
   "outputs": [],
   "source": [
    "df[\"z\"]=df[\"z\"].astype(\"int\")"
   ]
  },
  {
   "cell_type": "code",
   "execution_count": 1003,
   "metadata": {},
   "outputs": [],
   "source": [
    "df=df.sort_values([\"z\"])"
   ]
  },
  {
   "cell_type": "code",
   "execution_count": 1004,
   "metadata": {},
   "outputs": [],
   "source": [
    "df[\"Class\"]=df[\"z\"].astype(\"str\")"
   ]
  },
  {
   "cell_type": "code",
   "execution_count": 1005,
   "metadata": {},
   "outputs": [],
   "source": [
    "sns.set_palette(\"Paired\")"
   ]
  },
  {
   "cell_type": "code",
   "execution_count": 1006,
   "metadata": {},
   "outputs": [
    {
     "data": {
      "image/png": "[encoded data removed]",
      "text/plain": [
       "<Figure size 720x1152 with 1 Axes>"
      ]
     },
     "metadata": {
      "needs_background": "light"
     },
     "output_type": "display_data"
    }
   ],
   "source": [
    "fig = plt.figure(figsize=(10,16))\n",
    "sns.histplot(data=df,x=\"Class\",hue=\"Class\").set_yscale(\"log\")\n",
    "plt.savefig('Pong_hist.png')"
   ]
  },
  {
   "cell_type": "code",
   "execution_count": 1007,
   "metadata": {},
   "outputs": [],
   "source": [
    "df3=df"
   ]
  },
  {
   "cell_type": "code",
   "execution_count": 1008,
   "metadata": {},
   "outputs": [],
   "source": [
    "df4=df3.groupby([\"x\",\"y\",\"Class\"]).count()"
   ]
  },
  {
   "cell_type": "code",
   "execution_count": 1009,
   "metadata": {},
   "outputs": [],
   "source": [
    "df5=df4.groupby([\"Class\"]).apply(lambda x: 100 * x / float(x.sum())).reset_index()"
   ]
  },
  {
   "cell_type": "code",
   "execution_count": 1010,
   "metadata": {},
   "outputs": [],
   "source": [
    "df5[\"size\"]=df5[\"z\"]"
   ]
  },
  {
   "cell_type": "code",
   "execution_count": 1011,
   "metadata": {},
   "outputs": [],
   "source": [
    "df5[\"Class\"]=df5[\"Class\"].astype(\"int\")"
   ]
  },
  {
   "cell_type": "code",
   "execution_count": 1012,
   "metadata": {},
   "outputs": [],
   "source": [
    "df5=df5.sort_values([\"Class\"])"
   ]
  },
  {
   "cell_type": "code",
   "execution_count": 1013,
   "metadata": {},
   "outputs": [],
   "source": [
    "df5[\"Class\"]=df5[\"Class\"].astype(\"str\")"
   ]
  },
  {
   "cell_type": "code",
   "execution_count": 1014,
   "metadata": {},
   "outputs": [],
   "source": [
    "df6=df5.loc[df5[\"size\"]>2]"
   ]
  },
  {
   "cell_type": "code",
   "execution_count": 1015,
   "metadata": {},
   "outputs": [
    {
     "data": {
      "image/png": "[encoded data removed]",
      "text/plain": [
       "<Figure size 720x1152 with 1 Axes>"
      ]
     },
     "metadata": {
      "needs_background": "light"
     },
     "output_type": "display_data"
    }
   ],
   "source": [
    "fig = plt.figure(figsize=(10,16))\n",
    "sns.scatterplot(data=df6,x=\"x\",y=\"y\",hue=\"Class\",style=\"Class\",size=\"size\")\n",
    "plt.savefig('Pong_scatter_size.png')"
   ]
  },
  {
   "cell_type": "code",
   "execution_count": 1016,
   "metadata": {},
   "outputs": [
    {
     "data": {
      "image/png": "[encoded data removed]",
      "text/plain": [
       "<Figure size 720x1152 with 1 Axes>"
      ]
     },
     "metadata": {
      "needs_background": "light"
     },
     "output_type": "display_data"
    }
   ],
   "source": [
    "fig = plt.figure(figsize=(10,16))\n",
    "sns.scatterplot(data=df,x=\"x\",y=\"y\",hue=\"Class\",style=\"Class\",s=100)\n",
    "plt.savefig('Pong_scatter.png')"
   ]
  },
  {
   "cell_type": "markdown",
   "metadata": {},
   "source": [
    "# Emmbedding"
   ]
  },
  {
   "cell_type": "code",
   "execution_count": 1017,
   "metadata": {},
   "outputs": [],
   "source": [
    "X=np.array(emb)"
   ]
  },
  {
   "cell_type": "code",
   "execution_count": 1101,
   "metadata": {},
   "outputs": [],
   "source": [
    "emb_now=np.array(emb)[1:1000]"
   ]
  },
  {
   "cell_type": "code",
   "execution_count": 1102,
   "metadata": {},
   "outputs": [],
   "source": [
    "emb_next=np.array(emb)[2:1001]"
   ]
  },
  {
   "cell_type": "code",
   "execution_count": 1103,
   "metadata": {},
   "outputs": [],
   "source": [
    "emb_diff=emb_now-emb_next"
   ]
  },
  {
   "cell_type": "code",
   "execution_count": 1104,
   "metadata": {},
   "outputs": [],
   "source": [
    "act_now=np.array(action_list[1:1000])"
   ]
  },
  {
   "cell_type": "code",
   "execution_count": 1105,
   "metadata": {},
   "outputs": [],
   "source": [
    "up=emb_diff[act_now==2].mean(axis=0)"
   ]
  },
  {
   "cell_type": "code",
   "execution_count": 1106,
   "metadata": {},
   "outputs": [],
   "source": [
    "down=emb_diff[act_now==3].mean(axis=0)"
   ]
  },
  {
   "cell_type": "code",
   "execution_count": 1107,
   "metadata": {},
   "outputs": [
    {
     "data": {
      "text/plain": [
       "<matplotlib.collections.PathCollection at 0x7fb4585259d0>"
      ]
     },
     "execution_count": 1107,
     "metadata": {},
     "output_type": "execute_result"
    },
    {
     "data": {
      "image/png": "[encoded data removed]",
      "text/plain": [
       "<Figure size 432x288 with 1 Axes>"
      ]
     },
     "metadata": {
      "needs_background": "light"
     },
     "output_type": "display_data"
    }
   ],
   "source": [
    "plt.scatter(x=np.arange(16),y=up)\n",
    "plt.scatter(x=np.arange(16),y=down)"
   ]
  },
  {
   "cell_type": "code",
   "execution_count": 1178,
   "metadata": {},
   "outputs": [],
   "source": [
    "x=943-3"
   ]
  },
  {
   "cell_type": "code",
   "execution_count": 1179,
   "metadata": {},
   "outputs": [
    {
     "data": {
      "text/plain": [
       "array([0., 0., 0., 1., 0., 0., 0., 0., 0., 0.])"
      ]
     },
     "execution_count": 1179,
     "metadata": {},
     "output_type": "execute_result"
    }
   ],
   "source": [
    "reward[940:950]"
   ]
  },
  {
   "cell_type": "code",
   "execution_count": 1180,
   "metadata": {},
   "outputs": [
    {
     "data": {
      "image/png": "[encoded data removed]",
      "text/plain": [
       "<Figure size 720x432 with 1 Axes>"
      ]
     },
     "metadata": {
      "needs_background": "light"
     },
     "output_type": "display_data"
    },
    {
     "data": {
      "image/png": "[encoded data removed]",
      "text/plain": [
       "<Figure size 720x432 with 1 Axes>"
      ]
     },
     "metadata": {
      "needs_background": "light"
     },
     "output_type": "display_data"
    }
   ],
   "source": [
    "show_image(Label_imgs[x])\n",
    "show_image(Label_imgs[x+2])"
   ]
  },
  {
   "cell_type": "raw",
   "metadata": {},
   "source": [
    "show_image(Label_imgs[x]-Label_imgs[x+1])"
   ]
  },
  {
   "cell_type": "code",
   "execution_count": 1146,
   "metadata": {},
   "outputs": [
    {
     "data": {
      "text/plain": [
       "array([2, 2, 3, 3, 2, 3])"
      ]
     },
     "execution_count": 1146,
     "metadata": {},
     "output_type": "execute_result"
    }
   ],
   "source": [
    "act_next[x:x+6]"
   ]
  },
  {
   "cell_type": "code",
   "execution_count": 1147,
   "metadata": {},
   "outputs": [
    {
     "data": {
      "text/plain": [
       "array([2, 2, 3, 3, 2, 3])"
      ]
     },
     "execution_count": 1147,
     "metadata": {},
     "output_type": "execute_result"
    }
   ],
   "source": [
    "act_now[x:x+6]"
   ]
  },
  {
   "cell_type": "code",
   "execution_count": 1181,
   "metadata": {},
   "outputs": [
    {
     "data": {
      "text/plain": [
       "array([-0.02499586,  0.00256342,  0.02449928, -0.01067627, -0.02499586,\n",
       "        0.02738314,  0.24284938,  0.95807373,  0.        , -0.02481973,\n",
       "       -0.2183501 , -0.96875   ,  0.        ,  0.        ,  0.        ,\n",
       "        0.        ])"
      ]
     },
     "execution_count": 1181,
     "metadata": {},
     "output_type": "execute_result"
    }
   ],
   "source": [
    "emb_diff[x]"
   ]
  },
  {
   "cell_type": "code",
   "execution_count": 1112,
   "metadata": {},
   "outputs": [],
   "source": [
    "reward=np.array(reward_list[1:1000])"
   ]
  },
  {
   "cell_type": "code",
   "execution_count": 1113,
   "metadata": {},
   "outputs": [],
   "source": [
    "state=np.hstack((emb_now,act_now.reshape(-1,1)))"
   ]
  },
  {
   "cell_type": "code",
   "execution_count": 1117,
   "metadata": {},
   "outputs": [],
   "source": [
    "from sklearn.ensemble import RandomForestClassifier"
   ]
  },
  {
   "cell_type": "code",
   "execution_count": 1120,
   "metadata": {},
   "outputs": [],
   "source": [
    "clf=ExtraTreesRegressor()"
   ]
  },
  {
   "cell_type": "code",
   "execution_count": 1122,
   "metadata": {},
   "outputs": [
    {
     "data": {
      "text/plain": [
       "ExtraTreesRegressor()"
      ]
     },
     "execution_count": 1122,
     "metadata": {},
     "output_type": "execute_result"
    }
   ],
   "source": [
    "clf.fit(state, emb_next)"
   ]
  },
  {
   "cell_type": "code",
   "execution_count": 1149,
   "metadata": {},
   "outputs": [
    {
     "data": {
      "text/plain": [
       "-9.08515838469535e-18"
      ]
     },
     "execution_count": 1149,
     "metadata": {},
     "output_type": "execute_result"
    }
   ],
   "source": [
    "np.mean(clf.predict(state)[:,12:16]-emb_next[:,12:16])"
   ]
  },
  {
   "cell_type": "code",
   "execution_count": 1140,
   "metadata": {},
   "outputs": [
    {
     "data": {
      "text/plain": [
       "(999, 16)"
      ]
     },
     "execution_count": 1140,
     "metadata": {},
     "output_type": "execute_result"
    }
   ],
   "source": [
    "emb_next.shape"
   ]
  },
  {
   "cell_type": "code",
   "execution_count": 1129,
   "metadata": {},
   "outputs": [
    {
     "data": {
      "text/plain": [
       "0.9687272544378663"
      ]
     },
     "execution_count": 1129,
     "metadata": {},
     "output_type": "execute_result"
    }
   ],
   "source": [
    "clf.score(state,emb_next)"
   ]
  },
  {
   "cell_type": "code",
   "execution_count": 1137,
   "metadata": {},
   "outputs": [
    {
     "data": {
      "text/plain": [
       "0.9687272544378663"
      ]
     },
     "execution_count": 1137,
     "metadata": {},
     "output_type": "execute_result"
    }
   ],
   "source": [
    "clf.score(state,emb_next)"
   ]
  },
  {
   "cell_type": "code",
   "execution_count": 1133,
   "metadata": {},
   "outputs": [],
   "source": [
    "state_next=np.hstack((clf.predict(state),np.array(action_list[2:1001]).reshape(-1,1)))"
   ]
  },
  {
   "cell_type": "code",
   "execution_count": 1136,
   "metadata": {},
   "outputs": [
    {
     "data": {
      "text/plain": [
       "0.0027010083505930966"
      ]
     },
     "execution_count": 1136,
     "metadata": {},
     "output_type": "execute_result"
    }
   ],
   "source": [
    "np.mean(clf.predict(state_next)-np.array(emb)[3:1002])"
   ]
  },
  {
   "cell_type": "code",
   "execution_count": null,
   "metadata": {},
   "outputs": [],
   "source": [
    "np.mean(clf.predict(state_next)-np.array(emb)[3:1002])"
   ]
  },
  {
   "cell_type": "code",
   "execution_count": 1076,
   "metadata": {},
   "outputs": [],
   "source": [
    "from skmultiflow.meta import AdaptiveRandomForestClassifier"
   ]
  },
  {
   "cell_type": "code",
   "execution_count": 1077,
   "metadata": {},
   "outputs": [],
   "source": [
    "state=np.hstack((emb_now,act_now.reshape(-1,1)))"
   ]
  },
  {
   "cell_type": "code",
   "execution_count": 1078,
   "metadata": {},
   "outputs": [
    {
     "data": {
      "text/plain": [
       "0.5875875875875876"
      ]
     },
     "execution_count": 1078,
     "metadata": {},
     "output_type": "execute_result"
    }
   ],
   "source": [
    "clf = HoeffdingAdaptiveTreeClassifier(random_state=0)\n",
    "clf.partial_fit(emb_diff, act_now)\n",
    "\n",
    "np.mean(clf.predict(emb_diff)==act_now)"
   ]
  },
  {
   "cell_type": "code",
   "execution_count": 1079,
   "metadata": {},
   "outputs": [
    {
     "data": {
      "text/plain": [
       "[Rule(class_distribution=None, class_idx=2, drift_detector=None)]"
      ]
     },
     "execution_count": 1079,
     "metadata": {},
     "output_type": "execute_result"
    }
   ],
   "source": [
    "clf.get_model_rules()"
   ]
  },
  {
   "cell_type": "code",
   "execution_count": 1080,
   "metadata": {},
   "outputs": [],
   "source": [
    "from sklearn.ensemble import ExtraTreesClassifier"
   ]
  },
  {
   "cell_type": "code",
   "execution_count": 1098,
   "metadata": {},
   "outputs": [],
   "source": [
    "from sklearn.ensemble import ExtraTreesRegressor"
   ]
  },
  {
   "cell_type": "code",
   "execution_count": 1082,
   "metadata": {},
   "outputs": [],
   "source": [
    "from sklearn.tree import DecisionTreeRegressor"
   ]
  },
  {
   "cell_type": "code",
   "execution_count": 1083,
   "metadata": {},
   "outputs": [],
   "source": [
    "from sklearn.tree import DecisionTreeClassifier"
   ]
  },
  {
   "cell_type": "code",
   "execution_count": 1084,
   "metadata": {},
   "outputs": [],
   "source": [
    "from skmultiflow.trees import HoeffdingAdaptiveTreeClassifier"
   ]
  },
  {
   "cell_type": "code",
   "execution_count": 1160,
   "metadata": {},
   "outputs": [
    {
     "data": {
      "text/plain": [
       "0.058823529411764705"
      ]
     },
     "execution_count": 1160,
     "metadata": {},
     "output_type": "execute_result"
    }
   ],
   "source": [
    "clf = HoeffdingTreeClassifier()\n",
    "clf.fit(state[reward!=0], reward[reward!=0])\n",
    "\n",
    "np.mean(clf.predict(state[reward!=0])==reward[reward!=0])"
   ]
  },
  {
   "cell_type": "code",
   "execution_count": 1162,
   "metadata": {},
   "outputs": [
    {
     "data": {
      "text/plain": [
       "array([[0.65741605, 0.82532193, 0.53120834, 0.2966977 , 0.65741605,\n",
       "        0.82532193, 0.53120834, 0.2966977 , 0.        , 0.        ,\n",
       "        0.        , 0.        , 0.        , 0.        , 0.        ,\n",
       "        0.        , 2.        ],\n",
       "       [1.13424469, 1.04590722, 0.06872903, 0.15604169, 1.13424469,\n",
       "        1.04590722, 0.06872903, 0.15604169, 0.        , 0.        ,\n",
       "        0.        , 0.        , 0.        , 0.        , 0.        ,\n",
       "        0.        , 3.        ],\n",
       "       [1.01246849, 0.69766228, 0.13203202, 0.50589412, 1.01246849,\n",
       "        0.69766228, 0.13203202, 0.50589412, 0.        , 0.        ,\n",
       "        0.        , 0.        , 0.        , 0.        , 0.        ,\n",
       "        0.        , 3.        ],\n",
       "       [1.08239232, 0.87149797, 0.06872903, 0.3309872 , 1.08239232,\n",
       "        0.87149797, 0.06872903, 0.3309872 , 0.        , 0.        ,\n",
       "        0.        , 0.        , 0.        , 0.        , 0.        ,\n",
       "        0.        , 3.        ],\n",
       "       [0.96964662, 0.62270705, 0.16983034, 0.58083043, 0.96964662,\n",
       "        0.62270705, 0.16983034, 0.58083043, 0.        , 0.        ,\n",
       "        0.        , 0.        , 0.        , 0.        , 0.        ,\n",
       "        0.        , 2.        ],\n",
       "       [0.93096649, 0.34682293, 0.27436411, 0.85503233, 0.93096649,\n",
       "        0.34682293, 0.27436411, 0.85503233, 0.        , 0.        ,\n",
       "        0.        , 0.        , 0.        , 0.        , 0.        ,\n",
       "        0.        , 3.        ],\n",
       "       [0.91850997, 0.44561997, 0.26283664, 0.75552991, 0.91850997,\n",
       "        0.44561997, 0.26283664, 0.75552991, 0.        , 0.        ,\n",
       "        0.        , 0.        , 0.        , 0.        , 0.        ,\n",
       "        0.        , 3.        ],\n",
       "       [1.16125436, 1.16233311, 0.0562293 , 0.03731739, 1.16125436,\n",
       "        1.16233311, 0.0562293 , 0.03731739, 0.        , 0.        ,\n",
       "        0.        , 0.        , 0.        , 0.        , 0.        ,\n",
       "        0.        , 2.        ],\n",
       "       [0.93096649, 0.48428368, 0.23839589, 0.71812569, 0.93096649,\n",
       "        0.48428368, 0.23839589, 0.71812569, 0.        , 0.        ,\n",
       "        0.        , 0.        , 0.        , 0.        , 0.        ,\n",
       "        0.        , 3.        ],\n",
       "       [0.98435972, 0.64769346, 0.15774969, 0.55585405, 0.98435972,\n",
       "        0.64769346, 0.15774969, 0.55585405, 0.        , 0.        ,\n",
       "        0.        , 0.        , 0.        , 0.        , 0.        ,\n",
       "        0.        , 3.        ],\n",
       "       [1.08719335, 0.88397721, 0.06872903, 0.31849202, 1.08719335,\n",
       "        0.88397721, 0.06872903, 0.31849202, 0.        , 0.        ,\n",
       "        0.        , 0.        , 0.        , 0.        , 0.        ,\n",
       "        0.        , 2.        ],\n",
       "       [1.137035  , 1.17558587, 0.08122874, 0.01857088, 0.91850997,\n",
       "        0.20210237, 0.08122874, 0.        , 0.21852503, 0.9734835 ,\n",
       "        0.        , 0.01857088, 0.        , 0.        , 0.        ,\n",
       "        0.        , 2.        ],\n",
       "       [1.12604996, 1.00862306, 0.06872903, 0.19353201, 1.12604996,\n",
       "        1.00862306, 0.06872903, 0.19353201, 0.        , 0.        ,\n",
       "        0.        , 0.        , 0.        , 0.        , 0.        ,\n",
       "        0.        , 3.        ],\n",
       "       [0.94340384, 0.34780412, 0.26186439, 0.85503233, 0.94340384,\n",
       "        0.34780412, 0.26186439, 0.85503233, 0.        , 0.        ,\n",
       "        0.        , 0.        , 0.        , 0.        , 0.        ,\n",
       "        0.        , 3.        ],\n",
       "       [1.04492422, 0.76011344, 0.09718518, 0.44343408, 1.04492422,\n",
       "        0.76011344, 0.09718518, 0.44343408, 0.        , 0.        ,\n",
       "        0.        , 0.        , 0.        , 0.        , 0.        ,\n",
       "        0.        , 3.        ],\n",
       "       [0.93096649, 0.2468444 , 0.28625499, 0.95240142, 0.93096649,\n",
       "        0.2468444 , 0.28625499, 0.95240142, 0.        , 0.        ,\n",
       "        0.        , 0.        , 0.        , 0.        , 0.        ,\n",
       "        0.        , 3.        ],\n",
       "       [0.73117734, 0.29303478, 0.476525  , 0.86741748, 0.73117734,\n",
       "        0.29303478, 0.476525  , 0.86741748, 0.        , 0.        ,\n",
       "        0.        , 0.        , 0.        , 0.        , 0.        ,\n",
       "        0.        , 3.        ]])"
      ]
     },
     "execution_count": 1162,
     "metadata": {},
     "output_type": "execute_result"
    }
   ],
   "source": [
    "state[reward!=0]"
   ]
  },
  {
   "cell_type": "code",
   "execution_count": 1086,
   "metadata": {},
   "outputs": [],
   "source": [
    "from sklearn.model_selection import cross_val_score"
   ]
  },
  {
   "cell_type": "code",
   "execution_count": 1087,
   "metadata": {},
   "outputs": [],
   "source": [
    "clf = ExtraTreesRegressor(random_state=0)"
   ]
  },
  {
   "cell_type": "code",
   "execution_count": 1088,
   "metadata": {},
   "outputs": [
    {
     "data": {
      "text/plain": [
       "(999, 17)"
      ]
     },
     "execution_count": 1088,
     "metadata": {},
     "output_type": "execute_result"
    }
   ],
   "source": [
    "state.shape"
   ]
  },
  {
   "cell_type": "code",
   "execution_count": 1089,
   "metadata": {},
   "outputs": [
    {
     "data": {
      "text/plain": [
       "(999,)"
      ]
     },
     "execution_count": 1089,
     "metadata": {},
     "output_type": "execute_result"
    }
   ],
   "source": [
    "reward.shape"
   ]
  },
  {
   "cell_type": "code",
   "execution_count": 1093,
   "metadata": {},
   "outputs": [
    {
     "data": {
      "text/plain": [
       "1.0"
      ]
     },
     "execution_count": 1093,
     "metadata": {},
     "output_type": "execute_result"
    }
   ],
   "source": [
    "clf = RandomForestClassifier(random_state=0)\n",
    "clf.fit(state, reward)\n",
    "\n",
    "np.mean(clf.predict(state)==reward)"
   ]
  },
  {
   "cell_type": "code",
   "execution_count": 1094,
   "metadata": {},
   "outputs": [],
   "source": [
    "reward_pred=clf.predict(state)"
   ]
  },
  {
   "cell_type": "code",
   "execution_count": 1095,
   "metadata": {},
   "outputs": [
    {
     "name": "stdout",
     "output_type": "stream",
     "text": [
      "-1.0:1.0 N:16\n",
      "0.0:1.0 N:982\n",
      "1.0:1.0 N:1\n"
     ]
    }
   ],
   "source": [
    "for x in np.unique(reward):\n",
    "    print(str(x)+\":\"+str(np.mean(reward_pred[reward_pred==x]==reward[reward_pred==x]))+\" N:\"+str(np.sum(reward_pred==x)))"
   ]
  },
  {
   "cell_type": "code",
   "execution_count": 646,
   "metadata": {},
   "outputs": [
    {
     "data": {
      "text/plain": [
       "0.015770609318996417"
      ]
     },
     "execution_count": 646,
     "metadata": {},
     "output_type": "execute_result"
    }
   ],
   "source": [
    "22/1395"
   ]
  },
  {
   "cell_type": "code",
   "execution_count": 255,
   "metadata": {},
   "outputs": [
    {
     "name": "stdout",
     "output_type": "stream",
     "text": [
      "No Nominal attributes have been defined, will consider all attributes as numerical\n"
     ]
    }
   ],
   "source": [
    "lc_ht=VeryFastDecisionRulesClassifier()"
   ]
  },
  {
   "cell_type": "code",
   "execution_count": 260,
   "metadata": {},
   "outputs": [
    {
     "ename": "TypeError",
     "evalue": "unsupported operand type(s) for -: 'list' and 'list'",
     "output_type": "error",
     "traceback": [
      "\u001b[0;31m---------------------------------------------------------------------------\u001b[0m",
      "\u001b[0;31mTypeError\u001b[0m                                 Traceback (most recent call last)",
      "Input \u001b[0;32mIn [260]\u001b[0m, in \u001b[0;36m<cell line: 1>\u001b[0;34m()\u001b[0m\n\u001b[0;32m----> 1\u001b[0m lc_ht\u001b[38;5;241m.\u001b[39mpartial_fit(\u001b[43memb_now\u001b[49m\u001b[38;5;241;43m-\u001b[39;49m\u001b[43memb_next\u001b[49m,act_now)\n",
      "\u001b[0;31mTypeError\u001b[0m: unsupported operand type(s) for -: 'list' and 'list'"
     ]
    }
   ],
   "source": [
    "lc_ht.partial_fit(emb_now-emb_next,act_now)"
   ]
  },
  {
   "cell_type": "code",
   "execution_count": 257,
   "metadata": {},
   "outputs": [
    {
     "data": {
      "text/plain": [
       "0.5370501058574453"
      ]
     },
     "execution_count": 257,
     "metadata": {},
     "output_type": "execute_result"
    }
   ],
   "source": [
    "np.mean(lc_ht.predict(state)==act_now)"
   ]
  },
  {
   "cell_type": "code",
   "execution_count": 258,
   "metadata": {},
   "outputs": [
    {
     "name": "stdout",
     "output_type": "stream",
     "text": [
      "Default Rule :| class :2  {2: 737.0, 3: 680.0}\n"
     ]
    }
   ],
   "source": [
    "print(lc_ht.get_model_description())"
   ]
  },
  {
   "cell_type": "code",
   "execution_count": 647,
   "metadata": {},
   "outputs": [
    {
     "data": {
      "text/plain": [
       "array([[ 0.,  0.],\n",
       "       [ 0., 64.],\n",
       "       [80.,  0.],\n",
       "       [80., 64.]])"
      ]
     },
     "execution_count": 647,
     "metadata": {},
     "output_type": "execute_result"
    }
   ],
   "source": [
    "custom.grid"
   ]
  },
  {
   "cell_type": "code",
   "execution_count": 648,
   "metadata": {},
   "outputs": [
    {
     "data": {
      "image/png": "[encoded data removed]",
      "text/plain": [
       "<Figure size 720x432 with 1 Axes>"
      ]
     },
     "metadata": {
      "needs_background": "light"
     },
     "output_type": "display_data"
    }
   ],
   "source": [
    "show_image(state_list[100])"
   ]
  },
  {
   "cell_type": "code",
   "execution_count": 139,
   "metadata": {},
   "outputs": [],
   "source": [
    "ch=(X[:-1]-X[1:])[:,10]"
   ]
  },
  {
   "cell_type": "code",
   "execution_count": 140,
   "metadata": {},
   "outputs": [
    {
     "data": {
      "text/plain": [
       "[<matplotlib.lines.Line2D at 0x7f2aa5adb220>]"
      ]
     },
     "execution_count": 140,
     "metadata": {},
     "output_type": "execute_result"
    },
    {
     "data": {
      "image/png": "[encoded data removed]",
      "text/plain": [
       "<Figure size 432x288 with 1 Axes>"
      ]
     },
     "metadata": {
      "needs_background": "light"
     },
     "output_type": "display_data"
    }
   ],
   "source": [
    "plt.plot(ch)\n",
    "plt.plot(reward_list)"
   ]
  },
  {
   "cell_type": "code",
   "execution_count": 448,
   "metadata": {},
   "outputs": [],
   "source": [
    "brc = Birch(n_clusters=32,threshold=0.5).fit(X)"
   ]
  },
  {
   "cell_type": "code",
   "execution_count": 449,
   "metadata": {},
   "outputs": [],
   "source": [
    "lab=brc.labels_"
   ]
  },
  {
   "cell_type": "code",
   "execution_count": 450,
   "metadata": {},
   "outputs": [
    {
     "ename": "ValueError",
     "evalue": "Found input variables with inconsistent numbers of samples: [2, 7315]",
     "output_type": "error",
     "traceback": [
      "\u001b[0;31m---------------------------------------------------------------------------\u001b[0m",
      "\u001b[0;31mValueError\u001b[0m                                Traceback (most recent call last)",
      "Input \u001b[0;32mIn [450]\u001b[0m, in \u001b[0;36m<cell line: 1>\u001b[0;34m()\u001b[0m\n\u001b[0;32m----> 1\u001b[0m \u001b[43mmetrics\u001b[49m\u001b[38;5;241;43m.\u001b[39;49m\u001b[43msilhouette_score\u001b[49m\u001b[43m(\u001b[49m\u001b[43mX\u001b[49m\u001b[43m,\u001b[49m\u001b[43m \u001b[49m\u001b[43mlab\u001b[49m\u001b[43m,\u001b[49m\u001b[43m \u001b[49m\u001b[43mmetric\u001b[49m\u001b[38;5;241;43m=\u001b[39;49m\u001b[38;5;124;43m'\u001b[39;49m\u001b[38;5;124;43meuclidean\u001b[39;49m\u001b[38;5;124;43m'\u001b[39;49m\u001b[43m)\u001b[49m\n",
      "File \u001b[0;32m~/anaconda3/envs/master/lib/python3.9/site-packages/sklearn/utils/validation.py:72\u001b[0m, in \u001b[0;36m_deprecate_positional_args.<locals>.inner_f\u001b[0;34m(*args, **kwargs)\u001b[0m\n\u001b[1;32m     67\u001b[0m     warnings\u001b[38;5;241m.\u001b[39mwarn(\u001b[38;5;124m\"\u001b[39m\u001b[38;5;124mPass \u001b[39m\u001b[38;5;132;01m{}\u001b[39;00m\u001b[38;5;124m as keyword args. From version 0.25 \u001b[39m\u001b[38;5;124m\"\u001b[39m\n\u001b[1;32m     68\u001b[0m                   \u001b[38;5;124m\"\u001b[39m\u001b[38;5;124mpassing these as positional arguments will \u001b[39m\u001b[38;5;124m\"\u001b[39m\n\u001b[1;32m     69\u001b[0m                   \u001b[38;5;124m\"\u001b[39m\u001b[38;5;124mresult in an error\u001b[39m\u001b[38;5;124m\"\u001b[39m\u001b[38;5;241m.\u001b[39mformat(\u001b[38;5;124m\"\u001b[39m\u001b[38;5;124m, \u001b[39m\u001b[38;5;124m\"\u001b[39m\u001b[38;5;241m.\u001b[39mjoin(args_msg)),\n\u001b[1;32m     70\u001b[0m                   \u001b[38;5;167;01mFutureWarning\u001b[39;00m)\n\u001b[1;32m     71\u001b[0m kwargs\u001b[38;5;241m.\u001b[39mupdate({k: arg \u001b[38;5;28;01mfor\u001b[39;00m k, arg \u001b[38;5;129;01min\u001b[39;00m \u001b[38;5;28mzip\u001b[39m(sig\u001b[38;5;241m.\u001b[39mparameters, args)})\n\u001b[0;32m---> 72\u001b[0m \u001b[38;5;28;01mreturn\u001b[39;00m \u001b[43mf\u001b[49m\u001b[43m(\u001b[49m\u001b[38;5;241;43m*\u001b[39;49m\u001b[38;5;241;43m*\u001b[39;49m\u001b[43mkwargs\u001b[49m\u001b[43m)\u001b[49m\n",
      "File \u001b[0;32m~/anaconda3/envs/master/lib/python3.9/site-packages/sklearn/metrics/cluster/_unsupervised.py:117\u001b[0m, in \u001b[0;36msilhouette_score\u001b[0;34m(X, labels, metric, sample_size, random_state, **kwds)\u001b[0m\n\u001b[1;32m    115\u001b[0m     \u001b[38;5;28;01melse\u001b[39;00m:\n\u001b[1;32m    116\u001b[0m         X, labels \u001b[38;5;241m=\u001b[39m X[indices], labels[indices]\n\u001b[0;32m--> 117\u001b[0m \u001b[38;5;28;01mreturn\u001b[39;00m np\u001b[38;5;241m.\u001b[39mmean(\u001b[43msilhouette_samples\u001b[49m\u001b[43m(\u001b[49m\u001b[43mX\u001b[49m\u001b[43m,\u001b[49m\u001b[43m \u001b[49m\u001b[43mlabels\u001b[49m\u001b[43m,\u001b[49m\u001b[43m \u001b[49m\u001b[43mmetric\u001b[49m\u001b[38;5;241;43m=\u001b[39;49m\u001b[43mmetric\u001b[49m\u001b[43m,\u001b[49m\u001b[43m \u001b[49m\u001b[38;5;241;43m*\u001b[39;49m\u001b[38;5;241;43m*\u001b[39;49m\u001b[43mkwds\u001b[49m\u001b[43m)\u001b[49m)\n",
      "File \u001b[0;32m~/anaconda3/envs/master/lib/python3.9/site-packages/sklearn/utils/validation.py:72\u001b[0m, in \u001b[0;36m_deprecate_positional_args.<locals>.inner_f\u001b[0;34m(*args, **kwargs)\u001b[0m\n\u001b[1;32m     67\u001b[0m     warnings\u001b[38;5;241m.\u001b[39mwarn(\u001b[38;5;124m\"\u001b[39m\u001b[38;5;124mPass \u001b[39m\u001b[38;5;132;01m{}\u001b[39;00m\u001b[38;5;124m as keyword args. From version 0.25 \u001b[39m\u001b[38;5;124m\"\u001b[39m\n\u001b[1;32m     68\u001b[0m                   \u001b[38;5;124m\"\u001b[39m\u001b[38;5;124mpassing these as positional arguments will \u001b[39m\u001b[38;5;124m\"\u001b[39m\n\u001b[1;32m     69\u001b[0m                   \u001b[38;5;124m\"\u001b[39m\u001b[38;5;124mresult in an error\u001b[39m\u001b[38;5;124m\"\u001b[39m\u001b[38;5;241m.\u001b[39mformat(\u001b[38;5;124m\"\u001b[39m\u001b[38;5;124m, \u001b[39m\u001b[38;5;124m\"\u001b[39m\u001b[38;5;241m.\u001b[39mjoin(args_msg)),\n\u001b[1;32m     70\u001b[0m                   \u001b[38;5;167;01mFutureWarning\u001b[39;00m)\n\u001b[1;32m     71\u001b[0m kwargs\u001b[38;5;241m.\u001b[39mupdate({k: arg \u001b[38;5;28;01mfor\u001b[39;00m k, arg \u001b[38;5;129;01min\u001b[39;00m \u001b[38;5;28mzip\u001b[39m(sig\u001b[38;5;241m.\u001b[39mparameters, args)})\n\u001b[0;32m---> 72\u001b[0m \u001b[38;5;28;01mreturn\u001b[39;00m \u001b[43mf\u001b[49m\u001b[43m(\u001b[49m\u001b[38;5;241;43m*\u001b[39;49m\u001b[38;5;241;43m*\u001b[39;49m\u001b[43mkwargs\u001b[49m\u001b[43m)\u001b[49m\n",
      "File \u001b[0;32m~/anaconda3/envs/master/lib/python3.9/site-packages/sklearn/metrics/cluster/_unsupervised.py:214\u001b[0m, in \u001b[0;36msilhouette_samples\u001b[0;34m(X, labels, metric, **kwds)\u001b[0m\n\u001b[1;32m    152\u001b[0m \u001b[38;5;129m@_deprecate_positional_args\u001b[39m\n\u001b[1;32m    153\u001b[0m \u001b[38;5;28;01mdef\u001b[39;00m \u001b[38;5;21msilhouette_samples\u001b[39m(X, labels, \u001b[38;5;241m*\u001b[39m, metric\u001b[38;5;241m=\u001b[39m\u001b[38;5;124m'\u001b[39m\u001b[38;5;124meuclidean\u001b[39m\u001b[38;5;124m'\u001b[39m, \u001b[38;5;241m*\u001b[39m\u001b[38;5;241m*\u001b[39mkwds):\n\u001b[1;32m    154\u001b[0m     \u001b[38;5;124;03m\"\"\"Compute the Silhouette Coefficient for each sample.\u001b[39;00m\n\u001b[1;32m    155\u001b[0m \n\u001b[1;32m    156\u001b[0m \u001b[38;5;124;03m    The Silhouette Coefficient is a measure of how well samples are clustered\u001b[39;00m\n\u001b[0;32m   (...)\u001b[0m\n\u001b[1;32m    212\u001b[0m \n\u001b[1;32m    213\u001b[0m \u001b[38;5;124;03m    \"\"\"\u001b[39;00m\n\u001b[0;32m--> 214\u001b[0m     X, labels \u001b[38;5;241m=\u001b[39m \u001b[43mcheck_X_y\u001b[49m\u001b[43m(\u001b[49m\u001b[43mX\u001b[49m\u001b[43m,\u001b[49m\u001b[43m \u001b[49m\u001b[43mlabels\u001b[49m\u001b[43m,\u001b[49m\u001b[43m \u001b[49m\u001b[43maccept_sparse\u001b[49m\u001b[38;5;241;43m=\u001b[39;49m\u001b[43m[\u001b[49m\u001b[38;5;124;43m'\u001b[39;49m\u001b[38;5;124;43mcsc\u001b[39;49m\u001b[38;5;124;43m'\u001b[39;49m\u001b[43m,\u001b[49m\u001b[43m \u001b[49m\u001b[38;5;124;43m'\u001b[39;49m\u001b[38;5;124;43mcsr\u001b[39;49m\u001b[38;5;124;43m'\u001b[39;49m\u001b[43m]\u001b[49m\u001b[43m)\u001b[49m\n\u001b[1;32m    216\u001b[0m     \u001b[38;5;66;03m# Check for non-zero diagonal entries in precomputed distance matrix\u001b[39;00m\n\u001b[1;32m    217\u001b[0m     \u001b[38;5;28;01mif\u001b[39;00m metric \u001b[38;5;241m==\u001b[39m \u001b[38;5;124m'\u001b[39m\u001b[38;5;124mprecomputed\u001b[39m\u001b[38;5;124m'\u001b[39m:\n",
      "File \u001b[0;32m~/anaconda3/envs/master/lib/python3.9/site-packages/sklearn/utils/validation.py:72\u001b[0m, in \u001b[0;36m_deprecate_positional_args.<locals>.inner_f\u001b[0;34m(*args, **kwargs)\u001b[0m\n\u001b[1;32m     67\u001b[0m     warnings\u001b[38;5;241m.\u001b[39mwarn(\u001b[38;5;124m\"\u001b[39m\u001b[38;5;124mPass \u001b[39m\u001b[38;5;132;01m{}\u001b[39;00m\u001b[38;5;124m as keyword args. From version 0.25 \u001b[39m\u001b[38;5;124m\"\u001b[39m\n\u001b[1;32m     68\u001b[0m                   \u001b[38;5;124m\"\u001b[39m\u001b[38;5;124mpassing these as positional arguments will \u001b[39m\u001b[38;5;124m\"\u001b[39m\n\u001b[1;32m     69\u001b[0m                   \u001b[38;5;124m\"\u001b[39m\u001b[38;5;124mresult in an error\u001b[39m\u001b[38;5;124m\"\u001b[39m\u001b[38;5;241m.\u001b[39mformat(\u001b[38;5;124m\"\u001b[39m\u001b[38;5;124m, \u001b[39m\u001b[38;5;124m\"\u001b[39m\u001b[38;5;241m.\u001b[39mjoin(args_msg)),\n\u001b[1;32m     70\u001b[0m                   \u001b[38;5;167;01mFutureWarning\u001b[39;00m)\n\u001b[1;32m     71\u001b[0m kwargs\u001b[38;5;241m.\u001b[39mupdate({k: arg \u001b[38;5;28;01mfor\u001b[39;00m k, arg \u001b[38;5;129;01min\u001b[39;00m \u001b[38;5;28mzip\u001b[39m(sig\u001b[38;5;241m.\u001b[39mparameters, args)})\n\u001b[0;32m---> 72\u001b[0m \u001b[38;5;28;01mreturn\u001b[39;00m \u001b[43mf\u001b[49m\u001b[43m(\u001b[49m\u001b[38;5;241;43m*\u001b[39;49m\u001b[38;5;241;43m*\u001b[39;49m\u001b[43mkwargs\u001b[49m\u001b[43m)\u001b[49m\n",
      "File \u001b[0;32m~/anaconda3/envs/master/lib/python3.9/site-packages/sklearn/utils/validation.py:812\u001b[0m, in \u001b[0;36mcheck_X_y\u001b[0;34m(X, y, accept_sparse, accept_large_sparse, dtype, order, copy, force_all_finite, ensure_2d, allow_nd, multi_output, ensure_min_samples, ensure_min_features, y_numeric, estimator)\u001b[0m\n\u001b[1;32m    809\u001b[0m \u001b[38;5;28;01mif\u001b[39;00m y_numeric \u001b[38;5;129;01mand\u001b[39;00m y\u001b[38;5;241m.\u001b[39mdtype\u001b[38;5;241m.\u001b[39mkind \u001b[38;5;241m==\u001b[39m \u001b[38;5;124m'\u001b[39m\u001b[38;5;124mO\u001b[39m\u001b[38;5;124m'\u001b[39m:\n\u001b[1;32m    810\u001b[0m     y \u001b[38;5;241m=\u001b[39m y\u001b[38;5;241m.\u001b[39mastype(np\u001b[38;5;241m.\u001b[39mfloat64)\n\u001b[0;32m--> 812\u001b[0m \u001b[43mcheck_consistent_length\u001b[49m\u001b[43m(\u001b[49m\u001b[43mX\u001b[49m\u001b[43m,\u001b[49m\u001b[43m \u001b[49m\u001b[43my\u001b[49m\u001b[43m)\u001b[49m\n\u001b[1;32m    814\u001b[0m \u001b[38;5;28;01mreturn\u001b[39;00m X, y\n",
      "File \u001b[0;32m~/anaconda3/envs/master/lib/python3.9/site-packages/sklearn/utils/validation.py:255\u001b[0m, in \u001b[0;36mcheck_consistent_length\u001b[0;34m(*arrays)\u001b[0m\n\u001b[1;32m    253\u001b[0m uniques \u001b[38;5;241m=\u001b[39m np\u001b[38;5;241m.\u001b[39munique(lengths)\n\u001b[1;32m    254\u001b[0m \u001b[38;5;28;01mif\u001b[39;00m \u001b[38;5;28mlen\u001b[39m(uniques) \u001b[38;5;241m>\u001b[39m \u001b[38;5;241m1\u001b[39m:\n\u001b[0;32m--> 255\u001b[0m     \u001b[38;5;28;01mraise\u001b[39;00m \u001b[38;5;167;01mValueError\u001b[39;00m(\u001b[38;5;124m\"\u001b[39m\u001b[38;5;124mFound input variables with inconsistent numbers of\u001b[39m\u001b[38;5;124m\"\u001b[39m\n\u001b[1;32m    256\u001b[0m                      \u001b[38;5;124m\"\u001b[39m\u001b[38;5;124m samples: \u001b[39m\u001b[38;5;132;01m%r\u001b[39;00m\u001b[38;5;124m\"\u001b[39m \u001b[38;5;241m%\u001b[39m [\u001b[38;5;28mint\u001b[39m(l) \u001b[38;5;28;01mfor\u001b[39;00m l \u001b[38;5;129;01min\u001b[39;00m lengths])\n",
      "\u001b[0;31mValueError\u001b[0m: Found input variables with inconsistent numbers of samples: [2, 7315]"
     ]
    }
   ],
   "source": [
    "metrics.silhouette_score(X, lab, metric='euclidean')"
   ]
  },
  {
   "cell_type": "code",
   "execution_count": 144,
   "metadata": {},
   "outputs": [
    {
     "data": {
      "text/plain": [
       "0.7478785930213933"
      ]
     },
     "execution_count": 144,
     "metadata": {},
     "output_type": "execute_result"
    }
   ],
   "source": [
    "metrics.davies_bouldin_score(X, lab)"
   ]
  },
  {
   "cell_type": "code",
   "execution_count": 145,
   "metadata": {},
   "outputs": [
    {
     "data": {
      "text/plain": [
       "0.01732831491283128"
      ]
     },
     "execution_count": 145,
     "metadata": {},
     "output_type": "execute_result"
    }
   ],
   "source": [
    "d = euclidean_distances(X)\n",
    "\n",
    "dunn.dunn(lab,d)"
   ]
  },
  {
   "cell_type": "code",
   "execution_count": 146,
   "metadata": {},
   "outputs": [
    {
     "data": {
      "text/plain": [
       "<AxesSubplot:xlabel='x', ylabel='y'>"
      ]
     },
     "execution_count": 146,
     "metadata": {},
     "output_type": "execute_result"
    },
    {
     "data": {
      "image/png": "[encoded data removed]",
      "text/plain": [
       "<Figure size 432x288 with 1 Axes>"
      ]
     },
     "metadata": {
      "needs_background": "light"
     },
     "output_type": "display_data"
    }
   ],
   "source": [
    "X_embedded = TSNE(n_components=2, init='random').fit_transform(X)\n",
    "\n",
    "df = pd.DataFrame(np.concatenate((X_embedded[:,:2],lab.reshape(-1,1)),axis=-1), columns=[\"x\", \"y\",\"z\"])\n",
    "df[\"z\"]=df[\"z\"].astype(\"int\").astype(\"str\")\n",
    "sns.scatterplot(data=df,x=\"x\",y=\"y\",hue=\"z\", legend=None)"
   ]
  },
  {
   "cell_type": "code",
   "execution_count": 162,
   "metadata": {},
   "outputs": [
    {
     "ename": "NameError",
     "evalue": "name 'Actions' is not defined",
     "output_type": "error",
     "traceback": [
      "\u001b[0;31m---------------------------------------------------------------------------\u001b[0m",
      "\u001b[0;31mNameError\u001b[0m                                 Traceback (most recent call last)",
      "Input \u001b[0;32mIn [162]\u001b[0m, in \u001b[0;36m<cell line: 1>\u001b[0;34m()\u001b[0m\n\u001b[0;32m----> 1\u001b[0m \u001b[43mActions\u001b[49m\n",
      "\u001b[0;31mNameError\u001b[0m: name 'Actions' is not defined"
     ]
    }
   ],
   "source": [
    "Actions"
   ]
  },
  {
   "cell_type": "code",
   "execution_count": 147,
   "metadata": {},
   "outputs": [
    {
     "data": {
      "text/plain": [
       "array([ 0,  1,  2,  3,  4,  5,  6,  7,  8,  9, 10, 11, 12, 13, 14, 15, 16,\n",
       "       17, 18])"
      ]
     },
     "execution_count": 147,
     "metadata": {},
     "output_type": "execute_result"
    }
   ],
   "source": [
    "np.unique(lab)"
   ]
  },
  {
   "cell_type": "code",
   "execution_count": 148,
   "metadata": {},
   "outputs": [],
   "source": [
    "Rewards=reward_list\n",
    "\n",
    "changes=np.where(lab[1:]!=lab[:-1])[0]\n",
    "\n",
    "changes=np.concatenate(([0],changes,[len(Rewards)-1]))"
   ]
  },
  {
   "cell_type": "code",
   "execution_count": 149,
   "metadata": {},
   "outputs": [
    {
     "data": {
      "text/plain": [
       "1271"
      ]
     },
     "execution_count": 149,
     "metadata": {},
     "output_type": "execute_result"
    }
   ],
   "source": [
    "len(lab)"
   ]
  },
  {
   "cell_type": "code",
   "execution_count": 161,
   "metadata": {},
   "outputs": [
    {
     "data": {
      "text/plain": [
       "-1.0"
      ]
     },
     "execution_count": 161,
     "metadata": {},
     "output_type": "execute_result"
    }
   ],
   "source": [
    "min(reward_list)"
   ]
  },
  {
   "cell_type": "code",
   "execution_count": 151,
   "metadata": {},
   "outputs": [
    {
     "data": {
      "text/plain": [
       "(319,)"
      ]
     },
     "execution_count": 151,
     "metadata": {},
     "output_type": "execute_result"
    }
   ],
   "source": [
    "changes.shape"
   ]
  },
  {
   "cell_type": "code",
   "execution_count": 152,
   "metadata": {},
   "outputs": [],
   "source": [
    "G=nx.DiGraph()"
   ]
  },
  {
   "cell_type": "code",
   "execution_count": 153,
   "metadata": {},
   "outputs": [
    {
     "data": {
      "text/plain": [
       "-19.481075286865234"
      ]
     },
     "execution_count": 153,
     "metadata": {},
     "output_type": "execute_result"
    }
   ],
   "source": [
    "df[\"x\"][df.shape[0]-1]"
   ]
  },
  {
   "cell_type": "code",
   "execution_count": 154,
   "metadata": {},
   "outputs": [],
   "source": [
    "for c in range(1,len(changes)-1):\n",
    "    G.add_nodes_from([(lab[changes[c]], {'position_x':df[\"x\"][changes[c]], 'position_y':df[\"y\"][changes[c]]})])\n",
    "    G.add_nodes_from([(lab[changes[c+1]], {'position_x':df[\"x\"][changes[c+1]], 'position_y':df[\"y\"][changes[c+1]]})])\n",
    "    G.add_edge(lab[changes[c]],lab[changes[c+1]], weight=-np.mean(Rewards[changes[c-1]:changes[c]])+100)\n",
    "\n",
    "G.add_nodes_from([(-1, {'position_x':df[\"x\"][df.shape[0]-1], 'position_y':df[\"y\"][df.shape[0]-1]})])\n",
    "G.add_edge(lab[changes[c+1]],-1, weight=-np.mean(Rewards[changes[c]:changes[c+1]])+100)"
   ]
  },
  {
   "cell_type": "code",
   "execution_count": 155,
   "metadata": {},
   "outputs": [
    {
     "data": {
      "image/png": "[encoded data removed]",
      "text/plain": [
       "<Figure size 432x288 with 1 Axes>"
      ]
     },
     "metadata": {},
     "output_type": "display_data"
    }
   ],
   "source": [
    "nx.draw(G,with_labels=True)"
   ]
  },
  {
   "cell_type": "code",
   "execution_count": 156,
   "metadata": {},
   "outputs": [
    {
     "data": {
      "text/plain": [
       "[0, 3, 4, -1]"
      ]
     },
     "execution_count": 156,
     "metadata": {},
     "output_type": "execute_result"
    }
   ],
   "source": [
    "nx.shortest_path(G, source=0, target=-1, weight=\"weight\", method='dijkstra')"
   ]
  },
  {
   "cell_type": "code",
   "execution_count": 157,
   "metadata": {},
   "outputs": [
    {
     "data": {
      "text/plain": [
       "23.394441604614258"
      ]
     },
     "execution_count": 157,
     "metadata": {},
     "output_type": "execute_result"
    }
   ],
   "source": [
    "G.nodes[0]['position_x']"
   ]
  },
  {
   "cell_type": "code",
   "execution_count": 158,
   "metadata": {},
   "outputs": [
    {
     "data": {
      "image/png": "[encoded data removed]",
      "text/plain": [
       "<Figure size 1080x1080 with 1 Axes>"
      ]
     },
     "metadata": {},
     "output_type": "display_data"
    }
   ],
   "source": [
    "pos = nx.spring_layout(G)\n",
    "for n in G.nodes():\n",
    "    pos[n][0]=G.nodes[n]['position_x']\n",
    "    pos[n][1]=G.nodes[n]['position_y']\n",
    "\n",
    "plt.figure(figsize=(15,15))\n",
    "sns.scatterplot(data=df,x=\"x\",y=\"y\",hue=\"z\")\n",
    "ec = nx.draw(G, pos, alpha=0.5,with_labels=True)\n",
    "plt.show()"
   ]
  },
  {
   "cell_type": "code",
   "execution_count": 133,
   "metadata": {},
   "outputs": [],
   "source": [
    "make_video(np.array(state_list)[changes],\"test2\",fps=7)"
   ]
  },
  {
   "cell_type": "markdown",
   "metadata": {},
   "source": [
    "# Trees"
   ]
  },
  {
   "cell_type": "code",
   "execution_count": null,
   "metadata": {},
   "outputs": [],
   "source": [
    "for x in np.unique(Y2):\n",
    "    print(str(x)+\":\"+str(np.mean(Y2[Y2==x]==Y[Y2==x]))+\" N:\"+str(np.sum(Y2==x)))"
   ]
  },
  {
   "cell_type": "code",
   "execution_count": 398,
   "metadata": {},
   "outputs": [
    {
     "name": "stdout",
     "output_type": "stream",
     "text": [
      "Rule 0 :Att (75) = 0.000 and Att (99) = 0.000 and Att (100) <= 84.820 and Att (73) = 17.000| class :0  {0: 9866.0, 10: 2.0, 17: 171.0, 25: 2.0, 31: 1.0}\n",
      "Rule 1 :Att (75) = 0.000 and Att (67) = 0.000 and Att (69) = 0.000 and Att (101) <= 9.550 and Att (100) <= 11.550 and Att (1) != 5.000| class :0  {0: 3035.0, 8: 8.0}\n",
      "Rule 2 :Att (100) <= 39.910 and Att (75) = 0.000 and Att (74) = 2.000| class :0  {0: 5585.0, 2: 172.0, 5: 1.0}\n",
      "Rule 3 :Att (75) = 0.000 and Att (76) = 0.000 and Att (66) = 0.000 and Att (101) <= 16.820 and Att (100) <= 11.360 and Att (0) != 0.000| class :0  {0: 2413.0, 8: 2.0}\n",
      "Rule 4 :Att (75) = 0.000 and Att (66) = 0.000 and Att (68) != 0.000| class :0  {0: 18615.0, 2: 23.0, 5: 399.0, 8: 6.0, 9: 273.0, 10: 24.0, 14: 1.0, 16: 1.0, 17: 185.0, 18: 1.0, 20: 1.0, 23: 4.0, 25: 261.0, 29: 54.0}\n",
      "Rule 5 :Att (100) <= 7.910 and Att (75) = 0.000 and Att (67) = 0.000 and Att (101) <= 15.000| class :0  {0: 1359.4968314802538, 8: 2.0}\n",
      "Rule 6 :Att (75) = 0.000 and Att (82) = 0.000 and Att (74) = 5.000| class :0  {0: 6163.0, 5: 60.0, 25: 3.0}\n",
      "Rule 7 :Att (75) = 0.000 and Att (66) = 0.000 and Att (81) != 0.000| class :0  {0: 16139.0, 2: 20.0, 5: 21.0, 8: 2.0, 9: 68.0, 10: 12.0, 15: 15.0, 16: 21.0, 17: 18.0, 19: 1.0, 23: 1.0, 25: 13.0}\n",
      "Rule 8 :Att (75) = 0.000 and Att (70) = 0.000 and Att (101) <= 38.090 and Att (100) <= 11.360 and Att (1) = 0.000| class :0  {0: 2358.0, 8: 24.0}\n",
      "Rule 9 :Att (100) <= 63.550 and Att (75) = 0.000 and Att (101) <= 4.270| class :0  {0: 6315.36025855345}\n",
      "Rule 10 :Att (75) = 0.000 and Att (86) = 18.000| class :0  {0: 10538.0, 10: 2.0, 15: 35.0, 16: 2.0, 18: 1.0, 19: 2.0, 28: 2.0}\n",
      "Rule 11 :Att (100) <= 66.090 and Att (75) = 0.000 and Att (86) = 9.000| class :0  {0: 1771.0, 29: 1.0}\n",
      "Rule 12 :Att (75) = 0.000 and Att (99) = 5.000 and Att (76) = 0.000| class :0  {0: 9849.0, 5: 12.0, 25: 10.0, 29: 3.0}\n",
      "Rule 13 :Att (75) = 0.000 and Att (101) <= 35.730 and Att (100) <= 87.000 and Att (0) = 3.000| class :0  {0: 16310.0, 2: 12.0, 5: 4.0, 9: 1.0, 10: 13.0, 17: 6.0, 23: 2.0, 25: 5.0, 29: 20.0}\n",
      "Rule 14 :Att (100) <= 66.090 and Att (75) = 0.000 and Att (101) <= 11.360 and Att (69) = 0.000 and Att (97) = 25.000| class :0  {0: 88.0, 10: 2.0}\n",
      "Rule 15 :Att (75) = 0.000 and Att (82) != 0.000| class :0  {0: 2746.0, 2: 36.0, 5: 28.0, 9: 2.0, 10: 35.0, 15: 9.0, 16: 7.0, 17: 12.0, 25: 10.0}\n",
      "Rule 16 :Att (100) <= 66.090 and Att (75) = 0.000 and Att (101) <= 18.640| class :0  {0: 10533.954014937823, 2: 13.0, 5: 10.0, 10: 4.0, 17: 12.0, 25: 9.0}\n",
      "Rule 17 :Att (75) = 0.000 and Att (99) = 0.000 and Att (101) <= 22.640| class :0  {0: 16067.594284814375, 2: 10.0, 8: 3.0, 10: 4.0, 17: 10.0, 25: 2.0, 29: 40.0}\n",
      "Rule 18 :Att (75) = 0.000 and Att (95) = 0.000 and Att (0) = 5.000| class :0  {0: 6892.0, 2: 10.0, 5: 8.0, 9: 4.0, 10: 4.0, 16: 1.0, 17: 8.0, 19: 3.0, 25: 9.0}\n",
      "Rule 19 :Att (100) <= 38.640 and Att (75) = 0.000 and Att (101) <= 27.730| class :0  {0: 1118.6733780384327}\n",
      "Rule 20 :Att (75) = 0.000 and Att (99) = 0.000| class :0  {0: 10538.0}\n",
      "Default Rule :| class :19  {0: 1352.0, 2: 832.0, 5: 2185.0, 8: 2517.0, 9: 903.0, 10: 276.0, 15: 57.0, 16: 380.0, 17: 960.0, 18: 2169.0, 19: 5326.0, 20: 1190.0, 23: 10.0, 25: 1154.0, 29: 14.0}\n"
     ]
    }
   ],
   "source": [
    "print(lc_ht.get_model_description())"
   ]
  },
  {
   "cell_type": "code",
   "execution_count": 399,
   "metadata": {},
   "outputs": [
    {
     "ename": "AttributeError",
     "evalue": "'VeryFastDecisionRulesClassifier' object has no attribute 'get_rules_description'",
     "output_type": "error",
     "traceback": [
      "\u001b[0;31m---------------------------------------------------------------------------\u001b[0m",
      "\u001b[0;31mAttributeError\u001b[0m                            Traceback (most recent call last)",
      "Input \u001b[0;32mIn [399]\u001b[0m, in \u001b[0;36m<cell line: 1>\u001b[0;34m()\u001b[0m\n\u001b[0;32m----> 1\u001b[0m \u001b[38;5;28mprint\u001b[39m(\u001b[43mlc_ht\u001b[49m\u001b[38;5;241;43m.\u001b[39;49m\u001b[43mget_rules_description\u001b[49m())\n",
      "\u001b[0;31mAttributeError\u001b[0m: 'VeryFastDecisionRulesClassifier' object has no attribute 'get_rules_description'"
     ]
    }
   ],
   "source": [
    "print(lc_ht.get_rules_description())"
   ]
  },
  {
   "cell_type": "code",
   "execution_count": 400,
   "metadata": {},
   "outputs": [
    {
     "data": {
      "text/plain": [
       "21"
      ]
     },
     "execution_count": 400,
     "metadata": {},
     "output_type": "execute_result"
    }
   ],
   "source": [
    "len(lc_ht.get_model_rules())"
   ]
  },
  {
   "cell_type": "code",
   "execution_count": 401,
   "metadata": {},
   "outputs": [
    {
     "name": "stdout",
     "output_type": "stream",
     "text": [
      "Rule 0 :Att (75) = 0.000 and Att (99) = 0.000 and Att (100) <= 84.820 and Att (73) = 17.000 | class: 0| class :0  {0: 9866.0, 10: 2.0, 17: 171.0, 25: 2.0, 31: 1.0}\n",
      "Rule 1 :Att (75) = 0.000 and Att (67) = 0.000 and Att (69) = 0.000 and Att (101) <= 9.550 and Att (100) <= 11.550 and Att (1) != 5.000 | class: 0| class :0  {0: 3035.0, 8: 8.0}\n",
      "Rule 2 :Att (100) <= 39.910 and Att (75) = 0.000 and Att (74) = 2.000 | class: 0| class :0  {0: 5585.0, 2: 172.0, 5: 1.0}\n",
      "Rule 3 :Att (75) = 0.000 and Att (76) = 0.000 and Att (66) = 0.000 and Att (101) <= 16.820 and Att (100) <= 11.360 and Att (0) != 0.000 | class: 0| class :0  {0: 2413.0, 8: 2.0}\n",
      "Rule 4 :Att (75) = 0.000 and Att (66) = 0.000 and Att (68) != 0.000 | class: 0| class :0  {0: 18615.0, 2: 23.0, 5: 399.0, 8: 6.0, 9: 273.0, 10: 24.0, 14: 1.0, 16: 1.0, 17: 185.0, 18: 1.0, 20: 1.0, 23: 4.0, 25: 261.0, 29: 54.0}\n",
      "Rule 5 :Att (100) <= 7.910 and Att (75) = 0.000 and Att (67) = 0.000 and Att (101) <= 15.000 | class: 0| class :0  {0: 1359.4968314802538, 8: 2.0}\n",
      "Rule 6 :Att (75) = 0.000 and Att (82) = 0.000 and Att (74) = 5.000 | class: 0| class :0  {0: 6163.0, 5: 60.0, 25: 3.0}\n",
      "Rule 7 :Att (75) = 0.000 and Att (66) = 0.000 and Att (81) != 0.000 | class: 0| class :0  {0: 16139.0, 2: 20.0, 5: 21.0, 8: 2.0, 9: 68.0, 10: 12.0, 15: 15.0, 16: 21.0, 17: 18.0, 19: 1.0, 23: 1.0, 25: 13.0}\n",
      "Rule 8 :Att (75) = 0.000 and Att (70) = 0.000 and Att (101) <= 38.090 and Att (100) <= 11.360 and Att (1) = 0.000 | class: 0| class :0  {0: 2358.0, 8: 24.0}\n",
      "Rule 9 :Att (100) <= 63.550 and Att (75) = 0.000 and Att (101) <= 4.270 | class: 0| class :0  {0: 6315.36025855345}\n",
      "Rule 10 :Att (75) = 0.000 and Att (86) = 18.000 | class: 0| class :0  {0: 10538.0, 10: 2.0, 15: 35.0, 16: 2.0, 18: 1.0, 19: 2.0, 28: 2.0}\n",
      "Rule 11 :Att (100) <= 66.090 and Att (75) = 0.000 and Att (86) = 9.000 | class: 0| class :0  {0: 1771.0, 29: 1.0}\n",
      "Rule 12 :Att (75) = 0.000 and Att (99) = 5.000 and Att (76) = 0.000 | class: 0| class :0  {0: 9849.0, 5: 12.0, 25: 10.0, 29: 3.0}\n",
      "Rule 13 :Att (75) = 0.000 and Att (101) <= 35.730 and Att (100) <= 87.000 and Att (0) = 3.000 | class: 0| class :0  {0: 16310.0, 2: 12.0, 5: 4.0, 9: 1.0, 10: 13.0, 17: 6.0, 23: 2.0, 25: 5.0, 29: 20.0}\n",
      "Rule 14 :Att (100) <= 66.090 and Att (75) = 0.000 and Att (101) <= 11.360 and Att (69) = 0.000 and Att (97) = 25.000 | class: 0| class :0  {0: 88.0, 10: 2.0}\n",
      "Rule 15 :Att (75) = 0.000 and Att (82) != 0.000 | class: 0| class :0  {0: 2746.0, 2: 36.0, 5: 28.0, 9: 2.0, 10: 35.0, 15: 9.0, 16: 7.0, 17: 12.0, 25: 10.0}\n",
      "Rule 16 :Att (100) <= 66.090 and Att (75) = 0.000 and Att (101) <= 18.640 | class: 0| class :0  {0: 10533.954014937823, 2: 13.0, 5: 10.0, 10: 4.0, 17: 12.0, 25: 9.0}\n",
      "Rule 17 :Att (75) = 0.000 and Att (99) = 0.000 and Att (101) <= 22.640 | class: 0| class :0  {0: 16067.594284814375, 2: 10.0, 8: 3.0, 10: 4.0, 17: 10.0, 25: 2.0, 29: 40.0}\n",
      "Rule 18 :Att (75) = 0.000 and Att (95) = 0.000 and Att (0) = 5.000 | class: 0| class :0  {0: 6892.0, 2: 10.0, 5: 8.0, 9: 4.0, 10: 4.0, 16: 1.0, 17: 8.0, 19: 3.0, 25: 9.0}\n",
      "Rule 19 :Att (100) <= 38.640 and Att (75) = 0.000 and Att (101) <= 27.730 | class: 0| class :0  {0: 1118.6733780384327}\n",
      "Rule 20 :Att (75) = 0.000 and Att (99) = 0.000 | class: 0| class :0  {0: 10538.0}\n",
      "Default Rule :| class :19  {0: 1352.0, 2: 832.0, 5: 2185.0, 8: 2517.0, 9: 903.0, 10: 276.0, 15: 57.0, 16: 380.0, 17: 960.0, 18: 2169.0, 19: 5326.0, 20: 1190.0, 23: 10.0, 25: 1154.0, 29: 14.0}\n"
     ]
    }
   ],
   "source": [
    "print(lc_ht.get_model_description())"
   ]
  },
  {
   "cell_type": "code",
   "execution_count": 402,
   "metadata": {},
   "outputs": [],
   "source": [
    "r=lc_ht.get_model_rules()[2]"
   ]
  },
  {
   "cell_type": "code",
   "execution_count": 403,
   "metadata": {},
   "outputs": [
    {
     "data": {
      "text/plain": [
       "[Predicate(att_idx=100, operator='<=', value=39.90909090909091),\n",
       " Predicate(att_idx=75, operator='=', value=0.0),\n",
       " Predicate(att_idx=74, operator='=', value=2.0)]"
      ]
     },
     "execution_count": 403,
     "metadata": {},
     "output_type": "execute_result"
    }
   ],
   "source": [
    "r.predicate_set"
   ]
  },
  {
   "cell_type": "code",
   "execution_count": 467,
   "metadata": {},
   "outputs": [],
   "source": [
    "p_h=3\n",
    "p_w=3\n",
    "split_h=np.arange(p_h,105-p_h,1).astype(\"int\")\n",
    "split_w=np.arange(p_w,80-p_w,1).astype(\"int\")"
   ]
  },
  {
   "cell_type": "code",
   "execution_count": 468,
   "metadata": {},
   "outputs": [
    {
     "data": {
      "text/plain": [
       "array([ 3,  4,  5,  6,  7,  8,  9, 10, 11, 12, 13, 14, 15, 16, 17, 18, 19,\n",
       "       20, 21, 22, 23, 24, 25, 26, 27, 28, 29, 30, 31, 32, 33, 34, 35, 36,\n",
       "       37, 38, 39, 40, 41, 42, 43, 44, 45, 46, 47, 48, 49, 50, 51, 52, 53,\n",
       "       54, 55, 56, 57, 58, 59, 60, 61, 62, 63, 64, 65, 66, 67, 68, 69, 70,\n",
       "       71, 72, 73, 74, 75, 76])"
      ]
     },
     "execution_count": 468,
     "metadata": {},
     "output_type": "execute_result"
    }
   ],
   "source": [
    "split_w"
   ]
  },
  {
   "cell_type": "code",
   "execution_count": 469,
   "metadata": {},
   "outputs": [],
   "source": [
    "k=500"
   ]
  },
  {
   "cell_type": "code",
   "execution_count": 470,
   "metadata": {},
   "outputs": [
    {
     "data": {
      "text/plain": [
       "array([[ 0,  0,  0, ...,  0,  0,  0],\n",
       "       [ 0,  0,  0, ...,  0,  0,  0],\n",
       "       [ 0,  0,  0, ...,  0,  0,  0],\n",
       "       ...,\n",
       "       [19, 19, 19, ..., 19, 19, 19],\n",
       "       [19, 19, 19, ..., 19, 19, 19],\n",
       "       [19, 19, 19, ..., 19, 19, 19]], dtype=int8)"
      ]
     },
     "execution_count": 470,
     "metadata": {},
     "output_type": "execute_result"
    }
   ],
   "source": [
    "obj_mask[0]"
   ]
  },
  {
   "cell_type": "code",
   "execution_count": 471,
   "metadata": {},
   "outputs": [],
   "source": [
    "X2_prev=obj_mask[k:k+1][0]\n",
    "\n",
    "X2_now=obj_mask[k+1:k+2][0]\n",
    "\n",
    "X2_next=obj_mask[k+2:k+3][0]\n",
    "\n",
    "action_prev=Actions[k:k+1][0]\n",
    "\n",
    "action_now=Actions[k+1:k+2][0]\n",
    "\n",
    "reward_prev=Rewards[k:k+1][0]\n",
    "\n",
    "reward_now=Rewards[k+1:k+2][0]"
   ]
  },
  {
   "cell_type": "code",
   "execution_count": 472,
   "metadata": {},
   "outputs": [
    {
     "data": {
      "text/plain": [
       "(105, 80)"
      ]
     },
     "execution_count": 472,
     "metadata": {},
     "output_type": "execute_result"
    }
   ],
   "source": [
    "X2_prev.shape"
   ]
  },
  {
   "cell_type": "code",
   "execution_count": 473,
   "metadata": {},
   "outputs": [],
   "source": [
    "Y=X2_now.copy()"
   ]
  },
  {
   "cell_type": "code",
   "execution_count": 474,
   "metadata": {},
   "outputs": [
    {
     "data": {
      "text/plain": [
       "<matplotlib.image.AxesImage at 0x7fc308700ca0>"
      ]
     },
     "execution_count": 474,
     "metadata": {},
     "output_type": "execute_result"
    },
    {
     "data": {
      "image/png": "[encoded data removed]",
      "text/plain": [
       "<Figure size 720x432 with 1 Axes>"
      ]
     },
     "metadata": {
      "needs_background": "light"
     },
     "output_type": "display_data"
    }
   ],
   "source": [
    "fig, ax = plt.subplots(figsize=(10, 6))\n",
    "ax.imshow(X2_now)"
   ]
  },
  {
   "cell_type": "code",
   "execution_count": 475,
   "metadata": {},
   "outputs": [
    {
     "data": {
      "text/plain": [
       "(90,)"
      ]
     },
     "execution_count": 475,
     "metadata": {},
     "output_type": "execute_result"
    }
   ],
   "source": [
    "state.shape"
   ]
  },
  {
   "cell_type": "code",
   "execution_count": 476,
   "metadata": {},
   "outputs": [
    {
     "data": {
      "text/plain": [
       "3"
      ]
     },
     "execution_count": 476,
     "metadata": {},
     "output_type": "execute_result"
    }
   ],
   "source": [
    "x"
   ]
  },
  {
   "cell_type": "code",
   "execution_count": 477,
   "metadata": {},
   "outputs": [
    {
     "data": {
      "text/plain": [
       "77"
      ]
     },
     "execution_count": 477,
     "metadata": {},
     "output_type": "execute_result"
    }
   ],
   "source": [
    "y"
   ]
  },
  {
   "cell_type": "code",
   "execution_count": 478,
   "metadata": {},
   "outputs": [],
   "source": [
    "for x in split_h:\n",
    "    for y in split_w:\n",
    "        state=np.hstack((action_prev,action_now,X2_prev[x-p_h:x+p_h+1,y-p_w:y+p_w+1].reshape(-1),X2_now[x-p_h:x+p_h+1,y-p_w:y+p_w+1].reshape(-1),np.array([x,y]),reward_prev,reward_now))\n",
    "        Y[x-p_h:x+p_h+1,y-p_w:y+p_w+1]=lc_ht.predict(state.reshape(1,-1))"
   ]
  },
  {
   "cell_type": "code",
   "execution_count": 479,
   "metadata": {},
   "outputs": [
    {
     "data": {
      "text/plain": [
       "0.45925925925925926"
      ]
     },
     "execution_count": 479,
     "metadata": {},
     "output_type": "execute_result"
    }
   ],
   "source": [
    "np.mean(Y[X2_next!=0]==X2_next[X2_next!=0])"
   ]
  },
  {
   "cell_type": "code",
   "execution_count": 480,
   "metadata": {},
   "outputs": [
    {
     "data": {
      "text/plain": [
       "<matplotlib.image.AxesImage at 0x7fc3084f0970>"
      ]
     },
     "execution_count": 480,
     "metadata": {},
     "output_type": "execute_result"
    },
    {
     "data": {
      "image/png": "[encoded data removed]",
      "text/plain": [
       "<Figure size 720x432 with 1 Axes>"
      ]
     },
     "metadata": {
      "needs_background": "light"
     },
     "output_type": "display_data"
    }
   ],
   "source": [
    "fig, ax = plt.subplots(figsize=(10, 6))\n",
    "ax.imshow(Y)"
   ]
  },
  {
   "cell_type": "code",
   "execution_count": 481,
   "metadata": {},
   "outputs": [
    {
     "data": {
      "text/plain": [
       "<matplotlib.image.AxesImage at 0x7fc30844f9a0>"
      ]
     },
     "execution_count": 481,
     "metadata": {},
     "output_type": "execute_result"
    },
    {
     "data": {
      "image/png": "[encoded data removed]",
      "text/plain": [
       "<Figure size 1152x432 with 5 Axes>"
      ]
     },
     "metadata": {
      "needs_background": "light"
     },
     "output_type": "display_data"
    }
   ],
   "source": [
    "fig, ax = plt.subplots(figsize=(16, 6))\n",
    "fig.add_subplot(1,4,1)\n",
    "plt.imshow(X2_prev)\n",
    "fig.add_subplot(1,4,2)\n",
    "plt.imshow(X2_now)\n",
    "fig.add_subplot(1,4,3)\n",
    "plt.imshow(X2_next)\n",
    "fig.add_subplot(1,4,4)\n",
    "plt.imshow(Y)"
   ]
  },
  {
   "cell_type": "code",
   "execution_count": null,
   "metadata": {},
   "outputs": [],
   "source": []
  },
  {
   "cell_type": "markdown",
   "metadata": {},
   "source": [
    "# Ontology"
   ]
  },
  {
   "cell_type": "code",
   "execution_count": 396,
   "metadata": {},
   "outputs": [],
   "source": [
    "onto = owl.get_ontology(\"http://test.org/onto.owl\")"
   ]
  },
  {
   "cell_type": "code",
   "execution_count": 84,
   "metadata": {},
   "outputs": [
    {
     "data": {
      "text/plain": [
       "get_ontology(\"http://test.org/onto.owl#\")"
      ]
     },
     "execution_count": 84,
     "metadata": {},
     "output_type": "execute_result"
    }
   ],
   "source": [
    "onto"
   ]
  },
  {
   "cell_type": "code",
   "execution_count": 436,
   "metadata": {},
   "outputs": [],
   "source": [
    "class State(owl.Thing):\n",
    "    namespace = onto"
   ]
  },
  {
   "cell_type": "code",
   "execution_count": 437,
   "metadata": {},
   "outputs": [],
   "source": [
    "class Action(owl.Thing):\n",
    "    namespace = onto"
   ]
  },
  {
   "cell_type": "code",
   "execution_count": 438,
   "metadata": {},
   "outputs": [],
   "source": [
    "class from_state_action(owl.ObjectProperty):\n",
    "    namespace = onto\n",
    "    domain = [State]\n",
    "    range  = [Action]"
   ]
  },
  {
   "cell_type": "code",
   "execution_count": 439,
   "metadata": {},
   "outputs": [],
   "source": [
    "class to_state_action(owl.ObjectProperty):\n",
    "    namespace = onto\n",
    "    domain = [Action]\n",
    "    range  = [State]"
   ]
  },
  {
   "cell_type": "code",
   "execution_count": 445,
   "metadata": {},
   "outputs": [],
   "source": [
    "with onto:\n",
    "    class object_representant(owl.DataProperty):\n",
    "        domain = [Object]\n",
    "        range = [str]"
   ]
  },
  {
   "cell_type": "code",
   "execution_count": 449,
   "metadata": {},
   "outputs": [],
   "source": [
    "with onto:\n",
    "    class object_position_x(owl.DataProperty):\n",
    "        domain = [Object]\n",
    "        range = [int]"
   ]
  },
  {
   "cell_type": "code",
   "execution_count": 450,
   "metadata": {},
   "outputs": [],
   "source": [
    "with onto:\n",
    "    class object_position_y(owl.DataProperty):\n",
    "        domain = [Object]\n",
    "        range = [int]"
   ]
  },
  {
   "cell_type": "code",
   "execution_count": 446,
   "metadata": {},
   "outputs": [],
   "source": [
    "class Object(owl.Thing):\n",
    "    namespace = onto"
   ]
  },
  {
   "cell_type": "code",
   "execution_count": 460,
   "metadata": {},
   "outputs": [
    {
     "data": {
      "text/plain": [
       "(10, 4, 19, 16)"
      ]
     },
     "execution_count": 460,
     "metadata": {},
     "output_type": "execute_result"
    }
   ],
   "source": [
    "regions[0].bbox"
   ]
  },
  {
   "cell_type": "code",
   "execution_count": 464,
   "metadata": {},
   "outputs": [
    {
     "data": {
      "text/plain": [
       "array([3, 3, 3, 3, 3, 3, 3, 3, 2, 2, 2, 2, 2, 2, 1, 1, 1, 1, 1, 1, 2, 2,\n",
       "       2, 2, 2, 2, 1, 1, 1, 1, 1, 1, 1, 1, 1, 1, 1, 1, 4, 4, 4, 4, 4, 4,\n",
       "       0, 0, 0], dtype=int32)"
      ]
     },
     "execution_count": 464,
     "metadata": {},
     "output_type": "execute_result"
    }
   ],
   "source": [
    "kmeans.labels_"
   ]
  },
  {
   "cell_type": "code",
   "execution_count": 466,
   "metadata": {},
   "outputs": [],
   "source": [
    "my_object = Object(\"my_object\", namespace = onto, object_representant = [\"rep\"],object_position_x=[0],object_position_y=[0])"
   ]
  },
  {
   "cell_type": "code",
   "execution_count": 467,
   "metadata": {},
   "outputs": [
    {
     "data": {
      "text/plain": [
       "{einsteins_riddle.object_representant,\n",
       " einsteins_riddle.object_position_x,\n",
       " einsteins_riddle.object_position_y}"
      ]
     },
     "execution_count": 467,
     "metadata": {},
     "output_type": "execute_result"
    }
   ],
   "source": [
    "onto.my_object.get_properties()"
   ]
  },
  {
   "cell_type": "markdown",
   "metadata": {},
   "source": [
    "# Reasoning"
   ]
  },
  {
   "cell_type": "code",
   "execution_count": 418,
   "metadata": {},
   "outputs": [],
   "source": [
    "onto = owl.get_ontology(\"file://einsteins_riddle.rdf\").load()"
   ]
  },
  {
   "cell_type": "markdown",
   "metadata": {},
   "source": [
    "# Grounding"
   ]
  },
  {
   "cell_type": "code",
   "execution_count": 419,
   "metadata": {},
   "outputs": [
    {
     "data": {
      "text/plain": [
       "'einsteins_riddle'"
      ]
     },
     "execution_count": 419,
     "metadata": {},
     "output_type": "execute_result"
    }
   ],
   "source": [
    "onto.name"
   ]
  },
  {
   "cell_type": "code",
   "execution_count": 420,
   "metadata": {},
   "outputs": [
    {
     "data": {
      "text/plain": [
       "[owl.Nothing,\n",
       " einsteins_riddle.owl.Beverage,\n",
       " einsteins_riddle.owl.Man,\n",
       " einsteins_riddle.owl.Color,\n",
       " einsteins_riddle.owl.House,\n",
       " einsteins_riddle.owl.Pet,\n",
       " einsteins_riddle.owl.Cigarette]"
      ]
     },
     "execution_count": 420,
     "metadata": {},
     "output_type": "execute_result"
    }
   ],
   "source": [
    "list(onto.classes())"
   ]
  },
  {
   "cell_type": "code",
   "execution_count": 421,
   "metadata": {},
   "outputs": [
    {
     "data": {
      "text/plain": [
       "[einsteins_riddle.owl.orange_juice,\n",
       " einsteins_riddle.owl.tea,\n",
       " einsteins_riddle.owl.water,\n",
       " einsteins_riddle.owl.coffee,\n",
       " einsteins_riddle.owl.milk,\n",
       " einsteins_riddle.owl.Kools,\n",
       " einsteins_riddle.owl.Lucky_Strike,\n",
       " einsteins_riddle.owl.Parliaments,\n",
       " einsteins_riddle.owl.Chesterfields,\n",
       " einsteins_riddle.owl.Old_Gold,\n",
       " einsteins_riddle.owl.green,\n",
       " einsteins_riddle.owl.red,\n",
       " einsteins_riddle.owl.blue,\n",
       " einsteins_riddle.owl.yellow,\n",
       " einsteins_riddle.owl.ivory,\n",
       " einsteins_riddle.owl.house-2,\n",
       " einsteins_riddle.owl.house-3,\n",
       " einsteins_riddle.owl.house-1,\n",
       " einsteins_riddle.owl.house-4,\n",
       " einsteins_riddle.owl.house-5,\n",
       " einsteins_riddle.owl.Ukrainian,\n",
       " einsteins_riddle.owl.Spaniard,\n",
       " einsteins_riddle.owl.Norwegian,\n",
       " einsteins_riddle.owl.Englishman,\n",
       " einsteins_riddle.owl.Japanese,\n",
       " einsteins_riddle.owl.zebra,\n",
       " einsteins_riddle.owl.horse,\n",
       " einsteins_riddle.owl.snails,\n",
       " einsteins_riddle.owl.dog,\n",
       " einsteins_riddle.owl.fox]"
      ]
     },
     "execution_count": 421,
     "metadata": {},
     "output_type": "execute_result"
    }
   ],
   "source": [
    "list(onto.individuals())"
   ]
  },
  {
   "cell_type": "code",
   "execution_count": 422,
   "metadata": {},
   "outputs": [
    {
     "data": {
      "text/plain": [
       "[einsteins_riddle.owl.drinks,\n",
       " einsteins_riddle.owl.has_color,\n",
       " einsteins_riddle.owl.lives_in,\n",
       " einsteins_riddle.owl.owns,\n",
       " einsteins_riddle.owl.right_to,\n",
       " einsteins_riddle.owl.smokes,\n",
       " 1.1.description,\n",
       " 1.1.date,\n",
       " 1.1.creator]"
      ]
     },
     "execution_count": 422,
     "metadata": {},
     "output_type": "execute_result"
    }
   ],
   "source": [
    "list(onto.properties())"
   ]
  },
  {
   "cell_type": "code",
   "execution_count": 423,
   "metadata": {},
   "outputs": [
    {
     "data": {
      "text/plain": [
       "[einsteins_riddle.owl.drinks,\n",
       " einsteins_riddle.owl.has_color,\n",
       " einsteins_riddle.owl.lives_in,\n",
       " einsteins_riddle.owl.owns,\n",
       " einsteins_riddle.owl.right_to,\n",
       " einsteins_riddle.owl.smokes]"
      ]
     },
     "execution_count": 423,
     "metadata": {},
     "output_type": "execute_result"
    }
   ],
   "source": [
    "list(onto.object_properties())"
   ]
  },
  {
   "cell_type": "code",
   "execution_count": 424,
   "metadata": {},
   "outputs": [
    {
     "data": {
      "text/plain": [
       "[AllDisjoint([einsteins_riddle.owl.Chesterfields, einsteins_riddle.owl.Englishman, einsteins_riddle.owl.Japanese, einsteins_riddle.owl.Kools, einsteins_riddle.owl.Lucky_Strike, einsteins_riddle.owl.Norwegian, einsteins_riddle.owl.Old_Gold, einsteins_riddle.owl.Parliaments, einsteins_riddle.owl.Spaniard, einsteins_riddle.owl.Ukrainian, einsteins_riddle.owl.blue, einsteins_riddle.owl.coffee, einsteins_riddle.owl.dog, einsteins_riddle.owl.fox, einsteins_riddle.owl.green, einsteins_riddle.owl.horse, einsteins_riddle.owl.house-1, einsteins_riddle.owl.house-2, einsteins_riddle.owl.house-3, einsteins_riddle.owl.house-4, einsteins_riddle.owl.house-5, einsteins_riddle.owl.ivory, einsteins_riddle.owl.milk, einsteins_riddle.owl.orange_juice, einsteins_riddle.owl.red, einsteins_riddle.owl.snails, einsteins_riddle.owl.tea, einsteins_riddle.owl.water, einsteins_riddle.owl.yellow, einsteins_riddle.owl.zebra], ontology = get_ontology(\"http://persons.iis.nsk.su/files/persons/pages/einsteins_riddle.owl#\"))]"
      ]
     },
     "execution_count": 424,
     "metadata": {},
     "output_type": "execute_result"
    }
   ],
   "source": [
    "list(onto.disjoints())"
   ]
  },
  {
   "cell_type": "code",
   "execution_count": 426,
   "metadata": {},
   "outputs": [
    {
     "name": "stderr",
     "output_type": "stream",
     "text": [
      "* Owlready2 * Running HermiT...\n",
      "    java -Xmx2000M -cp /home/olaf/anaconda3/envs/master/lib/python3.9/site-packages/owlready2/hermit:/home/olaf/anaconda3/envs/master/lib/python3.9/site-packages/owlready2/hermit/HermiT.jar org.semanticweb.HermiT.cli.CommandLine -c -O -D -I file:////tmp/tmpwhqkkfrx -Y\n"
     ]
    },
    {
     "name": "stdout",
     "output_type": "stream",
     "text": [
      "* Owlready * Adding relation einsteins_riddle.owl.Norwegian smokes einsteins_riddle.owl.Kools\n",
      "* Owlready * Adding relation einsteins_riddle.owl.Ukrainian smokes einsteins_riddle.owl.Chesterfields\n",
      "* Owlready * Adding relation einsteins_riddle.owl.Spaniard smokes einsteins_riddle.owl.Lucky_Strike\n",
      "* Owlready * Adding relation einsteins_riddle.owl.Englishman smokes einsteins_riddle.owl.Old_Gold\n",
      "* Owlready * Adding relation einsteins_riddle.owl.Norwegian owns einsteins_riddle.owl.fox\n",
      "* Owlready * Adding relation einsteins_riddle.owl.Ukrainian owns einsteins_riddle.owl.horse\n",
      "* Owlready * Adding relation einsteins_riddle.owl.Englishman owns einsteins_riddle.owl.snails\n",
      "* Owlready * Adding relation einsteins_riddle.owl.Japanese owns einsteins_riddle.owl.zebra\n",
      "* Owlready * Adding relation einsteins_riddle.owl.Norwegian drinks einsteins_riddle.owl.water\n",
      "* Owlready * Adding relation einsteins_riddle.owl.Spaniard drinks einsteins_riddle.owl.orange_juice\n",
      "* Owlready * Adding relation einsteins_riddle.owl.Englishman drinks einsteins_riddle.owl.milk\n",
      "* Owlready * Adding relation einsteins_riddle.owl.Japanese drinks einsteins_riddle.owl.coffee\n",
      "* Owlready * Adding relation einsteins_riddle.owl.house-1 has_color einsteins_riddle.owl.yellow\n",
      "* Owlready * Adding relation einsteins_riddle.owl.house-2 has_color einsteins_riddle.owl.blue\n",
      "* Owlready * Adding relation einsteins_riddle.owl.house-5 has_color einsteins_riddle.owl.green\n",
      "* Owlready * Adding relation einsteins_riddle.owl.house-3 has_color einsteins_riddle.owl.red\n",
      "* Owlready * Adding relation einsteins_riddle.owl.house-4 has_color einsteins_riddle.owl.ivory\n",
      "* Owlready * Adding relation einsteins_riddle.owl.Ukrainian lives_in einsteins_riddle.owl.house-2\n",
      "* Owlready * Adding relation einsteins_riddle.owl.Spaniard lives_in einsteins_riddle.owl.house-4\n",
      "* Owlready * Adding relation einsteins_riddle.owl.Englishman lives_in einsteins_riddle.owl.house-3\n",
      "* Owlready * Adding relation einsteins_riddle.owl.Japanese lives_in einsteins_riddle.owl.house-5\n"
     ]
    },
    {
     "name": "stderr",
     "output_type": "stream",
     "text": [
      "* Owlready2 * HermiT took 1.7078933715820312 seconds\n",
      "* Owlready * (NB: only changes on entities loaded in Python are shown, other changes are done but not listed)\n"
     ]
    }
   ],
   "source": [
    "with onto:\n",
    "    owl.sync_reasoner(infer_property_values = True)"
   ]
  },
  {
   "cell_type": "code",
   "execution_count": 427,
   "metadata": {},
   "outputs": [],
   "source": [
    "query = owl.default_world.prepare_sparql(\"\"\"SELECT ?house ?man Where{ ?house a einsteins_riddle:House. ?man a einsteins_riddle:Man. ?man einsteins_riddle:lives_in ?house. \n",
    "}\"\"\")"
   ]
  },
  {
   "cell_type": "code",
   "execution_count": 428,
   "metadata": {},
   "outputs": [
    {
     "data": {
      "text/plain": [
       "[[einsteins_riddle.owl.house-2, einsteins_riddle.owl.Ukrainian],\n",
       " [einsteins_riddle.owl.house-4, einsteins_riddle.owl.Spaniard],\n",
       " [einsteins_riddle.owl.house-1, einsteins_riddle.owl.Norwegian],\n",
       " [einsteins_riddle.owl.house-1, einsteins_riddle.owl.Norwegian],\n",
       " [einsteins_riddle.owl.house-3, einsteins_riddle.owl.Englishman],\n",
       " [einsteins_riddle.owl.house-5, einsteins_riddle.owl.Japanese]]"
      ]
     },
     "execution_count": 428,
     "metadata": {},
     "output_type": "execute_result"
    }
   ],
   "source": [
    "list(query.execute())"
   ]
  }
 ],
 "metadata": {
  "kernelspec": {
   "display_name": "Python 3 (ipykernel)",
   "language": "python",
   "name": "python3"
  },
  "language_info": {
   "codemirror_mode": {
    "name": "ipython",
    "version": 3
   },
   "file_extension": ".py",
   "mimetype": "text/x-python",
   "name": "python",
   "nbconvert_exporter": "python",
   "pygments_lexer": "ipython3",
   "version": "3.9.7"
  }
 },
 "nbformat": 4,
 "nbformat_minor": 4
}
